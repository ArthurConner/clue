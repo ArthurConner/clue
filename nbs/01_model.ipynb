{
 "cells": [
  {
   "cell_type": "markdown",
   "metadata": {},
   "source": [
    "# model\n",
    "\n",
    "> data structures for clue"
   ]
  },
  {
   "cell_type": "code",
   "execution_count": null,
   "metadata": {},
   "outputs": [],
   "source": [
    "#| default_exp model"
   ]
  },
  {
   "cell_type": "code",
   "execution_count": null,
   "metadata": {},
   "outputs": [],
   "source": [
    "#| hide\n",
    "#from nbdev.showdoc import *"
   ]
  },
  {
   "cell_type": "code",
   "execution_count": null,
   "metadata": {},
   "outputs": [],
   "source": [
    "#| export\n",
    "from random import shuffle, randint, sample"
   ]
  },
  {
   "cell_type": "code",
   "execution_count": null,
   "metadata": {},
   "outputs": [],
   "source": [
    "#| export\n",
    "people = []\n",
    "people.append([\"Miss Scarlet\",\"red\",u\"\\U0001f460\",\"Scar.\"])\n",
    "people.append([\"Colonel Mustard\",\"yellow\",u\"\\U0001F9D0\",\"Must.\"])\n",
    "people.append([\" Mrs. White\",\"white\",u\"\\u2661\",\"White\"])\n",
    "people.append([\"Mr. Green\",\"green\",u\"\\U0001F409\",\"Green\"])\n",
    "people.append([\"Professor Plum\",\"magenta\",u\"\\U0001F346\",\"Plum \"])\n",
    "people.append([\"Mrs. Peacock\",\"blue\",u\"\\U0001F99A\",\"Peac.\"])\n"
   ]
  },
  {
   "cell_type": "code",
   "execution_count": null,
   "metadata": {},
   "outputs": [],
   "source": [
    "#| export\n",
    "weapons = []\n",
    "weapons.append([\"Knife\",\"cyan\",u\"\\U0001F52A\",\"Knife\"])\n",
    "weapons.append([\"Revolver\",\"cyan\",u\"\\U0001F52B\",\"Gun\"])\n",
    "weapons.append([\"Rope\",\"cyan\",'🪢',\"Rope\"])\n",
    "weapons.append([\"Wrench\",\"cyan\",'🔧',\"Wrench\"])\n",
    "weapons.append([\"Candlestick\",\"cyan\",'🕯️',\"Candle\"])\n",
    "weapons.append([\"Lead Pipe\",\"cyan\",'🪠',\"Pipe\"])"
   ]
  },
  {
   "cell_type": "code",
   "execution_count": null,
   "metadata": {},
   "outputs": [],
   "source": [
    "#| export\n",
    "rooms = []\n",
    "rooms.append([\"Ball Room\",\"cyan\",\"\",\"Ball\"])\n",
    "rooms.append([\"Billiard Room\",\"cyan\",\"\",\"Bill\"])\n",
    "rooms.append([\"Conservatory\",\"cyan\",\"\",\"Consv\"])\n",
    "rooms.append([\"Dining Room\",\"cyan\",\"\",\"Dining\"])\n",
    "rooms.append([\"Hall\",\"cyan\",\"\",\"Hall\"])\n",
    "rooms.append([\"Kitchen\",\"cyan\",\"\",\"Kitch\"])\n",
    "rooms.append([\"Lounge\",\"cyan\",\"\",\"Lounge\"])\n",
    "rooms.append([\"Library\",\"grey\",\"\",\"Lib\"])\n",
    "rooms.append([\"Study\",\"grey\",\"\",\"Study\"])"
   ]
  },
  {
   "cell_type": "markdown",
   "metadata": {},
   "source": [
    "### Accessors on the data\n",
    "We have both the two value version of an object and the single int version. The two is easier to generate. The one is good for keys"
   ]
  },
  {
   "cell_type": "markdown",
   "metadata": {},
   "source": [
    "#| export\n",
    "rooms = []\n",
    "rooms.append([\"Ball Room\",\"grey\",\"\",\"Ball\"])\n",
    "rooms.append([\"Billiard Room\",\"grey\",\"\",\"Bill\"])\n",
    "rooms.append([\"Conservatory\",\"grey\",\"\",\"Consv\"])\n",
    "rooms.append([\"Dining Room\",\"grey\",\"\",\"Dining\"])\n",
    "rooms.append([\"Hall\",\"grey\",\"\",\"Hall\"])\n",
    "rooms.append([\"Kitchen\",\"grey\",\"\",\"Kitch\"])\n",
    "rooms.append([\"Lounge\",\"grey\",\"\",\"Lounge\"])\n",
    "rooms.append([\"Library\",\"grey\",\"\",\"Lib\"])\n",
    "rooms.append([\"Study\",\"grey\",\"\",\"Study\"])"
   ]
  },
  {
   "cell_type": "code",
   "execution_count": null,
   "metadata": {},
   "outputs": [],
   "source": [
    "#| export\n",
    "\n",
    "\n",
    "def cardLookup(kind,index):\n",
    "    if kind == 1:\n",
    "        return people[index]\n",
    "    if kind == 2:\n",
    "        return weapons[index]\n",
    "    return rooms[index]\n",
    "\n",
    "def keyCard(kind,index):\n",
    "    return kind*100 + index\n",
    "\n",
    "def keyForArray(v):\n",
    "    return keyCard( v[0] , v[1])\n",
    "    \n",
    "def cardForArray(v):\n",
    "    return cardLookup(v[0],v[1])\n",
    "    \n",
    "def keyLookUp(key):\n",
    "    kind = key // 100\n",
    "    index = key % 100\n",
    "   # print(key,kind,index)\n",
    "    return cardLookup(kind,index)"
   ]
  },
  {
   "cell_type": "code",
   "execution_count": null,
   "metadata": {},
   "outputs": [
    {
     "data": {
      "text/plain": [
       "(103, ['Mr. Green', 'green', '🐉', 'Green'])"
      ]
     },
     "execution_count": null,
     "metadata": {},
     "output_type": "execute_result"
    }
   ],
   "source": [
    "#| hide\n",
    "keyForArray([1,3]),cardForArray([1,3])"
   ]
  },
  {
   "cell_type": "code",
   "execution_count": null,
   "metadata": {},
   "outputs": [],
   "source": [
    "\n",
    "\n"
   ]
  },
  {
   "cell_type": "code",
   "execution_count": null,
   "metadata": {},
   "outputs": [],
   "source": [
    "#| hide\n"
   ]
  },
  {
   "cell_type": "code",
   "execution_count": null,
   "metadata": {},
   "outputs": [],
   "source": [
    "### Board details"
   ]
  },
  {
   "cell_type": "code",
   "execution_count": null,
   "metadata": {},
   "outputs": [],
   "source": [
    "#| export\n",
    "\n",
    "def createClue(playerCount):\n",
    "    bhand = [[1,randint(0,len(people)-1)],[2,randint(0,len(weapons)-1)],[3,randint(0,len(rooms)-1)]]\n",
    "    ahand = [keyCard(x[0],x[1]) for x in bhand]\n",
    "    ploc = sample(range(len(rooms)),len(people))\n",
    "    \n",
    "    person = ahand[0]\n",
    "    \n",
    "    pdeck = [keyCard(1,x) for x in range(len(people))]\n",
    "    deck = [[1,x] for x in range(len(people)) if x != person]\n",
    "    deck = [x for x in pdeck if x != person]\n",
    "    \n",
    "    weapon = ahand[1]\n",
    "    wdeck = [keyCard(2,x) for x in range(len(weapons))]\n",
    "    deck += [x for x in wdeck if x != weapon]\n",
    "   \n",
    "    room = ahand[2]\n",
    "    wdeck = [keyCard(3,x) for x in range(len(rooms))]\n",
    "    deck += [x for x in wdeck if x != room]\n",
    "\n",
    "    \n",
    "    shuffle(deck)\n",
    "    decks = [ahand]\n",
    "    \n",
    "    for i in range(playerCount):\n",
    "        decks.append([])\n",
    "        \n",
    "   \n",
    "\n",
    "    cIndex = 1\n",
    "    for card in deck:\n",
    "        decks[cIndex].append(card)\n",
    "        cIndex += 1\n",
    "        if cIndex > playerCount:\n",
    "            cIndex = 1\n",
    "    decks.append(ploc)        \n",
    "    return decks\n",
    "\n",
    "\n",
    "\n",
    "        \n",
    "     "
   ]
  },
  {
   "cell_type": "code",
   "execution_count": null,
   "metadata": {},
   "outputs": [
    {
     "data": {
      "text/plain": [
       "[[102, 204, 302],\n",
       " [308, 101, 202, 301],\n",
       " [200, 304, 300, 201],\n",
       " [307, 305, 205, 100],\n",
       " [203, 306, 104],\n",
       " [105, 303, 103],\n",
       " [5, 1, 7, 3, 0, 8]]"
      ]
     },
     "execution_count": null,
     "metadata": {},
     "output_type": "execute_result"
    }
   ],
   "source": [
    "#| hide\n",
    "acount = 5\n",
    "\n",
    "agame = createClue(acount)\n",
    "agame"
   ]
  },
  {
   "cell_type": "code",
   "execution_count": null,
   "metadata": {},
   "outputs": [],
   "source": []
  },
  {
   "cell_type": "code",
   "execution_count": null,
   "metadata": {},
   "outputs": [],
   "source": [
    "#| export\n",
    "def playerIndex(playerID):\n",
    "    return playerID - 1\n",
    "    \n",
    "def roomOf(playerID,game):\n",
    "    ploc = game[-1]\n",
    "    return ploc[playerIndex(playerID)]\n",
    "\n",
    "def handOf(playerID,game):\n",
    "    return game[playerID]\n",
    "    \n",
    "def roomsAround(x):\n",
    "    l = len(rooms)-1\n",
    "    r1 = x -1\n",
    "    if r1 < 0:\n",
    "        r1 = l - 1\n",
    "    r3 = x + 1\n",
    "    if r3 > l - 1:\n",
    "        r3 = 0\n",
    "    return [r1,x,r3]\n"
   ]
  },
  {
   "cell_type": "code",
   "execution_count": null,
   "metadata": {},
   "outputs": [
    {
     "data": {
      "text/plain": [
       "(5, [308, 101, 202, 301], [4, 5, 6])"
      ]
     },
     "execution_count": null,
     "metadata": {},
     "output_type": "execute_result"
    }
   ],
   "source": [
    "#| hide\n",
    "roomOf(1,agame), handOf(1,agame),roomsAround(roomOf(1,agame))"
   ]
  },
  {
   "cell_type": "code",
   "execution_count": null,
   "metadata": {},
   "outputs": [],
   "source": [
    "#| export\n",
    "def relocatePlayers(playerID , suspectID,room,game):\n",
    "\n",
    "    game[-1][playerIndex(playerID)] = room\n",
    "    game[-1][suspectID] = room\n",
    "    return  game\n",
    "    "
   ]
  },
  {
   "cell_type": "code",
   "execution_count": null,
   "metadata": {},
   "outputs": [
    {
     "data": {
      "text/plain": [
       "[6, 1, 7, 6, 0, 8]"
      ]
     },
     "execution_count": null,
     "metadata": {},
     "output_type": "execute_result"
    }
   ],
   "source": [
    "#| hide\n",
    "agame = relocatePlayers(1,3,6,agame)\n",
    "agame[-1]"
   ]
  },
  {
   "cell_type": "code",
   "execution_count": null,
   "metadata": {},
   "outputs": [],
   "source": []
  },
  {
   "cell_type": "markdown",
   "metadata": {},
   "source": [
    "## Flow"
   ]
  },
  {
   "cell_type": "code",
   "execution_count": null,
   "metadata": {},
   "outputs": [],
   "source": [
    "#| hide\n",
    "amoves = []\n",
    "aguess = (2,2,6)\n",
    "\n"
   ]
  },
  {
   "cell_type": "code",
   "execution_count": null,
   "metadata": {},
   "outputs": [],
   "source": [
    "#| export\n",
    "def keysForGuess(guess):\n",
    "    p,w,l = guess[:3]\n",
    "    h = [[1,p],[2,w],[3,l]]\n",
    "    h = [keyCard(x[0],x[1]) for x in h]\n",
    "    return h\n",
    "\n",
    "def responseToGuess(guess,asker,answered,shown):\n",
    "    p,w,l = guess\n",
    "    return (p,w,l,asker, answered,shown)"
   ]
  },
  {
   "cell_type": "code",
   "execution_count": null,
   "metadata": {},
   "outputs": [
    {
     "data": {
      "text/plain": [
       "([102, 202, 306], (2, 2, 6, 1, 4, 102), [102, 202, 306])"
      ]
     },
     "execution_count": null,
     "metadata": {},
     "output_type": "execute_result"
    }
   ],
   "source": [
    "#| hide\n",
    "aresponse =  responseToGuess(aguess,1,4, keysForGuess(aguess)[0])\n",
    "keysForGuess(aguess), aresponse, keysForGuess(aresponse)"
   ]
  },
  {
   "cell_type": "code",
   "execution_count": null,
   "metadata": {},
   "outputs": [],
   "source": [
    "#| export\n",
    "def getAnswer(playerNum,game,guess):\n",
    "\n",
    "    h = keysForGuess(guess)\n",
    "    shuffle(h)\n",
    "\n",
    "    playCount = len(game) - 1\n",
    "    \n",
    "    c = playerNum+1\n",
    "    \n",
    "    if c > playCount:\n",
    "        c = 1\n",
    "    while c != playerNum:\n",
    "        hand = game[c]\n",
    "        for y in h:\n",
    "            for x in hand:\n",
    "\n",
    "                if x == y :\n",
    "                    return responseToGuess(guess,playerNum,c,y)\n",
    "        c = c+1\n",
    "        if c >= playCount:\n",
    "            c = 1\n",
    "    return (-1,0,0)"
   ]
  },
  {
   "cell_type": "code",
   "execution_count": null,
   "metadata": {},
   "outputs": [
    {
     "data": {
      "text/plain": [
       "((2, 2, 6, 1, 4, 306), [(2, 2, 6, 1, 4, 306)])"
      ]
     },
     "execution_count": null,
     "metadata": {},
     "output_type": "execute_result"
    }
   ],
   "source": [
    "#| hide\n",
    "resp = getAnswer(1,agame,aguess)\n",
    "amoves.append(resp)\n",
    "resp,amoves"
   ]
  },
  {
   "cell_type": "code",
   "execution_count": null,
   "metadata": {},
   "outputs": [],
   "source": [
    "#| export\n",
    "\n",
    "\n",
    "def getSeen(playerID, game, moves):\n",
    "    foo = [x[-1] for x in moves if x[3] == playerID]\n",
    "    return handOf(playerID,game) + foo\n",
    "\n",
    "\n",
    "\n",
    "    "
   ]
  },
  {
   "cell_type": "code",
   "execution_count": null,
   "metadata": {},
   "outputs": [
    {
     "name": "stdout",
     "output_type": "stream",
     "text": [
      "[308, 101, 202, 301, 306]\n",
      "[200, 304, 300, 201]\n",
      "[307, 305, 205, 100]\n",
      "[203, 306, 104]\n",
      "[105, 303, 103]\n"
     ]
    }
   ],
   "source": [
    "#| hide\n",
    "for i in range(len(agame)-2):\n",
    "    print(getSeen(i+1,agame,amoves))"
   ]
  },
  {
   "cell_type": "code",
   "execution_count": null,
   "metadata": {},
   "outputs": [],
   "source": [
    "#| export\n",
    "def passedOnResponse(response,game):\n",
    "    playMax = len(game) - 1\n",
    "    s = response[-3] + 1\n",
    "    end = response[-2]\n",
    "    ret = []\n",
    "    if s > playMax:\n",
    "        s = 1\n",
    "    while s != end:\n",
    "        ret.append(s)\n",
    "        s = s + 1\n",
    "        if s > playMax:\n",
    "            s = 1\n",
    "    return ret"
   ]
  },
  {
   "cell_type": "code",
   "execution_count": null,
   "metadata": {},
   "outputs": [],
   "source": [
    "#| export\n",
    "def notInHands(game,moves):\n",
    "    ret = dict()\n",
    "    \n",
    "    for x in moves:\n",
    "        \n",
    "        \n",
    "        thePasses = passedOnResponse(x,game) \n",
    "        \n",
    "        if len(thePasses) > 0:\n",
    "            shown = x[-1]\n",
    "            if shown in ret:\n",
    "                addToMe = ret[shown]\n",
    "            else:\n",
    "                addToMe = set()\n",
    "            for aPass in thePasses:\n",
    "                addToMe.add(aPass)\n",
    "            ret[shown] = addToMe\n",
    "                \n",
    "       \n",
    "    return ret"
   ]
  },
  {
   "cell_type": "code",
   "execution_count": null,
   "metadata": {},
   "outputs": [],
   "source": []
  }
 ],
 "metadata": {
  "kernelspec": {
   "display_name": "python3",
   "language": "python",
   "name": "python3"
  }
 },
 "nbformat": 4,
 "nbformat_minor": 4
}
