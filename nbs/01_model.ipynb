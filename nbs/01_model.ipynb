{
 "cells": [
  {
   "cell_type": "markdown",
   "metadata": {},
   "source": [
    "# model\n",
    "\n",
    "> data structures for clue"
   ]
  },
  {
   "cell_type": "code",
   "execution_count": null,
   "metadata": {},
   "outputs": [],
   "source": [
    "#| default_exp model"
   ]
  },
  {
   "cell_type": "code",
   "execution_count": null,
   "metadata": {},
   "outputs": [],
   "source": [
    "#| hide\n",
    "#from nbdev.showdoc import *"
   ]
  },
  {
   "cell_type": "code",
   "execution_count": null,
   "metadata": {},
   "outputs": [],
   "source": [
    "#| export\n",
    "from random import shuffle, randint, sample\n",
    "from collections import namedtuple"
   ]
  },
  {
   "cell_type": "code",
   "execution_count": null,
   "metadata": {},
   "outputs": [],
   "source": [
    "#| export\n",
    "people = []\n",
    "people.append([\"Miss Scarlet\",\"red\",u\"\\U0001f460\",\"Scar.\"])\n",
    "people.append([\"Colonel Mustard\",\"yellow\",u\"\\U0001F9D0\",\"Must.\"])\n",
    "people.append([\" Mrs. White\",\"white\",u\"\\U0001F97C\",\"White\"])\n",
    "people.append([\"Mr. Green\",\"green\",u\"\\U0001F409\",\"Green\"])\n",
    "people.append([\"Professor Plum\",\"magenta\",u\"\\U0001F346\",\"Plum \"])\n",
    "people.append([\"Mrs. Peacock\",\"blue\",u\"\\U0001F99A\",\"Peac.\"])\n"
   ]
  },
  {
   "cell_type": "code",
   "execution_count": null,
   "metadata": {},
   "outputs": [],
   "source": [
    "#| export\n",
    "weapons = []\n",
    "weapons.append([\"Dagger\",\"cyan\",u\"\\U0001F52A\",\"Knife\"])\n",
    "weapons.append([\"Revolver\",\"cyan\",u\"\\U0001F52B\",\"Gun\"])\n",
    "weapons.append([\"Rope\",\"cyan\",'🪢',\"Rope\"])\n",
    "weapons.append([\"Wrench\",\"cyan\",'🔧',\"Wrench\"])\n",
    "weapons.append([\"Candlestick\",\"cyan\",'🕯️',\"Candle\"])\n",
    "weapons.append([\"Lead Pipe\",\"cyan\",'🪠',\"Pipe\"])"
   ]
  },
  {
   "cell_type": "code",
   "execution_count": null,
   "metadata": {},
   "outputs": [],
   "source": [
    "#| export\n",
    "rooms = []\n",
    "rooms.append([\"Ball Room\",\"cyan\",\"\",\"Ball\"])\n",
    "rooms.append([\"Billiard Room\",\"cyan\",\"\",\"Bill\"])\n",
    "rooms.append([\"Conservatory\",\"cyan\",\"\",\"Consv\"])\n",
    "rooms.append([\"Dining Room\",\"cyan\",\"\",\"Dining\"])\n",
    "rooms.append([\"Hall\",\"cyan\",\"\",\"Hall\"])\n",
    "rooms.append([\"Kitchen\",\"cyan\",\"\",\"Kitch\"])\n",
    "rooms.append([\"Lounge\",\"cyan\",\"\",\"Lounge\"])\n",
    "rooms.append([\"Library\",\"cyan\",\"\",\"Lib\"])\n",
    "rooms.append([\"Study\",\"cyan\",\"\",\"Study\"])"
   ]
  },
  {
   "cell_type": "code",
   "execution_count": null,
   "metadata": {},
   "outputs": [],
   "source": [
    "#| export\n",
    "GameState = namedtuple('GameState', ['player', 'game', 'moves', 'adjacency'])"
   ]
  },
  {
   "cell_type": "markdown",
   "metadata": {},
   "source": [
    "### Accessors on the data\n",
    "We have both the two value version of an object and the single int version. The two is easier to generate. The one is good for keys"
   ]
  },
  {
   "cell_type": "markdown",
   "metadata": {},
   "source": [
    "#| export\n",
    "rooms = []\n",
    "rooms.append([\"Ball Room\",\"grey\",\"\",\"Ball\"])\n",
    "rooms.append([\"Billiard Room\",\"grey\",\"\",\"Bill\"])\n",
    "rooms.append([\"Conservatory\",\"grey\",\"\",\"Consv\"])\n",
    "rooms.append([\"Dining Room\",\"grey\",\"\",\"Dining\"])\n",
    "rooms.append([\"Hall\",\"grey\",\"\",\"Hall\"])\n",
    "rooms.append([\"Kitchen\",\"grey\",\"\",\"Kitch\"])\n",
    "rooms.append([\"Lounge\",\"grey\",\"\",\"Lounge\"])\n",
    "rooms.append([\"Library\",\"grey\",\"\",\"Lib\"])\n",
    "rooms.append([\"Study\",\"grey\",\"\",\"Study\"])"
   ]
  },
  {
   "cell_type": "code",
   "execution_count": null,
   "metadata": {},
   "outputs": [],
   "source": [
    "#| export\n",
    "\n",
    "\n",
    "def cardLookup(kind,index):\n",
    "    if kind == 1:\n",
    "        return people[index]\n",
    "    if kind == 2:\n",
    "        return weapons[index]\n",
    "    return rooms[index]\n",
    "\n",
    "def keyCard(kind,index):\n",
    "    return kind*100 + index\n",
    "\n",
    "def keyForArray(v):\n",
    "    return keyCard( v[0] , v[1])\n",
    "    \n",
    "def cardForArray(v):\n",
    "    return cardLookup(v[0],v[1])\n",
    "    \n",
    "def keyLookUp(key):\n",
    "    kind = key // 100\n",
    "    index = key % 100\n",
    "   # print(key,kind,index)\n",
    "    return cardLookup(kind,index)"
   ]
  },
  {
   "cell_type": "code",
   "execution_count": null,
   "metadata": {},
   "outputs": [
    {
     "data": {
      "text/plain": [
       "(103, ['Mr. Green', 'green', '🐉', 'Green'])"
      ]
     },
     "execution_count": null,
     "metadata": {},
     "output_type": "execute_result"
    }
   ],
   "source": [
    "#| hide\n",
    "keyForArray([1,3]),cardForArray([1,3])"
   ]
  },
  {
   "cell_type": "code",
   "execution_count": null,
   "metadata": {},
   "outputs": [],
   "source": [
    "\n",
    "\n"
   ]
  },
  {
   "cell_type": "code",
   "execution_count": null,
   "metadata": {},
   "outputs": [],
   "source": [
    "#| hide\n"
   ]
  },
  {
   "cell_type": "code",
   "execution_count": null,
   "metadata": {},
   "outputs": [],
   "source": [
    "### Board details"
   ]
  },
  {
   "cell_type": "code",
   "execution_count": null,
   "metadata": {},
   "outputs": [],
   "source": [
    "#| export\n",
    "\n",
    "def createClue(playerCount):\n",
    "    bhand = [[1,randint(0,len(people)-1)],[2,randint(0,len(weapons)-1)],[3,randint(0,len(rooms)-1)]]\n",
    "    ahand = [keyCard(x[0],x[1]) for x in bhand]\n",
    "    ploc = sample(range(len(rooms)),len(people))\n",
    "    \n",
    "    person = ahand[0]\n",
    "    \n",
    "    pdeck = [keyCard(1,x) for x in range(len(people))]\n",
    "    deck = [[1,x] for x in range(len(people)) if x != person]\n",
    "    deck = [x for x in pdeck if x != person]\n",
    "    \n",
    "    weapon = ahand[1]\n",
    "    wdeck = [keyCard(2,x) for x in range(len(weapons))]\n",
    "    deck += [x for x in wdeck if x != weapon]\n",
    "   \n",
    "    room = ahand[2]\n",
    "    wdeck = [keyCard(3,x) for x in range(len(rooms))]\n",
    "    deck += [x for x in wdeck if x != room]\n",
    "\n",
    "    \n",
    "    shuffle(deck)\n",
    "    decks = [ahand]\n",
    "    \n",
    "    for i in range(playerCount):\n",
    "        decks.append([])\n",
    "        \n",
    "   \n",
    "\n",
    "    cIndex = 1\n",
    "    for card in deck:\n",
    "        decks[cIndex].append(card)\n",
    "        cIndex += 1\n",
    "        if cIndex > playerCount:\n",
    "            cIndex = 1\n",
    "    decks.append(ploc)        \n",
    "    return decks\n",
    "\n",
    "\n",
    "\n",
    "        \n",
    "     "
   ]
  },
  {
   "cell_type": "code",
   "execution_count": null,
   "metadata": {},
   "outputs": [
    {
     "data": {
      "text/plain": [
       "[[104, 204, 307],\n",
       " [305, 302, 203, 103],\n",
       " [102, 306, 304, 301],\n",
       " [202, 308, 205, 300],\n",
       " [201, 303, 101],\n",
       " [105, 200, 100],\n",
       " [4, 0, 7, 6, 2, 1]]"
      ]
     },
     "execution_count": null,
     "metadata": {},
     "output_type": "execute_result"
    }
   ],
   "source": [
    "#| hide\n",
    "acount = 5\n",
    "aState =  GameState(1,createClue(acount),[],[set([x-1,x+1]) for x in range(len(rooms))])\n",
    "aState.game "
   ]
  },
  {
   "cell_type": "code",
   "execution_count": null,
   "metadata": {},
   "outputs": [],
   "source": []
  },
  {
   "cell_type": "code",
   "execution_count": null,
   "metadata": {},
   "outputs": [],
   "source": [
    "#| export\n",
    "def playerIndex(playerID):\n",
    "    return playerID - 1\n",
    "    \n",
    "def roomOf(pc,state):\n",
    "    ploc = state.game[-1]\n",
    "    return ploc[playerIndex(pc)]\n",
    "\n",
    "def handOf(state):\n",
    "    return state.game[state.player]\n",
    "    \n",
    "def roomsAround(x,state):\n",
    "    return state.adjacency[x]\n",
    "    \n",
    "    l = len(rooms)\n",
    "    r1 = x -1\n",
    "    if r1 < 0:\n",
    "        r1 = l - 1\n",
    "    r3 = x + 1\n",
    "    if r3 > l - 1:\n",
    "        r3 = 0\n",
    "    return [r1,x,r3]\n"
   ]
  },
  {
   "cell_type": "code",
   "execution_count": null,
   "metadata": {},
   "outputs": [
    {
     "data": {
      "text/plain": [
       "(4, [305, 302, 203, 103], {3, 5})"
      ]
     },
     "execution_count": null,
     "metadata": {},
     "output_type": "execute_result"
    }
   ],
   "source": [
    "#| hide\n",
    "roomOf(1,aState), handOf(aState),roomsAround(roomOf(1,aState),aState)"
   ]
  },
  {
   "cell_type": "code",
   "execution_count": null,
   "metadata": {},
   "outputs": [],
   "source": [
    "#| export\n",
    "def relocatePlayers(playerID , suspectID,room,state):\n",
    "\n",
    "    state.game[-1][playerIndex(playerID)] = room\n",
    "    state.game[-1][suspectID] = room\n",
    "    return  GameState(state.player,state.game,state.moves,state.adjacency)\n",
    "    "
   ]
  },
  {
   "cell_type": "code",
   "execution_count": null,
   "metadata": {},
   "outputs": [
    {
     "data": {
      "text/plain": [
       "[6, 0, 7, 6, 2, 1]"
      ]
     },
     "execution_count": null,
     "metadata": {},
     "output_type": "execute_result"
    }
   ],
   "source": [
    "#| hide\n",
    "aState = relocatePlayers(1,3,6,aState)\n",
    "aState.game[-1]"
   ]
  },
  {
   "cell_type": "code",
   "execution_count": null,
   "metadata": {},
   "outputs": [],
   "source": []
  },
  {
   "cell_type": "markdown",
   "metadata": {},
   "source": [
    "## Flow"
   ]
  },
  {
   "cell_type": "code",
   "execution_count": null,
   "metadata": {},
   "outputs": [],
   "source": [
    "\n"
   ]
  },
  {
   "cell_type": "code",
   "execution_count": null,
   "metadata": {},
   "outputs": [],
   "source": [
    "#| export\n",
    "def keysForGuess(guess):\n",
    "    p,w,l = guess[:3]\n",
    "    h = [[1,p],[2,w],[3,l]]\n",
    "    h = [keyCard(x[0],x[1]) for x in h]\n",
    "    return h\n",
    "\n",
    "def responseToGuess(guess,asker,answered,shown):\n",
    "    p,w,l = guess\n",
    "    return (p,w,l,asker, answered,shown)"
   ]
  },
  {
   "cell_type": "code",
   "execution_count": null,
   "metadata": {},
   "outputs": [
    {
     "data": {
      "text/plain": [
       "([100, 202, 302], (0, 2, 2, 1, 4, 100), [100, 202, 302])"
      ]
     },
     "execution_count": null,
     "metadata": {},
     "output_type": "execute_result"
    }
   ],
   "source": [
    "#| hide\n",
    "aguess = (0,2,2)\n",
    "aresponse =  responseToGuess(aguess,1,4, keysForGuess(aguess)[0])\n",
    "keysForGuess(aguess), aresponse, keysForGuess(aresponse)"
   ]
  },
  {
   "cell_type": "code",
   "execution_count": null,
   "metadata": {},
   "outputs": [],
   "source": [
    "#| export\n",
    "def getAnswer(state,guess):\n",
    "\n",
    "    h = keysForGuess(guess)\n",
    "    shuffle(h)\n",
    "\n",
    "    playCount = len(state.game) - 1\n",
    "    \n",
    "    c = state.player+1\n",
    "    \n",
    "    if c > playCount:\n",
    "        c = 1\n",
    "    while c != state.player:\n",
    "        hand = state.game[c]\n",
    "        for y in h:\n",
    "            for x in hand:\n",
    "\n",
    "                if x == y :\n",
    "                    return responseToGuess(guess,state.player,c,y)\n",
    "        c = c+1\n",
    "        if c >= playCount:\n",
    "            c = 1\n",
    "    return (-1,0,0)"
   ]
  },
  {
   "cell_type": "code",
   "execution_count": null,
   "metadata": {},
   "outputs": [
    {
     "data": {
      "text/plain": [
       "((0, 2, 2, 1, 3, 202), [(0, 2, 2, 1, 3, 202)])"
      ]
     },
     "execution_count": null,
     "metadata": {},
     "output_type": "execute_result"
    }
   ],
   "source": [
    "#| hide\n",
    "resp = getAnswer(aState,aguess)\n",
    "aState.moves.append(resp)\n",
    "resp,aState.moves"
   ]
  },
  {
   "cell_type": "code",
   "execution_count": 1,
   "metadata": {},
   "outputs": [],
   "source": [
    "#| export\n",
    "\n",
    "\n",
    "def getSeen(state):\n",
    "    foo = [x[-1] for x in state.moves if x[3] == state.player]\n",
    "    return handOf(state) + foo\n",
    "\n",
    "\n",
    "def resetPlayer(state):\n",
    "    return GameState(1, state.game, state.moves,state.adjacency)\n",
    "\n",
    "def bumpPlayer(state):\n",
    "    i = state.player + 1\n",
    "    if i > len(state.game) - 2:\n",
    "        return resetPlayer(state)\n",
    "    return GameState(i,state.game, state.moves,state.adjacency)\n",
    "    "
   ]
  },
  {
   "cell_type": "code",
   "execution_count": null,
   "metadata": {},
   "outputs": [
    {
     "name": "stdout",
     "output_type": "stream",
     "text": [
      "[305, 302, 203, 103, 202]\n",
      "[102, 306, 304, 301]\n",
      "[202, 308, 205, 300]\n",
      "[201, 303, 101]\n",
      "[105, 200, 100]\n"
     ]
    }
   ],
   "source": [
    "#| hide\n",
    "aState = resetPlayer(aState)\n",
    "for i in range(len(aState.game)-2):\n",
    "    print(getSeen(aState))\n",
    "    aState = bumpPlayer(aState)"
   ]
  },
  {
   "cell_type": "code",
   "execution_count": null,
   "metadata": {},
   "outputs": [],
   "source": [
    "#| export\n",
    "def passedOnResponse(response,state):\n",
    "    playMax = len(state.game) - 1\n",
    "    s = response[-3] + 1\n",
    "    end = response[-2]\n",
    "    ret = []\n",
    "    if s > playMax:\n",
    "        s = 1\n",
    "    while s != end:\n",
    "        ret.append(s-1)\n",
    "        s = s + 1\n",
    "        if s > playMax:\n",
    "            s = 1\n",
    "    return ret"
   ]
  },
  {
   "cell_type": "code",
   "execution_count": null,
   "metadata": {},
   "outputs": [],
   "source": []
  },
  {
   "cell_type": "code",
   "execution_count": null,
   "metadata": {},
   "outputs": [],
   "source": []
  },
  {
   "cell_type": "code",
   "execution_count": null,
   "metadata": {},
   "outputs": [],
   "source": []
  },
  {
   "cell_type": "code",
   "execution_count": null,
   "metadata": {},
   "outputs": [],
   "source": [
    "#| export\n",
    "def notInHands(state):\n",
    "    ret = dict()\n",
    "    \n",
    "    for x in state.moves:\n",
    "        \n",
    "        \n",
    "        thePasses = passedOnResponse(x,state) \n",
    "        \n",
    "        if len(thePasses) > 0:\n",
    "            shown = x[-1]\n",
    "            if shown in ret:\n",
    "                addToMe = ret[shown]\n",
    "            else:\n",
    "                addToMe = set()\n",
    "            for aPass in thePasses:\n",
    "                addToMe.add(aPass)\n",
    "            ret[shown] = addToMe\n",
    "                \n",
    "       \n",
    "    return ret"
   ]
  },
  {
   "cell_type": "code",
   "execution_count": null,
   "metadata": {},
   "outputs": [],
   "source": [
    "#| export\n",
    "def hasGuess(guess,moves):\n",
    "    p, w, l = guess[:3]\n",
    "    c = (p,w,l)\n",
    "    for x in moves:\n",
    "        p, w, l = x[:3]\n",
    "        xc = (p,w,l)\n",
    "        if c == xc:\n",
    "            return True\n",
    "    return False"
   ]
  },
  {
   "cell_type": "code",
   "execution_count": null,
   "metadata": {},
   "outputs": [
    {
     "data": {
      "text/plain": [
       "(True, False)"
      ]
     },
     "execution_count": null,
     "metadata": {},
     "output_type": "execute_result"
    }
   ],
   "source": [
    "#| hide\n",
    "hasGuess(aguess,aState.moves),hasGuess((-1,-1,-1),aState.moves)"
   ]
  },
  {
   "cell_type": "code",
   "execution_count": null,
   "metadata": {},
   "outputs": [],
   "source": []
  },
  {
   "cell_type": "code",
   "execution_count": null,
   "metadata": {},
   "outputs": [],
   "source": []
  },
  {
   "cell_type": "code",
   "execution_count": null,
   "metadata": {},
   "outputs": [],
   "source": []
  }
 ],
 "metadata": {
  "kernelspec": {
   "display_name": "Python 3 (ipykernel)",
   "language": "python",
   "name": "python3"
  },
  "language_info": {
   "codemirror_mode": {
    "name": "ipython",
    "version": 3
   },
   "file_extension": ".py",
   "mimetype": "text/x-python",
   "name": "python",
   "nbconvert_exporter": "python",
   "pygments_lexer": "ipython3",
   "version": "3.11.0"
  }
 },
 "nbformat": 4,
 "nbformat_minor": 4
}
