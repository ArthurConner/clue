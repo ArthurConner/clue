{
 "cells": [
  {
   "cell_type": "markdown",
   "metadata": {},
   "source": [
    "# strategy\n",
    "\n",
    "> Fill in a module description here"
   ]
  },
  {
   "cell_type": "code",
   "execution_count": null,
   "metadata": {},
   "outputs": [],
   "source": [
    "#| default_exp strategy"
   ]
  },
  {
   "cell_type": "code",
   "execution_count": null,
   "metadata": {},
   "outputs": [
    {
     "ename": "ModuleNotFoundError",
     "evalue": "No module named 'nbdev'",
     "output_type": "error",
     "traceback": [
      "\u001b[0;31m---------------------------------------------------------------------------\u001b[0m",
      "\u001b[0;31mModuleNotFoundError\u001b[0m                       Traceback (most recent call last)",
      "\u001b[0;32m<ipython-input-1-e54b6621ff5b>\u001b[0m in \u001b[0;36m<module>\u001b[0;34m\u001b[0m\n\u001b[1;32m      1\u001b[0m \u001b[0;31m#| hide\u001b[0m\u001b[0;34m\u001b[0m\u001b[0;34m\u001b[0m\u001b[0;34m\u001b[0m\u001b[0m\n\u001b[0;32m----> 2\u001b[0;31m \u001b[0;32mfrom\u001b[0m \u001b[0mnbdev\u001b[0m\u001b[0;34m.\u001b[0m\u001b[0mshowdoc\u001b[0m \u001b[0;32mimport\u001b[0m \u001b[0;34m*\u001b[0m\u001b[0;34m\u001b[0m\u001b[0;34m\u001b[0m\u001b[0m\n\u001b[0m",
      "\u001b[0;31mModuleNotFoundError\u001b[0m: No module named 'nbdev'"
     ]
    }
   ],
   "source": [
    "#| hide\n",
    "from nbdev.showdoc import *"
   ]
  },
  {
   "cell_type": "code",
   "execution_count": null,
   "metadata": {},
   "outputs": [
    {
     "name": "stdout",
     "output_type": "stream",
     "text": [
      "The autoreload extension is already loaded. To reload it, use:\n",
      "  %reload_ext autoreload\n"
     ]
    }
   ],
   "source": [
    "%load_ext autoreload\n"
   ]
  },
  {
   "cell_type": "code",
   "execution_count": null,
   "metadata": {},
   "outputs": [],
   "source": [
    "%autoreload 2"
   ]
  },
  {
   "cell_type": "code",
   "execution_count": null,
   "metadata": {},
   "outputs": [],
   "source": [
    "#| export\n",
    "from clue.core import createClue,printLocs,printHand,keyLookUp,cardFull\n",
    "from clue.core import getPlay,relocatePlayers,showChoice,getAnswer,getSeen\n",
    "from clue.core import keysForGuess,printGame, keyCard, cardLookup\n",
    "from clue.core import people ,weapons , rooms\n",
    "from random import choice,shuffle"
   ]
  },
  {
   "cell_type": "code",
   "execution_count": null,
   "metadata": {},
   "outputs": [
    {
     "name": "stdout",
     "output_type": "stream",
     "text": [
      "[1] 👠 \u001b[31mMiss Scarlet\u001b[0m is in \u001b[30mDining Room\u001b[0m\n",
      "[2] 🧐 \u001b[33mColonel Mustard\u001b[0m is in \u001b[30mLounge\u001b[0m\n",
      "[3] ♡ \u001b[37m Mrs. White\u001b[0m is in \u001b[30mBall Room\u001b[0m\n",
      "[4] 🐉 \u001b[32mMr. Green\u001b[0m is in \u001b[30mKitchen\u001b[0m\n",
      "[5] 🍆 \u001b[35mProfessor Plum\u001b[0m is in \u001b[30mConservatory\u001b[0m\n",
      "[6] 🦚 \u001b[34mMrs. Peacock\u001b[0m is in \u001b[30mBilliard Room\u001b[0m\n",
      "🔪 \u001b[36mKnife\u001b[0m, 👠 \u001b[31mMiss Scarlet\u001b[0m, 🔧 \u001b[36mWrench\u001b[0m, 🦚 \u001b[34mMrs. Peacock\u001b[0m, ♡ \u001b[37m Mrs. White\u001b[0m\n"
     ]
    }
   ],
   "source": [
    "#| hide\n",
    "agame = createClue(4)\n",
    "amoves = []\n",
    "player = 1\n",
    "done = False\n",
    "printLocs(agame) \n",
    "done = False\n",
    "\n",
    "shuffle(rooms)\n",
    "sh = agame[1]\n",
    "\n",
    "printHand([keyLookUp(x) for x in sh],cardFull)"
   ]
  },
  {
   "cell_type": "code",
   "execution_count": null,
   "metadata": {},
   "outputs": [
    {
     "name": "stdout",
     "output_type": "stream",
     "text": [
      "╒══════════════════╤══════════════╤══════════════╕\n",
      "│ 1) Billiard Room │ 2) Ball Room │ 3) Lounge    │\n",
      "│    \u001b[32mG\u001b[0m             │    \u001b[31mS\u001b[0m         │              │\n",
      "├──────────────────┼──────────────┼──────────────┤\n",
      "│ Dining Room      │              │ Study        │\n",
      "│    \u001b[35mP\u001b[0m             │              │              │\n",
      "├──────────────────┼──────────────┼──────────────┤\n",
      "│ Kitchen          │              │ Hall         │\n",
      "│    \u001b[34mP\u001b[0m             │              │    \u001b[33mM\u001b[0m         │\n",
      "├──────────────────┼──────────────┼──────────────┤\n",
      "│                  │ Library      │ Conservatory │\n",
      "│                  │    \u001b[37mW\u001b[0m         │              │\n",
      "╘══════════════════╧══════════════╧══════════════╛\n",
      "[1] 👠 \u001b[31mMiss Scarlet\u001b[0m is in \u001b[30mBall Room\u001b[0m\n",
      "[2] 🧐 \u001b[33mColonel Mustard\u001b[0m is in \u001b[30mHall\u001b[0m\n",
      "[3] ♡ \u001b[37m Mrs. White\u001b[0m is in \u001b[30mLibrary\u001b[0m\n",
      "[4] 🐉 \u001b[32mMr. Green\u001b[0m is in \u001b[30mBilliard Room\u001b[0m\n",
      "[5] 🍆 \u001b[35mProfessor Plum\u001b[0m is in \u001b[30mDining Room\u001b[0m\n",
      "[6] 🦚 \u001b[34mMrs. Peacock\u001b[0m is in \u001b[30mKitchen\u001b[0m\n",
      "[['Billiard Room', 'grey', '', 'Bill'], ['Ball Room', 'grey', '', 'Ball'], ['Lounge', 'grey', '', 'Lounge'], ['Study', 'grey', '', 'Study'], ['Hall', 'grey', '', 'Hall'], ['Conservatory', 'grey', '', 'Consv'], ['Library', 'grey', '', 'Lib'], ['Kitchen', 'grey', '', 'Kitch'], ['Dining Room', 'grey', '', 'Dining']]\n"
     ]
    }
   ],
   "source": [
    "import tabulate\n",
    "from termcolor import colored\n",
    "import os\n",
    "\n",
    "def playerMarker(i):\n",
    "    info = people[i]\n",
    "    color,icon, name = info[1:]\n",
    "    #print(color)\n",
    "    if color == \"white\":\n",
    "        return colored(\"W\",color)\n",
    "    return colored(name[0],color)\n",
    "   \n",
    "    \n",
    "def roomFor(i,ch,where):\n",
    "    #print(i)\n",
    " \n",
    "    if i<1:\n",
    "        return \"\"\n",
    "    adds = \"\"\n",
    "    \n",
    "    peeps = \", \".join([playerMarker(x) for x in where[i-1]])\n",
    "\n",
    "    try:\n",
    "        x = ch.index(i-1)\n",
    "        adds = str(x+1) +\") \"\n",
    "    except:\n",
    "        adds = \"\"\n",
    "        #print(i)\n",
    "    return adds + rooms[i-1][0] +\"\\n   \" + peeps\n",
    "\n",
    "def showBoard(pc,game,moves):\n",
    "    where = [[] for x in range(len(rooms))]\n",
    "    ploc = game[-1]\n",
    "    #print(ploc)\n",
    "    for i in range(len(ploc)):\n",
    "        where[ploc[i-1]].append(i)\n",
    "    #print(where)\n",
    "    \n",
    "    exclude  = getSeen(pc,game, moves)\n",
    "    \n",
    "    lines = [[1,2,3],[9,0,4],[8,0,5],[0,7,6]]\n",
    "    r2 = location(pc,game)\n",
    "    b = trips(r2,len(rooms))\n",
    "    m = []\n",
    "    #print(b)\n",
    "    for x in lines:\n",
    "        m.append([roomFor(i,b,where) for i in x])\n",
    "    print(tabulate.tabulate(m,  tablefmt=\"fancy_grid\"))\n",
    "    \n",
    "showBoard(1,agame,[])\n",
    "printLocs(agame) \n",
    "print(rooms)\n",
    "\n",
    "#print(playerMarker(1))"
   ]
  },
  {
   "cell_type": "code",
   "execution_count": null,
   "metadata": {},
   "outputs": [],
   "source": [
    "#| export\n",
    "def location(playerID,game):\n",
    "    ploc = game[-1]\n",
    "    return ploc[playerID-2]\n",
    "\n",
    "def trips(x,l):\n",
    "    r1 = x -1\n",
    "    if r1 < 0:\n",
    "        r1 = l - 1\n",
    "    r3 = x + 1\n",
    "    if r3 > l - 1:\n",
    "        r3 = 0\n",
    "    return [r1,x,r3]\n",
    "\n",
    "def seenCounts(pc,game, moves):\n",
    "    knoweledge = getSeen(pc,game, moves)\n",
    "    p = [0,0,0]\n",
    "    for x in knoweledge:\n",
    "        i = int(x/100) -1\n",
    "        p[i] += 1\n",
    "\n",
    "    return p\n",
    "\n",
    "def simpleGuess(pc,game, moves):\n",
    "    \n",
    "\n",
    "    r2 = location(pc,game)\n",
    "    exclude  = set(getSeen(pc,game, moves))\n",
    "    \n",
    "    pdeck = [keyCard(1,x) for x in range(len(people))]\n",
    "    pdeck = [x for x in  pdeck if x not in exclude]\n",
    "    p = choice(pdeck)%100\n",
    "    \n",
    "    pdeck = [keyCard(2,x) for x in range(len(weapons))]\n",
    "    pdeck = [x for x in pdeck if x not in exclude]\n",
    "    w = choice(pdeck)%100\n",
    "    \n",
    "    pdeck = [keyCard(3,x) for x in trips(r2,len(rooms))]\n",
    "    rdeck = [x for x in  pdeck if x not in exclude]\n",
    "    \n",
    "    if len(rdeck) == 0:\n",
    "        l = pdeck[0]%100\n",
    "    else:\n",
    "        l = choice(rdeck)%100\n",
    "    \n",
    "    return (p,w,l)\n"
   ]
  },
  {
   "cell_type": "code",
   "execution_count": null,
   "metadata": {},
   "outputs": [],
   "source": [
    "#| export\n",
    "def playerName(i):\n",
    "    return cardFull(cardLookup(1,i-1))\n",
    "#playerName(1)"
   ]
  },
  {
   "cell_type": "code",
   "execution_count": null,
   "metadata": {},
   "outputs": [
    {
     "name": "stdout",
     "output_type": "stream",
     "text": [
      "🔪 \u001b[36mKnife\u001b[0m, 👠 \u001b[31mMiss Scarlet\u001b[0m, 🔧 \u001b[36mWrench\u001b[0m, 🦚 \u001b[34mMrs. Peacock\u001b[0m, ♡ \u001b[37m Mrs. White\u001b[0m\n",
      "╒═════════════════╤═══════════════╤═════════════╕\n",
      "│ 3) Study        │ Library       │ Dining Room │\n",
      "│    \u001b[34mP\u001b[0m            │    \u001b[37mW\u001b[0m          │    \u001b[33mM\u001b[0m        │\n",
      "├─────────────────┼───────────────┼─────────────┤\n",
      "│ 2) Hall         │               │ Lounge      │\n",
      "│    \u001b[31mS\u001b[0m            │               │             │\n",
      "├─────────────────┼───────────────┼─────────────┤\n",
      "│ 1) Conservatory │               │ Ball Room   │\n",
      "│    \u001b[32mG\u001b[0m            │               │             │\n",
      "├─────────────────┼───────────────┼─────────────┤\n",
      "│                 │ Billiard Room │ Kitchen     │\n",
      "│                 │               │    \u001b[35mP\u001b[0m        │\n",
      "╘═════════════════╧═══════════════╧═════════════╛\n",
      "\n",
      "           [1] 👠 \u001b[31mMiss Scarlet\u001b[0m is in \u001b[30mHall\u001b[0m            \n",
      "\n",
      "Suspect\n",
      "\u001b[31m1)* \u001b[0m👠 \u001b[31mMiss Scarlet\u001b[0m\n",
      "\u001b[33m2)  \u001b[0m🧐 \u001b[33mColonel Mustard\u001b[0m\n",
      "\u001b[37m3)* \u001b[0m♡ \u001b[37m Mrs. White\u001b[0m\n",
      "\u001b[32m4)  \u001b[0m🐉 \u001b[32mMr. Green\u001b[0m\n",
      "\u001b[35m5)  \u001b[0m🍆 \u001b[35mProfessor Plum\u001b[0m\n",
      "\u001b[34m6)* \u001b[0m🦚 \u001b[34mMrs. Peacock\u001b[0m\n"
     ]
    },
    {
     "name": "stdin",
     "output_type": "stream",
     "text": [
      "Choose from 1 to 6:  2\n"
     ]
    },
    {
     "name": "stdout",
     "output_type": "stream",
     "text": [
      "\n",
      "\n",
      "Weapon\n",
      "\u001b[36m1)* \u001b[0m🔪 \u001b[36mKnife\u001b[0m\n",
      "\u001b[36m2)  \u001b[0m🔫 \u001b[36mRevolver\u001b[0m\n",
      "\u001b[36m3)  \u001b[0m🪢 \u001b[36mRope\u001b[0m\n",
      "\u001b[36m4)* \u001b[0m🔧 \u001b[36mWrench\u001b[0m\n",
      "\u001b[36m5)  \u001b[0m🕯️ \u001b[36mCandlestick\u001b[0m\n",
      "\u001b[36m6)  \u001b[0m🪠 \u001b[36mLead Pipe\u001b[0m\n"
     ]
    },
    {
     "name": "stdin",
     "output_type": "stream",
     "text": [
      "Choose from 1 to 6:  2\n"
     ]
    },
    {
     "name": "stdout",
     "output_type": "stream",
     "text": [
      "\n",
      "\n",
      "Move To\n",
      "\u001b[30m1)  \u001b[0m\u001b[30mConservatory\u001b[0m\n",
      "\u001b[30m2)  \u001b[0m\u001b[30mHall\u001b[0m\n",
      "\u001b[30m3)  \u001b[0m\u001b[30mStudy\u001b[0m\n"
     ]
    },
    {
     "name": "stdin",
     "output_type": "stream",
     "text": [
      "Choose from 1 to 3:  3\n"
     ]
    },
    {
     "name": "stdout",
     "output_type": "stream",
     "text": [
      "👠 \u001b[31mMiss Scarlet\u001b[0m suspects 🧐 \u001b[33mColonel Mustard\u001b[0m with the 🔫 \u001b[36mRevolver\u001b[0m in the \u001b[30mStudy\u001b[0m.\n",
      "♡ \u001b[37m Mrs. White\u001b[0m has 🔫 \u001b[36mRevolver\u001b[0m!\n",
      "🧐 \u001b[33mColonel Mustard\u001b[0m suspects 🦚 \u001b[34mMrs. Peacock\u001b[0m with the 🔫 \u001b[36mRevolver\u001b[0m in the \u001b[30mLibrary\u001b[0m.\n",
      "♡ \u001b[37m Mrs. White\u001b[0m responds.\n",
      "♡ \u001b[37m Mrs. White\u001b[0m suspects ♡ \u001b[37m Mrs. White\u001b[0m with the 🔪 \u001b[36mKnife\u001b[0m in the \u001b[30mStudy\u001b[0m.\n",
      "🐉 \u001b[32mMr. Green\u001b[0m responds.\n",
      "🐉 \u001b[32mMr. Green\u001b[0m suspects 🦚 \u001b[34mMrs. Peacock\u001b[0m with the 🪠 \u001b[36mLead Pipe\u001b[0m in the \u001b[30mHall\u001b[0m.\n",
      "👠 \u001b[31mMiss Scarlet\u001b[0m responds.\n",
      "╒══════════════╤═══════════════╤═════════════╕\n",
      "│ 2) Study     │ 3) Library    │ Dining Room │\n",
      "│    \u001b[31mS\u001b[0m, \u001b[37mW\u001b[0m      │    \u001b[33mM\u001b[0m          │             │\n",
      "├──────────────┼───────────────┼─────────────┤\n",
      "│ 1) Hall      │               │ Lounge      │\n",
      "│    \u001b[32mG\u001b[0m, \u001b[34mP\u001b[0m      │               │             │\n",
      "├──────────────┼───────────────┼─────────────┤\n",
      "│ Conservatory │               │ Ball Room   │\n",
      "├──────────────┼───────────────┼─────────────┤\n",
      "│              │ Billiard Room │ Kitchen     │\n",
      "│              │               │    \u001b[35mP\u001b[0m        │\n",
      "╘══════════════╧═══════════════╧═════════════╛\n",
      "\n",
      "           [1] 👠 \u001b[31mMiss Scarlet\u001b[0m is in \u001b[30mStudy\u001b[0m           \n",
      "\n",
      "Suspect\n",
      "\u001b[31m1)* \u001b[0m👠 \u001b[31mMiss Scarlet\u001b[0m\n",
      "\u001b[33m2)  \u001b[0m🧐 \u001b[33mColonel Mustard\u001b[0m\n",
      "\u001b[37m3)* \u001b[0m♡ \u001b[37m Mrs. White\u001b[0m\n",
      "\u001b[32m4)  \u001b[0m🐉 \u001b[32mMr. Green\u001b[0m\n",
      "\u001b[35m5)  \u001b[0m🍆 \u001b[35mProfessor Plum\u001b[0m\n",
      "\u001b[34m6)* \u001b[0m🦚 \u001b[34mMrs. Peacock\u001b[0m\n"
     ]
    },
    {
     "name": "stdin",
     "output_type": "stream",
     "text": [
      "Choose from 1 to 6:  2\n"
     ]
    },
    {
     "name": "stdout",
     "output_type": "stream",
     "text": [
      "\n",
      "\n",
      "Weapon\n",
      "\u001b[36m1)* \u001b[0m🔪 \u001b[36mKnife\u001b[0m\n",
      "\u001b[36m2)* \u001b[0m🔫 \u001b[36mRevolver\u001b[0m\n",
      "\u001b[36m3)  \u001b[0m🪢 \u001b[36mRope\u001b[0m\n",
      "\u001b[36m4)* \u001b[0m🔧 \u001b[36mWrench\u001b[0m\n",
      "\u001b[36m5)  \u001b[0m🕯️ \u001b[36mCandlestick\u001b[0m\n",
      "\u001b[36m6)  \u001b[0m🪠 \u001b[36mLead Pipe\u001b[0m\n"
     ]
    },
    {
     "name": "stdin",
     "output_type": "stream",
     "text": [
      "Choose from 1 to 6:  3\n"
     ]
    },
    {
     "name": "stdout",
     "output_type": "stream",
     "text": [
      "\n",
      "\n",
      "Move To\n",
      "\u001b[30m1)  \u001b[0m\u001b[30mHall\u001b[0m\n",
      "\u001b[30m2)  \u001b[0m\u001b[30mStudy\u001b[0m\n",
      "\u001b[30m3)  \u001b[0m\u001b[30mLibrary\u001b[0m\n"
     ]
    },
    {
     "name": "stdin",
     "output_type": "stream",
     "text": [
      "Choose from 1 to 3:  2\n"
     ]
    },
    {
     "name": "stdout",
     "output_type": "stream",
     "text": [
      "👠 \u001b[31mMiss Scarlet\u001b[0m suspects 🧐 \u001b[33mColonel Mustard\u001b[0m with the 🪢 \u001b[36mRope\u001b[0m in the \u001b[30mStudy\u001b[0m.\n",
      "🐉 \u001b[32mMr. Green\u001b[0m has \u001b[30mStudy\u001b[0m!\n",
      "🧐 \u001b[33mColonel Mustard\u001b[0m suspects 👠 \u001b[31mMiss Scarlet\u001b[0m with the 🔧 \u001b[36mWrench\u001b[0m in the \u001b[30mStudy\u001b[0m.\n",
      "🐉 \u001b[32mMr. Green\u001b[0m responds.\n",
      "♡ \u001b[37m Mrs. White\u001b[0m suspects ♡ \u001b[37m Mrs. White\u001b[0m with the 🔧 \u001b[36mWrench\u001b[0m in the \u001b[30mHall\u001b[0m.\n",
      "👠 \u001b[31mMiss Scarlet\u001b[0m responds.\n",
      "🐉 \u001b[32mMr. Green\u001b[0m suspects 🍆 \u001b[35mProfessor Plum\u001b[0m with the 🪠 \u001b[36mLead Pipe\u001b[0m in the \u001b[30mHall\u001b[0m.\n",
      "🧐 \u001b[33mColonel Mustard\u001b[0m responds.\n",
      "╒═══════════════╤═══════════════╤═════════════╕\n",
      "│ 2) Study      │ 3) Library    │ Dining Room │\n",
      "│    \u001b[31mS\u001b[0m, \u001b[33mM\u001b[0m       │               │             │\n",
      "├───────────────┼───────────────┼─────────────┤\n",
      "│ 1) Hall       │               │ Lounge      │\n",
      "│    \u001b[37mW\u001b[0m, \u001b[32mG\u001b[0m, \u001b[35mP\u001b[0m, \u001b[34mP\u001b[0m │               │             │\n",
      "├───────────────┼───────────────┼─────────────┤\n",
      "│ Conservatory  │               │ Ball Room   │\n",
      "├───────────────┼───────────────┼─────────────┤\n",
      "│               │ Billiard Room │ Kitchen     │\n",
      "╘═══════════════╧═══════════════╧═════════════╛\n",
      "\n",
      "           [1] 👠 \u001b[31mMiss Scarlet\u001b[0m is in \u001b[30mStudy\u001b[0m           \n",
      "\n",
      "Suspect\n",
      "\u001b[31m1)* \u001b[0m👠 \u001b[31mMiss Scarlet\u001b[0m\n",
      "\u001b[33m2)  \u001b[0m🧐 \u001b[33mColonel Mustard\u001b[0m\n",
      "\u001b[37m3)* \u001b[0m♡ \u001b[37m Mrs. White\u001b[0m\n",
      "\u001b[32m4)  \u001b[0m🐉 \u001b[32mMr. Green\u001b[0m\n",
      "\u001b[35m5)  \u001b[0m🍆 \u001b[35mProfessor Plum\u001b[0m\n",
      "\u001b[34m6)* \u001b[0m🦚 \u001b[34mMrs. Peacock\u001b[0m\n"
     ]
    },
    {
     "name": "stdin",
     "output_type": "stream",
     "text": [
      "Choose from 1 to 6:  5\n"
     ]
    },
    {
     "name": "stdout",
     "output_type": "stream",
     "text": [
      "\n",
      "\n",
      "Weapon\n",
      "\u001b[36m1)* \u001b[0m🔪 \u001b[36mKnife\u001b[0m\n",
      "\u001b[36m2)* \u001b[0m🔫 \u001b[36mRevolver\u001b[0m\n",
      "\u001b[36m3)  \u001b[0m🪢 \u001b[36mRope\u001b[0m\n",
      "\u001b[36m4)* \u001b[0m🔧 \u001b[36mWrench\u001b[0m\n",
      "\u001b[36m5)  \u001b[0m🕯️ \u001b[36mCandlestick\u001b[0m\n",
      "\u001b[36m6)  \u001b[0m🪠 \u001b[36mLead Pipe\u001b[0m\n"
     ]
    },
    {
     "name": "stdin",
     "output_type": "stream",
     "text": [
      "Choose from 1 to 6:  6\n"
     ]
    },
    {
     "name": "stdout",
     "output_type": "stream",
     "text": [
      "\n",
      "\n",
      "Move To\n",
      "\u001b[30m1)  \u001b[0m\u001b[30mHall\u001b[0m\n",
      "\u001b[30m2)* \u001b[0m\u001b[30mStudy\u001b[0m\n",
      "\u001b[30m3)  \u001b[0m\u001b[30mLibrary\u001b[0m\n"
     ]
    },
    {
     "name": "stdin",
     "output_type": "stream",
     "text": [
      "Choose from 1 to 3:  1\n"
     ]
    },
    {
     "name": "stdout",
     "output_type": "stream",
     "text": [
      "👠 \u001b[31mMiss Scarlet\u001b[0m suspects 🍆 \u001b[35mProfessor Plum\u001b[0m with the 🪠 \u001b[36mLead Pipe\u001b[0m in the \u001b[30mHall\u001b[0m.\n",
      "🧐 \u001b[33mColonel Mustard\u001b[0m has \u001b[30mHall\u001b[0m!\n",
      "🧐 \u001b[33mColonel Mustard\u001b[0m suspects 🧐 \u001b[33mColonel Mustard\u001b[0m with the 🪢 \u001b[36mRope\u001b[0m in the \u001b[30mHall\u001b[0m.\n",
      "\n",
      "\n",
      " gave a false one \u001b[30mHall\u001b[0m!\n",
      "🧐 \u001b[33mColonel Mustard\u001b[0m suspects 🦚 \u001b[34mMrs. Peacock\u001b[0m with the 🔫 \u001b[36mRevolver\u001b[0m in the \u001b[30mConservatory\u001b[0m.\n",
      "♡ \u001b[37m Mrs. White\u001b[0m responds.\n",
      "♡ \u001b[37m Mrs. White\u001b[0m suspects 🐉 \u001b[32mMr. Green\u001b[0m with the 🕯️ \u001b[36mCandlestick\u001b[0m in the \u001b[30mConservatory\u001b[0m.\n",
      "🐉 \u001b[32mMr. Green\u001b[0m responds.\n",
      "🐉 \u001b[32mMr. Green\u001b[0m suspects 🧐 \u001b[33mColonel Mustard\u001b[0m with the 🪢 \u001b[36mRope\u001b[0m in the \u001b[30mBilliard Room\u001b[0m.\n",
      "♡ \u001b[37m Mrs. White\u001b[0m responds.\n",
      "╒═════════════════╤═══════════════╤═════════════╕\n",
      "│ 3) Study        │ Library       │ Dining Room │\n",
      "├─────────────────┼───────────────┼─────────────┤\n",
      "│ 2) Hall         │               │ Lounge      │\n",
      "│    \u001b[31mS\u001b[0m, \u001b[35mP\u001b[0m         │               │             │\n",
      "├─────────────────┼───────────────┼─────────────┤\n",
      "│ 1) Conservatory │               │ Ball Room   │\n",
      "│    \u001b[37mW\u001b[0m, \u001b[34mP\u001b[0m         │               │             │\n",
      "├─────────────────┼───────────────┼─────────────┤\n",
      "│                 │ Billiard Room │ Kitchen     │\n",
      "│                 │    \u001b[33mM\u001b[0m, \u001b[32mG\u001b[0m       │             │\n",
      "╘═════════════════╧═══════════════╧═════════════╛\n",
      "\n",
      "           [1] 👠 \u001b[31mMiss Scarlet\u001b[0m is in \u001b[30mHall\u001b[0m            \n",
      "\n",
      "Suspect\n",
      "\u001b[31m1)* \u001b[0m👠 \u001b[31mMiss Scarlet\u001b[0m\n",
      "\u001b[33m2)  \u001b[0m🧐 \u001b[33mColonel Mustard\u001b[0m\n",
      "\u001b[37m3)* \u001b[0m♡ \u001b[37m Mrs. White\u001b[0m\n",
      "\u001b[32m4)  \u001b[0m🐉 \u001b[32mMr. Green\u001b[0m\n",
      "\u001b[35m5)  \u001b[0m🍆 \u001b[35mProfessor Plum\u001b[0m\n",
      "\u001b[34m6)* \u001b[0m🦚 \u001b[34mMrs. Peacock\u001b[0m\n"
     ]
    },
    {
     "ename": "KeyboardInterrupt",
     "evalue": "",
     "output_type": "error",
     "traceback": [
      "\u001b[0;31m---------------------------------------------------------------------------\u001b[0m",
      "\u001b[0;31mKeyboardInterrupt\u001b[0m                         Traceback (most recent call last)",
      "\u001b[0;32m~/anaconda3/envs/wordcloud/lib/python3.6/site-packages/ipykernel/kernelbase.py\u001b[0m in \u001b[0;36m_input_request\u001b[0;34m(self, prompt, ident, parent, password)\u001b[0m\n\u001b[1;32m    877\u001b[0m             \u001b[0;32mtry\u001b[0m\u001b[0;34m:\u001b[0m\u001b[0;34m\u001b[0m\u001b[0;34m\u001b[0m\u001b[0m\n\u001b[0;32m--> 878\u001b[0;31m                 \u001b[0mident\u001b[0m\u001b[0;34m,\u001b[0m \u001b[0mreply\u001b[0m \u001b[0;34m=\u001b[0m \u001b[0mself\u001b[0m\u001b[0;34m.\u001b[0m\u001b[0msession\u001b[0m\u001b[0;34m.\u001b[0m\u001b[0mrecv\u001b[0m\u001b[0;34m(\u001b[0m\u001b[0mself\u001b[0m\u001b[0;34m.\u001b[0m\u001b[0mstdin_socket\u001b[0m\u001b[0;34m,\u001b[0m \u001b[0;36m0\u001b[0m\u001b[0;34m)\u001b[0m\u001b[0;34m\u001b[0m\u001b[0;34m\u001b[0m\u001b[0m\n\u001b[0m\u001b[1;32m    879\u001b[0m             \u001b[0;32mexcept\u001b[0m \u001b[0mException\u001b[0m\u001b[0;34m:\u001b[0m\u001b[0;34m\u001b[0m\u001b[0;34m\u001b[0m\u001b[0m\n",
      "\u001b[0;32m~/anaconda3/envs/wordcloud/lib/python3.6/site-packages/jupyter_client/session.py\u001b[0m in \u001b[0;36mrecv\u001b[0;34m(self, socket, mode, content, copy)\u001b[0m\n\u001b[1;32m    802\u001b[0m         \u001b[0;32mtry\u001b[0m\u001b[0;34m:\u001b[0m\u001b[0;34m\u001b[0m\u001b[0;34m\u001b[0m\u001b[0m\n\u001b[0;32m--> 803\u001b[0;31m             \u001b[0mmsg_list\u001b[0m \u001b[0;34m=\u001b[0m \u001b[0msocket\u001b[0m\u001b[0;34m.\u001b[0m\u001b[0mrecv_multipart\u001b[0m\u001b[0;34m(\u001b[0m\u001b[0mmode\u001b[0m\u001b[0;34m,\u001b[0m \u001b[0mcopy\u001b[0m\u001b[0;34m=\u001b[0m\u001b[0mcopy\u001b[0m\u001b[0;34m)\u001b[0m\u001b[0;34m\u001b[0m\u001b[0;34m\u001b[0m\u001b[0m\n\u001b[0m\u001b[1;32m    804\u001b[0m         \u001b[0;32mexcept\u001b[0m \u001b[0mzmq\u001b[0m\u001b[0;34m.\u001b[0m\u001b[0mZMQError\u001b[0m \u001b[0;32mas\u001b[0m \u001b[0me\u001b[0m\u001b[0;34m:\u001b[0m\u001b[0;34m\u001b[0m\u001b[0;34m\u001b[0m\u001b[0m\n",
      "\u001b[0;32m~/anaconda3/envs/wordcloud/lib/python3.6/site-packages/zmq/sugar/socket.py\u001b[0m in \u001b[0;36mrecv_multipart\u001b[0;34m(self, flags, copy, track)\u001b[0m\n\u001b[1;32m    466\u001b[0m         \"\"\"\n\u001b[0;32m--> 467\u001b[0;31m         \u001b[0mparts\u001b[0m \u001b[0;34m=\u001b[0m \u001b[0;34m[\u001b[0m\u001b[0mself\u001b[0m\u001b[0;34m.\u001b[0m\u001b[0mrecv\u001b[0m\u001b[0;34m(\u001b[0m\u001b[0mflags\u001b[0m\u001b[0;34m,\u001b[0m \u001b[0mcopy\u001b[0m\u001b[0;34m=\u001b[0m\u001b[0mcopy\u001b[0m\u001b[0;34m,\u001b[0m \u001b[0mtrack\u001b[0m\u001b[0;34m=\u001b[0m\u001b[0mtrack\u001b[0m\u001b[0;34m)\u001b[0m\u001b[0;34m]\u001b[0m\u001b[0;34m\u001b[0m\u001b[0;34m\u001b[0m\u001b[0m\n\u001b[0m\u001b[1;32m    468\u001b[0m         \u001b[0;31m# have first part already, only loop while more to receive\u001b[0m\u001b[0;34m\u001b[0m\u001b[0;34m\u001b[0m\u001b[0;34m\u001b[0m\u001b[0m\n",
      "\u001b[0;32mzmq/backend/cython/socket.pyx\u001b[0m in \u001b[0;36mzmq.backend.cython.socket.Socket.recv\u001b[0;34m()\u001b[0m\n",
      "\u001b[0;32mzmq/backend/cython/socket.pyx\u001b[0m in \u001b[0;36mzmq.backend.cython.socket.Socket.recv\u001b[0;34m()\u001b[0m\n",
      "\u001b[0;32mzmq/backend/cython/socket.pyx\u001b[0m in \u001b[0;36mzmq.backend.cython.socket._recv_copy\u001b[0;34m()\u001b[0m\n",
      "\u001b[0;32m~/anaconda3/envs/wordcloud/lib/python3.6/site-packages/zmq/backend/cython/checkrc.pxd\u001b[0m in \u001b[0;36mzmq.backend.cython.checkrc._check_rc\u001b[0;34m()\u001b[0m\n",
      "\u001b[0;31mKeyboardInterrupt\u001b[0m: ",
      "\nDuring handling of the above exception, another exception occurred:\n",
      "\u001b[0;31mKeyboardInterrupt\u001b[0m                         Traceback (most recent call last)",
      "\u001b[0;32m<ipython-input-79-b92de2d4ede4>\u001b[0m in \u001b[0;36m<module>\u001b[0;34m\u001b[0m\n\u001b[1;32m      8\u001b[0m         \u001b[0mshowBoard\u001b[0m\u001b[0;34m(\u001b[0m\u001b[0mplayer\u001b[0m\u001b[0;34m,\u001b[0m\u001b[0magame\u001b[0m\u001b[0;34m,\u001b[0m\u001b[0mamoves\u001b[0m\u001b[0;34m)\u001b[0m\u001b[0;34m\u001b[0m\u001b[0;34m\u001b[0m\u001b[0m\n\u001b[1;32m      9\u001b[0m         \u001b[0;31m#printLocs(agame)\u001b[0m\u001b[0;34m\u001b[0m\u001b[0;34m\u001b[0m\u001b[0;34m\u001b[0m\u001b[0m\n\u001b[0;32m---> 10\u001b[0;31m         \u001b[0mans\u001b[0m \u001b[0;34m=\u001b[0m \u001b[0mgetPlay\u001b[0m\u001b[0;34m(\u001b[0m\u001b[0mplayer\u001b[0m\u001b[0;34m,\u001b[0m\u001b[0magame\u001b[0m\u001b[0;34m,\u001b[0m\u001b[0mamoves\u001b[0m\u001b[0;34m)\u001b[0m\u001b[0;34m\u001b[0m\u001b[0;34m\u001b[0m\u001b[0m\n\u001b[0m\u001b[1;32m     11\u001b[0m         \u001b[0mos\u001b[0m\u001b[0;34m.\u001b[0m\u001b[0msystem\u001b[0m\u001b[0;34m(\u001b[0m\u001b[0;34m'clear'\u001b[0m\u001b[0;34m)\u001b[0m\u001b[0;34m\u001b[0m\u001b[0;34m\u001b[0m\u001b[0m\n\u001b[1;32m     12\u001b[0m     \u001b[0;32melse\u001b[0m\u001b[0;34m:\u001b[0m\u001b[0;34m\u001b[0m\u001b[0;34m\u001b[0m\u001b[0m\n",
      "\u001b[0;32m~/code/clue/nbs/clue/core.py\u001b[0m in \u001b[0;36mgetPlay\u001b[0;34m(pc, game, moves)\u001b[0m\n\u001b[1;32m    237\u001b[0m \u001b[0;34m\u001b[0m\u001b[0m\n\u001b[1;32m    238\u001b[0m     \u001b[0mprint\u001b[0m\u001b[0;34m(\u001b[0m\u001b[0;34m\"\\nSuspect\"\u001b[0m\u001b[0;34m)\u001b[0m\u001b[0;34m\u001b[0m\u001b[0;34m\u001b[0m\u001b[0m\n\u001b[0;32m--> 239\u001b[0;31m     \u001b[0mp\u001b[0m \u001b[0;34m=\u001b[0m \u001b[0mchooseCard\u001b[0m\u001b[0;34m(\u001b[0m\u001b[0mpeople\u001b[0m\u001b[0;34m,\u001b[0m\u001b[0mcardFull\u001b[0m\u001b[0;34m,\u001b[0m\u001b[0mflag\u001b[0m\u001b[0;34m=\u001b[0m\u001b[0mexclude\u001b[0m\u001b[0;34m)\u001b[0m\u001b[0;34m-\u001b[0m\u001b[0;36m1\u001b[0m\u001b[0;34m\u001b[0m\u001b[0;34m\u001b[0m\u001b[0m\n\u001b[0m\u001b[1;32m    240\u001b[0m     \u001b[0mprint\u001b[0m\u001b[0;34m(\u001b[0m\u001b[0;34m\"\\n\\nWeapon\"\u001b[0m\u001b[0;34m)\u001b[0m\u001b[0;34m\u001b[0m\u001b[0;34m\u001b[0m\u001b[0m\n\u001b[1;32m    241\u001b[0m     \u001b[0mw\u001b[0m \u001b[0;34m=\u001b[0m \u001b[0mchooseCard\u001b[0m\u001b[0;34m(\u001b[0m\u001b[0mweapons\u001b[0m\u001b[0;34m,\u001b[0m\u001b[0mcardFull\u001b[0m\u001b[0;34m,\u001b[0m\u001b[0mflag\u001b[0m\u001b[0;34m=\u001b[0m\u001b[0mexclude\u001b[0m\u001b[0;34m)\u001b[0m\u001b[0;34m-\u001b[0m\u001b[0;36m1\u001b[0m\u001b[0;34m\u001b[0m\u001b[0;34m\u001b[0m\u001b[0m\n",
      "\u001b[0;32m~/code/clue/nbs/clue/core.py\u001b[0m in \u001b[0;36mchooseCard\u001b[0;34m(hand, view, fmt, flag)\u001b[0m\n\u001b[1;32m    100\u001b[0m         \u001b[0;32mfor\u001b[0m \u001b[0mcard\u001b[0m \u001b[0;32min\u001b[0m \u001b[0mcontainer\u001b[0m\u001b[0;34m:\u001b[0m\u001b[0;34m\u001b[0m\u001b[0;34m\u001b[0m\u001b[0m\n\u001b[1;32m    101\u001b[0m             \u001b[0mprint\u001b[0m\u001b[0;34m(\u001b[0m\u001b[0mcard\u001b[0m\u001b[0;34m)\u001b[0m\u001b[0;34m\u001b[0m\u001b[0;34m\u001b[0m\u001b[0m\n\u001b[0;32m--> 102\u001b[0;31m         \u001b[0mchoice\u001b[0m \u001b[0;34m=\u001b[0m \u001b[0mint\u001b[0m\u001b[0;34m(\u001b[0m\u001b[0minput\u001b[0m\u001b[0;34m(\u001b[0m\u001b[0;34m\"Choose from 1 to \"\u001b[0m \u001b[0;34m+\u001b[0m  \u001b[0mstr\u001b[0m\u001b[0;34m(\u001b[0m\u001b[0mlen\u001b[0m\u001b[0;34m(\u001b[0m\u001b[0mcontainer\u001b[0m\u001b[0;34m)\u001b[0m\u001b[0;34m)\u001b[0m\u001b[0;34m+\u001b[0m\u001b[0;34m\": \"\u001b[0m\u001b[0;34m)\u001b[0m\u001b[0;34m)\u001b[0m\u001b[0;34m\u001b[0m\u001b[0;34m\u001b[0m\u001b[0m\n\u001b[0m\u001b[1;32m    103\u001b[0m \u001b[0;34m\u001b[0m\u001b[0m\n\u001b[1;32m    104\u001b[0m         \u001b[0;32mif\u001b[0m \u001b[0;34m(\u001b[0m\u001b[0mchoice\u001b[0m \u001b[0;34m>\u001b[0m \u001b[0;36m0\u001b[0m\u001b[0;34m)\u001b[0m \u001b[0;32mand\u001b[0m \u001b[0;34m(\u001b[0m\u001b[0mchoice\u001b[0m \u001b[0;34m<=\u001b[0m \u001b[0mlen\u001b[0m\u001b[0;34m(\u001b[0m\u001b[0mcontainer\u001b[0m\u001b[0;34m)\u001b[0m\u001b[0;34m)\u001b[0m\u001b[0;34m:\u001b[0m\u001b[0;34m\u001b[0m\u001b[0;34m\u001b[0m\u001b[0m\n",
      "\u001b[0;32m~/anaconda3/envs/wordcloud/lib/python3.6/site-packages/ipykernel/kernelbase.py\u001b[0m in \u001b[0;36mraw_input\u001b[0;34m(self, prompt)\u001b[0m\n\u001b[1;32m    851\u001b[0m             \u001b[0mself\u001b[0m\u001b[0;34m.\u001b[0m\u001b[0m_parent_ident\u001b[0m\u001b[0;34m,\u001b[0m\u001b[0;34m\u001b[0m\u001b[0;34m\u001b[0m\u001b[0m\n\u001b[1;32m    852\u001b[0m             \u001b[0mself\u001b[0m\u001b[0;34m.\u001b[0m\u001b[0m_parent_header\u001b[0m\u001b[0;34m,\u001b[0m\u001b[0;34m\u001b[0m\u001b[0;34m\u001b[0m\u001b[0m\n\u001b[0;32m--> 853\u001b[0;31m             \u001b[0mpassword\u001b[0m\u001b[0;34m=\u001b[0m\u001b[0;32mFalse\u001b[0m\u001b[0;34m,\u001b[0m\u001b[0;34m\u001b[0m\u001b[0;34m\u001b[0m\u001b[0m\n\u001b[0m\u001b[1;32m    854\u001b[0m         )\n\u001b[1;32m    855\u001b[0m \u001b[0;34m\u001b[0m\u001b[0m\n",
      "\u001b[0;32m~/anaconda3/envs/wordcloud/lib/python3.6/site-packages/ipykernel/kernelbase.py\u001b[0m in \u001b[0;36m_input_request\u001b[0;34m(self, prompt, ident, parent, password)\u001b[0m\n\u001b[1;32m    881\u001b[0m             \u001b[0;32mexcept\u001b[0m \u001b[0mKeyboardInterrupt\u001b[0m\u001b[0;34m:\u001b[0m\u001b[0;34m\u001b[0m\u001b[0;34m\u001b[0m\u001b[0m\n\u001b[1;32m    882\u001b[0m                 \u001b[0;31m# re-raise KeyboardInterrupt, to truncate traceback\u001b[0m\u001b[0;34m\u001b[0m\u001b[0;34m\u001b[0m\u001b[0;34m\u001b[0m\u001b[0m\n\u001b[0;32m--> 883\u001b[0;31m                 \u001b[0;32mraise\u001b[0m \u001b[0mKeyboardInterrupt\u001b[0m\u001b[0;34m\u001b[0m\u001b[0;34m\u001b[0m\u001b[0m\n\u001b[0m\u001b[1;32m    884\u001b[0m             \u001b[0;32melse\u001b[0m\u001b[0;34m:\u001b[0m\u001b[0;34m\u001b[0m\u001b[0;34m\u001b[0m\u001b[0m\n\u001b[1;32m    885\u001b[0m                 \u001b[0;32mbreak\u001b[0m\u001b[0;34m\u001b[0m\u001b[0;34m\u001b[0m\u001b[0m\n",
      "\u001b[0;31mKeyboardInterrupt\u001b[0m: "
     ]
    }
   ],
   "source": [
    "#| hide\n",
    "printHand([keyLookUp(x) for x in sh],cardFull)\n",
    "\n",
    "strategies = [simpleGuess for x in range(4)]\n",
    "while not done:\n",
    "    #print(seenCounts(player,agame,amoves))\n",
    "    if player == 1:\n",
    "        showBoard(player,agame,amoves)\n",
    "        #printLocs(agame) \n",
    "        ans = getPlay(player,agame,amoves)\n",
    "        #os.system('clear')\n",
    "    else:\n",
    "        strat = strategies[player-1]\n",
    "        ans = strat(player,agame,amoves)\n",
    "        \n",
    "    \n",
    "    agame = relocatePlayers(player , ans[0],ans[2],agame)\n",
    "    print( playerName(player) + \" suspects \" + showChoice(ans[0],ans[1],ans[2])+\".\")\n",
    "    check = getAnswer(player,agame,ans)\n",
    "    if check[0] < 0:\n",
    "        seen =  getSeen(player,agame, amoves)\n",
    "        exclude  = set(seen)\n",
    "        done = True\n",
    "        for x in keysForGuess(ans[0],ans[1],ans[2]):\n",
    "            if x in exclude:\n",
    "                print(\"\\n\\n gave a false one \" +  cardFull(keyLookUp(x))+\"!\")\n",
    "                done = False\n",
    "        \n",
    "    else:\n",
    "        #(p,w,l,playerNum, c,y[0],y[1])\n",
    "        card = check[-1]\n",
    "        \n",
    "        amoves.append(check)\n",
    "        if player == 1:\n",
    "            print( playerName(check[-2]) + \" has \" + cardFull(keyLookUp(card))+\"!\")\n",
    "        else:\n",
    "            print( playerName(check[-2]) + \" responds.\")\n",
    "        #printLocs(agame)\n",
    "        player = player + 1\n",
    "        if player>=len(agame)-1:\n",
    "           player = 1 \n",
    "\n",
    "print(\"\\n\" + playerName(player) + \" won!\")\n",
    "printGame(agame) "
   ]
  },
  {
   "cell_type": "code",
   "execution_count": null,
   "metadata": {},
   "outputs": [],
   "source": []
  },
  {
   "cell_type": "code",
   "execution_count": null,
   "metadata": {},
   "outputs": [],
   "source": [
    "\n"
   ]
  },
  {
   "cell_type": "code",
   "execution_count": null,
   "metadata": {},
   "outputs": [],
   "source": [
    "#| export\n",
    "weapons = []\n",
    "weapons.append([\"Knife\",\"cyan\",u\"\\U0001F52A\",\"Knife\"])\n",
    "weapons.append([\"Revolver\",\"cyan\",u\"\\U0001F52B\",\"Gun\"])\n",
    "weapons.append([\"Rope\",\"cyan\",emoji.emojize(\":knot:\"),\"Rope\"])\n",
    "weapons.append([\"Wrench\",\"cyan\",emoji.emojize(\":wrench:\"),\"Wrench\"])\n",
    "weapons.append([\"Candlestick\",\"cyan\",emoji.emojize(\":candle:\"),\"Candle\"])\n",
    "weapons.append([\"Lead Pipe\",\"cyan\",emoji.emojize(\":plunger:\"),\"Pipe\"])"
   ]
  },
  {
   "cell_type": "code",
   "execution_count": null,
   "metadata": {},
   "outputs": [],
   "source": [
    "#| export\n",
    "rooms = []\n",
    "rooms.append([\"Ball Room\",\"grey\",\"\",\"Ball\"])\n",
    "rooms.append([\"Billiard Room\",\"grey\",\"\",\"Bill\"])\n",
    "rooms.append([\"Conservatory\",\"grey\",\"\",\"Consv\"])\n",
    "rooms.append([\"Dining Room\",\"grey\",\"\",\"Dining\"])\n",
    "rooms.append([\"Hall\",\"grey\",\"\",\"Hall\"])\n",
    "rooms.append([\"Kitchen\",\"grey\",\"\",\"Kitch\"])\n",
    "rooms.append([\"Lounge\",\"grey\",\"\",\"Lounge\"])\n",
    "rooms.append([\"Library\",\"grey\",\"\",\"Lib\"])\n",
    "rooms.append([\"Study\",\"grey\",\"\",\"Study\"])"
   ]
  },
  {
   "cell_type": "code",
   "execution_count": null,
   "metadata": {},
   "outputs": [],
   "source": [
    "#| export\n",
    "def cIndentity(x):\n",
    "  return x[0]\n",
    "    \n",
    "def printHand(hand,view=cIndentity):\n",
    "    container = []\n",
    "    line = [view(card) for card in hand]\n",
    "    print(', '.join(line))\n"
   ]
  },
  {
   "cell_type": "code",
   "execution_count": null,
   "metadata": {},
   "outputs": [],
   "source": []
  },
  {
   "cell_type": "code",
   "execution_count": null,
   "metadata": {},
   "outputs": [],
   "source": [
    "#| hide\n",
    "printHand(people)"
   ]
  },
  {
   "cell_type": "code",
   "execution_count": null,
   "metadata": {},
   "outputs": [],
   "source": []
  },
  {
   "cell_type": "code",
   "execution_count": null,
   "metadata": {},
   "outputs": [],
   "source": [
    "#| hide\n",
    "printHand(people,cardFull)\n",
    "printHand(people,cardShort)"
   ]
  },
  {
   "cell_type": "code",
   "execution_count": null,
   "metadata": {},
   "outputs": [],
   "source": [
    "#| export\n",
    "def keyForCard(v):\n",
    "    return v[0] * 100 + v[1]\n",
    "    \n",
    "def chooseCard(hand,view=cIndentity,fmt=\"fancy_grid\",flag = {}):\n",
    "    container = []\n",
    "    i = 1\n",
    "    ml = max([len(x[0]) for x in hand])\n",
    "\n",
    "    no = \" \"\n",
    "    \n",
    "    for card in hand:\n",
    "        face = view(card)\n",
    "        #face.append(i)\n",
    "        color = card[1]\n",
    "        no = \" \"\n",
    "        if card[0] in flag:\n",
    "            no = \"*\"\n",
    "        container.append(colored(str(i) +\")\" + no + \" \" ,color) + face)\n",
    "        i += 1\n",
    "    choice = -1\n",
    "    \n",
    "    while choice < 1:\n",
    "        for card in container:\n",
    "            print(card)\n",
    "        choice = int(input(\"Choose from 1 to \" +  str(len(container))+\": \"))\n",
    "       \n",
    "        if (choice > 0) and (choice <= len(container)):\n",
    "            return choice\n",
    "        print(str(choice) + \" is not in range\")\n",
    "        choice = -1\n",
    "            \n",
    "\n"
   ]
  },
  {
   "cell_type": "code",
   "execution_count": null,
   "metadata": {},
   "outputs": [],
   "source": [
    "#| hide\n",
    "chooseCard(people,cardFull,flag = {\"Mr. Green\"})"
   ]
  },
  {
   "cell_type": "code",
   "execution_count": null,
   "metadata": {},
   "outputs": [],
   "source": [
    "#| hide\n",
    "chooseCard(people,cardShort,flag = {\"Mr. Green\"})"
   ]
  },
  {
   "cell_type": "code",
   "execution_count": null,
   "metadata": {},
   "outputs": [],
   "source": []
  },
  {
   "cell_type": "code",
   "execution_count": null,
   "metadata": {},
   "outputs": [],
   "source": [
    "#| hide\n",
    "print(u\"\\U0001F52A\",u\"\\U0001F52B\",emoji.emojize(\":wrench:\"),emoji.emojize(\":candle:\"),u\"\\U0001F99A\")"
   ]
  },
  {
   "cell_type": "code",
   "execution_count": null,
   "metadata": {},
   "outputs": [],
   "source": []
  },
  {
   "cell_type": "code",
   "execution_count": null,
   "metadata": {},
   "outputs": [],
   "source": [
    "#| hide\n",
    "chooseCard(weapons,cardFull)"
   ]
  },
  {
   "cell_type": "code",
   "execution_count": null,
   "metadata": {},
   "outputs": [],
   "source": [
    "#| export\n",
    "def cardLookup(kind,index):\n",
    "    if kind == 1:\n",
    "        return people[index]\n",
    "    if kind == 2:\n",
    "        return weapons[index]\n",
    "    return rooms[index]\n",
    "\n",
    "def keyCard(kind,index):\n",
    "    return kind*100 + index\n",
    "\n",
    "def keyLookUp(key):\n",
    "    kind = key // 100\n",
    "    index = key % 100\n",
    "   # print(key,kind,index)\n",
    "    return cardLookup(kind,index)\n",
    "     "
   ]
  },
  {
   "cell_type": "code",
   "execution_count": null,
   "metadata": {},
   "outputs": [
    {
     "name": "stdout",
     "output_type": "stream",
     "text": [
      "[['Lounge', 'grey', '', 'Lounge'], [' Mrs. White', 'white', '♡', ' White'], ['Candlestick', 'cyan', '🕯️', 'Candle'], ['Ball Room', 'grey', '', 'Ball'], ['Study', 'grey', '', 'Study']]\n"
     ]
    }
   ],
   "source": [
    "#| hide\n",
    "cCheck = [keyLookUp(x) for x in [306, 102, 204, 300, 308]]\n",
    "print(cCheck)"
   ]
  },
  {
   "cell_type": "code",
   "execution_count": null,
   "metadata": {},
   "outputs": [],
   "source": [
    "#| export\n",
    "\n",
    "def createClue(playerCount):\n",
    "    bhand = [[1,randint(0,len(people)-1)],[2,randint(0,len(weapons)-1)],[3,randint(0,len(rooms)-1)]]\n",
    "    ahand = [keyCard(x[0],x[1]) for x in bhand]\n",
    "    ploc = sample(range(len(rooms)),len(people))\n",
    "    \n",
    "    person = ahand[0]\n",
    "    \n",
    "    pdeck = [keyCard(1,x) for x in range(len(people))]\n",
    "    deck = [[1,x] for x in range(len(people)) if x != person]\n",
    "    deck = [x for x in pdeck if x != person]\n",
    "    \n",
    "    weapon = ahand[1]\n",
    "    wdeck = [keyCard(2,x) for x in range(len(weapons))]\n",
    "    deck += [x for x in wdeck if x != weapon]\n",
    "   \n",
    "    room = ahand[2]\n",
    "    wdeck = [keyCard(3,x) for x in range(len(rooms))]\n",
    "    deck += [x for x in wdeck if x != room]\n",
    "\n",
    "    \n",
    "    shuffle(deck)\n",
    "    decks = [ahand]\n",
    "    \n",
    "    for i in range(playerCount):\n",
    "        decks.append([])\n",
    "        \n",
    "   \n",
    "\n",
    "    cIndex = 1\n",
    "    for card in deck:\n",
    "        decks[cIndex].append(card)\n",
    "        cIndex += 1\n",
    "        if cIndex > playerCount:\n",
    "            cIndex = 1\n",
    "    decks.append(ploc)        \n",
    "    return decks\n",
    "\n",
    "\n",
    "def printPlayer(game,i):\n",
    "    ploc = game[-1]\n",
    "    person = people[i-1]\n",
    "    d = cardFull(person)\n",
    "    loc = cardFull(cardLookup(3,ploc[i-1]))\n",
    "    d = \"[\" + str(i) + \"] \" + d  + \" is in \" + loc \n",
    "    print(\"\\n\" + d.center(70,\" \"))\n",
    " \n",
    "    ahand = game[i]\n",
    "    maps = [keyLookUp(x) for x in ahand]\n",
    "    printHand(maps,cardFull)\n",
    "\n",
    "    \n",
    "def printGame(game):\n",
    "    print(\"Solution\")\n",
    "    ahand = game[0]\n",
    "   \n",
    "    maps = [keyLookUp(x) for x in ahand]\n",
    "    printHand(maps,cardFull)\n",
    "    for i in range(1,len(game)-1):\n",
    "        printPlayer(game,i)\n",
    "        \n",
    "\n",
    "def printLocs(game):\n",
    "\n",
    "    ploc = game[-1]\n",
    "    #print(ploc)\n",
    "    for i in range(len(ploc)):\n",
    "        person = people[i]\n",
    "        d = cardFull(person)\n",
    "        loc = cardFull(cardLookup(3,ploc[i-1]))\n",
    "        d = \"[\" + str(i+1) + \"] \" + d  + \" is in \" + loc \n",
    "        print(d)\n",
    "     \n",
    "       "
   ]
  },
  {
   "cell_type": "code",
   "execution_count": null,
   "metadata": {},
   "outputs": [
    {
     "name": "stdout",
     "output_type": "stream",
     "text": [
      "Solution\n",
      "🦚 \u001b[34mMrs. Peacock\u001b[0m, 🪢 \u001b[36mRope\u001b[0m, \u001b[30mLounge\u001b[0m\n",
      "\n",
      "          [1] 👠 \u001b[31mMiss Scarlet\u001b[0m is in \u001b[30mLibrary\u001b[0m          \n",
      "🔫 \u001b[36mRevolver\u001b[0m, 🔪 \u001b[36mKnife\u001b[0m, \u001b[30mHall\u001b[0m, 🐉 \u001b[32mMr. Green\u001b[0m, \u001b[30mBall Room\u001b[0m\n",
      "\n",
      "        [2] 🧐 \u001b[33mColonel Mustard\u001b[0m is in \u001b[30mLibrary\u001b[0m         \n",
      "\u001b[30mKitchen\u001b[0m, \u001b[30mStudy\u001b[0m, \u001b[30mConservatory\u001b[0m, 🧐 \u001b[33mColonel Mustard\u001b[0m, \u001b[30mBilliard Room\u001b[0m\n",
      "\n",
      "       [3] ♡ \u001b[37m Mrs. White\u001b[0m is in \u001b[30mBilliard Room\u001b[0m        \n",
      "🔧 \u001b[36mWrench\u001b[0m, \u001b[30mDining Room\u001b[0m, ♡ \u001b[37m Mrs. White\u001b[0m, \u001b[30mLibrary\u001b[0m\n",
      "\n",
      "            [4] 🐉 \u001b[32mMr. Green\u001b[0m is in \u001b[30mLounge\u001b[0m            \n",
      "🪠 \u001b[36mLead Pipe\u001b[0m, 👠 \u001b[31mMiss Scarlet\u001b[0m, 🍆 \u001b[35mProfessor Plum\u001b[0m, 🕯️ \u001b[36mCandlestick\u001b[0m\n"
     ]
    }
   ],
   "source": [
    "#| hide\n",
    "#agame = createClue(4)\n",
    "amoves = []\n",
    "printGame(agame)"
   ]
  },
  {
   "cell_type": "code",
   "execution_count": null,
   "metadata": {},
   "outputs": [],
   "source": [
    "agame"
   ]
  },
  {
   "cell_type": "code",
   "execution_count": null,
   "metadata": {},
   "outputs": [],
   "source": [
    "#| export\n",
    "def getSeen(playerID, game, moves):\n",
    "    foo = [x[-1] for x in moves if x[3] == playerID]\n",
    "    return game[playerID] + foo\n",
    "\n",
    "\n",
    "def location(playerID,game):\n",
    "    ploc = game[-1]\n",
    "    return ploc[playerID-2]\n",
    "    "
   ]
  },
  {
   "cell_type": "code",
   "execution_count": null,
   "metadata": {},
   "outputs": [],
   "source": [
    "#| export\n",
    "def getPlay(pc,game, moves):\n",
    "    \n",
    "    ploc = game[-1]\n",
    "    \n",
    "    r2 = location(pc,game)\n",
    "    \n",
    "    person = people[pc-1]\n",
    "    d = cardFull(person)\n",
    "    #print(pc,r2)\n",
    "    loc = cardFull(cardLookup(3,r2))\n",
    "    \n",
    "    d = \"[\" + str(pc) + \"] \" + d  + \" is in \" + loc \n",
    "    print(\"\\n\" + d.center(70,\" \"))\n",
    "\n",
    "    ahand = game[pc]\n",
    "    maps = [keyLookUp(x) for x in ahand]\n",
    "    #printHand(maps,cardFull)\n",
    "\n",
    "    seen = [keyLookUp(x)[0] for x in getSeen(pc,game, moves)]\n",
    "    exclude  = set(seen)\n",
    "    \n",
    "\n",
    "    print(\"\\nSuspect\")\n",
    "    p = chooseCard(people,cardFull,flag=exclude)-1\n",
    "    print(\"\\n\\nWeapon\")\n",
    "    w = chooseCard(weapons,cardFull,flag=exclude)-1\n",
    "    \n",
    "\n",
    "    print(\"\\n\\nMove To\")\n",
    "    passages = trips(r2,len(rooms))\n",
    "\n",
    "                     \n",
    "    locs = [cardLookup(3,x) for x in passages ]\n",
    "    l = chooseCard(locs,cardFull,flag=exclude) \n",
    "    l = trips(r2,len(rooms))[l-1]\n",
    "    \n",
    "    return (p,w,l)\n",
    "\n",
    "\n",
    "\n",
    "    \n",
    "\n",
    "def trips(x,l):\n",
    "    r1 = x -1\n",
    "    if r1 < 0:\n",
    "        r1 = l - 1\n",
    "    r3 = x + 1\n",
    "    if r3 > l - 1:\n",
    "        r3 = 0\n",
    "    return [r1,x,r3]\n",
    "\n"
   ]
  },
  {
   "cell_type": "code",
   "execution_count": null,
   "metadata": {},
   "outputs": [],
   "source": [
    "\n",
    "\n",
    "                   \n",
    "    \n",
    "    \n",
    "            "
   ]
  },
  {
   "cell_type": "code",
   "execution_count": null,
   "metadata": {},
   "outputs": [],
   "source": []
  },
  {
   "cell_type": "code",
   "execution_count": null,
   "metadata": {},
   "outputs": [],
   "source": [
    "#| export\n",
    "\n",
    "def showChoice(p,w,l):\n",
    "    ret = cardFull(cardLookup(1,p))\n",
    "    ret = ret + \" with the \" + cardFull(cardLookup(2,w))\n",
    "    ret = ret + \" in the \" + cardFull(cardLookup(3,l))\n",
    "    return ret\n",
    "\n",
    "\n",
    "def keysForGuess(p,w,l):\n",
    "    h = [[1,p],[2,w],[3,l]]\n",
    "    h = [keyCard(x[0],x[1]) for x in h]\n",
    "    return h\n",
    "\n",
    "def getAnswer(playerNum,game,guess):\n",
    "    #print(guess)\n",
    "    (p,w,l) = guess\n",
    "    #print(showChoice(p,w,l))\n",
    "    h = keysForGuess(p,w,l)\n",
    "    \n",
    "   \n",
    "    shuffle(h)\n",
    "    \n",
    "    playCount = len(game) - 1\n",
    "    \n",
    "    c = playerNum+1\n",
    "    \n",
    "    if c > playCount:\n",
    "        c = 1\n",
    "    while c != playerNum:\n",
    "        hand = game[c]\n",
    "        #printPlayer(game,c)\n",
    "        for y in h:\n",
    "            for x in hand:\n",
    "                #print(x,y,cardFull(keyLookUp(x)),cardFull(keyLookUp(y)))\n",
    "                if x == y :\n",
    "                    return (p,w,l,playerNum, c,y)\n",
    "        #print(str(c) + \" pass\")\n",
    "        c = c+1\n",
    "        if c >= playCount:\n",
    "            c = 1\n",
    "    return (-1,0)\n",
    "    "
   ]
  },
  {
   "cell_type": "code",
   "execution_count": null,
   "metadata": {},
   "outputs": [
    {
     "name": "stdout",
     "output_type": "stream",
     "text": [
      "[5, 8, 3, 7, 2, 1]\n",
      "[[105, 202, 300], [302, 306, 104, 305, 307], [205, 101, 303, 102, 301], [204, 308, 200, 103, 304], [300, 100, 201, 203], [5, 8, 3, 7, 2, 1]]\n"
     ]
    }
   ],
   "source": [
    "#| hide\n",
    "print(agame[-1])\n",
    "print(agame)"
   ]
  },
  {
   "cell_type": "code",
   "execution_count": null,
   "metadata": {},
   "outputs": [],
   "source": []
  },
  {
   "cell_type": "code",
   "execution_count": null,
   "metadata": {},
   "outputs": [
    {
     "name": "stdout",
     "output_type": "stream",
     "text": [
      "Solution\n",
      "🦚 \u001b[34mMrs. Peacock\u001b[0m, 🪢 \u001b[36mRope\u001b[0m, \u001b[30mLounge\u001b[0m\n",
      "\n",
      "           [1] 👠 \u001b[31mMiss Scarlet\u001b[0m is in \u001b[30mStudy\u001b[0m           \n",
      "🔫 \u001b[36mRevolver\u001b[0m, 🔪 \u001b[36mKnife\u001b[0m, \u001b[30mHall\u001b[0m, 🐉 \u001b[32mMr. Green\u001b[0m, \u001b[30mBall Room\u001b[0m\n",
      "\n",
      "        [2] 🧐 \u001b[33mColonel Mustard\u001b[0m is in \u001b[30mKitchen\u001b[0m         \n",
      "\u001b[30mKitchen\u001b[0m, \u001b[30mStudy\u001b[0m, \u001b[30mConservatory\u001b[0m, 🧐 \u001b[33mColonel Mustard\u001b[0m, \u001b[30mBilliard Room\u001b[0m\n",
      "\n",
      "       [3] ♡ \u001b[37m Mrs. White\u001b[0m is in \u001b[30mBilliard Room\u001b[0m        \n",
      "🔧 \u001b[36mWrench\u001b[0m, \u001b[30mDining Room\u001b[0m, ♡ \u001b[37m Mrs. White\u001b[0m, \u001b[30mLibrary\u001b[0m\n",
      "\n",
      "             [4] 🐉 \u001b[32mMr. Green\u001b[0m is in \u001b[30mHall\u001b[0m             \n",
      "🪠 \u001b[36mLead Pipe\u001b[0m, 👠 \u001b[31mMiss Scarlet\u001b[0m, 🍆 \u001b[35mProfessor Plum\u001b[0m, 🕯️ \u001b[36mCandlestick\u001b[0m\n",
      "\n",
      "[1] 👠 \u001b[31mMiss Scarlet\u001b[0m is in \u001b[30mLibrary\u001b[0m\n",
      "[2] 🧐 \u001b[33mColonel Mustard\u001b[0m is in \u001b[30mStudy\u001b[0m\n",
      "[3] ♡ \u001b[37m Mrs. White\u001b[0m is in \u001b[30mKitchen\u001b[0m\n",
      "[4] 🐉 \u001b[32mMr. Green\u001b[0m is in \u001b[30mBilliard Room\u001b[0m\n",
      "[5] 🍆 \u001b[35mProfessor Plum\u001b[0m is in \u001b[30mHall\u001b[0m\n",
      "[6] 🦚 \u001b[34mMrs. Peacock\u001b[0m is in \u001b[30mDining Room\u001b[0m\n"
     ]
    }
   ],
   "source": [
    "#| hide\n",
    "agame = createClue(4)\n",
    "amoves = []\n",
    "player = 1\n",
    "done = False\n",
    "printGame(agame) \n",
    "print()\n",
    "printLocs(agame) "
   ]
  },
  {
   "cell_type": "code",
   "execution_count": null,
   "metadata": {},
   "outputs": [
    {
     "name": "stdout",
     "output_type": "stream",
     "text": [
      "\n",
      "          [1] 👠 \u001b[31mMiss Scarlet\u001b[0m is in \u001b[30mLibrary\u001b[0m          \n",
      "\n",
      "Suspect\n",
      "\u001b[31m1)  \u001b[0m👠 \u001b[31mMiss Scarlet\u001b[0m\n",
      "\u001b[33m2)  \u001b[0m🧐 \u001b[33mColonel Mustard\u001b[0m\n",
      "\u001b[37m3)  \u001b[0m♡ \u001b[37m Mrs. White\u001b[0m\n",
      "\u001b[32m4)* \u001b[0m🐉 \u001b[32mMr. Green\u001b[0m\n",
      "\u001b[35m5)  \u001b[0m🍆 \u001b[35mProfessor Plum\u001b[0m\n",
      "\u001b[34m6)  \u001b[0m🦚 \u001b[34mMrs. Peacock\u001b[0m\n"
     ]
    },
    {
     "name": "stdin",
     "output_type": "stream",
     "text": [
      "Choose from 1 to 6:  2\n"
     ]
    },
    {
     "name": "stdout",
     "output_type": "stream",
     "text": [
      "\n",
      "\n",
      "Weapon\n",
      "\u001b[36m1)* \u001b[0m🔪 \u001b[36mKnife\u001b[0m\n",
      "\u001b[36m2)* \u001b[0m🔫 \u001b[36mRevolver\u001b[0m\n",
      "\u001b[36m3)  \u001b[0m🪢 \u001b[36mRope\u001b[0m\n",
      "\u001b[36m4)  \u001b[0m🔧 \u001b[36mWrench\u001b[0m\n",
      "\u001b[36m5)  \u001b[0m🕯️ \u001b[36mCandlestick\u001b[0m\n",
      "\u001b[36m6)  \u001b[0m🪠 \u001b[36mLead Pipe\u001b[0m\n"
     ]
    },
    {
     "name": "stdin",
     "output_type": "stream",
     "text": [
      "Choose from 1 to 6:  3\n"
     ]
    },
    {
     "name": "stdout",
     "output_type": "stream",
     "text": [
      "\n",
      "\n",
      "Move To\n",
      "\u001b[30m1)  \u001b[0m\u001b[30mLounge\u001b[0m\n",
      "\u001b[30m2)  \u001b[0m\u001b[30mLibrary\u001b[0m\n",
      "\u001b[30m3)  \u001b[0m\u001b[30mStudy\u001b[0m\n"
     ]
    },
    {
     "name": "stdin",
     "output_type": "stream",
     "text": [
      "Choose from 1 to 3:  3\n"
     ]
    },
    {
     "data": {
      "text/plain": [
       "(1, 2, 8)"
      ]
     },
     "execution_count": null,
     "metadata": {},
     "output_type": "execute_result"
    }
   ],
   "source": [
    "#| hide\n",
    "ans = getPlay(player,agame,amoves)\n",
    "ans"
   ]
  },
  {
   "cell_type": "code",
   "execution_count": null,
   "metadata": {},
   "outputs": [
    {
     "data": {
      "text/plain": [
       "([[103, 203, 307],\n",
       "  [306, 301, 102, 304, 205],\n",
       "  [105, 201, 303, 307, 204],\n",
       "  [104, 305, 100, 308, 302],\n",
       "  [200, 202, 101, 300],\n",
       "  [1, 3, 2, 7, 2, 2]],\n",
       " (3, 3, 2))"
      ]
     },
     "execution_count": null,
     "metadata": {},
     "output_type": "execute_result"
    }
   ],
   "source": []
  },
  {
   "cell_type": "code",
   "execution_count": null,
   "metadata": {},
   "outputs": [],
   "source": [
    "\n",
    "#| export\n",
    "def relocatePlayers(playerNum , p,l,game):\n",
    "  \n",
    "    game[-1][playerNum-2] = l\n",
    "    game[-1][p-1] = l\n",
    "    #print(playerNum-1,p)\n",
    "    #printLocs(game)\n",
    "    return  game"
   ]
  },
  {
   "cell_type": "code",
   "execution_count": null,
   "metadata": {},
   "outputs": [
    {
     "data": {
      "text/plain": [
       "([[105, 202, 306],\n",
       "  [201, 200, 304, 103, 300],\n",
       "  [305, 308, 302, 101, 301],\n",
       "  [203, 303, 102, 307],\n",
       "  [205, 100, 104, 204],\n",
       "  [8, 5, 1, 4, 3, 8]],\n",
       " (1, 2, 8))"
      ]
     },
     "execution_count": null,
     "metadata": {},
     "output_type": "execute_result"
    }
   ],
   "source": [
    "#| hide\n",
    "relocatePlayers(player , ans[0],ans[2],agame)\n",
    "agame, ans"
   ]
  },
  {
   "cell_type": "code",
   "execution_count": null,
   "metadata": {},
   "outputs": [
    {
     "name": "stdout",
     "output_type": "stream",
     "text": [
      "[1] 👠 \u001b[31mMiss Scarlet\u001b[0m is in \u001b[30mHall\u001b[0m\n",
      "[2] 🧐 \u001b[33mColonel Mustard\u001b[0m is in \u001b[30mDining Room\u001b[0m\n",
      "[3] ♡ \u001b[37m Mrs. White\u001b[0m is in \u001b[30mKitchen\u001b[0m\n",
      "[4] 🐉 \u001b[32mMr. Green\u001b[0m is in \u001b[30mConservatory\u001b[0m\n",
      "[5] 🍆 \u001b[35mProfessor Plum\u001b[0m is in \u001b[30mStudy\u001b[0m\n",
      "[6] 🦚 \u001b[34mMrs. Peacock\u001b[0m is in \u001b[30mLibrary\u001b[0m\n"
     ]
    }
   ],
   "source": [
    "#| hide\n",
    "agame = createClue(4)\n",
    "amoves = []\n",
    "player = 1\n",
    "done = False\n",
    "printLocs(agame) "
   ]
  },
  {
   "cell_type": "code",
   "execution_count": null,
   "metadata": {},
   "outputs": [
    {
     "name": "stdout",
     "output_type": "stream",
     "text": [
      "\u001b[30mHall\u001b[0m, 🕯️ \u001b[36mCandlestick\u001b[0m, 🪠 \u001b[36mLead Pipe\u001b[0m, \u001b[30mLounge\u001b[0m, 🦚 \u001b[34mMrs. Peacock\u001b[0m\n",
      "\n",
      "        [1] 👠 \u001b[31mMiss Scarlet\u001b[0m is in \u001b[30mDining Room\u001b[0m        \n",
      "\n",
      "Suspect\n",
      "\u001b[31m1)  \u001b[0m👠 \u001b[31mMiss Scarlet\u001b[0m\n",
      "\u001b[33m2)* \u001b[0m🧐 \u001b[33mColonel Mustard\u001b[0m\n",
      "\u001b[37m3)* \u001b[0m♡ \u001b[37m Mrs. White\u001b[0m\n",
      "\u001b[32m4)* \u001b[0m🐉 \u001b[32mMr. Green\u001b[0m\n",
      "\u001b[35m5)* \u001b[0m🍆 \u001b[35mProfessor Plum\u001b[0m\n",
      "\u001b[34m6)* \u001b[0m🦚 \u001b[34mMrs. Peacock\u001b[0m\n"
     ]
    },
    {
     "name": "stdin",
     "output_type": "stream",
     "text": [
      "Choose from 1 to 6:  2\n"
     ]
    },
    {
     "name": "stdout",
     "output_type": "stream",
     "text": [
      "\n",
      "\n",
      "Weapon\n",
      "\u001b[36m1)* \u001b[0m🔪 \u001b[36mKnife\u001b[0m\n",
      "\u001b[36m2)* \u001b[0m🔫 \u001b[36mRevolver\u001b[0m\n",
      "\u001b[36m3)* \u001b[0m🪢 \u001b[36mRope\u001b[0m\n",
      "\u001b[36m4)  \u001b[0m🔧 \u001b[36mWrench\u001b[0m\n",
      "\u001b[36m5)* \u001b[0m🕯️ \u001b[36mCandlestick\u001b[0m\n",
      "\u001b[36m6)* \u001b[0m🪠 \u001b[36mLead Pipe\u001b[0m\n"
     ]
    },
    {
     "name": "stdin",
     "output_type": "stream",
     "text": [
      "Choose from 1 to 6:  4\n"
     ]
    },
    {
     "name": "stdout",
     "output_type": "stream",
     "text": [
      "\n",
      "\n",
      "Move To\n",
      "\u001b[30m1)  \u001b[0m\u001b[30mConservatory\u001b[0m\n",
      "\u001b[30m2)  \u001b[0m\u001b[30mDining Room\u001b[0m\n",
      "\u001b[30m3)* \u001b[0m\u001b[30mHall\u001b[0m\n"
     ]
    },
    {
     "name": "stdin",
     "output_type": "stream",
     "text": [
      "Choose from 1 to 3:  2\n"
     ]
    },
    {
     "name": "stdout",
     "output_type": "stream",
     "text": [
      "\n",
      "Player 1 suspects 🧐 \u001b[33mColonel Mustard\u001b[0m with the 🔧 \u001b[36mWrench\u001b[0m in the \u001b[30mDining Room\u001b[0m\n",
      "\n",
      "\n",
      "Player 4 has 🧐 \u001b[33mColonel Mustard\u001b[0m\n",
      "\n",
      "        [1] 👠 \u001b[31mMiss Scarlet\u001b[0m is in \u001b[30mDining Room\u001b[0m        \n",
      "\n",
      "Suspect\n",
      "\u001b[31m1)  \u001b[0m👠 \u001b[31mMiss Scarlet\u001b[0m\n",
      "\u001b[33m2)* \u001b[0m🧐 \u001b[33mColonel Mustard\u001b[0m\n",
      "\u001b[37m3)* \u001b[0m♡ \u001b[37m Mrs. White\u001b[0m\n",
      "\u001b[32m4)* \u001b[0m🐉 \u001b[32mMr. Green\u001b[0m\n",
      "\u001b[35m5)* \u001b[0m🍆 \u001b[35mProfessor Plum\u001b[0m\n",
      "\u001b[34m6)* \u001b[0m🦚 \u001b[34mMrs. Peacock\u001b[0m\n"
     ]
    },
    {
     "name": "stdin",
     "output_type": "stream",
     "text": [
      "Choose from 1 to 6:  1\n"
     ]
    },
    {
     "name": "stdout",
     "output_type": "stream",
     "text": [
      "\n",
      "\n",
      "Weapon\n",
      "\u001b[36m1)* \u001b[0m🔪 \u001b[36mKnife\u001b[0m\n",
      "\u001b[36m2)* \u001b[0m🔫 \u001b[36mRevolver\u001b[0m\n",
      "\u001b[36m3)* \u001b[0m🪢 \u001b[36mRope\u001b[0m\n",
      "\u001b[36m4)  \u001b[0m🔧 \u001b[36mWrench\u001b[0m\n",
      "\u001b[36m5)* \u001b[0m🕯️ \u001b[36mCandlestick\u001b[0m\n",
      "\u001b[36m6)* \u001b[0m🪠 \u001b[36mLead Pipe\u001b[0m\n"
     ]
    },
    {
     "name": "stdin",
     "output_type": "stream",
     "text": [
      "Choose from 1 to 6:  4\n"
     ]
    },
    {
     "name": "stdout",
     "output_type": "stream",
     "text": [
      "\n",
      "\n",
      "Move To\n",
      "\u001b[30m1)  \u001b[0m\u001b[30mConservatory\u001b[0m\n",
      "\u001b[30m2)  \u001b[0m\u001b[30mDining Room\u001b[0m\n",
      "\u001b[30m3)* \u001b[0m\u001b[30mHall\u001b[0m\n"
     ]
    },
    {
     "name": "stdin",
     "output_type": "stream",
     "text": [
      "Choose from 1 to 3:  2\n"
     ]
    },
    {
     "name": "stdout",
     "output_type": "stream",
     "text": [
      "\n",
      "Player 1 suspects 👠 \u001b[31mMiss Scarlet\u001b[0m with the 🔧 \u001b[36mWrench\u001b[0m in the \u001b[30mDining Room\u001b[0m\n",
      "Player 1 won\n",
      "Solution\n",
      "👠 \u001b[31mMiss Scarlet\u001b[0m, 🔧 \u001b[36mWrench\u001b[0m, \u001b[30mDining Room\u001b[0m\n",
      "\n",
      "        [1] 👠 \u001b[31mMiss Scarlet\u001b[0m is in \u001b[30mDining Room\u001b[0m        \n",
      "\u001b[30mHall\u001b[0m, 🕯️ \u001b[36mCandlestick\u001b[0m, 🪠 \u001b[36mLead Pipe\u001b[0m, \u001b[30mLounge\u001b[0m, 🦚 \u001b[34mMrs. Peacock\u001b[0m\n",
      "\n",
      "      [2] 🧐 \u001b[33mColonel Mustard\u001b[0m is in \u001b[30mDining Room\u001b[0m       \n",
      "🍆 \u001b[35mProfessor Plum\u001b[0m, 🪢 \u001b[36mRope\u001b[0m, \u001b[30mBilliard Room\u001b[0m, \u001b[30mBall Room\u001b[0m, 🔫 \u001b[36mRevolver\u001b[0m\n",
      "\n",
      "        [3] ♡ \u001b[37m Mrs. White\u001b[0m is in \u001b[30mDining Room\u001b[0m         \n",
      "🐉 \u001b[32mMr. Green\u001b[0m, \u001b[30mKitchen\u001b[0m, 🔪 \u001b[36mKnife\u001b[0m, ♡ \u001b[37m Mrs. White\u001b[0m\n",
      "\n",
      "         [4] 🐉 \u001b[32mMr. Green\u001b[0m is in \u001b[30mDining Room\u001b[0m          \n",
      "\u001b[30mConservatory\u001b[0m, 🧐 \u001b[33mColonel Mustard\u001b[0m, \u001b[30mLibrary\u001b[0m, \u001b[30mStudy\u001b[0m\n"
     ]
    }
   ],
   "source": [
    "#| hide\n",
    "done = False\n",
    "\n",
    "\n",
    "sh = agame[1]\n",
    "\n",
    "printHand([keyLookUp(x) for x in sh],cardFull)\n",
    "\n",
    "while not done:\n",
    "    \n",
    "    ans = getPlay(player,agame,amoves)\n",
    "    agame = relocatePlayers(player , ans[0],ans[2],agame)\n",
    "    print(\"\\nPlayer \" + str(player) + \" suspects \" + showChoice(ans[0],ans[1],ans[2]))\n",
    "    check = getAnswer(player,agame,ans)\n",
    "    if check[0] < 0:\n",
    "        seen =  getSeen(player,agame, amoves)\n",
    "        exclude  = set(seen)\n",
    "        done = True\n",
    "        for x in keysForGuess(ans[0],ans[1],ans[2]):\n",
    "            if x in exclude:\n",
    "                print(\"\\n\\n gave a false one \" +  cardFull(keyLookUp(x)))\n",
    "                done = False\n",
    "        \n",
    "    else:\n",
    "        #(p,w,l,playerNum, c,y[0],y[1])\n",
    "        card = check[-1]\n",
    "        \n",
    "        amoves.append(check)\n",
    "        print(\"\\n\\nPlayer \" + str(check[-2]) + \" has \" + cardFull(keyLookUp(card)))\n",
    "        #printLocs(agame)\n",
    "       # player = player + 1\n",
    "        if player>len(agame)-1:\n",
    "           player = 1 \n",
    "\n",
    "print(\"Player \" + str(player) + \" won\")\n",
    "printGame(agame) \n"
   ]
  },
  {
   "cell_type": "code",
   "execution_count": null,
   "metadata": {},
   "outputs": [
    {
     "name": "stdout",
     "output_type": "stream",
     "text": [
      "Solution\n",
      "🦚 \u001b[34mMrs. Peacock\u001b[0m, 🪢 \u001b[36mRope\u001b[0m, \u001b[30mLounge\u001b[0m\n",
      "\n",
      "          [1] 👠 \u001b[31mMiss Scarlet\u001b[0m is in \u001b[30mLibrary\u001b[0m          \n",
      "🔫 \u001b[36mRevolver\u001b[0m, 🔪 \u001b[36mKnife\u001b[0m, \u001b[30mHall\u001b[0m, 🐉 \u001b[32mMr. Green\u001b[0m, \u001b[30mBall Room\u001b[0m\n",
      "\n",
      "        [2] 🧐 \u001b[33mColonel Mustard\u001b[0m is in \u001b[30mLibrary\u001b[0m         \n",
      "\u001b[30mKitchen\u001b[0m, \u001b[30mStudy\u001b[0m, \u001b[30mConservatory\u001b[0m, 🧐 \u001b[33mColonel Mustard\u001b[0m, \u001b[30mBilliard Room\u001b[0m\n",
      "\n",
      "       [3] ♡ \u001b[37m Mrs. White\u001b[0m is in \u001b[30mBilliard Room\u001b[0m        \n",
      "🔧 \u001b[36mWrench\u001b[0m, \u001b[30mDining Room\u001b[0m, ♡ \u001b[37m Mrs. White\u001b[0m, \u001b[30mLibrary\u001b[0m\n",
      "\n",
      "            [4] 🐉 \u001b[32mMr. Green\u001b[0m is in \u001b[30mLounge\u001b[0m            \n",
      "🪠 \u001b[36mLead Pipe\u001b[0m, 👠 \u001b[31mMiss Scarlet\u001b[0m, 🍆 \u001b[35mProfessor Plum\u001b[0m, 🕯️ \u001b[36mCandlestick\u001b[0m\n"
     ]
    }
   ],
   "source": [
    "#| hide\n",
    "printGame(agame) "
   ]
  },
  {
   "cell_type": "code",
   "execution_count": null,
   "metadata": {},
   "outputs": [],
   "source": [
    "#| hide\n",
    "chooseCard(rooms,cardFull)"
   ]
  },
  {
   "cell_type": "code",
   "execution_count": null,
   "metadata": {},
   "outputs": [],
   "source": [
    "#| hide\n",
    "import nbdev; nbdev.nbdev_export()"
   ]
  }
 ],
 "metadata": {
  "kernelspec": {
   "display_name": "python3",
   "language": "python",
   "name": "python3"
  }
 },
 "nbformat": 4,
 "nbformat_minor": 4
}
