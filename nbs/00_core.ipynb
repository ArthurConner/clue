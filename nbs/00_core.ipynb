{
 "cells": [
  {
   "cell_type": "markdown",
   "metadata": {},
   "source": [
    "# core\n",
    "\n",
    "> Fill in a module description here"
   ]
  },
  {
   "cell_type": "code",
   "execution_count": null,
   "metadata": {},
   "outputs": [],
   "source": [
    "#| default_exp core"
   ]
  },
  {
   "cell_type": "code",
   "execution_count": null,
   "metadata": {},
   "outputs": [],
   "source": [
    "#| hide\n",
    "from nbdev.showdoc import *"
   ]
  },
  {
   "cell_type": "code",
   "execution_count": null,
   "metadata": {},
   "outputs": [],
   "source": [
    "#| export\n",
    "\n",
    "from termcolor import colored\n",
    "from random import shuffle, randint\n",
    "import emoji"
   ]
  },
  {
   "cell_type": "code",
   "execution_count": null,
   "metadata": {},
   "outputs": [],
   "source": [
    "#| export\n",
    "def cardFull(info):\n",
    "    name,color, icon = info[:3]\n",
    "    if len(icon) > 0:\n",
    "        ret = icon + \" \" + colored(name,color)\n",
    "    else:\n",
    "        ret = colored(name,color)\n",
    "    \n",
    "    return ret\n",
    "\n",
    "def cardShort(info):\n",
    "    if len(info) < 3:\n",
    "        return cardFull(info)\n",
    "    color,icon, name = info[1:]\n",
    "    if len(icon) > 0:\n",
    "        ret = icon + \" \" + colored(name,color)\n",
    "    else:\n",
    "        ret = colored(name,color)\n",
    "   \n",
    "    return  ret\n"
   ]
  },
  {
   "cell_type": "code",
   "execution_count": null,
   "metadata": {},
   "outputs": [
    {
     "data": {
      "text/plain": [
       "('👠 \\x1b[31mhi\\x1b[0m', '👠 \\x1b[31mScar.\\x1b[0m')"
      ]
     },
     "execution_count": null,
     "metadata": {},
     "output_type": "execute_result"
    }
   ],
   "source": [
    "#| hide\n",
    "sampleC = [\"hi\",\"red\",u\"\\U0001f460\",\"Scar.\"]\n",
    "\n",
    "cardFull(sampleC),cardShort(sampleC)"
   ]
  },
  {
   "cell_type": "code",
   "execution_count": null,
   "metadata": {},
   "outputs": [],
   "source": []
  },
  {
   "cell_type": "code",
   "execution_count": null,
   "metadata": {},
   "outputs": [
    {
     "name": "stdout",
     "output_type": "stream",
     "text": [
      "👠 🧐 ♡ 🐉 🍆 🦚\n"
     ]
    }
   ],
   "source": [
    "print(u\"\\U0001f460\",u\"\\U0001F9D0\",u\"\\u2661\",u\"\\U0001F409\",u\"\\U0001F346\",u\"\\U0001F99A\")"
   ]
  },
  {
   "cell_type": "code",
   "execution_count": null,
   "metadata": {},
   "outputs": [],
   "source": [
    "#| export\n",
    "people = []\n",
    "people.append([\"Miss Scarlet\",\"red\",u\"\\U0001f460\",\"Scar.\"])\n",
    "people.append([\"Colonel Mustard\",\"yellow\",u\"\\U0001F9D0\",\"Must.\"])\n",
    "people.append([\" Mrs. White\",\"white\",u\"\\u2661\",\" White\"])\n",
    "people.append([\"Mr. Green\",\"green\",u\"\\U0001F409\",\"Green\"])\n",
    "people.append([\"Professor Plum\",\"magenta\",u\"\\U0001F346\",\"Plum \"])\n",
    "people.append([\"Mrs. Peacock\",\"blue\",u\"\\U0001F99A\",\"Peac.\"])\n"
   ]
  },
  {
   "cell_type": "code",
   "execution_count": null,
   "metadata": {},
   "outputs": [],
   "source": [
    "#| export\n",
    "weapons = []\n",
    "weapons.append([\"Knife\",\"cyan\",u\"\\U0001F52A\",\"Knife\"])\n",
    "weapons.append([\"Revolver\",\"cyan\",u\"\\U0001F52B\",\"Gun\"])\n",
    "weapons.append([\"Rope\",\"cyan\",emoji.emojize(\":knot:\"),\"Rope\"])\n",
    "weapons.append([\"Wrench\",\"cyan\",emoji.emojize(\":wrench:\"),\"Wrench\"])\n",
    "weapons.append([\"Candlestick\",\"cyan\",emoji.emojize(\":candle:\"),\"Candle\"])\n",
    "weapons.append([\"Lead Pipe\",\"cyan\",emoji.emojize(\":plunger:\"),\"Pipe\"])"
   ]
  },
  {
   "cell_type": "code",
   "execution_count": null,
   "metadata": {},
   "outputs": [],
   "source": [
    "#| export\n",
    "rooms = []\n",
    "rooms.append([\"Ball Room\",\"grey\",\"\",\"Ball\"])\n",
    "rooms.append([\"Billiard Room\",\"grey\",\"\",\"Bill\"])\n",
    "rooms.append([\"Conservatory\",\"grey\",\"\",\"Consv\"])\n",
    "rooms.append([\"Dining Room\",\"grey\",\"\",\"Dining\"])\n",
    "rooms.append([\"Hall\",\"grey\",\"\",\"Hall\"])\n",
    "rooms.append([\"Kitchen\",\"grey\",\"\",\"Kitch\"])\n",
    "rooms.append([\"Lounge\",\"grey\",\"\",\"Lounge\"])\n",
    "rooms.append([\"Kitchen\",\"grey\",\"\",\"Lib\"])\n",
    "rooms.append([\"Study\",\"grey\",\"\",\"Study\"])"
   ]
  },
  {
   "cell_type": "code",
   "execution_count": null,
   "metadata": {},
   "outputs": [],
   "source": [
    "#| export\n",
    "def cIndentity(x):\n",
    "  return x[0]\n",
    "    \n",
    "def printHand(hand,view=cIndentity):\n",
    "    container = []\n",
    "    line = [view(card) for card in hand]\n",
    "    print(', '.join(line))\n"
   ]
  },
  {
   "cell_type": "code",
   "execution_count": null,
   "metadata": {},
   "outputs": [
    {
     "ename": "TypeError",
     "evalue": "Random.randint() missing 1 required positional argument: 'b'",
     "output_type": "error",
     "traceback": [
      "\u001b[0;31m---------------------------------------------------------------------------\u001b[0m",
      "\u001b[0;31mTypeError\u001b[0m                                 Traceback (most recent call last)",
      "Cell \u001b[0;32mIn[33], line 1\u001b[0m\n\u001b[0;32m----> 1\u001b[0m randint(\u001b[38;5;241m10\u001b[39m)\n",
      "\u001b[0;31mTypeError\u001b[0m: Random.randint() missing 1 required positional argument: 'b'"
     ]
    }
   ],
   "source": []
  },
  {
   "cell_type": "code",
   "execution_count": null,
   "metadata": {},
   "outputs": [
    {
     "name": "stdout",
     "output_type": "stream",
     "text": [
      "Miss Scarlet, Colonel Mustard,  Mrs. White, Mr. Green, Professor Plum, Mrs. Peacock\n"
     ]
    }
   ],
   "source": [
    "#| hide\n",
    "printHand(people)"
   ]
  },
  {
   "cell_type": "code",
   "execution_count": null,
   "metadata": {},
   "outputs": [],
   "source": []
  },
  {
   "cell_type": "code",
   "execution_count": null,
   "metadata": {},
   "outputs": [
    {
     "name": "stdout",
     "output_type": "stream",
     "text": [
      "👠 \u001b[31mMiss Scarlet\u001b[0m 🧐 \u001b[33mColonel Mustard\u001b[0m ♡ \u001b[37m Mrs. White\u001b[0m 🐉 \u001b[32mMr. Green\u001b[0m 🍆 \u001b[35mProfessor Plum\u001b[0m 🦚 \u001b[34mMrs. Peacock\u001b[0m\n",
      "👠 \u001b[31mScar.\u001b[0m 🧐 \u001b[33mMust.\u001b[0m ♡ \u001b[37m White\u001b[0m 🐉 \u001b[32mGreen\u001b[0m 🍆 \u001b[35mPlum \u001b[0m 🦚 \u001b[34mPeac.\u001b[0m\n"
     ]
    }
   ],
   "source": [
    "#| hide\n",
    "printHand(people,cardFull)\n",
    "printHand(people,cardShort)"
   ]
  },
  {
   "cell_type": "code",
   "execution_count": null,
   "metadata": {},
   "outputs": [],
   "source": [
    "#| export\n",
    "def chooseCard(hand,view=cIndentity,fmt=\"fancy_grid\"):\n",
    "    container = []\n",
    "    i = 1\n",
    "    ml = max([len(x[0]) for x in hand])\n",
    "    \n",
    "    for card in hand:\n",
    "        face = view(card)\n",
    "        #face.append(i)\n",
    "        color = card[1]\n",
    "        container.append(colored(str(i) +\") \",color) + face)\n",
    "        i += 1\n",
    "    choice = -1\n",
    "    \n",
    "    while choice < 1:\n",
    "        for card in container:\n",
    "            print(card)\n",
    "        choice = int(input(\"Choose from 1 to \" +  str(len(container))+\": \"))\n",
    "       \n",
    "        if (choice > 0) and (choice <= len(container)):\n",
    "            return choice\n",
    "        print(str(choice) + \" is not in range\")\n",
    "        choice = -1\n",
    "            \n",
    "\n"
   ]
  },
  {
   "cell_type": "code",
   "execution_count": null,
   "metadata": {},
   "outputs": [
    {
     "name": "stdout",
     "output_type": "stream",
     "text": [
      "\u001b[31m1)\u001b[0m👠 \u001b[31mMiss Scarlet\u001b[0m\n",
      "\u001b[33m2)\u001b[0m🧐 \u001b[33mColonel Mustard\u001b[0m\n",
      "\u001b[37m3)\u001b[0m♡ \u001b[37m Mrs. White\u001b[0m\n",
      "\u001b[32m4)\u001b[0m🐉 \u001b[32mMr. Green\u001b[0m\n",
      "\u001b[35m5)\u001b[0m🍆 \u001b[35mProfessor Plum\u001b[0m\n",
      "\u001b[34m6)\u001b[0m🦚 \u001b[34mMrs. Peacock\u001b[0m\n"
     ]
    },
    {
     "name": "stdin",
     "output_type": "stream",
     "text": [
      "Choose from 1 to 6:  5\n"
     ]
    },
    {
     "data": {
      "text/plain": [
       "5"
      ]
     },
     "execution_count": null,
     "metadata": {},
     "output_type": "execute_result"
    }
   ],
   "source": [
    "#| hide\n",
    "chooseCard(people,cardFull)"
   ]
  },
  {
   "cell_type": "code",
   "execution_count": null,
   "metadata": {},
   "outputs": [
    {
     "name": "stdout",
     "output_type": "stream",
     "text": [
      "\u001b[31m1)\u001b[0m👠 \u001b[31mScar.\u001b[0m\n",
      "\u001b[33m2)\u001b[0m🧐 \u001b[33mMust.\u001b[0m\n",
      "\u001b[37m3)\u001b[0m♡ \u001b[37m White\u001b[0m\n",
      "\u001b[32m4)\u001b[0m🐉 \u001b[32mGreen\u001b[0m\n",
      "\u001b[35m5)\u001b[0m🍆 \u001b[35mPlum \u001b[0m\n",
      "\u001b[34m6)\u001b[0m🦚 \u001b[34mPeac.\u001b[0m\n"
     ]
    },
    {
     "name": "stdin",
     "output_type": "stream",
     "text": [
      "Choose from 1 to 6:  8\n"
     ]
    },
    {
     "name": "stdout",
     "output_type": "stream",
     "text": [
      "8 is not in range\n",
      "\u001b[31m1)\u001b[0m👠 \u001b[31mScar.\u001b[0m\n",
      "\u001b[33m2)\u001b[0m🧐 \u001b[33mMust.\u001b[0m\n",
      "\u001b[37m3)\u001b[0m♡ \u001b[37m White\u001b[0m\n",
      "\u001b[32m4)\u001b[0m🐉 \u001b[32mGreen\u001b[0m\n",
      "\u001b[35m5)\u001b[0m🍆 \u001b[35mPlum \u001b[0m\n",
      "\u001b[34m6)\u001b[0m🦚 \u001b[34mPeac.\u001b[0m\n"
     ]
    },
    {
     "name": "stdin",
     "output_type": "stream",
     "text": [
      "Choose from 1 to 6:  3\n"
     ]
    },
    {
     "data": {
      "text/plain": [
       "3"
      ]
     },
     "execution_count": null,
     "metadata": {},
     "output_type": "execute_result"
    }
   ],
   "source": [
    "#| hide\n",
    "chooseCard(people,cardShort)"
   ]
  },
  {
   "cell_type": "code",
   "execution_count": null,
   "metadata": {},
   "outputs": [
    {
     "name": "stdout",
     "output_type": "stream",
     "text": [
      "\u001b[30mhi\u001b[0m\n"
     ]
    }
   ],
   "source": [
    "print(colored(\"hi\",\"grey\"))"
   ]
  },
  {
   "cell_type": "code",
   "execution_count": null,
   "metadata": {},
   "outputs": [
    {
     "name": "stdout",
     "output_type": "stream",
     "text": [
      "🔪 🔫 🔧 🕯️ 🦚\n"
     ]
    }
   ],
   "source": [
    "#| hide\n",
    "print(u\"\\U0001F52A\",u\"\\U0001F52B\",emoji.emojize(\":wrench:\"),emoji.emojize(\":candle:\"),u\"\\U0001F99A\")"
   ]
  },
  {
   "cell_type": "code",
   "execution_count": null,
   "metadata": {},
   "outputs": [],
   "source": []
  },
  {
   "cell_type": "code",
   "execution_count": null,
   "metadata": {},
   "outputs": [
    {
     "name": "stdout",
     "output_type": "stream",
     "text": [
      "\u001b[34m1)\u001b[0m🔪 \u001b[34mKnife\u001b[0m\n",
      "\u001b[34m2)\u001b[0m🔫 \u001b[34mRevolver\u001b[0m\n",
      "\u001b[34m3)\u001b[0m🪢 \u001b[34mRope\u001b[0m\n",
      "\u001b[34m4)\u001b[0m🔧 \u001b[34mWrench\u001b[0m\n",
      "\u001b[34m5)\u001b[0m🕯️ \u001b[34mCandlestick\u001b[0m\n",
      "\u001b[34m6)\u001b[0m🪠 \u001b[34mLead Pipe\u001b[0m\n"
     ]
    },
    {
     "name": "stdin",
     "output_type": "stream",
     "text": [
      "Choose from 1 to 6:  3\n"
     ]
    },
    {
     "data": {
      "text/plain": [
       "3"
      ]
     },
     "execution_count": null,
     "metadata": {},
     "output_type": "execute_result"
    }
   ],
   "source": [
    "#| hide\n",
    "chooseCard(weapons,cardFull)"
   ]
  },
  {
   "cell_type": "code",
   "execution_count": null,
   "metadata": {},
   "outputs": [],
   "source": [
    "#| export\n",
    "def cardLookup(kind,index):\n",
    "    if kind == 1:\n",
    "        return people[index]\n",
    "    if kind == 2:\n",
    "        return weapons[index]\n",
    "    return rooms[index]\n",
    "    "
   ]
  },
  {
   "cell_type": "code",
   "execution_count": null,
   "metadata": {},
   "outputs": [
    {
     "name": "stdout",
     "output_type": "stream",
     "text": [
      "Solution\n",
      "🧐 \u001b[33mColonel Mustard\u001b[0m, 🔫 \u001b[36mRevolver\u001b[0m, \u001b[30mDining Room\u001b[0m\n",
      "\n",
      "**************Player 1 👠 \u001b[31mMiss Scarlet\u001b[0m**************\n",
      "🔧 \u001b[36mWrench\u001b[0m, 👠 \u001b[31mMiss Scarlet\u001b[0m, 🐉 \u001b[32mMr. Green\u001b[0m, \u001b[30mBall Room\u001b[0m, 🪢 \u001b[36mRope\u001b[0m\n",
      "\n",
      "************Player 2 🧐 \u001b[33mColonel Mustard\u001b[0m*************\n",
      "🕯️ \u001b[36mCandlestick\u001b[0m, \u001b[30mStudy\u001b[0m, 🔪 \u001b[36mKnife\u001b[0m, \u001b[30mKitchen\u001b[0m, 🪠 \u001b[36mLead Pipe\u001b[0m\n",
      "\n",
      "**************Player 3 ♡ \u001b[37m Mrs. White\u001b[0m***************\n",
      "\u001b[30mBilliard Room\u001b[0m, \u001b[30mLounge\u001b[0m, \u001b[30mHall\u001b[0m, ♡ \u001b[37m Mrs. White\u001b[0m\n",
      "\n",
      "***************Player 4 🐉 \u001b[32mMr. Green\u001b[0m****************\n",
      "🦚 \u001b[34mMrs. Peacock\u001b[0m, \u001b[30mKitchen\u001b[0m, \u001b[30mConservatory\u001b[0m, 🍆 \u001b[35mProfessor Plum\u001b[0m\n"
     ]
    }
   ],
   "source": [
    "#| hide\n",
    "\n",
    "def create(playerCount):\n",
    "    ahand = [[1,randint(0,len(people)-1)],[2,randint(0,len(weapons)-1)],[3,randint(0,len(rooms)-1)]]\n",
    "    \n",
    "   \n",
    "    \n",
    "    person = ahand[0][1]\n",
    "    deck = [[1,x] for x in range(len(people)) if x != person]\n",
    "    \n",
    "    weapon = ahand[1][1]\n",
    "    wdeck = [[2,x] for x in range(len(weapons)) if x != weapon]\n",
    "    for x in wdeck:\n",
    "        deck.append(x)\n",
    "    \n",
    "    room = ahand[2][1]\n",
    "    wdeck = [[3,x] for x in range(len(rooms)) if x != room]\n",
    "    for x in wdeck:\n",
    "        deck.append(x)\n",
    "    \n",
    "    shuffle(deck)\n",
    "    decks = [ahand]\n",
    "    \n",
    "    cIndex = 1\n",
    "    for i in range(0,playerCount):\n",
    "        decks.append([])\n",
    "\n",
    "    \n",
    "        \n",
    "    for card in deck:\n",
    "        decks[cIndex].append(card)\n",
    "        cIndex += 1\n",
    "        if cIndex > playerCount:\n",
    "            cIndex = 1\n",
    "            \n",
    "    return decks\n",
    "\n",
    "agame = create(4)\n",
    "\n",
    "def printGame(game):\n",
    "    print(\"Solution\")\n",
    "    ahand = game[0]\n",
    "    maps = [cardLookup(x[0],x[1]) for x in ahand]\n",
    "    printHand(maps,cardFull)\n",
    "    for i in range(1,len(game)):\n",
    "        person = people[i-1]\n",
    "        d = cardFull(person)\n",
    "        d = \"Player \" + str(i) + \" \" + d\n",
    "        print(\"\\n\" + d.center(60,\"\"))\n",
    "        ahand = game[i]\n",
    "        maps = [cardLookup(x[0],x[1]) for x in ahand]\n",
    "        printHand(maps,cardFull)\n",
    "\n",
    "printGame(agame)"
   ]
  },
  {
   "cell_type": "code",
   "execution_count": null,
   "metadata": {},
   "outputs": [
    {
     "name": "stdout",
     "output_type": "stream",
     "text": [
      "\u001b[30m1)\u001b[0m\u001b[30mBall Room\u001b[0m\n",
      "\u001b[30m2)\u001b[0m\u001b[30mBilliard Room\u001b[0m\n",
      "\u001b[30m3)\u001b[0m\u001b[30mConservatory\u001b[0m\n",
      "\u001b[30m4)\u001b[0m\u001b[30mDining Room\u001b[0m\n",
      "\u001b[30m5)\u001b[0m\u001b[30mHall\u001b[0m\n",
      "\u001b[30m6)\u001b[0m\u001b[30mKitchen\u001b[0m\n",
      "\u001b[30m7)\u001b[0m\u001b[30mLounge\u001b[0m\n",
      "\u001b[30m8)\u001b[0m\u001b[30mKitchen\u001b[0m\n",
      "\u001b[30m9)\u001b[0m\u001b[30mStudy\u001b[0m\n"
     ]
    },
    {
     "name": "stdin",
     "output_type": "stream",
     "text": [
      "Choose from 1 to 9:  3\n"
     ]
    },
    {
     "data": {
      "text/plain": [
       "3"
      ]
     },
     "execution_count": null,
     "metadata": {},
     "output_type": "execute_result"
    }
   ],
   "source": [
    "#| hide\n",
    "chooseCard(rooms,cardFull)"
   ]
  },
  {
   "cell_type": "code",
   "execution_count": null,
   "metadata": {},
   "outputs": [],
   "source": [
    "#| hide\n",
    "import nbdev; nbdev.nbdev_export()"
   ]
  }
 ],
 "metadata": {
  "kernelspec": {
   "display_name": "python3",
   "language": "python",
   "name": "python3"
  }
 },
 "nbformat": 4,
 "nbformat_minor": 4
}
