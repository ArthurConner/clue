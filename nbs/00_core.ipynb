{
 "cells": [
  {
   "cell_type": "markdown",
   "metadata": {},
   "source": [
    "# core\n",
    "\n",
    "> Fill in a module description here"
   ]
  },
  {
   "cell_type": "code",
   "execution_count": null,
   "metadata": {},
   "outputs": [],
   "source": [
    "#| default_exp core"
   ]
  },
  {
   "cell_type": "code",
   "execution_count": null,
   "metadata": {},
   "outputs": [],
   "source": [
    "#| hide\n",
    "from nbdev.showdoc import *"
   ]
  },
  {
   "cell_type": "code",
   "execution_count": 1,
   "metadata": {},
   "outputs": [],
   "source": [
    "#| export\n",
    "\n",
    "from termcolor import colored\n",
    "from random import shuffle, randint\n",
    "import emoji"
   ]
  },
  {
   "cell_type": "code",
   "execution_count": 2,
   "metadata": {},
   "outputs": [],
   "source": [
    "#| export\n",
    "def cardFull(info):\n",
    "    name,color, icon = info[:3]\n",
    "    if len(icon) > 0:\n",
    "        ret = icon + \" \" + colored(name,color)\n",
    "    else:\n",
    "        ret = colored(name,color)\n",
    "    \n",
    "    return ret\n",
    "\n",
    "def cardShort(info):\n",
    "    if len(info) < 3:\n",
    "        return cardFull(info)\n",
    "    color,icon, name = info[1:]\n",
    "    if len(icon) > 0:\n",
    "        ret = icon + \" \" + colored(name,color)\n",
    "    else:\n",
    "        ret = colored(name,color)\n",
    "   \n",
    "    return  ret\n"
   ]
  },
  {
   "cell_type": "code",
   "execution_count": 3,
   "metadata": {},
   "outputs": [
    {
     "data": {
      "text/plain": [
       "('👠 \\x1b[31mhi\\x1b[0m', '👠 \\x1b[31mScar.\\x1b[0m')"
      ]
     },
     "execution_count": 3,
     "metadata": {},
     "output_type": "execute_result"
    }
   ],
   "source": [
    "#| hide\n",
    "sampleC = [\"hi\",\"red\",u\"\\U0001f460\",\"Scar.\"]\n",
    "\n",
    "cardFull(sampleC),cardShort(sampleC)"
   ]
  },
  {
   "cell_type": "code",
   "execution_count": null,
   "metadata": {},
   "outputs": [],
   "source": []
  },
  {
   "cell_type": "code",
   "execution_count": 4,
   "metadata": {},
   "outputs": [
    {
     "name": "stdout",
     "output_type": "stream",
     "text": [
      "👠 🧐 ♡ 🐉 🍆 🦚\n"
     ]
    }
   ],
   "source": [
    "print(u\"\\U0001f460\",u\"\\U0001F9D0\",u\"\\u2661\",u\"\\U0001F409\",u\"\\U0001F346\",u\"\\U0001F99A\")"
   ]
  },
  {
   "cell_type": "code",
   "execution_count": 4,
   "metadata": {},
   "outputs": [],
   "source": [
    "#| export\n",
    "people = []\n",
    "people.append([\"Miss Scarlet\",\"red\",u\"\\U0001f460\",\"Scar.\"])\n",
    "people.append([\"Colonel Mustard\",\"yellow\",u\"\\U0001F9D0\",\"Must.\"])\n",
    "people.append([\" Mrs. White\",\"white\",u\"\\u2661\",\" White\"])\n",
    "people.append([\"Mr. Green\",\"green\",u\"\\U0001F409\",\"Green\"])\n",
    "people.append([\"Professor Plum\",\"magenta\",u\"\\U0001F346\",\"Plum \"])\n",
    "people.append([\"Mrs. Peacock\",\"blue\",u\"\\U0001F99A\",\"Peac.\"])\n"
   ]
  },
  {
   "cell_type": "code",
   "execution_count": 5,
   "metadata": {},
   "outputs": [],
   "source": [
    "#| export\n",
    "weapons = []\n",
    "weapons.append([\"Knife\",\"cyan\",u\"\\U0001F52A\",\"Knife\"])\n",
    "weapons.append([\"Revolver\",\"cyan\",u\"\\U0001F52B\",\"Gun\"])\n",
    "weapons.append([\"Rope\",\"cyan\",emoji.emojize(\":knot:\"),\"Rope\"])\n",
    "weapons.append([\"Wrench\",\"cyan\",emoji.emojize(\":wrench:\"),\"Wrench\"])\n",
    "weapons.append([\"Candlestick\",\"cyan\",emoji.emojize(\":candle:\"),\"Candle\"])\n",
    "weapons.append([\"Lead Pipe\",\"cyan\",emoji.emojize(\":plunger:\"),\"Pipe\"])"
   ]
  },
  {
   "cell_type": "code",
   "execution_count": 6,
   "metadata": {},
   "outputs": [],
   "source": [
    "#| export\n",
    "rooms = []\n",
    "rooms.append([\"Ball Room\",\"grey\",\"\",\"Ball\"])\n",
    "rooms.append([\"Billiard Room\",\"grey\",\"\",\"Bill\"])\n",
    "rooms.append([\"Conservatory\",\"grey\",\"\",\"Consv\"])\n",
    "rooms.append([\"Dining Room\",\"grey\",\"\",\"Dining\"])\n",
    "rooms.append([\"Hall\",\"grey\",\"\",\"Hall\"])\n",
    "rooms.append([\"Kitchen\",\"grey\",\"\",\"Kitch\"])\n",
    "rooms.append([\"Lounge\",\"grey\",\"\",\"Lounge\"])\n",
    "rooms.append([\"Kitchen\",\"grey\",\"\",\"Lib\"])\n",
    "rooms.append([\"Study\",\"grey\",\"\",\"Study\"])"
   ]
  },
  {
   "cell_type": "code",
   "execution_count": 7,
   "metadata": {},
   "outputs": [],
   "source": [
    "#| export\n",
    "def cIndentity(x):\n",
    "  return x[0]\n",
    "    \n",
    "def printHand(hand,view=cIndentity):\n",
    "    container = []\n",
    "    line = [view(card) for card in hand]\n",
    "    print(', '.join(line))\n"
   ]
  },
  {
   "cell_type": "code",
   "execution_count": null,
   "metadata": {},
   "outputs": [],
   "source": []
  },
  {
   "cell_type": "code",
   "execution_count": 8,
   "metadata": {},
   "outputs": [
    {
     "name": "stdout",
     "output_type": "stream",
     "text": [
      "Miss Scarlet, Colonel Mustard,  Mrs. White, Mr. Green, Professor Plum, Mrs. Peacock\n"
     ]
    }
   ],
   "source": [
    "#| hide\n",
    "printHand(people)"
   ]
  },
  {
   "cell_type": "code",
   "execution_count": null,
   "metadata": {},
   "outputs": [],
   "source": []
  },
  {
   "cell_type": "code",
   "execution_count": 9,
   "metadata": {},
   "outputs": [
    {
     "name": "stdout",
     "output_type": "stream",
     "text": [
      "👠 \u001b[31mMiss Scarlet\u001b[0m, 🧐 \u001b[33mColonel Mustard\u001b[0m, ♡ \u001b[37m Mrs. White\u001b[0m, 🐉 \u001b[32mMr. Green\u001b[0m, 🍆 \u001b[35mProfessor Plum\u001b[0m, 🦚 \u001b[34mMrs. Peacock\u001b[0m\n",
      "👠 \u001b[31mScar.\u001b[0m, 🧐 \u001b[33mMust.\u001b[0m, ♡ \u001b[37m White\u001b[0m, 🐉 \u001b[32mGreen\u001b[0m, 🍆 \u001b[35mPlum \u001b[0m, 🦚 \u001b[34mPeac.\u001b[0m\n"
     ]
    }
   ],
   "source": [
    "#| hide\n",
    "printHand(people,cardFull)\n",
    "printHand(people,cardShort)"
   ]
  },
  {
   "cell_type": "code",
   "execution_count": 10,
   "metadata": {},
   "outputs": [],
   "source": [
    "#| export\n",
    "def chooseCard(hand,view=cIndentity,fmt=\"fancy_grid\"):\n",
    "    container = []\n",
    "    i = 1\n",
    "    ml = max([len(x[0]) for x in hand])\n",
    "    \n",
    "    for card in hand:\n",
    "        face = view(card)\n",
    "        #face.append(i)\n",
    "        color = card[1]\n",
    "        container.append(colored(str(i) +\") \",color) + face)\n",
    "        i += 1\n",
    "    choice = -1\n",
    "    \n",
    "    while choice < 1:\n",
    "        for card in container:\n",
    "            print(card)\n",
    "        choice = int(input(\"Choose from 1 to \" +  str(len(container))+\": \"))\n",
    "       \n",
    "        if (choice > 0) and (choice <= len(container)):\n",
    "            return choice\n",
    "        print(str(choice) + \" is not in range\")\n",
    "        choice = -1\n",
    "            \n",
    "\n"
   ]
  },
  {
   "cell_type": "code",
   "execution_count": 11,
   "metadata": {},
   "outputs": [
    {
     "name": "stdout",
     "output_type": "stream",
     "text": [
      "\u001b[31m1) \u001b[0m👠 \u001b[31mMiss Scarlet\u001b[0m\n",
      "\u001b[33m2) \u001b[0m🧐 \u001b[33mColonel Mustard\u001b[0m\n",
      "\u001b[37m3) \u001b[0m♡ \u001b[37m Mrs. White\u001b[0m\n",
      "\u001b[32m4) \u001b[0m🐉 \u001b[32mMr. Green\u001b[0m\n",
      "\u001b[35m5) \u001b[0m🍆 \u001b[35mProfessor Plum\u001b[0m\n",
      "\u001b[34m6) \u001b[0m🦚 \u001b[34mMrs. Peacock\u001b[0m\n"
     ]
    },
    {
     "name": "stdin",
     "output_type": "stream",
     "text": [
      "Choose from 1 to 6:  3\n"
     ]
    },
    {
     "data": {
      "text/plain": [
       "3"
      ]
     },
     "execution_count": 11,
     "metadata": {},
     "output_type": "execute_result"
    }
   ],
   "source": [
    "#| hide\n",
    "chooseCard(people,cardFull)"
   ]
  },
  {
   "cell_type": "code",
   "execution_count": 13,
   "metadata": {},
   "outputs": [
    {
     "name": "stdout",
     "output_type": "stream",
     "text": [
      "\u001b[31m1) \u001b[0m👠 \u001b[31mScar.\u001b[0m\n",
      "\u001b[33m2) \u001b[0m🧐 \u001b[33mMust.\u001b[0m\n",
      "\u001b[37m3) \u001b[0m♡ \u001b[37m White\u001b[0m\n",
      "\u001b[32m4) \u001b[0m🐉 \u001b[32mGreen\u001b[0m\n",
      "\u001b[35m5) \u001b[0m🍆 \u001b[35mPlum \u001b[0m\n",
      "\u001b[34m6) \u001b[0m🦚 \u001b[34mPeac.\u001b[0m\n"
     ]
    },
    {
     "name": "stdin",
     "output_type": "stream",
     "text": [
      "Choose from 1 to 6:  5\n"
     ]
    },
    {
     "data": {
      "text/plain": [
       "5"
      ]
     },
     "execution_count": 13,
     "metadata": {},
     "output_type": "execute_result"
    }
   ],
   "source": [
    "#| hide\n",
    "chooseCard(people,cardShort)"
   ]
  },
  {
   "cell_type": "code",
   "execution_count": null,
   "metadata": {},
   "outputs": [],
   "source": []
  },
  {
   "cell_type": "code",
   "execution_count": 13,
   "metadata": {},
   "outputs": [
    {
     "name": "stdout",
     "output_type": "stream",
     "text": [
      "🔪 🔫 🔧 🕯️ 🦚\n"
     ]
    }
   ],
   "source": [
    "#| hide\n",
    "print(u\"\\U0001F52A\",u\"\\U0001F52B\",emoji.emojize(\":wrench:\"),emoji.emojize(\":candle:\"),u\"\\U0001F99A\")"
   ]
  },
  {
   "cell_type": "code",
   "execution_count": null,
   "metadata": {},
   "outputs": [],
   "source": []
  },
  {
   "cell_type": "code",
   "execution_count": null,
   "metadata": {},
   "outputs": [
    {
     "name": "stdout",
     "output_type": "stream",
     "text": [
      "\u001b[34m1)\u001b[0m🔪 \u001b[34mKnife\u001b[0m\n",
      "\u001b[34m2)\u001b[0m🔫 \u001b[34mRevolver\u001b[0m\n",
      "\u001b[34m3)\u001b[0m🪢 \u001b[34mRope\u001b[0m\n",
      "\u001b[34m4)\u001b[0m🔧 \u001b[34mWrench\u001b[0m\n",
      "\u001b[34m5)\u001b[0m🕯️ \u001b[34mCandlestick\u001b[0m\n",
      "\u001b[34m6)\u001b[0m🪠 \u001b[34mLead Pipe\u001b[0m\n"
     ]
    },
    {
     "name": "stdin",
     "output_type": "stream",
     "text": [
      "Choose from 1 to 6:  3\n"
     ]
    },
    {
     "data": {
      "text/plain": [
       "3"
      ]
     },
     "execution_count": null,
     "metadata": {},
     "output_type": "execute_result"
    }
   ],
   "source": [
    "#| hide\n",
    "chooseCard(weapons,cardFull)"
   ]
  },
  {
   "cell_type": "code",
   "execution_count": 12,
   "metadata": {},
   "outputs": [],
   "source": [
    "#| export\n",
    "def cardLookup(kind,index):\n",
    "    if kind == 1:\n",
    "        return people[index]\n",
    "    if kind == 2:\n",
    "        return weapons[index]\n",
    "    return rooms[index]\n",
    "    "
   ]
  },
  {
   "cell_type": "code",
   "execution_count": 13,
   "metadata": {},
   "outputs": [],
   "source": [
    "#| hide\n",
    "\n",
    "def createClue(playerCount):\n",
    "    ahand = [[1,randint(0,len(people)-1)],[2,randint(0,len(weapons)-1)],[3,randint(0,len(rooms)-1)]]\n",
    "    \n",
    "    ploc = []\n",
    "    \n",
    "    person = ahand[0][1]\n",
    "    deck = [[1,x] for x in range(len(people)) if x != person]\n",
    "    \n",
    "    weapon = ahand[1][1]\n",
    "    wdeck = [[2,x] for x in range(len(weapons)) if x != weapon]\n",
    "    for x in wdeck:\n",
    "        deck.append(x)\n",
    "    \n",
    "    room = ahand[2][1]\n",
    "    wdeck = [[3,x] for x in range(len(rooms)) if x != room]\n",
    "    for x in wdeck:\n",
    "        deck.append(x)\n",
    "    \n",
    "    shuffle(deck)\n",
    "    decks = [ahand]\n",
    "    \n",
    "    cIndex = 1\n",
    "    for i in range(0,playerCount):\n",
    "        decks.append([])\n",
    "        ploc.append(randint(0,len(rooms)-1))\n",
    "\n",
    "      \n",
    "    for card in deck:\n",
    "        decks[cIndex].append(card)\n",
    "        cIndex += 1\n",
    "        if cIndex > playerCount:\n",
    "            cIndex = 1\n",
    "    decks.append(ploc)        \n",
    "    return decks\n",
    "\n",
    "\n",
    "\n",
    "def printGame(game):\n",
    "    print(\"Solution\")\n",
    "    ahand = game[0]\n",
    "    ploc = game[-1]\n",
    "    maps = [cardLookup(x[0],x[1]) for x in ahand]\n",
    "    printHand(maps,cardFull)\n",
    "    for i in range(1,len(game)-1):\n",
    "        person = people[i-1]\n",
    "        d = cardFull(person)\n",
    "        loc = cardFull(cardLookup(3,ploc[i-1]))\n",
    "        d = \"[\" + str(i) + \"] \" + d  + \" is in \" + loc \n",
    "        print(\"\\n\" + d.center(70,\" \"))\n",
    "     \n",
    "        ahand = game[i]\n",
    "        maps = [cardLookup(x[0],x[1]) for x in ahand]\n",
    "        printHand(maps,cardFull)\n",
    "\n",
    "\n",
    "def printLocs(game):\n",
    "\n",
    "    ploc = game[-1]\n",
    "    for i in range(1,len(game)-1):\n",
    "        person = people[i-1]\n",
    "        d = cardFull(person)\n",
    "        loc = cardFull(cardLookup(3,ploc[i-1]))\n",
    "        d = \"[\" + str(i) + \"] \" + d  + \" is in \" + loc \n",
    "        print(d)\n",
    "     \n",
    "       "
   ]
  },
  {
   "cell_type": "code",
   "execution_count": 11,
   "metadata": {},
   "outputs": [],
   "source": [
    "#| export\n"
   ]
  },
  {
   "cell_type": "code",
   "execution_count": 28,
   "metadata": {},
   "outputs": [],
   "source": [
    "#| export\n",
    "def getPlay(playerCount,game):\n",
    "    i = playerCount\n",
    "    ploc = game[-1]\n",
    "    r2 = ploc[i-1]\n",
    "    person = people[i-1]\n",
    "    d = cardFull(person)\n",
    "    loc = cardFull(cardLookup(3,r2))\n",
    "    d = \"[\" + str(i) + \"] \" + d  + \" is in \" + loc \n",
    "    print(\"\\n\" + d.center(70,\" \"))\n",
    "\n",
    "    ahand = game[i]\n",
    "    maps = [cardLookup(x[0],x[1]) for x in ahand]\n",
    "    printHand(maps,cardFull)\n",
    "    print(\"\\nSuspect\")\n",
    "    p = chooseCard(people,cardFull)\n",
    "    print(\"\\n\\nWeapon\")\n",
    "    w = chooseCard(weapons,cardFull)\n",
    "    \n",
    "    r1 = r2-1\n",
    "    if r1<0:\n",
    "        r1=len(rooms)-1\n",
    "    r3 = r2+1\n",
    "    if r3>=len(rooms):\n",
    "        r3=0\n",
    "    print(\"\\n\\nMove To\")\n",
    "    locs = [cardLookup(3,x) for x in [r1,r2,r3]]\n",
    "    l = chooseCard(locs,cardFull) + r2 - 2\n",
    "    game[-1][i-1] = l\n",
    "    if p<len(game)-2:\n",
    "        game[-1][p-1] = l\n",
    "    printLocs(game)\n",
    "    return (p,w,l),game\n",
    "    \n"
   ]
  },
  {
   "cell_type": "code",
   "execution_count": null,
   "metadata": {},
   "outputs": [],
   "source": []
  },
  {
   "cell_type": "code",
   "execution_count": null,
   "metadata": {},
   "outputs": [],
   "source": []
  },
  {
   "cell_type": "code",
   "execution_count": 34,
   "metadata": {},
   "outputs": [],
   "source": [
    "def getAnswer(playerNum,game,guess):\n",
    "    h = [[1,guess[0]],[2,guess[1]],[3,guess[2]]]\n",
    "    shuffle(h)\n",
    "    playCount = len(game) - 1\n",
    "    c = playerNum+1\n",
    "    if c > playCount:\n",
    "        c = 1\n",
    "    while c != playerNum:\n",
    "        hand = game[c]\n",
    "        for y in h:\n",
    "            for x in hand:\n",
    "                if x[0] == y[0] and x[1] == y[1]:\n",
    "                    return (c,y)\n",
    "        print(str(c) + \" pass\")\n",
    "        c = c+1\n",
    "        if c >= playCount:\n",
    "            c = 1\n",
    "    return (0,0)\n",
    "    "
   ]
  },
  {
   "cell_type": "code",
   "execution_count": 26,
   "metadata": {},
   "outputs": [
    {
     "name": "stdout",
     "output_type": "stream",
     "text": [
      "[5, 3, 7, 6]\n",
      "[[[1, 2], [2, 3], [3, 3]], [[3, 8], [1, 5], [2, 5], [2, 1], [3, 6]], [[2, 4], [1, 1], [1, 4], [3, 0], [3, 4]], [[3, 2], [3, 1], [3, 7], [1, 0]], [[2, 2], [3, 5], [2, 0], [1, 3]], [5, 3, 7, 6]]\n"
     ]
    }
   ],
   "source": [
    "print(agame[-1])\n",
    "print(agame)"
   ]
  },
  {
   "cell_type": "code",
   "execution_count": null,
   "metadata": {},
   "outputs": [],
   "source": []
  },
  {
   "cell_type": "code",
   "execution_count": 23,
   "metadata": {},
   "outputs": [
    {
     "name": "stdout",
     "output_type": "stream",
     "text": [
      "Solution\n",
      "♡ \u001b[37m Mrs. White\u001b[0m, 🔧 \u001b[36mWrench\u001b[0m, \u001b[30mDining Room\u001b[0m\n",
      "\n",
      "          [1] 👠 \u001b[31mMiss Scarlet\u001b[0m is in \u001b[30mKitchen\u001b[0m          \n",
      "\u001b[30mStudy\u001b[0m, 🦚 \u001b[34mMrs. Peacock\u001b[0m, 🪠 \u001b[36mLead Pipe\u001b[0m, 🔫 \u001b[36mRevolver\u001b[0m, \u001b[30mLounge\u001b[0m\n",
      "\n",
      "      [2] 🧐 \u001b[33mColonel Mustard\u001b[0m is in \u001b[30mDining Room\u001b[0m       \n",
      "🕯️ \u001b[36mCandlestick\u001b[0m, 🧐 \u001b[33mColonel Mustard\u001b[0m, 🍆 \u001b[35mProfessor Plum\u001b[0m, \u001b[30mBall Room\u001b[0m, \u001b[30mHall\u001b[0m\n",
      "\n",
      "          [3] ♡ \u001b[37m Mrs. White\u001b[0m is in \u001b[30mKitchen\u001b[0m           \n",
      "\u001b[30mConservatory\u001b[0m, \u001b[30mBilliard Room\u001b[0m, \u001b[30mKitchen\u001b[0m, 👠 \u001b[31mMiss Scarlet\u001b[0m\n",
      "\n",
      "            [4] 🐉 \u001b[32mMr. Green\u001b[0m is in \u001b[30mLounge\u001b[0m            \n",
      "🪢 \u001b[36mRope\u001b[0m, \u001b[30mKitchen\u001b[0m, 🔪 \u001b[36mKnife\u001b[0m, 🐉 \u001b[32mMr. Green\u001b[0m\n",
      "[1] 👠 \u001b[31mMiss Scarlet\u001b[0m is in \u001b[30mKitchen\u001b[0m\n",
      "[2] 🧐 \u001b[33mColonel Mustard\u001b[0m is in \u001b[30mDining Room\u001b[0m\n",
      "[3] ♡ \u001b[37m Mrs. White\u001b[0m is in \u001b[30mKitchen\u001b[0m\n",
      "[4] 🐉 \u001b[32mMr. Green\u001b[0m is in \u001b[30mLounge\u001b[0m\n"
     ]
    }
   ],
   "source": [
    "agame = createClue(4)\n",
    "player = 1\n",
    "done = False\n",
    "printGame(agame) \n",
    "printLocs(agame) "
   ]
  },
  {
   "cell_type": "code",
   "execution_count": 30,
   "metadata": {},
   "outputs": [
    {
     "name": "stdout",
     "output_type": "stream",
     "text": [
      "\n",
      "          [1] 👠 \u001b[31mMiss Scarlet\u001b[0m is in \u001b[30mKitchen\u001b[0m          \n",
      "\u001b[30mStudy\u001b[0m, 🦚 \u001b[34mMrs. Peacock\u001b[0m, 🪠 \u001b[36mLead Pipe\u001b[0m, 🔫 \u001b[36mRevolver\u001b[0m, \u001b[30mLounge\u001b[0m\n",
      "\n",
      "Suspect\n",
      "\u001b[31m1) \u001b[0m👠 \u001b[31mMiss Scarlet\u001b[0m\n",
      "\u001b[33m2) \u001b[0m🧐 \u001b[33mColonel Mustard\u001b[0m\n",
      "\u001b[37m3) \u001b[0m♡ \u001b[37m Mrs. White\u001b[0m\n",
      "\u001b[32m4) \u001b[0m🐉 \u001b[32mMr. Green\u001b[0m\n",
      "\u001b[35m5) \u001b[0m🍆 \u001b[35mProfessor Plum\u001b[0m\n",
      "\u001b[34m6) \u001b[0m🦚 \u001b[34mMrs. Peacock\u001b[0m\n"
     ]
    },
    {
     "name": "stdin",
     "output_type": "stream",
     "text": [
      "Choose from 1 to 6:  5\n"
     ]
    },
    {
     "name": "stdout",
     "output_type": "stream",
     "text": [
      "\n",
      "\n",
      "Weapon\n",
      "\u001b[36m1) \u001b[0m🔪 \u001b[36mKnife\u001b[0m\n",
      "\u001b[36m2) \u001b[0m🔫 \u001b[36mRevolver\u001b[0m\n",
      "\u001b[36m3) \u001b[0m🪢 \u001b[36mRope\u001b[0m\n",
      "\u001b[36m4) \u001b[0m🔧 \u001b[36mWrench\u001b[0m\n",
      "\u001b[36m5) \u001b[0m🕯️ \u001b[36mCandlestick\u001b[0m\n",
      "\u001b[36m6) \u001b[0m🪠 \u001b[36mLead Pipe\u001b[0m\n"
     ]
    },
    {
     "name": "stdin",
     "output_type": "stream",
     "text": [
      "Choose from 1 to 6:  3\n"
     ]
    },
    {
     "name": "stdout",
     "output_type": "stream",
     "text": [
      "\n",
      "\n",
      "Move To\n",
      "\u001b[30m1) \u001b[0m\u001b[30mHall\u001b[0m\n",
      "\u001b[30m2) \u001b[0m\u001b[30mKitchen\u001b[0m\n",
      "\u001b[30m3) \u001b[0m\u001b[30mLounge\u001b[0m\n"
     ]
    },
    {
     "name": "stdin",
     "output_type": "stream",
     "text": [
      "Choose from 1 to 3:  1\n"
     ]
    },
    {
     "name": "stdout",
     "output_type": "stream",
     "text": [
      "[1] 👠 \u001b[31mMiss Scarlet\u001b[0m is in \u001b[30mHall\u001b[0m\n",
      "[2] 🧐 \u001b[33mColonel Mustard\u001b[0m is in \u001b[30mDining Room\u001b[0m\n",
      "[3] ♡ \u001b[37m Mrs. White\u001b[0m is in \u001b[30mKitchen\u001b[0m\n",
      "[4] 🐉 \u001b[32mMr. Green\u001b[0m is in \u001b[30mLounge\u001b[0m\n"
     ]
    }
   ],
   "source": [
    "ans,agame = getPlay(player,agame)"
   ]
  },
  {
   "cell_type": "code",
   "execution_count": null,
   "metadata": {},
   "outputs": [
    {
     "name": "stdout",
     "output_type": "stream",
     "text": [
      "\n",
      "          [2] 🧐 \u001b[33mColonel Mustard\u001b[0m is in \u001b[30mHall\u001b[0m          \n",
      "🕯️ \u001b[36mCandlestick\u001b[0m, 🧐 \u001b[33mColonel Mustard\u001b[0m, 🍆 \u001b[35mProfessor Plum\u001b[0m, \u001b[30mBall Room\u001b[0m, \u001b[30mHall\u001b[0m\n",
      "\n",
      "Suspect\n",
      "\u001b[31m1) \u001b[0m👠 \u001b[31mMiss Scarlet\u001b[0m\n",
      "\u001b[33m2) \u001b[0m🧐 \u001b[33mColonel Mustard\u001b[0m\n",
      "\u001b[37m3) \u001b[0m♡ \u001b[37m Mrs. White\u001b[0m\n",
      "\u001b[32m4) \u001b[0m🐉 \u001b[32mMr. Green\u001b[0m\n",
      "\u001b[35m5) \u001b[0m🍆 \u001b[35mProfessor Plum\u001b[0m\n",
      "\u001b[34m6) \u001b[0m🦚 \u001b[34mMrs. Peacock\u001b[0m\n"
     ]
    },
    {
     "name": "stdin",
     "output_type": "stream",
     "text": [
      "Choose from 1 to 6:  3\n"
     ]
    },
    {
     "name": "stdout",
     "output_type": "stream",
     "text": [
      "\n",
      "\n",
      "Weapon\n",
      "\u001b[36m1) \u001b[0m🔪 \u001b[36mKnife\u001b[0m\n",
      "\u001b[36m2) \u001b[0m🔫 \u001b[36mRevolver\u001b[0m\n",
      "\u001b[36m3) \u001b[0m🪢 \u001b[36mRope\u001b[0m\n",
      "\u001b[36m4) \u001b[0m🔧 \u001b[36mWrench\u001b[0m\n",
      "\u001b[36m5) \u001b[0m🕯️ \u001b[36mCandlestick\u001b[0m\n",
      "\u001b[36m6) \u001b[0m🪠 \u001b[36mLead Pipe\u001b[0m\n"
     ]
    },
    {
     "name": "stdin",
     "output_type": "stream",
     "text": [
      "Choose from 1 to 6:  6\n"
     ]
    },
    {
     "name": "stdout",
     "output_type": "stream",
     "text": [
      "\n",
      "\n",
      "Move To\n",
      "\u001b[30m1) \u001b[0m\u001b[30mDining Room\u001b[0m\n",
      "\u001b[30m2) \u001b[0m\u001b[30mHall\u001b[0m\n",
      "\u001b[30m3) \u001b[0m\u001b[30mKitchen\u001b[0m\n"
     ]
    },
    {
     "name": "stdin",
     "output_type": "stream",
     "text": [
      "Choose from 1 to 3:  2\n"
     ]
    },
    {
     "name": "stdout",
     "output_type": "stream",
     "text": [
      "[1] 👠 \u001b[31mMiss Scarlet\u001b[0m is in \u001b[30mDining Room\u001b[0m\n",
      "[2] 🧐 \u001b[33mColonel Mustard\u001b[0m is in \u001b[30mHall\u001b[0m\n",
      "[3] ♡ \u001b[37m Mrs. White\u001b[0m is in \u001b[30mHall\u001b[0m\n",
      "[4] 🐉 \u001b[32mMr. Green\u001b[0m is in \u001b[30mLounge\u001b[0m\n",
      "3 pass\n",
      "Player 1 has 🐉 \u001b[32mMr. Green\u001b[0m\n",
      "\n",
      "            [3] ♡ \u001b[37m Mrs. White\u001b[0m is in \u001b[30mHall\u001b[0m            \n",
      "\u001b[30mConservatory\u001b[0m, \u001b[30mBilliard Room\u001b[0m, \u001b[30mKitchen\u001b[0m, 👠 \u001b[31mMiss Scarlet\u001b[0m\n",
      "\n",
      "Suspect\n",
      "\u001b[31m1) \u001b[0m👠 \u001b[31mMiss Scarlet\u001b[0m\n",
      "\u001b[33m2) \u001b[0m🧐 \u001b[33mColonel Mustard\u001b[0m\n",
      "\u001b[37m3) \u001b[0m♡ \u001b[37m Mrs. White\u001b[0m\n",
      "\u001b[32m4) \u001b[0m🐉 \u001b[32mMr. Green\u001b[0m\n",
      "\u001b[35m5) \u001b[0m🍆 \u001b[35mProfessor Plum\u001b[0m\n",
      "\u001b[34m6) \u001b[0m🦚 \u001b[34mMrs. Peacock\u001b[0m\n"
     ]
    },
    {
     "name": "stdin",
     "output_type": "stream",
     "text": [
      "Choose from 1 to 6:  2\n"
     ]
    },
    {
     "name": "stdout",
     "output_type": "stream",
     "text": [
      "\n",
      "\n",
      "Weapon\n",
      "\u001b[36m1) \u001b[0m🔪 \u001b[36mKnife\u001b[0m\n",
      "\u001b[36m2) \u001b[0m🔫 \u001b[36mRevolver\u001b[0m\n",
      "\u001b[36m3) \u001b[0m🪢 \u001b[36mRope\u001b[0m\n",
      "\u001b[36m4) \u001b[0m🔧 \u001b[36mWrench\u001b[0m\n",
      "\u001b[36m5) \u001b[0m🕯️ \u001b[36mCandlestick\u001b[0m\n",
      "\u001b[36m6) \u001b[0m🪠 \u001b[36mLead Pipe\u001b[0m\n"
     ]
    },
    {
     "name": "stdin",
     "output_type": "stream",
     "text": [
      "Choose from 1 to 6:  5\n"
     ]
    },
    {
     "name": "stdout",
     "output_type": "stream",
     "text": [
      "\n",
      "\n",
      "Move To\n",
      "\u001b[30m1) \u001b[0m\u001b[30mDining Room\u001b[0m\n",
      "\u001b[30m2) \u001b[0m\u001b[30mHall\u001b[0m\n",
      "\u001b[30m3) \u001b[0m\u001b[30mKitchen\u001b[0m\n"
     ]
    }
   ],
   "source": [
    "\n",
    "while not done:\n",
    "    ans,agame = getPlay(player,agame)\n",
    "    check = getAnswer(player,agame,ans)\n",
    "    if check[0] == 0:\n",
    "        done = True\n",
    "    else:\n",
    "        card = check[1]\n",
    "        print(\"Player \" + str(card[0]) + \" has \" + cardFull(cardLookup(card[0],card[1])))\n",
    "        \n",
    "        player = player + 1\n",
    "        if player>len(agame)-1:\n",
    "           player = 1 \n",
    "    "
   ]
  },
  {
   "cell_type": "code",
   "execution_count": null,
   "metadata": {},
   "outputs": [
    {
     "name": "stdout",
     "output_type": "stream",
     "text": [
      "\u001b[30m1)\u001b[0m\u001b[30mBall Room\u001b[0m\n",
      "\u001b[30m2)\u001b[0m\u001b[30mBilliard Room\u001b[0m\n",
      "\u001b[30m3)\u001b[0m\u001b[30mConservatory\u001b[0m\n",
      "\u001b[30m4)\u001b[0m\u001b[30mDining Room\u001b[0m\n",
      "\u001b[30m5)\u001b[0m\u001b[30mHall\u001b[0m\n",
      "\u001b[30m6)\u001b[0m\u001b[30mKitchen\u001b[0m\n",
      "\u001b[30m7)\u001b[0m\u001b[30mLounge\u001b[0m\n",
      "\u001b[30m8)\u001b[0m\u001b[30mKitchen\u001b[0m\n",
      "\u001b[30m9)\u001b[0m\u001b[30mStudy\u001b[0m\n"
     ]
    },
    {
     "name": "stdin",
     "output_type": "stream",
     "text": [
      "Choose from 1 to 9:  3\n"
     ]
    },
    {
     "data": {
      "text/plain": [
       "3"
      ]
     },
     "execution_count": null,
     "metadata": {},
     "output_type": "execute_result"
    }
   ],
   "source": [
    "#| hide\n",
    "chooseCard(rooms,cardFull)"
   ]
  },
  {
   "cell_type": "code",
   "execution_count": null,
   "metadata": {},
   "outputs": [],
   "source": [
    "#| hide\n",
    "import nbdev; nbdev.nbdev_export()"
   ]
  }
 ],
 "metadata": {
  "kernelspec": {
   "display_name": "Python 3",
   "language": "python",
   "name": "python3"
  },
  "language_info": {
   "name": ""
  }
 },
 "nbformat": 4,
 "nbformat_minor": 4
}
