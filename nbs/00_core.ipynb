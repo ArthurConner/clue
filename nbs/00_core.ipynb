{
 "cells": [
  {
   "cell_type": "markdown",
   "metadata": {},
   "source": [
    "# core\n",
    "\n",
    "> Fill in a module description here"
   ]
  },
  {
   "cell_type": "code",
   "execution_count": null,
   "metadata": {},
   "outputs": [],
   "source": [
    "#| default_exp core"
   ]
  },
  {
   "cell_type": "code",
   "execution_count": null,
   "metadata": {},
   "outputs": [],
   "source": [
    "#| hide\n",
    "from nbdev.showdoc import *"
   ]
  },
  {
   "cell_type": "code",
   "execution_count": null,
   "metadata": {},
   "outputs": [],
   "source": [
    "#| export\n",
    "\n",
    "from termcolor import colored\n",
    "from random import shuffle, randint, sample\n",
    "import emoji\n",
    "import tabulate"
   ]
  },
  {
   "cell_type": "code",
   "execution_count": null,
   "metadata": {},
   "outputs": [],
   "source": [
    "#| export\n",
    "def cardFull(info):\n",
    "    name,color, icon = info[:3]\n",
    "    if len(icon) > 0:\n",
    "        ret = icon + \" \" + colored(name,color)\n",
    "    else:\n",
    "        ret = colored(name,color)\n",
    "    \n",
    "    return ret\n",
    "\n",
    "def cardShort(info):\n",
    "    if len(info) < 3:\n",
    "        return cardFull(info)\n",
    "    color,icon, name = info[1:]\n",
    "    if len(icon) > 0:\n",
    "        ret = icon + \" \" + colored(name,color)\n",
    "    else:\n",
    "        ret = colored(name,color)\n",
    "   \n",
    "    return  ret\n"
   ]
  },
  {
   "cell_type": "code",
   "execution_count": null,
   "metadata": {},
   "outputs": [],
   "source": [
    "#| hide\n",
    "sampleC = [\"hi\",\"red\",u\"\\U0001f460\",\"Scar.\"]\n",
    "\n",
    "cardFull(sampleC),cardShort(sampleC)"
   ]
  },
  {
   "cell_type": "code",
   "execution_count": null,
   "metadata": {},
   "outputs": [],
   "source": []
  },
  {
   "cell_type": "code",
   "execution_count": null,
   "metadata": {},
   "outputs": [],
   "source": [
    "print(u\"\\U0001f460\",u\"\\U0001F9D0\",u\"\\u2661\",u\"\\U0001F409\",u\"\\U0001F346\",u\"\\U0001F99A\")"
   ]
  },
  {
   "cell_type": "code",
   "execution_count": null,
   "metadata": {},
   "outputs": [],
   "source": [
    "#| export\n",
    "people = []\n",
    "people.append([\"Miss Scarlet\",\"red\",u\"\\U0001f460\",\"Scar.\"])\n",
    "people.append([\"Colonel Mustard\",\"yellow\",u\"\\U0001F9D0\",\"Must.\"])\n",
    "people.append([\" Mrs. White\",\"white\",u\"\\u2661\",\" White\"])\n",
    "people.append([\"Mr. Green\",\"green\",u\"\\U0001F409\",\"Green\"])\n",
    "people.append([\"Professor Plum\",\"magenta\",u\"\\U0001F346\",\"Plum \"])\n",
    "people.append([\"Mrs. Peacock\",\"blue\",u\"\\U0001F99A\",\"Peac.\"])\n"
   ]
  },
  {
   "cell_type": "code",
   "execution_count": null,
   "metadata": {},
   "outputs": [],
   "source": [
    "#| export\n",
    "weapons = []\n",
    "weapons.append([\"Knife\",\"cyan\",u\"\\U0001F52A\",\"Knife\"])\n",
    "weapons.append([\"Revolver\",\"cyan\",u\"\\U0001F52B\",\"Gun\"])\n",
    "weapons.append([\"Rope\",\"cyan\",emoji.emojize(\":knot:\"),\"Rope\"])\n",
    "weapons.append([\"Wrench\",\"cyan\",emoji.emojize(\":wrench:\"),\"Wrench\"])\n",
    "weapons.append([\"Candlestick\",\"cyan\",emoji.emojize(\":candle:\"),\"Candle\"])\n",
    "weapons.append([\"Lead Pipe\",\"cyan\",emoji.emojize(\":plunger:\"),\"Pipe\"])"
   ]
  },
  {
   "cell_type": "code",
   "execution_count": null,
   "metadata": {},
   "outputs": [],
   "source": [
    "#| export\n",
    "rooms = []\n",
    "rooms.append([\"Ball Room\",\"grey\",\"\",\"Ball\"])\n",
    "rooms.append([\"Billiard Room\",\"grey\",\"\",\"Bill\"])\n",
    "rooms.append([\"Conservatory\",\"grey\",\"\",\"Consv\"])\n",
    "rooms.append([\"Dining Room\",\"grey\",\"\",\"Dining\"])\n",
    "rooms.append([\"Hall\",\"grey\",\"\",\"Hall\"])\n",
    "rooms.append([\"Kitchen\",\"grey\",\"\",\"Kitch\"])\n",
    "rooms.append([\"Lounge\",\"grey\",\"\",\"Lounge\"])\n",
    "rooms.append([\"Library\",\"grey\",\"\",\"Lib\"])\n",
    "rooms.append([\"Study\",\"grey\",\"\",\"Study\"])"
   ]
  },
  {
   "cell_type": "code",
   "execution_count": null,
   "metadata": {},
   "outputs": [],
   "source": [
    "#| export\n",
    "def cIndentity(x):\n",
    "  return x[0]\n",
    "    \n",
    "def printHand(hand,view=cIndentity):\n",
    "    container = []\n",
    "    line = [view(card) for card in hand]\n",
    "    print(', '.join(line))\n"
   ]
  },
  {
   "cell_type": "code",
   "execution_count": null,
   "metadata": {},
   "outputs": [],
   "source": []
  },
  {
   "cell_type": "code",
   "execution_count": null,
   "metadata": {},
   "outputs": [],
   "source": [
    "#| hide\n",
    "printHand(people)"
   ]
  },
  {
   "cell_type": "code",
   "execution_count": null,
   "metadata": {},
   "outputs": [],
   "source": []
  },
  {
   "cell_type": "code",
   "execution_count": null,
   "metadata": {},
   "outputs": [],
   "source": [
    "#| hide\n",
    "printHand(people,cardFull)\n",
    "printHand(people,cardShort)"
   ]
  },
  {
   "cell_type": "code",
   "execution_count": null,
   "metadata": {},
   "outputs": [],
   "source": [
    "#| export\n",
    "def keyForCard(v):\n",
    "    return v[0] * 100 + v[1]\n",
    "    \n",
    "def chooseCard(hand,view=cIndentity,fmt=\"fancy_grid\",flag = {}):\n",
    "    container = []\n",
    "    i = 1\n",
    "    ml = max([len(x[0]) for x in hand])\n",
    "\n",
    "    no = \" \"\n",
    "    \n",
    "    for card in hand:\n",
    "        face = view(card)\n",
    "        #face.append(i)\n",
    "        color = card[1]\n",
    "        no = \" \"\n",
    "        if card[0] in flag:\n",
    "            no = \"*\"\n",
    "        container.append(colored(str(i) +\")\" + no + \" \" ,color) + face)\n",
    "        i += 1\n",
    "    choice = -1\n",
    "    \n",
    "    while choice < 1:\n",
    "        for card in container:\n",
    "            print(card)\n",
    "        choice = int(input(\"Choose from 1 to \" +  str(len(container))+\": \"))\n",
    "       \n",
    "        if (choice > 0) and (choice <= len(container)):\n",
    "            return choice\n",
    "        print(str(choice) + \" is not in range\")\n",
    "        choice = -1\n",
    "            \n",
    "\n"
   ]
  },
  {
   "cell_type": "code",
   "execution_count": null,
   "metadata": {},
   "outputs": [],
   "source": [
    "#| hide\n",
    "chooseCard(people,cardFull,flag = {\"Mr. Green\"})"
   ]
  },
  {
   "cell_type": "code",
   "execution_count": null,
   "metadata": {},
   "outputs": [],
   "source": [
    "#| hide\n",
    "chooseCard(people,cardShort,flag = {\"Mr. Green\"})"
   ]
  },
  {
   "cell_type": "code",
   "execution_count": null,
   "metadata": {},
   "outputs": [],
   "source": []
  },
  {
   "cell_type": "code",
   "execution_count": null,
   "metadata": {},
   "outputs": [],
   "source": [
    "#| hide\n",
    "print(u\"\\U0001F52A\",u\"\\U0001F52B\",emoji.emojize(\":wrench:\"),emoji.emojize(\":candle:\"),u\"\\U0001F99A\")"
   ]
  },
  {
   "cell_type": "code",
   "execution_count": null,
   "metadata": {},
   "outputs": [],
   "source": []
  },
  {
   "cell_type": "code",
   "execution_count": null,
   "metadata": {},
   "outputs": [],
   "source": [
    "#| hide\n",
    "chooseCard(weapons,cardFull)"
   ]
  },
  {
   "cell_type": "code",
   "execution_count": null,
   "metadata": {},
   "outputs": [],
   "source": [
    "#| export\n",
    "def cardLookup(kind,index):\n",
    "    if kind == 1:\n",
    "        return people[index]\n",
    "    if kind == 2:\n",
    "        return weapons[index]\n",
    "    return rooms[index]\n",
    "\n",
    "def keyCard(kind,index):\n",
    "    return kind*100 + index\n",
    "\n",
    "def keyLookUp(key):\n",
    "    kind = key // 100\n",
    "    index = key % 100\n",
    "   # print(key,kind,index)\n",
    "    return cardLookup(kind,index)\n",
    "     "
   ]
  },
  {
   "cell_type": "code",
   "execution_count": null,
   "metadata": {},
   "outputs": [
    {
     "name": "stdout",
     "output_type": "stream",
     "text": [
      "[['Lounge', 'grey', '', 'Lounge'], [' Mrs. White', 'white', '♡', ' White'], ['Candlestick', 'cyan', '🕯️', 'Candle'], ['Ball Room', 'grey', '', 'Ball'], ['Study', 'grey', '', 'Study']]\n"
     ]
    }
   ],
   "source": [
    "#| hide\n",
    "cCheck = [keyLookUp(x) for x in [306, 102, 204, 300, 308]]\n",
    "print(cCheck)"
   ]
  },
  {
   "cell_type": "code",
   "execution_count": null,
   "metadata": {},
   "outputs": [],
   "source": [
    "#| export\n",
    "\n",
    "def createClue(playerCount):\n",
    "    bhand = [[1,randint(0,len(people)-1)],[2,randint(0,len(weapons)-1)],[3,randint(0,len(rooms)-1)]]\n",
    "    ahand = [keyCard(x[0],x[1]) for x in bhand]\n",
    "    ploc = sample(range(len(rooms)),len(people))\n",
    "    \n",
    "    person = ahand[0]\n",
    "    \n",
    "    pdeck = [keyCard(1,x) for x in range(len(people))]\n",
    "    deck = [[1,x] for x in range(len(people)) if x != person]\n",
    "    deck = [x for x in pdeck if x != person]\n",
    "    \n",
    "    weapon = ahand[1]\n",
    "    wdeck = [keyCard(2,x) for x in range(len(weapons))]\n",
    "    deck += [x for x in wdeck if x != weapon]\n",
    "   \n",
    "    room = ahand[2]\n",
    "    wdeck = [keyCard(3,x) for x in range(len(rooms))]\n",
    "    deck += [x for x in wdeck if x != room]\n",
    "\n",
    "    \n",
    "    shuffle(deck)\n",
    "    decks = [ahand]\n",
    "    \n",
    "    for i in range(playerCount):\n",
    "        decks.append([])\n",
    "        \n",
    "   \n",
    "\n",
    "    cIndex = 1\n",
    "    for card in deck:\n",
    "        decks[cIndex].append(card)\n",
    "        cIndex += 1\n",
    "        if cIndex > playerCount:\n",
    "            cIndex = 1\n",
    "    decks.append(ploc)        \n",
    "    return decks\n",
    "\n",
    "\n",
    "def printPlayer(game,i):\n",
    "    ploc = game[-1]\n",
    "    person = people[i-1]\n",
    "    d = cardFull(person)\n",
    "    loc = cardFull(cardLookup(3,ploc[i-1]))\n",
    "    d = \"[\" + str(i) + \"] \" + d  + \" is in \" + loc \n",
    "    print(\"\\n\" + d.center(70,\" \"))\n",
    " \n",
    "    ahand = game[i]\n",
    "    maps = [keyLookUp(x) for x in ahand]\n",
    "    printHand(maps,cardFull)\n",
    "\n",
    "    \n",
    "def printGame(game):\n",
    "    print(\"Solution\")\n",
    "    ahand = game[0]\n",
    "   \n",
    "    maps = [keyLookUp(x) for x in ahand]\n",
    "    printHand(maps,cardFull)\n",
    "    for i in range(1,len(game)-1):\n",
    "        printPlayer(game,i)\n",
    "        \n",
    "\n",
    "def printLocs(game):\n",
    "\n",
    "    ploc = game[-1]\n",
    "    #print(ploc)\n",
    "    for i in range(len(ploc)):\n",
    "        person = people[i]\n",
    "        d = cardFull(person)\n",
    "        loc = cardFull(cardLookup(3,ploc[i-1]))\n",
    "        d = \"[\" + str(i+1) + \"] \" + d  + \" is in \" + loc \n",
    "        print(d)\n",
    "     \n",
    "       "
   ]
  },
  {
   "cell_type": "code",
   "execution_count": null,
   "metadata": {},
   "outputs": [
    {
     "name": "stdout",
     "output_type": "stream",
     "text": [
      "Solution\n",
      "🦚 \u001b[34mMrs. Peacock\u001b[0m, 🪢 \u001b[36mRope\u001b[0m, \u001b[30mLounge\u001b[0m\n",
      "\n",
      "          [1] 👠 \u001b[31mMiss Scarlet\u001b[0m is in \u001b[30mLibrary\u001b[0m          \n",
      "🔫 \u001b[36mRevolver\u001b[0m, 🔪 \u001b[36mKnife\u001b[0m, \u001b[30mHall\u001b[0m, 🐉 \u001b[32mMr. Green\u001b[0m, \u001b[30mBall Room\u001b[0m\n",
      "\n",
      "        [2] 🧐 \u001b[33mColonel Mustard\u001b[0m is in \u001b[30mLibrary\u001b[0m         \n",
      "\u001b[30mKitchen\u001b[0m, \u001b[30mStudy\u001b[0m, \u001b[30mConservatory\u001b[0m, 🧐 \u001b[33mColonel Mustard\u001b[0m, \u001b[30mBilliard Room\u001b[0m\n",
      "\n",
      "       [3] ♡ \u001b[37m Mrs. White\u001b[0m is in \u001b[30mBilliard Room\u001b[0m        \n",
      "🔧 \u001b[36mWrench\u001b[0m, \u001b[30mDining Room\u001b[0m, ♡ \u001b[37m Mrs. White\u001b[0m, \u001b[30mLibrary\u001b[0m\n",
      "\n",
      "            [4] 🐉 \u001b[32mMr. Green\u001b[0m is in \u001b[30mLounge\u001b[0m            \n",
      "🪠 \u001b[36mLead Pipe\u001b[0m, 👠 \u001b[31mMiss Scarlet\u001b[0m, 🍆 \u001b[35mProfessor Plum\u001b[0m, 🕯️ \u001b[36mCandlestick\u001b[0m\n"
     ]
    }
   ],
   "source": [
    "#| hide\n",
    "#agame = createClue(4)\n",
    "amoves = []\n",
    "printGame(agame)"
   ]
  },
  {
   "cell_type": "code",
   "execution_count": null,
   "metadata": {},
   "outputs": [],
   "source": [
    "agame"
   ]
  },
  {
   "cell_type": "code",
   "execution_count": null,
   "metadata": {},
   "outputs": [],
   "source": [
    "#| export\n",
    "def getSeen(playerID, game, moves):\n",
    "    foo = [x[-1] for x in moves if x[3] == playerID]\n",
    "    return game[playerID] + foo\n",
    "\n",
    "\n",
    "def location(playerID,game):\n",
    "    ploc = game[-1]\n",
    "    return ploc[playerID-2]\n",
    "    "
   ]
  },
  {
   "cell_type": "code",
   "execution_count": null,
   "metadata": {},
   "outputs": [],
   "source": [
    "#| export\n",
    "def getPlay(pc,game, moves):\n",
    "    \n",
    "    ploc = game[-1]\n",
    "    r2 = location(pc,game)\n",
    "    \n",
    "    person = people[pc-1]\n",
    "    d = cardFull(person)\n",
    "    #print(pc,r2)\n",
    "    loc = cardFull(cardLookup(3,r2))\n",
    "    \n",
    "    d = \"[\" + str(pc) + \"] \" + d  + \" is in \" + loc \n",
    "    print(\"\\n\" + d.center(70,\" \"))\n",
    "\n",
    "    ahand = game[pc]\n",
    "    maps = [keyLookUp(x) for x in ahand]\n",
    "    #printHand(maps,cardFull)\n",
    "\n",
    "    seen = [keyLookUp(x)[0] for x in getSeen(pc,game, moves)]\n",
    "    exclude  = set(seen)\n",
    "    \n",
    "\n",
    "    print(\"\\nSuspect\")\n",
    "    p = chooseCard(people,cardFull,flag=exclude)-1\n",
    "    print(\"\\n\\nWeapon\")\n",
    "    w = chooseCard(weapons,cardFull,flag=exclude)-1\n",
    "    \n",
    "\n",
    "    print(\"\\n\\nMove To\")\n",
    "    passages = trips(r2,len(rooms))\n",
    "\n",
    "                     \n",
    "    locs = [cardLookup(3,x) for x in passages ]\n",
    "    l = chooseCard(locs,cardFull,flag=exclude) \n",
    "    l = trips(r2,len(rooms))[l-1]\n",
    "    \n",
    "    return (p,w,l)\n",
    "\n",
    "\n",
    "\n",
    "    \n",
    "\n",
    "def trips(x,l):\n",
    "    r1 = x -1\n",
    "    if r1 < 0:\n",
    "        r1 = l - 1\n",
    "    r3 = x + 1\n",
    "    if r3 > l - 1:\n",
    "        r3 = 0\n",
    "    return [r1,x,r3]\n",
    "\n"
   ]
  },
  {
   "cell_type": "code",
   "execution_count": null,
   "metadata": {},
   "outputs": [],
   "source": [
    "\n",
    "\n",
    "                   \n",
    "    \n",
    "    \n",
    "            "
   ]
  },
  {
   "cell_type": "code",
   "execution_count": null,
   "metadata": {},
   "outputs": [],
   "source": []
  },
  {
   "cell_type": "code",
   "execution_count": null,
   "metadata": {},
   "outputs": [],
   "source": [
    "#| export\n",
    "\n",
    "def showChoice(p,w,l):\n",
    "    ret = cardFull(cardLookup(1,p))\n",
    "    ret = ret + \" with the \" + cardFull(cardLookup(2,w))\n",
    "    ret = ret + \" in the \" + cardFull(cardLookup(3,l))\n",
    "    return ret\n",
    "\n",
    "\n",
    "def keysForGuess(p,w,l):\n",
    "    h = [[1,p],[2,w],[3,l]]\n",
    "    h = [keyCard(x[0],x[1]) for x in h]\n",
    "    return h\n",
    "\n",
    "def getAnswer(playerNum,game,guess):\n",
    "    #print(guess)\n",
    "    (p,w,l) = guess\n",
    "    #print(showChoice(p,w,l))\n",
    "    h = keysForGuess(p,w,l)\n",
    "    \n",
    "   \n",
    "    shuffle(h)\n",
    "    \n",
    "    playCount = len(game) - 1\n",
    "    \n",
    "    c = playerNum+1\n",
    "    \n",
    "    if c > playCount:\n",
    "        c = 1\n",
    "    while c != playerNum:\n",
    "        hand = game[c]\n",
    "        #printPlayer(game,c)\n",
    "        for y in h:\n",
    "            for x in hand:\n",
    "                #print(x,y,cardFull(keyLookUp(x)),cardFull(keyLookUp(y)))\n",
    "                if x == y :\n",
    "                    return (p,w,l,playerNum, c,y)\n",
    "        #print(str(c) + \" pass\")\n",
    "        c = c+1\n",
    "        if c >= playCount:\n",
    "            c = 1\n",
    "    return (-1,0)\n",
    "    "
   ]
  },
  {
   "cell_type": "code",
   "execution_count": null,
   "metadata": {},
   "outputs": [
    {
     "name": "stdout",
     "output_type": "stream",
     "text": [
      "[5, 8, 3, 7, 2, 1]\n",
      "[[105, 202, 300], [302, 306, 104, 305, 307], [205, 101, 303, 102, 301], [204, 308, 200, 103, 304], [300, 100, 201, 203], [5, 8, 3, 7, 2, 1]]\n"
     ]
    }
   ],
   "source": [
    "#| hide\n",
    "print(agame[-1])\n",
    "print(agame)"
   ]
  },
  {
   "cell_type": "code",
   "execution_count": null,
   "metadata": {},
   "outputs": [],
   "source": []
  },
  {
   "cell_type": "code",
   "execution_count": null,
   "metadata": {},
   "outputs": [
    {
     "name": "stdout",
     "output_type": "stream",
     "text": [
      "Solution\n",
      "🦚 \u001b[34mMrs. Peacock\u001b[0m, 🪢 \u001b[36mRope\u001b[0m, \u001b[30mLounge\u001b[0m\n",
      "\n",
      "           [1] 👠 \u001b[31mMiss Scarlet\u001b[0m is in \u001b[30mStudy\u001b[0m           \n",
      "🔫 \u001b[36mRevolver\u001b[0m, 🔪 \u001b[36mKnife\u001b[0m, \u001b[30mHall\u001b[0m, 🐉 \u001b[32mMr. Green\u001b[0m, \u001b[30mBall Room\u001b[0m\n",
      "\n",
      "        [2] 🧐 \u001b[33mColonel Mustard\u001b[0m is in \u001b[30mKitchen\u001b[0m         \n",
      "\u001b[30mKitchen\u001b[0m, \u001b[30mStudy\u001b[0m, \u001b[30mConservatory\u001b[0m, 🧐 \u001b[33mColonel Mustard\u001b[0m, \u001b[30mBilliard Room\u001b[0m\n",
      "\n",
      "       [3] ♡ \u001b[37m Mrs. White\u001b[0m is in \u001b[30mBilliard Room\u001b[0m        \n",
      "🔧 \u001b[36mWrench\u001b[0m, \u001b[30mDining Room\u001b[0m, ♡ \u001b[37m Mrs. White\u001b[0m, \u001b[30mLibrary\u001b[0m\n",
      "\n",
      "             [4] 🐉 \u001b[32mMr. Green\u001b[0m is in \u001b[30mHall\u001b[0m             \n",
      "🪠 \u001b[36mLead Pipe\u001b[0m, 👠 \u001b[31mMiss Scarlet\u001b[0m, 🍆 \u001b[35mProfessor Plum\u001b[0m, 🕯️ \u001b[36mCandlestick\u001b[0m\n",
      "\n",
      "[1] 👠 \u001b[31mMiss Scarlet\u001b[0m is in \u001b[30mLibrary\u001b[0m\n",
      "[2] 🧐 \u001b[33mColonel Mustard\u001b[0m is in \u001b[30mStudy\u001b[0m\n",
      "[3] ♡ \u001b[37m Mrs. White\u001b[0m is in \u001b[30mKitchen\u001b[0m\n",
      "[4] 🐉 \u001b[32mMr. Green\u001b[0m is in \u001b[30mBilliard Room\u001b[0m\n",
      "[5] 🍆 \u001b[35mProfessor Plum\u001b[0m is in \u001b[30mHall\u001b[0m\n",
      "[6] 🦚 \u001b[34mMrs. Peacock\u001b[0m is in \u001b[30mDining Room\u001b[0m\n"
     ]
    }
   ],
   "source": [
    "#| hide\n",
    "agame = createClue(4)\n",
    "amoves = []\n",
    "player = 1\n",
    "done = False\n",
    "printGame(agame) \n",
    "print()\n",
    "printLocs(agame) "
   ]
  },
  {
   "cell_type": "code",
   "execution_count": null,
   "metadata": {},
   "outputs": [
    {
     "name": "stdout",
     "output_type": "stream",
     "text": [
      "\n",
      "          [1] 👠 \u001b[31mMiss Scarlet\u001b[0m is in \u001b[30mLibrary\u001b[0m          \n",
      "\n",
      "Suspect\n",
      "\u001b[31m1)  \u001b[0m👠 \u001b[31mMiss Scarlet\u001b[0m\n",
      "\u001b[33m2)  \u001b[0m🧐 \u001b[33mColonel Mustard\u001b[0m\n",
      "\u001b[37m3)  \u001b[0m♡ \u001b[37m Mrs. White\u001b[0m\n",
      "\u001b[32m4)* \u001b[0m🐉 \u001b[32mMr. Green\u001b[0m\n",
      "\u001b[35m5)  \u001b[0m🍆 \u001b[35mProfessor Plum\u001b[0m\n",
      "\u001b[34m6)  \u001b[0m🦚 \u001b[34mMrs. Peacock\u001b[0m\n"
     ]
    },
    {
     "name": "stdin",
     "output_type": "stream",
     "text": [
      "Choose from 1 to 6:  2\n"
     ]
    },
    {
     "name": "stdout",
     "output_type": "stream",
     "text": [
      "\n",
      "\n",
      "Weapon\n",
      "\u001b[36m1)* \u001b[0m🔪 \u001b[36mKnife\u001b[0m\n",
      "\u001b[36m2)* \u001b[0m🔫 \u001b[36mRevolver\u001b[0m\n",
      "\u001b[36m3)  \u001b[0m🪢 \u001b[36mRope\u001b[0m\n",
      "\u001b[36m4)  \u001b[0m🔧 \u001b[36mWrench\u001b[0m\n",
      "\u001b[36m5)  \u001b[0m🕯️ \u001b[36mCandlestick\u001b[0m\n",
      "\u001b[36m6)  \u001b[0m🪠 \u001b[36mLead Pipe\u001b[0m\n"
     ]
    },
    {
     "name": "stdin",
     "output_type": "stream",
     "text": [
      "Choose from 1 to 6:  3\n"
     ]
    },
    {
     "name": "stdout",
     "output_type": "stream",
     "text": [
      "\n",
      "\n",
      "Move To\n",
      "\u001b[30m1)  \u001b[0m\u001b[30mLounge\u001b[0m\n",
      "\u001b[30m2)  \u001b[0m\u001b[30mLibrary\u001b[0m\n",
      "\u001b[30m3)  \u001b[0m\u001b[30mStudy\u001b[0m\n"
     ]
    },
    {
     "name": "stdin",
     "output_type": "stream",
     "text": [
      "Choose from 1 to 3:  3\n"
     ]
    },
    {
     "data": {
      "text/plain": [
       "(1, 2, 8)"
      ]
     },
     "execution_count": null,
     "metadata": {},
     "output_type": "execute_result"
    }
   ],
   "source": [
    "#| hide\n",
    "ans = getPlay(player,agame,amoves)\n",
    "ans"
   ]
  },
  {
   "cell_type": "code",
   "execution_count": null,
   "metadata": {},
   "outputs": [
    {
     "data": {
      "text/plain": [
       "([[103, 203, 307],\n",
       "  [306, 301, 102, 304, 205],\n",
       "  [105, 201, 303, 307, 204],\n",
       "  [104, 305, 100, 308, 302],\n",
       "  [200, 202, 101, 300],\n",
       "  [1, 3, 2, 7, 2, 2]],\n",
       " (3, 3, 2))"
      ]
     },
     "execution_count": null,
     "metadata": {},
     "output_type": "execute_result"
    }
   ],
   "source": []
  },
  {
   "cell_type": "code",
   "execution_count": null,
   "metadata": {},
   "outputs": [],
   "source": [
    "\n",
    "#| export\n",
    "def relocatePlayers(playerNum , p,l,game):\n",
    "  \n",
    "    game[-1][playerNum-2] = l\n",
    "    game[-1][p-1] = l\n",
    "    #print(playerNum-1,p)\n",
    "    #printLocs(game)\n",
    "    return  game"
   ]
  },
  {
   "cell_type": "code",
   "execution_count": null,
   "metadata": {},
   "outputs": [
    {
     "data": {
      "text/plain": [
       "([[105, 202, 306],\n",
       "  [201, 200, 304, 103, 300],\n",
       "  [305, 308, 302, 101, 301],\n",
       "  [203, 303, 102, 307],\n",
       "  [205, 100, 104, 204],\n",
       "  [8, 5, 1, 4, 3, 8]],\n",
       " (1, 2, 8))"
      ]
     },
     "execution_count": null,
     "metadata": {},
     "output_type": "execute_result"
    }
   ],
   "source": [
    "#| hide\n",
    "relocatePlayers(player , ans[0],ans[2],agame)\n",
    "agame, ans"
   ]
  },
  {
   "cell_type": "code",
   "execution_count": null,
   "metadata": {},
   "outputs": [
    {
     "name": "stdout",
     "output_type": "stream",
     "text": [
      "🔫 \u001b[36mRevolver\u001b[0m, 🔪 \u001b[36mKnife\u001b[0m, \u001b[30mHall\u001b[0m, 🐉 \u001b[32mMr. Green\u001b[0m, \u001b[30mBall Room\u001b[0m\n",
      "\n",
      "          [1] 👠 \u001b[31mMiss Scarlet\u001b[0m is in \u001b[30mLibrary\u001b[0m          \n",
      "\n",
      "Suspect\n",
      "\u001b[31m1)  \u001b[0m👠 \u001b[31mMiss Scarlet\u001b[0m\n",
      "\u001b[33m2)  \u001b[0m🧐 \u001b[33mColonel Mustard\u001b[0m\n",
      "\u001b[37m3)* \u001b[0m♡ \u001b[37m Mrs. White\u001b[0m\n",
      "\u001b[32m4)* \u001b[0m🐉 \u001b[32mMr. Green\u001b[0m\n",
      "\u001b[35m5)  \u001b[0m🍆 \u001b[35mProfessor Plum\u001b[0m\n",
      "\u001b[34m6)  \u001b[0m🦚 \u001b[34mMrs. Peacock\u001b[0m\n"
     ]
    },
    {
     "name": "stdin",
     "output_type": "stream",
     "text": [
      "Choose from 1 to 6:  2\n"
     ]
    },
    {
     "name": "stdout",
     "output_type": "stream",
     "text": [
      "\n",
      "\n",
      "Weapon\n",
      "\u001b[36m1)* \u001b[0m🔪 \u001b[36mKnife\u001b[0m\n",
      "\u001b[36m2)* \u001b[0m🔫 \u001b[36mRevolver\u001b[0m\n",
      "\u001b[36m3)  \u001b[0m🪢 \u001b[36mRope\u001b[0m\n",
      "\u001b[36m4)  \u001b[0m🔧 \u001b[36mWrench\u001b[0m\n",
      "\u001b[36m5)  \u001b[0m🕯️ \u001b[36mCandlestick\u001b[0m\n",
      "\u001b[36m6)  \u001b[0m🪠 \u001b[36mLead Pipe\u001b[0m\n"
     ]
    },
    {
     "name": "stdin",
     "output_type": "stream",
     "text": [
      "Choose from 1 to 6:  3\n"
     ]
    },
    {
     "name": "stdout",
     "output_type": "stream",
     "text": [
      "\n",
      "\n",
      "Move To\n",
      "\u001b[30m1)  \u001b[0m\u001b[30mLounge\u001b[0m\n",
      "\u001b[30m2)  \u001b[0m\u001b[30mLibrary\u001b[0m\n",
      "\u001b[30m3)  \u001b[0m\u001b[30mStudy\u001b[0m\n"
     ]
    },
    {
     "name": "stdin",
     "output_type": "stream",
     "text": [
      "Choose from 1 to 3:  2\n"
     ]
    },
    {
     "name": "stdout",
     "output_type": "stream",
     "text": [
      "player 1 suspects 🧐 \u001b[33mColonel Mustard\u001b[0m with the 🪢 \u001b[36mRope\u001b[0m in the \u001b[30mLibrary\u001b[0m\n",
      "\n",
      "\n",
      "Player 2 has 🧐 \u001b[33mColonel Mustard\u001b[0m\n",
      "\n",
      "          [1] 👠 \u001b[31mMiss Scarlet\u001b[0m is in \u001b[30mLibrary\u001b[0m          \n",
      "\n",
      "Suspect\n",
      "\u001b[31m1)  \u001b[0m👠 \u001b[31mMiss Scarlet\u001b[0m\n",
      "\u001b[33m2)* \u001b[0m🧐 \u001b[33mColonel Mustard\u001b[0m\n",
      "\u001b[37m3)* \u001b[0m♡ \u001b[37m Mrs. White\u001b[0m\n",
      "\u001b[32m4)* \u001b[0m🐉 \u001b[32mMr. Green\u001b[0m\n",
      "\u001b[35m5)  \u001b[0m🍆 \u001b[35mProfessor Plum\u001b[0m\n",
      "\u001b[34m6)  \u001b[0m🦚 \u001b[34mMrs. Peacock\u001b[0m\n"
     ]
    },
    {
     "name": "stdin",
     "output_type": "stream",
     "text": [
      "Choose from 1 to 6:  1\n"
     ]
    },
    {
     "name": "stdout",
     "output_type": "stream",
     "text": [
      "\n",
      "\n",
      "Weapon\n",
      "\u001b[36m1)* \u001b[0m🔪 \u001b[36mKnife\u001b[0m\n",
      "\u001b[36m2)* \u001b[0m🔫 \u001b[36mRevolver\u001b[0m\n",
      "\u001b[36m3)  \u001b[0m🪢 \u001b[36mRope\u001b[0m\n",
      "\u001b[36m4)  \u001b[0m🔧 \u001b[36mWrench\u001b[0m\n",
      "\u001b[36m5)  \u001b[0m🕯️ \u001b[36mCandlestick\u001b[0m\n",
      "\u001b[36m6)  \u001b[0m🪠 \u001b[36mLead Pipe\u001b[0m\n"
     ]
    },
    {
     "name": "stdin",
     "output_type": "stream",
     "text": [
      "Choose from 1 to 6:  3\n"
     ]
    },
    {
     "name": "stdout",
     "output_type": "stream",
     "text": [
      "\n",
      "\n",
      "Move To\n",
      "\u001b[30m1)  \u001b[0m\u001b[30mLounge\u001b[0m\n",
      "\u001b[30m2)  \u001b[0m\u001b[30mLibrary\u001b[0m\n",
      "\u001b[30m3)  \u001b[0m\u001b[30mStudy\u001b[0m\n"
     ]
    },
    {
     "name": "stdin",
     "output_type": "stream",
     "text": [
      "Choose from 1 to 3:  2\n"
     ]
    },
    {
     "name": "stdout",
     "output_type": "stream",
     "text": [
      "player 1 suspects 👠 \u001b[31mMiss Scarlet\u001b[0m with the 🪢 \u001b[36mRope\u001b[0m in the \u001b[30mLibrary\u001b[0m\n",
      "\n",
      "\n",
      "Player 3 has \u001b[30mLibrary\u001b[0m\n",
      "\n",
      "          [1] 👠 \u001b[31mMiss Scarlet\u001b[0m is in \u001b[30mLibrary\u001b[0m          \n",
      "\n",
      "Suspect\n",
      "\u001b[31m1)  \u001b[0m👠 \u001b[31mMiss Scarlet\u001b[0m\n",
      "\u001b[33m2)* \u001b[0m🧐 \u001b[33mColonel Mustard\u001b[0m\n",
      "\u001b[37m3)* \u001b[0m♡ \u001b[37m Mrs. White\u001b[0m\n",
      "\u001b[32m4)* \u001b[0m🐉 \u001b[32mMr. Green\u001b[0m\n",
      "\u001b[35m5)  \u001b[0m🍆 \u001b[35mProfessor Plum\u001b[0m\n",
      "\u001b[34m6)  \u001b[0m🦚 \u001b[34mMrs. Peacock\u001b[0m\n"
     ]
    },
    {
     "name": "stdin",
     "output_type": "stream",
     "text": [
      "Choose from 1 to 6:  1\n"
     ]
    },
    {
     "name": "stdout",
     "output_type": "stream",
     "text": [
      "\n",
      "\n",
      "Weapon\n",
      "\u001b[36m1)* \u001b[0m🔪 \u001b[36mKnife\u001b[0m\n",
      "\u001b[36m2)* \u001b[0m🔫 \u001b[36mRevolver\u001b[0m\n",
      "\u001b[36m3)  \u001b[0m🪢 \u001b[36mRope\u001b[0m\n",
      "\u001b[36m4)  \u001b[0m🔧 \u001b[36mWrench\u001b[0m\n",
      "\u001b[36m5)  \u001b[0m🕯️ \u001b[36mCandlestick\u001b[0m\n",
      "\u001b[36m6)  \u001b[0m🪠 \u001b[36mLead Pipe\u001b[0m\n"
     ]
    },
    {
     "name": "stdin",
     "output_type": "stream",
     "text": [
      "Choose from 1 to 6:  3\n"
     ]
    },
    {
     "name": "stdout",
     "output_type": "stream",
     "text": [
      "\n",
      "\n",
      "Move To\n",
      "\u001b[30m1)  \u001b[0m\u001b[30mLounge\u001b[0m\n",
      "\u001b[30m2)* \u001b[0m\u001b[30mLibrary\u001b[0m\n",
      "\u001b[30m3)  \u001b[0m\u001b[30mStudy\u001b[0m\n"
     ]
    },
    {
     "name": "stdin",
     "output_type": "stream",
     "text": [
      "Choose from 1 to 3:  1\n"
     ]
    },
    {
     "name": "stdout",
     "output_type": "stream",
     "text": [
      "player 1 suspects 👠 \u001b[31mMiss Scarlet\u001b[0m with the 🪢 \u001b[36mRope\u001b[0m in the \u001b[30mLounge\u001b[0m\n",
      "\n",
      "\n",
      "Player 4 has 👠 \u001b[31mMiss Scarlet\u001b[0m\n",
      "\n",
      "          [1] 👠 \u001b[31mMiss Scarlet\u001b[0m is in \u001b[30mLounge\u001b[0m           \n",
      "\n",
      "Suspect\n",
      "\u001b[31m1)* \u001b[0m👠 \u001b[31mMiss Scarlet\u001b[0m\n",
      "\u001b[33m2)* \u001b[0m🧐 \u001b[33mColonel Mustard\u001b[0m\n",
      "\u001b[37m3)* \u001b[0m♡ \u001b[37m Mrs. White\u001b[0m\n",
      "\u001b[32m4)* \u001b[0m🐉 \u001b[32mMr. Green\u001b[0m\n",
      "\u001b[35m5)  \u001b[0m🍆 \u001b[35mProfessor Plum\u001b[0m\n",
      "\u001b[34m6)  \u001b[0m🦚 \u001b[34mMrs. Peacock\u001b[0m\n"
     ]
    },
    {
     "name": "stdin",
     "output_type": "stream",
     "text": [
      "Choose from 1 to 6:  5\n"
     ]
    },
    {
     "name": "stdout",
     "output_type": "stream",
     "text": [
      "\n",
      "\n",
      "Weapon\n",
      "\u001b[36m1)* \u001b[0m🔪 \u001b[36mKnife\u001b[0m\n",
      "\u001b[36m2)* \u001b[0m🔫 \u001b[36mRevolver\u001b[0m\n",
      "\u001b[36m3)  \u001b[0m🪢 \u001b[36mRope\u001b[0m\n",
      "\u001b[36m4)  \u001b[0m🔧 \u001b[36mWrench\u001b[0m\n",
      "\u001b[36m5)  \u001b[0m🕯️ \u001b[36mCandlestick\u001b[0m\n",
      "\u001b[36m6)  \u001b[0m🪠 \u001b[36mLead Pipe\u001b[0m\n"
     ]
    },
    {
     "name": "stdin",
     "output_type": "stream",
     "text": [
      "Choose from 1 to 6:  3\n"
     ]
    },
    {
     "name": "stdout",
     "output_type": "stream",
     "text": [
      "\n",
      "\n",
      "Move To\n",
      "\u001b[30m1)  \u001b[0m\u001b[30mKitchen\u001b[0m\n",
      "\u001b[30m2)  \u001b[0m\u001b[30mLounge\u001b[0m\n",
      "\u001b[30m3)* \u001b[0m\u001b[30mLibrary\u001b[0m\n"
     ]
    },
    {
     "name": "stdin",
     "output_type": "stream",
     "text": [
      "Choose from 1 to 3:  2\n"
     ]
    },
    {
     "name": "stdout",
     "output_type": "stream",
     "text": [
      "player 1 suspects 🍆 \u001b[35mProfessor Plum\u001b[0m with the 🪢 \u001b[36mRope\u001b[0m in the \u001b[30mLounge\u001b[0m\n",
      "\n",
      "\n",
      "Player 4 has 🍆 \u001b[35mProfessor Plum\u001b[0m\n",
      "\n",
      "          [1] 👠 \u001b[31mMiss Scarlet\u001b[0m is in \u001b[30mLounge\u001b[0m           \n",
      "\n",
      "Suspect\n",
      "\u001b[31m1)* \u001b[0m👠 \u001b[31mMiss Scarlet\u001b[0m\n",
      "\u001b[33m2)* \u001b[0m🧐 \u001b[33mColonel Mustard\u001b[0m\n",
      "\u001b[37m3)* \u001b[0m♡ \u001b[37m Mrs. White\u001b[0m\n",
      "\u001b[32m4)* \u001b[0m🐉 \u001b[32mMr. Green\u001b[0m\n",
      "\u001b[35m5)* \u001b[0m🍆 \u001b[35mProfessor Plum\u001b[0m\n",
      "\u001b[34m6)  \u001b[0m🦚 \u001b[34mMrs. Peacock\u001b[0m\n"
     ]
    },
    {
     "name": "stdin",
     "output_type": "stream",
     "text": [
      "Choose from 1 to 6:  6\n"
     ]
    },
    {
     "name": "stdout",
     "output_type": "stream",
     "text": [
      "\n",
      "\n",
      "Weapon\n",
      "\u001b[36m1)* \u001b[0m🔪 \u001b[36mKnife\u001b[0m\n",
      "\u001b[36m2)* \u001b[0m🔫 \u001b[36mRevolver\u001b[0m\n",
      "\u001b[36m3)  \u001b[0m🪢 \u001b[36mRope\u001b[0m\n",
      "\u001b[36m4)  \u001b[0m🔧 \u001b[36mWrench\u001b[0m\n",
      "\u001b[36m5)  \u001b[0m🕯️ \u001b[36mCandlestick\u001b[0m\n",
      "\u001b[36m6)  \u001b[0m🪠 \u001b[36mLead Pipe\u001b[0m\n"
     ]
    },
    {
     "name": "stdin",
     "output_type": "stream",
     "text": [
      "Choose from 1 to 6:  3\n"
     ]
    },
    {
     "name": "stdout",
     "output_type": "stream",
     "text": [
      "\n",
      "\n",
      "Move To\n",
      "\u001b[30m1)  \u001b[0m\u001b[30mKitchen\u001b[0m\n",
      "\u001b[30m2)  \u001b[0m\u001b[30mLounge\u001b[0m\n",
      "\u001b[30m3)* \u001b[0m\u001b[30mLibrary\u001b[0m\n"
     ]
    },
    {
     "name": "stdin",
     "output_type": "stream",
     "text": [
      "Choose from 1 to 3:  2\n"
     ]
    },
    {
     "name": "stdout",
     "output_type": "stream",
     "text": [
      "player 1 suspects 🦚 \u001b[34mMrs. Peacock\u001b[0m with the 🪢 \u001b[36mRope\u001b[0m in the \u001b[30mLounge\u001b[0m\n"
     ]
    }
   ],
   "source": [
    "#| hide\n",
    "done = False\n",
    "\n",
    "\n",
    "sh = agame[1]\n",
    "\n",
    "printHand([keyLookUp(x) for x in sh],cardFull)\n",
    "\n",
    "while not done:\n",
    "    \n",
    "    ans = getPlay(player,agame,amoves)\n",
    "    agame = relocatePlayers(player , ans[0],ans[2],agame)\n",
    "    print(\"player \" + str(player) + \" suspects \" + showChoice(ans[0],ans[1],ans[2]))\n",
    "    check = getAnswer(player,agame,ans)\n",
    "    if check[0] < 0:\n",
    "        seen =  getSeen(player,agame, amoves)\n",
    "        exclude  = set(seen)\n",
    "        done = True\n",
    "        for x in keysForGuess(ans[0],ans[1],ans[2]):\n",
    "            if x in exclude:\n",
    "                print(\"\\n\\n gave a false one \" +  cardFull(keyLookUp(x)))\n",
    "                done = False\n",
    "        \n",
    "    else:\n",
    "        #(p,w,l,playerNum, c,y[0],y[1])\n",
    "        card = check[-1]\n",
    "        \n",
    "        amoves.append(check)\n",
    "        print(\"\\n\\nPlayer \" + str(check[-2]) + \" has \" + cardFull(keyLookUp(card)))\n",
    "        #printLocs(agame)\n",
    "       # player = player + 1\n",
    "        if player>len(agame)-1:\n",
    "           player = 1 \n",
    "    "
   ]
  },
  {
   "cell_type": "code",
   "execution_count": null,
   "metadata": {},
   "outputs": [
    {
     "name": "stdout",
     "output_type": "stream",
     "text": [
      "Solution\n",
      "🦚 \u001b[34mMrs. Peacock\u001b[0m, 🪢 \u001b[36mRope\u001b[0m, \u001b[30mLounge\u001b[0m\n",
      "\n",
      "          [1] 👠 \u001b[31mMiss Scarlet\u001b[0m is in \u001b[30mLibrary\u001b[0m          \n",
      "🔫 \u001b[36mRevolver\u001b[0m, 🔪 \u001b[36mKnife\u001b[0m, \u001b[30mHall\u001b[0m, 🐉 \u001b[32mMr. Green\u001b[0m, \u001b[30mBall Room\u001b[0m\n",
      "\n",
      "        [2] 🧐 \u001b[33mColonel Mustard\u001b[0m is in \u001b[30mLibrary\u001b[0m         \n",
      "\u001b[30mKitchen\u001b[0m, \u001b[30mStudy\u001b[0m, \u001b[30mConservatory\u001b[0m, 🧐 \u001b[33mColonel Mustard\u001b[0m, \u001b[30mBilliard Room\u001b[0m\n",
      "\n",
      "       [3] ♡ \u001b[37m Mrs. White\u001b[0m is in \u001b[30mBilliard Room\u001b[0m        \n",
      "🔧 \u001b[36mWrench\u001b[0m, \u001b[30mDining Room\u001b[0m, ♡ \u001b[37m Mrs. White\u001b[0m, \u001b[30mLibrary\u001b[0m\n",
      "\n",
      "            [4] 🐉 \u001b[32mMr. Green\u001b[0m is in \u001b[30mLounge\u001b[0m            \n",
      "🪠 \u001b[36mLead Pipe\u001b[0m, 👠 \u001b[31mMiss Scarlet\u001b[0m, 🍆 \u001b[35mProfessor Plum\u001b[0m, 🕯️ \u001b[36mCandlestick\u001b[0m\n"
     ]
    }
   ],
   "source": [
    "#| hide\n",
    "printGame(agame) "
   ]
  },
  {
   "cell_type": "code",
   "execution_count": null,
   "metadata": {},
   "outputs": [],
   "source": [
    "#| hide\n",
    "chooseCard(rooms,cardFull)"
   ]
  },
  {
   "cell_type": "code",
   "execution_count": null,
   "metadata": {},
   "outputs": [],
   "source": [
    "#| hide\n",
    "import nbdev; nbdev.nbdev_export()"
   ]
  }
 ],
 "metadata": {
  "kernelspec": {
   "display_name": "python3",
   "language": "python",
   "name": "python3"
  }
 },
 "nbformat": 4,
 "nbformat_minor": 4
}
