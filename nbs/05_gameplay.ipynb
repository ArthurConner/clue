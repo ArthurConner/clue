{
 "cells": [
  {
   "cell_type": "markdown",
   "metadata": {},
   "source": [
    "# gameplay\n",
    "\n",
    "> Fill in a module description here"
   ]
  },
  {
   "cell_type": "code",
   "execution_count": null,
   "metadata": {},
   "outputs": [],
   "source": [
    "#| default_exp gameplay"
   ]
  },
  {
   "cell_type": "code",
   "execution_count": null,
   "metadata": {},
   "outputs": [],
   "source": [
    "#| hide\n",
    "from nbdev.showdoc import *"
   ]
  },
  {
   "cell_type": "code",
   "execution_count": null,
   "metadata": {},
   "outputs": [],
   "source": [
    "%load_ext autoreload\n"
   ]
  },
  {
   "cell_type": "code",
   "execution_count": null,
   "metadata": {},
   "outputs": [],
   "source": [
    "%autoreload 2"
   ]
  },
  {
   "cell_type": "code",
   "execution_count": null,
   "metadata": {},
   "outputs": [],
   "source": [
    "#| export\n",
    "import clue.model as model\n",
    "import clue.strategies as strats\n",
    "import clue.ui as ui\n",
    "import clue.board as bd\n",
    "from random import choice,shuffle,choices\n",
    "import os"
   ]
  },
  {
   "cell_type": "code",
   "execution_count": null,
   "metadata": {},
   "outputs": [],
   "source": [
    "#| hide\n",
    "\n",
    "\n",
    "sboard = bd.Board()\n",
    "sState = sboard.updateState(4)\n"
   ]
  },
  {
   "cell_type": "code",
   "execution_count": null,
   "metadata": {},
   "outputs": [],
   "source": []
  },
  {
   "cell_type": "code",
   "execution_count": null,
   "metadata": {},
   "outputs": [],
   "source": [
    "\n",
    "\n"
   ]
  },
  {
   "cell_type": "code",
   "execution_count": null,
   "metadata": {},
   "outputs": [],
   "source": []
  },
  {
   "cell_type": "markdown",
   "metadata": {},
   "source": [
    "## Visual"
   ]
  },
  {
   "cell_type": "code",
   "execution_count": null,
   "metadata": {},
   "outputs": [],
   "source": [
    "#| export\n",
    "def showHist(state):\n",
    "    amoves = [x for x in state.moves if x[-3] == state.player]\n",
    "    ui.showMoves(state.player,amoves,len(state.game)-1)"
   ]
  },
  {
   "cell_type": "code",
   "execution_count": null,
   "metadata": {},
   "outputs": [],
   "source": [
    "#| export\n",
    "def playerName(i):\n",
    "    return ui.cardFull(model.cardLookup(1,i-1))\n",
    "    \n",
    "def runVisualGame( strats):\n",
    "    numPlayers = len(strats)\n",
    "    done = False\n",
    "    sBoard = bd.Board()\n",
    "    sState = sBoard.updateState(numPlayers)\n",
    "\n",
    "   \n",
    "             \n",
    "    while not done:\n",
    "        #print(seenCounts(player,agame,amoves))\n",
    "        #print(\"on player \",sState.player)\n",
    "        stratName, isUser, strat = strats[sState.player - 1]\n",
    "        \n",
    "        if isUser:\n",
    "            #ui.showMoves(player,amoves[-numPlayers:],numPlayers)\n",
    "            print(\"your moves:\")\n",
    "            showHist(sState)\n",
    "            print(\"your hand:\")\n",
    "            ui.printPlayerHand(sState)\n",
    "            print(\"last round:\")\n",
    "            ui.showMoves(sState.player,sState.moves[-numPlayers:],numPlayers)\n",
    "\n",
    "        #print(player,agame,amoves)\n",
    "        ans = strat(sState)\n",
    "        if isUser:\n",
    "            os.system(\"clear\")\n",
    "            #print(seenCounts(player,agame,amoves))\n",
    "            print( playerName(sState.player) + \" suspects \" + ui.showChoice(ans)+\".\")\n",
    "        sState = model.relocatePlayers(sState.player , ans[0],ans[2],sState)\n",
    "        #print( playerName(player) + \" suspects \" + ui.showChoice(ans)+\".\")\n",
    "        check = model.getAnswer(sState,ans)\n",
    "        \n",
    "        if check[0] < 0:\n",
    "            seen =  model.getSeen(sState)\n",
    "            exclude  = set(seen)\n",
    "            done = True\n",
    "            for x in model.keysForGuess(ans):\n",
    "                if x in exclude:\n",
    "                    print(\"\\n\\n\" + playerName(sState.player) + \" is not quite ready to accuse.\")\n",
    "                    done = False\n",
    "            \n",
    "        else:\n",
    "            #(p,w,l,playerNum, c,y[0],y[1])\n",
    "            card = check[-1]\n",
    "            \n",
    "            sState.moves.append(check)\n",
    "\n",
    "\n",
    "        if not done:\n",
    "            sState = model.bumpPlayer(sState)\n",
    "    \n",
    "    \n",
    "    ui.printGame(sState) \n",
    "    ui.showMoves(-1,sState.moves,numPlayers)\n",
    "    print(\"\\n\" + playerName(sState.player) + \" \" + stratName + \" won!\")\n",
    "    sBoard.showAll(sState)\n",
    "    return sState"
   ]
  },
  {
   "cell_type": "code",
   "execution_count": null,
   "metadata": {},
   "outputs": [],
   "source": [
    "#| export\n",
    "def quickGame(count):\n",
    "    p1 = (\"user\",True,strats.getPlay)\n",
    "    s1 = (\"simple\",False,strats.mimic(4,strats.rWalk))\n",
    "    hr1 = (\"half\",False,strats.halfRight(strats.rWalk))\n",
    "    shuffle(model.rooms)\n",
    "    s2 = (\"simple r\",False,strats.repeater([strats.mimic(-1,strats.rWalk) for x in range(4)]))\n",
    "    b2 = (\"better rZ\",False,strats.repeater([strats.mimic(8,strats.repelWalk) for x in range(4)]))\n",
    "\n",
    "    sList = [s1,s1,s1,s1,s2,s2,s2,b2,b2,hr1]\n",
    "    strategies = [p1]\n",
    "    while len(strategies) < count and len(strategies) < 7:\n",
    "        strategies.append(choice(sList))\n",
    "    shuffle(strategies)\n",
    "    runVisualGame(strategies)"
   ]
  },
  {
   "cell_type": "code",
   "execution_count": null,
   "metadata": {},
   "outputs": [
    {
     "name": "stdout",
     "output_type": "stream",
     "text": [
      "your moves:\n",
      "your hand:\n",
      "\u001b[36mBall Room\u001b[0m, 🔧 \u001b[36mWrench\u001b[0m, 🧐 \u001b[33mColonel Mustard\u001b[0m, \u001b[36mBilliard Room\u001b[0m\n",
      "last round:\n",
      "             Study                                              \n",
      "                 ▒▒▒                                            \n",
      "                 ▒░▒                                            \n",
      "                 ▒░▒                                            \n",
      "                 ▒░▒                                            \n",
      "                 ▒░▒                                            \n",
      "                 ▒░▒                                            \n",
      "                 ▒░▒                                            \n",
      "                 ▒░▒                                            \n",
      "         ▒▒▒▒▒▒▒▒▒░▒                                            \n",
      "   Hall  ▒░░░░░░░░░▒                                            \n",
      "         ▒░░░░░░░░░▒                                            \n",
      "        ▒▒░░░Lib░░░▒                                            \n",
      "        ▒░░░░👠░░░░▒                                            \n",
      "        ▒▒░░░░░░░░░▒                                            \n",
      "         ▒▒▒▒▒▒▒▒▒▒▒                                            \n",
      "👠 will race to:\n",
      "\n",
      "1 \u001b[36mLibrary\u001b[0m\n",
      "2 \u001b[36mStudy\u001b[0m\n",
      "3 \u001b[36mHall\u001b[0m\n"
     ]
    },
    {
     "name": "stdin",
     "output_type": "stream",
     "text": [
      "Choose from 1 to 3:  1\n"
     ]
    },
    {
     "name": "stdout",
     "output_type": "stream",
     "text": [
      "    People               Weapons\n",
      "--  -------------------  -------------\n",
      " 1  👠 \u001b[31mMiss Scarlet\u001b[0m      🔪 \u001b[36mDagger\u001b[0m\n",
      " 2  *🧐 \u001b[33mColonel Mustard\u001b[0m  🔫 \u001b[36mRevolver\u001b[0m\n",
      " 3  🥼 \u001b[37m Mrs. White\u001b[0m       🪢 \u001b[36mRope\u001b[0m\n",
      " 4  🐉 \u001b[32mMr. Green\u001b[0m         *🔧 \u001b[36mWrench\u001b[0m\n",
      " 5  🍆 \u001b[35mProfessor Plum\u001b[0m    🕯️ \u001b[36mCandlestick\u001b[0m\n",
      " 6  🦚 \u001b[34mMrs. Peacock\u001b[0m      🪠 \u001b[36mLead Pipe\u001b[0m\n"
     ]
    },
    {
     "name": "stdin",
     "output_type": "stream",
     "text": [
      " 5 5\n"
     ]
    },
    {
     "name": "stdout",
     "output_type": "stream",
     "text": [
      "\u001b[H\u001b[2J👠 \u001b[31mMiss Scarlet\u001b[0m suspects 🍆 \u001b[35mProfessor Plum\u001b[0m with the 🕯️ \u001b[36mCandlestick\u001b[0m in the \u001b[36mLibrary\u001b[0m.\n",
      "your moves:\n",
      "👠  asks (🍆 &  🕯️ in the Library) ------->👠🧐❓❓❓❓ shows \u001b[36mLibrary\u001b[0m\n",
      "your hand:\n",
      "\u001b[36mBall Room\u001b[0m, 🔧 \u001b[36mWrench\u001b[0m, 🧐 \u001b[33mColonel Mustard\u001b[0m, \u001b[36mBilliard Room\u001b[0m\n",
      "last round:\n",
      "👠  asks (🍆 &  🕯️ in the Library) ------->👠🧐❓❓❓ shows \u001b[36mLibrary\u001b[0m\n",
      "🧐  asks (🍆 &  🔧 in the Conservatory) -->👠🧐🥼🐉🍆\n",
      "🥼  asks (👠 &  🪢 in the Kitchen) ------->❓❓🥼🐉🍆\n",
      "🐉  asks (🍆 &  🔧 in the Ball Room) ----->👠❓❓🐉🍆\n",
      "🍆  asks (🍆 &  🪢 in the Ball Room) ----->👠❓❓❓🍆\n",
      "                     Consv                                      \n",
      "                      🧐                                        \n",
      "                       ▒▒▒                                      \n",
      "                       ▒░▒                                      \n",
      "                       ▒░▒                                      \n",
      "                       ▒░▒                                      \n",
      "                       ▒░▒                                      \n",
      "                       ▒░▒                                      \n",
      "                       ▒░▒                                      \n",
      "                       ▒░▒                 ▒▒▒▒▒▒▒▒▒▒▒▒         \n",
      "                       ▒░▒                 ▒░░░░░░░░░░▒         \n",
      "                       ▒░▒                 ▒░░░░░░░░░░▒         \n",
      "                       ▒░▒                 ▒░░░░░░░░░░▒         \n",
      "                       ▒░▒                 ▒░░░░░░░░░░▒         \n",
      "                       ▒░▒                 ▒░░Kitchen░▒         \n",
      "                       ▒░▒                 ▒░░👠🥼🦚░░▒         \n",
      "                       ▒░▒▒▒▒▒▒▒▒▒▒▒▒▒▒▒▒▒▒▒░░░░░░░░░░▒         \n",
      "                       ▒░░░░░░░░░░░░░░░░░░░░░░░░░░░░░░▒         \n",
      "                       ▒▒▒▒▒▒▒▒▒▒▒▒▒▒▒▒▒▒▒▒▒░░░░░░░░░░▒         \n",
      "                                           ▒▒▒▒░▒▒▒▒▒▒▒         \n",
      "                                              ▒░▒               \n",
      "                                              ▒░▒               \n",
      "                                              ▒▒▒               \n",
      "                                            Bill                \n",
      "👠 will stumble to:\n",
      "\n",
      "1 \u001b[36mKitchen\u001b[0m                 🥼\n",
      "2*\u001b[36mBilliard Room\u001b[0m\n",
      "3 \u001b[36mConservatory\u001b[0m\n"
     ]
    },
    {
     "name": "stdin",
     "output_type": "stream",
     "text": [
      "Choose from 1 to 3:  1\n"
     ]
    },
    {
     "name": "stdout",
     "output_type": "stream",
     "text": [
      "    People               Weapons\n",
      "--  -------------------  -----------------------------------------\n",
      " 1  👠 \u001b[31mMiss Scarlet\u001b[0m      🔪 \u001b[36mDagger\u001b[0m\n",
      " 2  *🧐 \u001b[33mColonel Mustard\u001b[0m  🔫 \u001b[36mRevolver\u001b[0m\n",
      " 3  🥼 \u001b[37m Mrs. White\u001b[0m       🪢 \u001b[36mRope\u001b[0m\n",
      " 4  🐉 \u001b[32mMr. Green\u001b[0m         *🔧 \u001b[36mWrench\u001b[0m                 🧐, 🥼, 🐉, 🍆\n",
      " 5  🍆 \u001b[35mProfessor Plum\u001b[0m    🕯️ \u001b[36mCandlestick\u001b[0m\n",
      " 6  🦚 \u001b[34mMrs. Peacock\u001b[0m      🪠 \u001b[36mLead Pipe\u001b[0m\n"
     ]
    },
    {
     "name": "stdin",
     "output_type": "stream",
     "text": [
      " 6 6\n"
     ]
    },
    {
     "name": "stdout",
     "output_type": "stream",
     "text": [
      "\u001b[H\u001b[2J👠 \u001b[31mMiss Scarlet\u001b[0m suspects 🦚 \u001b[34mMrs. Peacock\u001b[0m with the 🪠 \u001b[36mLead Pipe\u001b[0m in the \u001b[36mKitchen\u001b[0m.\n",
      "your moves:\n",
      "👠  asks (🍆 &  🕯️ in the Library) ------->👠🧐❓❓❓❓ shows \u001b[36mLibrary\u001b[0m\n",
      "👠  asks (🦚 &  🪠 in the Kitchen) ------->👠🧐🥼🐉❓❓ shows 🦚 \u001b[34mMrs. Peacock\u001b[0m\n",
      "your hand:\n",
      "\u001b[36mBall Room\u001b[0m, 🔧 \u001b[36mWrench\u001b[0m, 🧐 \u001b[33mColonel Mustard\u001b[0m, \u001b[36mBilliard Room\u001b[0m\n",
      "last round:\n",
      "👠  asks (🦚 &  🪠 in the Kitchen) ------->👠🧐🥼🐉❓ shows 🦚 \u001b[34mMrs. Peacock\u001b[0m\n",
      "🧐  asks (🍆 &  🔪 in the Lounge) -------->❓🧐🥼❓❓\n",
      "🥼  asks (🥼 &  🔧 in the Billiard Room) ->❓❓🥼🐉❓\n",
      "🐉  asks (🍆 &  🪢 in the Hall) ---------->👠🧐❓🐉🍆\n",
      "🍆  asks (🍆 &  🔪 in the Hall) ---------->👠🧐🥼❓🍆\n",
      "                     Consv                                      \n",
      "                       ▒▒▒                                      \n",
      "                       ▒░▒                                      \n",
      "                       ▒░▒                                      \n",
      "                       ▒░▒                                      \n",
      "                       ▒░▒                                      \n",
      "                       ▒░▒                                      \n",
      "                       ▒░▒                                      \n",
      "                       ▒░▒                 ▒▒▒▒▒▒▒▒▒▒▒▒         \n",
      "                       ▒░▒                 ▒░░░░░░░░░░▒         \n",
      "                       ▒░▒                 ▒░░░░░░░░░░▒         \n",
      "                       ▒░▒                 ▒░░░░░░░░░░▒         \n",
      "                       ▒░▒                 ▒░░░░░░░░░░▒         \n",
      "                       ▒░▒                 ▒░░Kitchen░▒         \n",
      "                       ▒░▒                 ▒░░░👠🦚░░░▒         \n",
      "                       ▒░▒▒▒▒▒▒▒▒▒▒▒▒▒▒▒▒▒▒▒░░░░🪠░░░░▒         \n",
      "                       ▒░░░░░░░░░░░░░░░░░░░░░░░░░░░░░░▒         \n",
      "                       ▒▒▒▒▒▒▒▒▒▒▒▒▒▒▒▒▒▒▒▒▒░░░░░░░░░░▒         \n",
      "                                           ▒▒▒▒░▒▒▒▒▒▒▒         \n",
      "                                              ▒░▒               \n",
      "                                              ▒░▒               \n",
      "                                              ▒▒▒               \n",
      "                                            Bill                \n",
      "                                             🥼                 \n",
      "                                             🔧                 \n",
      "👠 will walk to:\n",
      "\n",
      "1 \u001b[36mKitchen\u001b[0m                 🥼\n",
      "2*\u001b[36mBilliard Room\u001b[0m\n",
      "3 \u001b[36mConservatory\u001b[0m\n"
     ]
    },
    {
     "name": "stdin",
     "output_type": "stream",
     "text": [
      "Choose from 1 to 3:  1\n"
     ]
    },
    {
     "name": "stdout",
     "output_type": "stream",
     "text": [
      "    People                             Weapons\n",
      "--  ---------------------------------  -----------------------------------------\n",
      " 1  👠 \u001b[31mMiss Scarlet\u001b[0m                    🔪 \u001b[36mDagger\u001b[0m\n",
      " 2  *🧐 \u001b[33mColonel Mustard\u001b[0m                🔫 \u001b[36mRevolver\u001b[0m\n",
      " 3  🥼 \u001b[37m Mrs. White\u001b[0m                     🪢 \u001b[36mRope\u001b[0m                   🐉, 🍆\n",
      " 4  🐉 \u001b[32mMr. Green\u001b[0m                       *🔧 \u001b[36mWrench\u001b[0m                 🧐, 🥼, 🐉, 🍆\n",
      " 5  🍆 \u001b[35mProfessor Plum\u001b[0m                  🕯️ \u001b[36mCandlestick\u001b[0m\n",
      " 6  *🦚 \u001b[34mMrs. Peacock\u001b[0m           👠, 🧐  🪠 \u001b[36mLead Pipe\u001b[0m\n"
     ]
    },
    {
     "name": "stdin",
     "output_type": "stream",
     "text": [
      " 1 1\n"
     ]
    },
    {
     "name": "stdout",
     "output_type": "stream",
     "text": [
      "\u001b[H\u001b[2J👠 \u001b[31mMiss Scarlet\u001b[0m suspects 👠 \u001b[31mMiss Scarlet\u001b[0m with the 🔪 \u001b[36mDagger\u001b[0m in the \u001b[36mKitchen\u001b[0m.\n",
      "your moves:\n",
      "👠  asks (🍆 &  🕯️ in the Library) ------->👠🧐❓❓❓❓ shows \u001b[36mLibrary\u001b[0m\n",
      "👠  asks (🦚 &  🪠 in the Kitchen) ------->👠🧐🥼🐉❓❓ shows 🦚 \u001b[34mMrs. Peacock\u001b[0m\n",
      "👠  asks (👠 &  🔪 in the Kitchen) ------->👠🧐🥼❓❓❓ shows 👠 \u001b[31mMiss Scarlet\u001b[0m\n",
      "your hand:\n",
      "\u001b[36mBall Room\u001b[0m, 🔧 \u001b[36mWrench\u001b[0m, 🧐 \u001b[33mColonel Mustard\u001b[0m, \u001b[36mBilliard Room\u001b[0m\n",
      "last round:\n",
      "👠  asks (👠 &  🔪 in the Kitchen) ------->👠🧐🥼❓❓ shows 👠 \u001b[31mMiss Scarlet\u001b[0m\n",
      "🧐  asks (🥼 &  🪠 in the Study) --------->❓🧐🥼🐉❓\n",
      "🥼  asks (🥼 &  🪠 in the Library) ------->❓❓🥼🐉❓\n",
      "🐉  asks (🍆 &  🪠 in the Ball Room) ----->👠❓❓🐉🍆\n",
      "🍆  asks (🥼 &  🪠 in the Billiard Room) ->👠❓❓❓🍆\n",
      "                     Consv                                      \n",
      "                       ▒▒▒                                      \n",
      "                       ▒░▒                                      \n",
      "                       ▒░▒                                      \n",
      "                       ▒░▒                                      \n",
      "                       ▒░▒                                      \n",
      "                       ▒░▒                                      \n",
      "                       ▒░▒                                      \n",
      "                       ▒░▒                 ▒▒▒▒▒▒▒▒▒▒▒▒         \n",
      "                       ▒░▒                 ▒░░░░░░░░░░▒         \n",
      "                       ▒░▒                 ▒░░░░░░░░░░▒         \n",
      "                       ▒░▒                 ▒░░░░░░░░░░▒         \n",
      "                       ▒░▒                 ▒░░░░░░░░░░▒         \n",
      "                       ▒░▒                 ▒░░Kitchen░▒         \n",
      "                       ▒░▒                 ▒░░░👠🦚░░░▒         \n",
      "                       ▒░▒▒▒▒▒▒▒▒▒▒▒▒▒▒▒▒▒▒▒░░░░🔪░░░░▒         \n",
      "                       ▒░░░░░░░░░░░░░░░░░░░░░░░░░░░░░░▒         \n",
      "                       ▒▒▒▒▒▒▒▒▒▒▒▒▒▒▒▒▒▒▒▒▒░░░░░░░░░░▒         \n",
      "                                           ▒▒▒▒░▒▒▒▒▒▒▒         \n",
      "                                              ▒░▒               \n",
      "                                              ▒░▒               \n",
      "                                              ▒▒▒               \n",
      "                                            Bill                \n",
      "                                            🥼🍆                \n",
      "                                            🔧🪠                \n",
      "👠 will dash to:\n",
      "\n",
      "1 \u001b[36mKitchen\u001b[0m                 🥼\n",
      "2*\u001b[36mBilliard Room\u001b[0m           🍆\n",
      "3 \u001b[36mConservatory\u001b[0m\n"
     ]
    },
    {
     "name": "stdin",
     "output_type": "stream",
     "text": [
      "Choose from 1 to 3:  1\n"
     ]
    },
    {
     "name": "stdout",
     "output_type": "stream",
     "text": [
      "    People                             Weapons\n",
      "--  ---------------------------------  -----------------------------------------\n",
      " 1  *👠 \u001b[31mMiss Scarlet\u001b[0m           👠      🔪 \u001b[36mDagger\u001b[0m\n",
      " 2  *🧐 \u001b[33mColonel Mustard\u001b[0m                🔫 \u001b[36mRevolver\u001b[0m\n",
      " 3  🥼 \u001b[37m Mrs. White\u001b[0m            🧐       🪢 \u001b[36mRope\u001b[0m                   🐉, 🍆\n",
      " 4  🐉 \u001b[32mMr. Green\u001b[0m                       *🔧 \u001b[36mWrench\u001b[0m                 🧐, 🥼, 🐉, 🍆\n",
      " 5  🍆 \u001b[35mProfessor Plum\u001b[0m                  🕯️ \u001b[36mCandlestick\u001b[0m\n",
      " 6  *🦚 \u001b[34mMrs. Peacock\u001b[0m           👠, 🧐  🪠 \u001b[36mLead Pipe\u001b[0m\n"
     ]
    },
    {
     "name": "stdin",
     "output_type": "stream",
     "text": [
      " 3 3\n"
     ]
    },
    {
     "name": "stdout",
     "output_type": "stream",
     "text": [
      "\u001b[H\u001b[2J👠 \u001b[31mMiss Scarlet\u001b[0m suspects 🥼 \u001b[37m Mrs. White\u001b[0m with the 🪢 \u001b[36mRope\u001b[0m in the \u001b[36mKitchen\u001b[0m.\n",
      "your moves:\n",
      "👠  asks (🍆 &  🕯️ in the Library) ------->👠🧐❓❓❓❓ shows \u001b[36mLibrary\u001b[0m\n",
      "👠  asks (🦚 &  🪠 in the Kitchen) ------->👠🧐🥼🐉❓❓ shows 🦚 \u001b[34mMrs. Peacock\u001b[0m\n",
      "👠  asks (👠 &  🔪 in the Kitchen) ------->👠🧐🥼❓❓❓ shows 👠 \u001b[31mMiss Scarlet\u001b[0m\n",
      "👠  asks (🥼 &  🪢 in the Kitchen) ------->👠🧐❓❓❓❓ shows 🪢 \u001b[36mRope\u001b[0m\n",
      "your hand:\n",
      "\u001b[36mBall Room\u001b[0m, 🔧 \u001b[36mWrench\u001b[0m, 🧐 \u001b[33mColonel Mustard\u001b[0m, \u001b[36mBilliard Room\u001b[0m\n",
      "last round:\n",
      "👠  asks (🥼 &  🪢 in the Kitchen) ------->👠🧐❓❓❓ shows 🪢 \u001b[36mRope\u001b[0m\n",
      "🧐  asks (🧐 &  🕯️ in the Library) ------->❓🧐🥼❓❓\n",
      "🥼  asks (🦚 &  🔫 in the Conservatory) -->❓❓🥼🐉❓\n",
      "🐉  asks (🍆 &  🕯️ in the Billiard Room) ->👠❓❓🐉🍆\n",
      "🍆  asks (🥼 &  🪠 in the Kitchen) ------->👠🧐🥼🐉🍆\n",
      "                     Consv                                      \n",
      "                      🦚                                        \n",
      "                      🔫                                        \n",
      "                       ▒▒▒                                      \n",
      "                       ▒░▒                                      \n",
      "                       ▒░▒                                      \n",
      "                       ▒░▒                                      \n",
      "                       ▒░▒                                      \n",
      "                       ▒░▒                                      \n",
      "                       ▒░▒                                      \n",
      "                       ▒░▒                 ▒▒▒▒▒▒▒▒▒▒▒▒         \n",
      "                       ▒░▒                 ▒░░░░░░░░░░▒         \n",
      "                       ▒░▒                 ▒░░░░░░░░░░▒         \n",
      "                       ▒░▒                 ▒░░░░░░░░░░▒         \n",
      "                       ▒░▒                 ▒░░░░░░░░░░▒         \n",
      "                       ▒░▒                 ▒░░Kitchen░▒         \n",
      "                       ▒░▒                 ▒░░👠🥼🍆░░▒         \n",
      "                       ▒░▒▒▒▒▒▒▒▒▒▒▒▒▒▒▒▒▒▒▒░░🔪🪢🪠░░▒         \n",
      "                       ▒░░░░░░░░░░░░░░░░░░░░░░░░░░░░░░▒         \n",
      "                       ▒▒▒▒▒▒▒▒▒▒▒▒▒▒▒▒▒▒▒▒▒░░░░░░░░░░▒         \n",
      "                                           ▒▒▒▒░▒▒▒▒▒▒▒         \n",
      "                                              ▒░▒               \n",
      "                                              ▒░▒               \n",
      "                                              ▒▒▒               \n",
      "                                            Bill                \n",
      "                                             🐉                 \n",
      "                                             🔧🕯️                \n",
      "👠 will totter to:\n",
      "\n",
      "1 \u001b[36mKitchen\u001b[0m                 🥼\n",
      "2*\u001b[36mBilliard Room\u001b[0m           🐉, 🍆\n",
      "3 \u001b[36mConservatory\u001b[0m\n"
     ]
    },
    {
     "name": "stdin",
     "output_type": "stream",
     "text": [
      "Choose from 1 to 3:  1\n"
     ]
    },
    {
     "name": "stdout",
     "output_type": "stream",
     "text": [
      "    People                                Weapons\n",
      "--  ------------------------------------  -----------------------------------------\n",
      " 1  *👠 \u001b[31mMiss Scarlet\u001b[0m           👠         🔪 \u001b[36mDagger\u001b[0m\n",
      " 2  *🧐 \u001b[33mColonel Mustard\u001b[0m                   🔫 \u001b[36mRevolver\u001b[0m\n",
      " 3  🥼 \u001b[37m Mrs. White\u001b[0m            👠, 🧐, 🍆  *🪢 \u001b[36mRope\u001b[0m                   🐉, 🍆\n",
      " 4  🐉 \u001b[32mMr. Green\u001b[0m                          *🔧 \u001b[36mWrench\u001b[0m                 🧐, 🥼, 🐉, 🍆\n",
      " 5  🍆 \u001b[35mProfessor Plum\u001b[0m                     🕯️ \u001b[36mCandlestick\u001b[0m\n",
      " 6  *🦚 \u001b[34mMrs. Peacock\u001b[0m           👠, 🧐     🪠 \u001b[36mLead Pipe\u001b[0m\n"
     ]
    },
    {
     "name": "stdin",
     "output_type": "stream",
     "text": [
      " 3 2\n"
     ]
    },
    {
     "name": "stdout",
     "output_type": "stream",
     "text": [
      "\u001b[H\u001b[2J👠 \u001b[31mMiss Scarlet\u001b[0m suspects 🥼 \u001b[37m Mrs. White\u001b[0m with the 🔫 \u001b[36mRevolver\u001b[0m in the \u001b[36mKitchen\u001b[0m.\n",
      "your moves:\n",
      "👠  asks (🍆 &  🕯️ in the Library) ------->👠🧐❓❓❓❓ shows \u001b[36mLibrary\u001b[0m\n",
      "👠  asks (🦚 &  🪠 in the Kitchen) ------->👠🧐🥼🐉❓❓ shows 🦚 \u001b[34mMrs. Peacock\u001b[0m\n",
      "👠  asks (👠 &  🔪 in the Kitchen) ------->👠🧐🥼❓❓❓ shows 👠 \u001b[31mMiss Scarlet\u001b[0m\n",
      "👠  asks (🥼 &  🪢 in the Kitchen) ------->👠🧐❓❓❓❓ shows 🪢 \u001b[36mRope\u001b[0m\n",
      "👠  asks (🥼 &  🔫 in the Kitchen) ------->👠🧐❓❓❓❓ shows 🔫 \u001b[36mRevolver\u001b[0m\n",
      "your hand:\n",
      "\u001b[36mBall Room\u001b[0m, 🔧 \u001b[36mWrench\u001b[0m, 🧐 \u001b[33mColonel Mustard\u001b[0m, \u001b[36mBilliard Room\u001b[0m\n",
      "last round:\n",
      "👠  asks (🥼 &  🔫 in the Kitchen) ------->👠🧐❓❓❓ shows 🔫 \u001b[36mRevolver\u001b[0m\n",
      "🧐  asks (🦚 &  🪠 in the Study) --------->❓🧐🥼🐉❓\n",
      "🥼  asks (🥼 &  🔪 in the Conservatory) -->❓❓🥼🐉❓\n",
      "🐉  asks (🐉 &  🔫 in the Kitchen) ------->❓❓❓🐉🍆\n",
      "🍆  asks (🍆 &  🔫 in the Conservatory) -->👠🧐❓❓🍆\n",
      "                     Consv                                      \n",
      "                     🥼🍆                                       \n",
      "                     🔪🔫                                       \n",
      "                       ▒▒▒                                      \n",
      "                       ▒░▒                                      \n",
      "                       ▒░▒                                      \n",
      "                       ▒░▒                                      \n",
      "                       ▒░▒                                      \n",
      "                       ▒░▒                                      \n",
      "                       ▒░▒                                      \n",
      "                       ▒░▒                 ▒▒▒▒▒▒▒▒▒▒▒▒         \n",
      "                       ▒░▒                 ▒░░░░░░░░░░▒         \n",
      "                       ▒░▒                 ▒░░░░░░░░░░▒         \n",
      "                       ▒░▒                 ▒░░░░░░░░░░▒         \n",
      "                       ▒░▒                 ▒░░░░░░░░░░▒         \n",
      "                       ▒░▒                 ▒░░Kitchen░▒         \n",
      "                       ▒░▒                 ▒░░░👠🐉░░░▒         \n",
      "                       ▒░▒▒▒▒▒▒▒▒▒▒▒▒▒▒▒▒▒▒▒░░░░🪢░░░░▒         \n",
      "                       ▒░░░░░░░░░░░░░░░░░░░░░░░░░░░░░░▒         \n",
      "                       ▒▒▒▒▒▒▒▒▒▒▒▒▒▒▒▒▒▒▒▒▒░░░░░░░░░░▒         \n",
      "                                           ▒▒▒▒░▒▒▒▒▒▒▒         \n",
      "                                              ▒░▒               \n",
      "                                              ▒░▒               \n",
      "                                              ▒▒▒               \n",
      "                                            Bill                \n",
      "                                             🔧🕯️                \n",
      "👠 will staggar to:\n",
      "\n",
      "1 \u001b[36mKitchen\u001b[0m                 🥼\n",
      "2*\u001b[36mBilliard Room\u001b[0m           🐉, 🍆\n",
      "3 \u001b[36mConservatory\u001b[0m\n"
     ]
    },
    {
     "name": "stdin",
     "output_type": "stream",
     "text": [
      "Choose from 1 to 3:  1\n"
     ]
    },
    {
     "name": "stdout",
     "output_type": "stream",
     "text": [
      "    People                                Weapons\n",
      "--  ------------------------------------  -----------------------------------------\n",
      " 1  *👠 \u001b[31mMiss Scarlet\u001b[0m           👠         🔪 \u001b[36mDagger\u001b[0m\n",
      " 2  *🧐 \u001b[33mColonel Mustard\u001b[0m                   *🔫 \u001b[36mRevolver\u001b[0m               🍆\n",
      " 3  🥼 \u001b[37m Mrs. White\u001b[0m            👠, 🧐, 🍆  *🪢 \u001b[36mRope\u001b[0m                   🐉, 🍆\n",
      " 4  🐉 \u001b[32mMr. Green\u001b[0m                          *🔧 \u001b[36mWrench\u001b[0m                 🧐, 🥼, 🐉, 🍆\n",
      " 5  🍆 \u001b[35mProfessor Plum\u001b[0m                     🕯️ \u001b[36mCandlestick\u001b[0m\n",
      " 6  *🦚 \u001b[34mMrs. Peacock\u001b[0m           👠, 🧐     🪠 \u001b[36mLead Pipe\u001b[0m\n"
     ]
    },
    {
     "name": "stdin",
     "output_type": "stream",
     "text": [
      " 3 1\n"
     ]
    },
    {
     "name": "stdout",
     "output_type": "stream",
     "text": [
      "\u001b[H\u001b[2J👠 \u001b[31mMiss Scarlet\u001b[0m suspects 🥼 \u001b[37m Mrs. White\u001b[0m with the 🔪 \u001b[36mDagger\u001b[0m in the \u001b[36mKitchen\u001b[0m.\n",
      "\n",
      "\n",
      "🥼 \u001b[37m Mrs. White\u001b[0m is not quite ready to accuse.\n",
      "your moves:\n",
      "👠  asks (🍆 &  🕯️ in the Library) ------->👠🧐❓❓❓❓ shows \u001b[36mLibrary\u001b[0m\n",
      "👠  asks (🦚 &  🪠 in the Kitchen) ------->👠🧐🥼🐉❓❓ shows 🦚 \u001b[34mMrs. Peacock\u001b[0m\n",
      "👠  asks (👠 &  🔪 in the Kitchen) ------->👠🧐🥼❓❓❓ shows 👠 \u001b[31mMiss Scarlet\u001b[0m\n",
      "👠  asks (🥼 &  🪢 in the Kitchen) ------->👠🧐❓❓❓❓ shows 🪢 \u001b[36mRope\u001b[0m\n",
      "👠  asks (🥼 &  🔫 in the Kitchen) ------->👠🧐❓❓❓❓ shows 🔫 \u001b[36mRevolver\u001b[0m\n",
      "👠  asks (🥼 &  🔪 in the Kitchen) ------->👠🧐🥼🐉❓❓ shows 🔪 \u001b[36mDagger\u001b[0m\n",
      "your hand:\n",
      "\u001b[36mBall Room\u001b[0m, 🔧 \u001b[36mWrench\u001b[0m, 🧐 \u001b[33mColonel Mustard\u001b[0m, \u001b[36mBilliard Room\u001b[0m\n",
      "last round:\n",
      "🍆  asks (🍆 &  🔫 in the Conservatory) -->👠🧐❓❓🍆\n",
      "👠  asks (🥼 &  🔪 in the Kitchen) ------->👠🧐🥼🐉❓ shows 🔪 \u001b[36mDagger\u001b[0m\n",
      "🧐  asks (🍆 &  🔪 in the Library) ------->❓🧐🥼🐉❓\n",
      "🐉  asks (🐉 &  🔫 in the Conservatory) -->👠🧐❓🐉🍆\n",
      "🍆  asks (🧐 &  🔪 in the Conservatory) -->👠❓❓❓🍆\n",
      "                     Consv                                      \n",
      "                   🧐🥼🐉🍆                                     \n",
      "                     🔪🔫                                       \n",
      "                       ▒▒▒                                      \n",
      "                       ▒░▒                                      \n",
      "                       ▒░▒                                      \n",
      "                       ▒░▒                                      \n",
      "                       ▒░▒                                      \n",
      "                       ▒░▒                                      \n",
      "                       ▒░▒                                      \n",
      "                       ▒░▒                 ▒▒▒▒▒▒▒▒▒▒▒▒         \n",
      "                       ▒░▒                 ▒░░░░░░░░░░▒         \n",
      "                       ▒░▒                 ▒░░░░░░░░░░▒         \n",
      "                       ▒░▒                 ▒░░░░░░░░░░▒         \n",
      "                       ▒░▒                 ▒░░░░░░░░░░▒         \n",
      "                       ▒░▒                 ▒░░Kitchen░▒         \n",
      "                       ▒░▒                 ▒░░░░👠░░░░▒         \n",
      "                       ▒░▒▒▒▒▒▒▒▒▒▒▒▒▒▒▒▒▒▒▒░░░░🪢░░░░▒         \n",
      "                       ▒░░░░░░░░░░░░░░░░░░░░░░░░░░░░░░▒         \n",
      "                       ▒▒▒▒▒▒▒▒▒▒▒▒▒▒▒▒▒▒▒▒▒░░░░░░░░░░▒         \n",
      "                                           ▒▒▒▒░▒▒▒▒▒▒▒         \n",
      "                                              ▒░▒               \n",
      "                                              ▒░▒               \n",
      "                                              ▒▒▒               \n",
      "                                            Bill                \n",
      "                                             🔧🕯️                \n",
      "👠 will sprint to:\n",
      "\n",
      "1 \u001b[36mKitchen\u001b[0m                 🥼\n",
      "2*\u001b[36mBilliard Room\u001b[0m           🐉, 🍆\n",
      "3 \u001b[36mConservatory\u001b[0m\n"
     ]
    },
    {
     "name": "stdin",
     "output_type": "stream",
     "text": [
      "Choose from 1 to 3:  1\n"
     ]
    },
    {
     "name": "stdout",
     "output_type": "stream",
     "text": [
      "    People                                Weapons\n",
      "--  ------------------------------------  -----------------------------------------\n",
      " 1  *👠 \u001b[31mMiss Scarlet\u001b[0m           👠         *🔪 \u001b[36mDagger\u001b[0m                 👠, 🧐\n",
      " 2  *🧐 \u001b[33mColonel Mustard\u001b[0m        🍆         *🔫 \u001b[36mRevolver\u001b[0m               🍆\n",
      " 3  🥼 \u001b[37m Mrs. White\u001b[0m            👠, 🧐, 🍆  *🪢 \u001b[36mRope\u001b[0m                   🐉, 🍆\n",
      " 4  🐉 \u001b[32mMr. Green\u001b[0m              🐉, 🍆      *🔧 \u001b[36mWrench\u001b[0m                 🧐, 🥼, 🐉, 🍆\n",
      " 5  🍆 \u001b[35mProfessor Plum\u001b[0m                     🕯️ \u001b[36mCandlestick\u001b[0m\n",
      " 6  *🦚 \u001b[34mMrs. Peacock\u001b[0m           👠, 🧐     🪠 \u001b[36mLead Pipe\u001b[0m\n"
     ]
    },
    {
     "name": "stdin",
     "output_type": "stream",
     "text": [
      " 3 5\n"
     ]
    },
    {
     "name": "stdout",
     "output_type": "stream",
     "text": [
      "\u001b[H\u001b[2J👠 \u001b[31mMiss Scarlet\u001b[0m suspects 🥼 \u001b[37m Mrs. White\u001b[0m with the 🕯️ \u001b[36mCandlestick\u001b[0m in the \u001b[36mKitchen\u001b[0m.\n",
      "your moves:\n",
      "👠  asks (🍆 &  🕯️ in the Library) ------->👠🧐❓❓❓❓ shows \u001b[36mLibrary\u001b[0m\n",
      "👠  asks (🦚 &  🪠 in the Kitchen) ------->👠🧐🥼🐉❓❓ shows 🦚 \u001b[34mMrs. Peacock\u001b[0m\n",
      "👠  asks (👠 &  🔪 in the Kitchen) ------->👠🧐🥼❓❓❓ shows 👠 \u001b[31mMiss Scarlet\u001b[0m\n",
      "👠  asks (🥼 &  🪢 in the Kitchen) ------->👠🧐❓❓❓❓ shows 🪢 \u001b[36mRope\u001b[0m\n",
      "👠  asks (🥼 &  🔫 in the Kitchen) ------->👠🧐❓❓❓❓ shows 🔫 \u001b[36mRevolver\u001b[0m\n",
      "👠  asks (🥼 &  🔪 in the Kitchen) ------->👠🧐🥼🐉❓❓ shows 🔪 \u001b[36mDagger\u001b[0m\n",
      "👠  asks (🥼 &  🕯️ in the Kitchen) ------->👠🧐🥼❓❓❓ shows 🕯️ \u001b[36mCandlestick\u001b[0m\n",
      "your hand:\n",
      "\u001b[36mBall Room\u001b[0m, 🔧 \u001b[36mWrench\u001b[0m, 🧐 \u001b[33mColonel Mustard\u001b[0m, \u001b[36mBilliard Room\u001b[0m\n",
      "last round:\n",
      "👠  asks (🥼 &  🕯️ in the Kitchen) ------->👠🧐🥼❓❓ shows 🕯️ \u001b[36mCandlestick\u001b[0m\n",
      "🧐  asks (🍆 &  🪠 in the Kitchen) ------->❓🧐🥼🐉🍆\n",
      "🥼  asks (🥼 &  🪠 in the Conservatory) -->❓❓🥼🐉❓\n",
      "🐉  asks (👠 &  🕯️ in the Lounge) -------->👠🧐🥼🐉🍆\n",
      "🍆  asks (🦚 &  🔪 in the Conservatory) -->👠🧐🥼🐉🍆\n",
      "           ▒▒▒▒▒▒▒▒                                             \n",
      "           ▒░░░░░░▒                                             \n",
      "           ▒░░░░░░▒                                             \n",
      "           ▒░░░░░░▒▒▒▒▒▒▒▒▒                                     \n",
      "           ▒Lounge░░░░░░░░▒                                     \n",
      "           ▒░👠🐉░▒▒▒▒▒▒▒░▒                                     \n",
      "           ▒░░░🕯️░░▒     ▒░▒                                     \n",
      "           ▒░░░░░░▒▒▒   ▒░▒                                     \n",
      "           ▒▒▒▒▒▒░▒░▒   ▒░▒                                     \n",
      "                ▒░▒░▒   ▒░▒                                     \n",
      "                ▒░▒▒▒   ▒▒▒                                     \n",
      "                ▒░▒                                             \n",
      "                ▒░▒                                             \n",
      "             Study▒                                             \n",
      "                ▒░▒  Consv                                      \n",
      "                ▒░▒ 🥼🍆🦚                                      \n",
      "                ▒░▒ 🔪🔫🪠                                      \n",
      "                ▒░▒                                             \n",
      "                ▒░▒                                             \n",
      "                ▒░▒                                             \n",
      "                ▒░▒                                             \n",
      "                ▒░▒                                             \n",
      "                ▒░▒                                             \n",
      "                ▒░▒                                             \n",
      "                ▒░▒                                             \n",
      "                ▒░▒                                             \n",
      "                ▒░▒                                             \n",
      "                ▒░▒                                             \n",
      "                ▒░▒                                             \n",
      "                ▒░▒                                             \n",
      "                ▒░▒                                             \n",
      "                ▒░▒                                             \n",
      "                ▒░▒                                             \n",
      "                ▒░▒                                             \n",
      "                ▒░▒                                             \n",
      "                ▒░▒                                             \n",
      "                ▒░▒                                             \n",
      "                ▒▒▒                                             \n",
      "              Dining                                            \n",
      "👠 will race to:\n",
      "\n",
      "1 \u001b[36mLounge\u001b[0m\n",
      "2 \u001b[36mDining Room\u001b[0m\n",
      "3 \u001b[36mStudy\u001b[0m\n",
      "4 \u001b[36mConservatory\u001b[0m\n"
     ]
    },
    {
     "name": "stdin",
     "output_type": "stream",
     "text": [
      "Choose from 1 to 4:  1\n"
     ]
    },
    {
     "name": "stdout",
     "output_type": "stream",
     "text": [
      "    People                                 Weapons\n",
      "--  -------------------------------------  -----------------------------------------\n",
      " 1  *👠 \u001b[31mMiss Scarlet\u001b[0m           👠          *🔪 \u001b[36mDagger\u001b[0m                 👠, 🧐\n",
      " 2  *🧐 \u001b[33mColonel Mustard\u001b[0m        🍆          *🔫 \u001b[36mRevolver\u001b[0m               🍆\n",
      " 3  🥼 \u001b[37m Mrs. White\u001b[0m            👠, 🧐, 🍆   *🪢 \u001b[36mRope\u001b[0m                   🐉, 🍆\n",
      " 4  🐉 \u001b[32mMr. Green\u001b[0m              🐉, 🍆       *🔧 \u001b[36mWrench\u001b[0m                 🧐, 🥼, 🐉, 🍆\n",
      " 5  🍆 \u001b[35mProfessor Plum\u001b[0m                      *🕯️ \u001b[36mCandlestick\u001b[0m           👠, 🐉, 🍆\n",
      " 6  *🦚 \u001b[34mMrs. Peacock\u001b[0m           👠, 🧐, 🍆  🪠 \u001b[36mLead Pipe\u001b[0m\n"
     ]
    },
    {
     "name": "stdin",
     "output_type": "stream",
     "text": [
      " 3 6\n"
     ]
    },
    {
     "name": "stdout",
     "output_type": "stream",
     "text": [
      "\u001b[H\u001b[2J👠 \u001b[31mMiss Scarlet\u001b[0m suspects 🥼 \u001b[37m Mrs. White\u001b[0m with the 🪠 \u001b[36mLead Pipe\u001b[0m in the \u001b[36mLounge\u001b[0m.\n",
      "Solution\n",
      "🍆 \u001b[35mProfessor Plum\u001b[0m, 🪠 \u001b[36mLead Pipe\u001b[0m, \u001b[36mConservatory\u001b[0m\n",
      "\n",
      "           [1] 👠 \u001b[31mMiss Scarlet\u001b[0m is in \u001b[36mStudy\u001b[0m           \n",
      "\u001b[36mBall Room\u001b[0m, 🔧 \u001b[36mWrench\u001b[0m, 🧐 \u001b[33mColonel Mustard\u001b[0m, \u001b[36mBilliard Room\u001b[0m\n",
      "\n",
      "      [2] 🧐 \u001b[33mColonel Mustard\u001b[0m is in \u001b[36mConservatory\u001b[0m      \n",
      "🪢 \u001b[36mRope\u001b[0m, 🐉 \u001b[32mMr. Green\u001b[0m, \u001b[36mLibrary\u001b[0m, 🔫 \u001b[36mRevolver\u001b[0m\n",
      "\n",
      "        [3] 🥼 \u001b[37m Mrs. White\u001b[0m is in \u001b[36mDining Room\u001b[0m         \n",
      "\u001b[36mLounge\u001b[0m, 👠 \u001b[31mMiss Scarlet\u001b[0m, 🕯️ \u001b[36mCandlestick\u001b[0m, \u001b[36mHall\u001b[0m\n",
      "\n",
      "            [4] 🐉 \u001b[32mMr. Green\u001b[0m is in \u001b[36mStudy\u001b[0m             \n",
      "🔪 \u001b[36mDagger\u001b[0m, 🦚 \u001b[34mMrs. Peacock\u001b[0m, 🥼 \u001b[37m Mrs. White\u001b[0m\n",
      "\n",
      "      [5] 🍆 \u001b[35mProfessor Plum\u001b[0m is in \u001b[36mConservatory\u001b[0m       \n",
      "\u001b[36mDining Room\u001b[0m, \u001b[36mKitchen\u001b[0m, \u001b[36mStudy\u001b[0m\n",
      "👠  asks (🍆 &  🕯️ in the Library) ------->👠🧐❓❓❓ shows \u001b[36mLibrary\u001b[0m\n",
      "🧐  asks (🍆 &  🔧 in the Conservatory) -->👠🧐🥼🐉🍆 shows 🔧 \u001b[36mWrench\u001b[0m\n",
      "🥼  asks (👠 &  🪢 in the Kitchen) ------->❓❓🥼🐉🍆 shows \u001b[36mKitchen\u001b[0m\n",
      "🐉  asks (🍆 &  🔧 in the Ball Room) ----->👠❓❓🐉🍆 shows 🔧 \u001b[36mWrench\u001b[0m\n",
      "🍆  asks (🍆 &  🪢 in the Ball Room) ----->👠❓❓❓🍆 shows \u001b[36mBall Room\u001b[0m\n",
      "👠  asks (🦚 &  🪠 in the Kitchen) ------->👠🧐🥼🐉❓ shows 🦚 \u001b[34mMrs. Peacock\u001b[0m\n",
      "🧐  asks (🍆 &  🔪 in the Lounge) -------->❓🧐🥼❓❓ shows \u001b[36mLounge\u001b[0m\n",
      "🥼  asks (🥼 &  🔧 in the Billiard Room) ->❓❓🥼🐉❓ shows 🥼 \u001b[37m Mrs. White\u001b[0m\n",
      "🐉  asks (🍆 &  🪢 in the Hall) ---------->👠🧐❓🐉🍆 shows 🪢 \u001b[36mRope\u001b[0m\n",
      "🍆  asks (🍆 &  🔪 in the Hall) ---------->👠🧐🥼❓🍆 shows \u001b[36mHall\u001b[0m\n",
      "👠  asks (👠 &  🔪 in the Kitchen) ------->👠🧐🥼❓❓ shows 👠 \u001b[31mMiss Scarlet\u001b[0m\n",
      "🧐  asks (🥼 &  🪠 in the Study) --------->❓🧐🥼🐉❓ shows 🥼 \u001b[37m Mrs. White\u001b[0m\n",
      "🥼  asks (🥼 &  🪠 in the Library) ------->❓❓🥼🐉❓ shows 🥼 \u001b[37m Mrs. White\u001b[0m\n",
      "🐉  asks (🍆 &  🪠 in the Ball Room) ----->👠❓❓🐉🍆 shows \u001b[36mBall Room\u001b[0m\n",
      "🍆  asks (🥼 &  🪠 in the Billiard Room) ->👠❓❓❓🍆 shows \u001b[36mBilliard Room\u001b[0m\n",
      "👠  asks (🥼 &  🪢 in the Kitchen) ------->👠🧐❓❓❓ shows 🪢 \u001b[36mRope\u001b[0m\n",
      "🧐  asks (🧐 &  🕯️ in the Library) ------->❓🧐🥼❓❓ shows 🕯️ \u001b[36mCandlestick\u001b[0m\n",
      "🥼  asks (🦚 &  🔫 in the Conservatory) -->❓❓🥼🐉❓ shows 🦚 \u001b[34mMrs. Peacock\u001b[0m\n",
      "🐉  asks (🍆 &  🕯️ in the Billiard Room) ->👠❓❓🐉🍆 shows \u001b[36mBilliard Room\u001b[0m\n",
      "🍆  asks (🥼 &  🪠 in the Kitchen) ------->👠🧐🥼🐉🍆 shows 🥼 \u001b[37m Mrs. White\u001b[0m\n",
      "👠  asks (🥼 &  🔫 in the Kitchen) ------->👠🧐❓❓❓ shows 🔫 \u001b[36mRevolver\u001b[0m\n",
      "🧐  asks (🦚 &  🪠 in the Study) --------->❓🧐🥼🐉❓ shows 🦚 \u001b[34mMrs. Peacock\u001b[0m\n",
      "🥼  asks (🥼 &  🔪 in the Conservatory) -->❓❓🥼🐉❓ shows 🔪 \u001b[36mDagger\u001b[0m\n",
      "🐉  asks (🐉 &  🔫 in the Kitchen) ------->❓❓❓🐉🍆 shows \u001b[36mKitchen\u001b[0m\n",
      "🍆  asks (🍆 &  🔫 in the Conservatory) -->👠🧐❓❓🍆 shows 🔫 \u001b[36mRevolver\u001b[0m\n",
      "👠  asks (🥼 &  🔪 in the Kitchen) ------->👠🧐🥼🐉❓ shows 🔪 \u001b[36mDagger\u001b[0m\n",
      "🧐  asks (🍆 &  🔪 in the Library) ------->❓🧐🥼🐉❓ shows 🔪 \u001b[36mDagger\u001b[0m\n",
      "🐉  asks (🐉 &  🔫 in the Conservatory) -->👠🧐❓🐉🍆 shows 🐉 \u001b[32mMr. Green\u001b[0m\n",
      "🍆  asks (🧐 &  🔪 in the Conservatory) -->👠❓❓❓🍆 shows 🧐 \u001b[33mColonel Mustard\u001b[0m\n",
      "👠  asks (🥼 &  🕯️ in the Kitchen) ------->👠🧐🥼❓❓ shows 🕯️ \u001b[36mCandlestick\u001b[0m\n",
      "🧐  asks (🍆 &  🪠 in the Kitchen) ------->❓🧐🥼🐉🍆 shows \u001b[36mKitchen\u001b[0m\n",
      "🥼  asks (🥼 &  🪠 in the Conservatory) -->❓❓🥼🐉❓ shows 🥼 \u001b[37m Mrs. White\u001b[0m\n",
      "🐉  asks (👠 &  🕯️ in the Lounge) -------->👠🧐🥼🐉🍆 shows 🕯️ \u001b[36mCandlestick\u001b[0m\n",
      "🍆  asks (🦚 &  🔪 in the Conservatory) -->👠🧐🥼🐉🍆 shows 🦚 \u001b[34mMrs. Peacock\u001b[0m\n",
      "👠  asks (🥼 &  🪠 in the Lounge) -------->👠🧐🥼❓❓ shows \u001b[36mLounge\u001b[0m\n",
      "🧐  asks (👠 &  🪠 in the Conservatory) -->❓🧐🥼❓❓ shows 👠 \u001b[31mMiss Scarlet\u001b[0m\n",
      "🥼  asks (👠 &  🪠 in the Dining Room) --->❓❓🥼🐉🍆 shows \u001b[36mDining Room\u001b[0m\n",
      "🐉  asks (👠 &  🪠 in the Study) --------->❓❓❓🐉🍆 shows \u001b[36mStudy\u001b[0m\n",
      "\n",
      "🍆 \u001b[35mProfessor Plum\u001b[0m better rZ won!\n",
      "           ▒▒▒▒▒▒▒▒                                             \n",
      "           ▒░░░░░░▒                                             \n",
      "           ▒░░░░░░▒                                             \n",
      "           ▒░░░░░░▒▒▒▒▒▒▒▒▒                                     \n",
      "           ▒Lounge░░░░░░░░▒                                     \n",
      "           ▒░░░░░░▒▒▒▒▒▒▒░▒                                     \n",
      "           ▒░░░🕯️░░▒     ▒░▒                                     \n",
      "           ▒░░░░░░▒▒▒   ▒░▒                                     \n",
      "           ▒▒▒▒▒▒░▒░▒   ▒░▒                                     \n",
      "         ▒▒▒▒▒▒▒▒░▒░▒▒▒▒▒░▒                                     \n",
      "         ▒░░░░░░░░░░▒░░░░░▒                                     \n",
      "         ▒░░░░░░░░░░▒░░░░░▒                                     \n",
      "         ▒░░░░░░░░░░▒░░░░░▒                                     \n",
      "         ▒░░░Study░░▒░░░░░▒                                     \n",
      "         ▒░░░👠🐉░░░▒░░Consv                                    \n",
      "         ▒░░░░🪠░░░░▒🧐🍆🦚                                     \n",
      "         ▒░░░░░░░░░░▒🔪🔫░▒                                     \n",
      "         ▒▒▒▒▒▒▒▒░░▒▒░░░░░▒                                     \n",
      "                ▒░░▒▒░░░░░▒                                     \n",
      " ▒▒▒▒▒▒▒▒▒      ▒░░▒▒▒▒▒░▒▒                                     \n",
      " ▒░░░░░░░▒      ▒░░▒   ▒░▒                                      \n",
      " ▒░░░░░░░▒      ▒░░▒   ▒░▒                                      \n",
      " ▒░░░░░░░▒      ▒░░▒   ▒░▒                                      \n",
      " ▒░░░░░░░▒      ▒░░▒   ▒░▒                                      \n",
      " ▒░░░░░░░▒▒▒▒▒▒▒▒░░▒   ▒░▒                                      \n",
      " ▒░Hall░░▒░░░░░░░░░▒   ▒░▒                 ▒▒▒▒▒▒▒▒▒▒▒▒         \n",
      " ▒░░░░░░░▒░░░░░░░░░▒   ▒░▒                 ▒░░░░░░░░░░▒         \n",
      " ▒░░░░░░░▒░░░Lib░░░▒   ▒░▒                 ▒░░░░░░░░░░▒         \n",
      " ▒░░░░░░░░░░░░░░░░░▒   ▒░▒                 ▒░░░░░░░░░░▒         \n",
      " ▒░░░░░░░▒░░░░░░░░░▒   ▒░▒                 ▒░░░░░░░░░░▒         \n",
      " ▒▒▒░▒▒▒▒▒▒▒▒▒▒▒▒░▒▒   ▒░▒                 ▒░░Kitchen░▒         \n",
      "   ▒░▒          ▒░▒    ▒░▒                 ▒░░░░░░░░░░▒         \n",
      "   ▒░▒          ▒░▒    ▒░▒▒▒▒▒▒▒▒▒▒▒▒▒▒▒▒▒▒▒░░░░🪢░░░░▒         \n",
      "   ▒░▒          ▒░▒    ▒░░░░░░░░░░░░░░░░░░░░░░░░░░░░░░▒         \n",
      "   ▒░▒          ▒░▒    ▒▒▒▒▒▒▒▒▒▒▒▒▒▒▒▒▒▒▒▒▒░░░░░░░░░░▒         \n",
      "   ▒░▒          ▒░▒                        ▒▒▒▒░▒▒▒▒▒▒▒         \n",
      "   ▒░▒       ▒▒▒▒░▒▒▒▒                        ▒░▒               \n",
      "   ▒░▒       ▒░░░░░░░▒                  ▒▒▒▒▒▒▒░▒▒▒▒            \n",
      "   ▒░▒       ▒░░░░░░░▒                  ▒░░░░░░░░░░▒            \n",
      "   ▒░▒       ▒░░░░░░░▒                  ▒░░░░░░░░░░▒            \n",
      "   ▒░▒       ▒Dining░▒                  ▒░░░░░░░░░░▒            \n",
      "   ▒░▒       ▒░░🥼░░░▒                  ▒░░░░░░░░░░▒            \n",
      "   ▒░▒       ▒░░░░░░░▒                  ▒░░░░░░░░░░▒            \n",
      "   ▒░▒       ▒▒▒▒▒▒▒▒▒                  ▒░░░Bill░░░▒            \n",
      "   ▒░▒                                  ▒░░░░░░░░░░▒            \n",
      "   ▒░▒                                  ▒░░░░🔧░░░░▒            \n",
      "   ▒░▒                                  ▒░░░░░░░░░░▒            \n",
      "   ▒░▒                                  ▒░░░░░░░░░░▒            \n",
      "   ▒░▒    ▒▒▒▒▒▒▒▒                      ▒▒▒▒▒▒░▒▒▒▒▒            \n",
      "   ▒░▒    ▒░░░░░░▒                           ▒░▒                \n",
      "   ▒░▒▒▒▒▒▒░░░░░░▒▒▒▒▒▒▒▒▒▒▒▒▒▒▒▒▒▒▒▒▒▒▒▒▒▒▒▒▒░▒                \n",
      "   ▒░░░░░░░░░░░░░░░░░░░░░░░░░░░░░░░░░░░░░░░░░░░▒                \n",
      "   ▒▒▒▒▒▒▒▒░Ball░▒▒▒▒▒▒▒▒▒▒▒▒▒▒▒▒▒▒▒▒▒▒▒▒▒▒▒▒▒▒▒                \n",
      "          ▒░░░░░░▒                                              \n",
      "          ▒░░░░░░▒                                              \n",
      "          ▒░░░░░░▒                                              \n",
      "          ▒▒▒▒▒▒▒▒                                              \n"
     ]
    }
   ],
   "source": [
    "quickGame(5)"
   ]
  },
  {
   "cell_type": "code",
   "execution_count": null,
   "metadata": {},
   "outputs": [],
   "source": [
    "p1 = (\"player\",True,getPlay)\n",
    "s1 = (\"simple\",False,mimic(-1,rWalk))\n",
    "b1 = (\"better\",False,mimic(2,rWalk))\n",
    "d1 =(\"deep\",False,mimic(8,rWalk))\n",
    "c1 = (\"cheater\",False,cheater(repelWalk))\n",
    "s2 = (\"simpleR\",False,mimic(4,rWalk))\n",
    "hr = (\"halfRight\",False,halfRight(rWalk))\n",
    "s3 = (\"stay\",False,mimic(-1,biasWalk(1,0,2)))\n",
    "sleft =  (\"sleft\",False,mimic(-1,biasWalk(1,0,0)))\n",
    "strategies = [s1, s2,b1,b1,d1,s3]\n",
    "strategies = [s3, s2,sleft,s3]"
   ]
  },
  {
   "cell_type": "code",
   "execution_count": null,
   "metadata": {},
   "outputs": [
    {
     "name": "stdout",
     "output_type": "stream",
     "text": [
      "your moves:\n",
      "your hand:\n",
      "🍆 Professor Plum, Ball Room, Study, 👠 Miss Scarlet\n",
      "👠  asks (🦚 &  🪢 in the Dining Room) --->👠🧐🥼🐉❓\n",
      "╒═══════════╤═══════════════╤═════════════════╕\n",
      "│ Ball Room │ Billiard Room │ 1) Conservatory │\n",
      "│    G      │    W          │                 │\n",
      "├───────────┼───────────────┼─────────────────┤\n",
      "│ Study     │               │ 2) Dining Room  │\n",
      "│           │               │    S, M, P      │\n",
      "├───────────┼───────────────┼─────────────────┤\n",
      "│ Library   │               │ 3) Hall         │\n",
      "│    P      │               │                 │\n",
      "├───────────┼───────────────┼─────────────────┤\n",
      "│           │ Lounge        │ Kitchen         │\n",
      "╘═══════════╧═══════════════╧═════════════════╛\n",
      "🧐 will stumble to:\n",
      "\n",
      "1 Conservatory\n",
      "2 Dining Room                      👠, 🧐\n",
      "3 Hall\n"
     ]
    },
    {
     "name": "stdin",
     "output_type": "stream",
     "text": [
      "Choose from 1 to 3:  2\n"
     ]
    },
    {
     "name": "stdout",
     "output_type": "stream",
     "text": [
      "    People              Weapons\n",
      "--  ------------------  -------------\n",
      " 1  *👠 Miss Scarlet    🔪 Knife\n",
      " 2  🧐 Colonel Mustard  🔫 Revolver\n",
      " 3  🥼  Mrs. White      🪢 Rope\n",
      " 4  🐉 Mr. Green        🔧 Wrench\n",
      " 5  *🍆 Professor Plum  🕯️ Candlestick\n",
      " 6  🦚 Mrs. Peacock     🪠 Lead Pipe\n"
     ]
    },
    {
     "name": "stdin",
     "output_type": "stream",
     "text": [
      " 2 3\n"
     ]
    },
    {
     "name": "stdout",
     "output_type": "stream",
     "text": [
      "\u001b[H\u001b[2J🧐 Colonel Mustard suspects 🧐 Colonel Mustard with the 🪢 Rope in the Dining Room.\n",
      "your moves:\n",
      "🧐  asks (🧐 &  🪢 in the Dining Room) --->❓🧐🥼❓❓❓ shows 🧐 Colonel Mustard\n",
      "your hand:\n",
      "🍆 Professor Plum, Ball Room, Study, 👠 Miss Scarlet\n",
      "🧐  asks (🧐 &  🪢 in the Dining Room) --->❓🧐🥼❓❓ shows 🧐 Colonel Mustard\n",
      "🥼  asks (🐉 &  🪠 in the Conservatory) -->👠❓🥼🐉🍆\n",
      "🐉  asks (🧐 &  🔫 in the Billiard Room) ->👠❓❓🐉🍆\n",
      "🍆  asks (👠 &  🔧 in the Lounge) -------->👠🧐❓❓🍆\n",
      "👠  asks (🥼 &  🪠 in the Library) ------->👠🧐🥼❓❓\n",
      "╒══════════════╤══════════════════╤═════════════════╕\n",
      "│ 1) Ball Room │ 2) Billiard Room │ 3) Conservatory │\n",
      "│              │    M, G          │                 │\n",
      "├──────────────┼──────────────────┼─────────────────┤\n",
      "│ Study        │                  │ Dining Room     │\n",
      "│              │                  │    P            │\n",
      "├──────────────┼──────────────────┼─────────────────┤\n",
      "│ Library      │                  │ Hall            │\n",
      "│    S, W      │                  │                 │\n",
      "├──────────────┼──────────────────┼─────────────────┤\n",
      "│              │ Lounge           │ Kitchen         │\n",
      "│              │    P             │                 │\n",
      "╘══════════════╧══════════════════╧═════════════════╛\n",
      "🧐 will staggar to:\n",
      "\n",
      "1*Ball Room\n",
      "2 Billiard Room                    🐉, 🍆\n",
      "3 Conservatory                     🥼, 🐉, 🍆\n"
     ]
    },
    {
     "name": "stdin",
     "output_type": "stream",
     "text": [
      "Choose from 1 to 3:  2\n"
     ]
    },
    {
     "name": "stdout",
     "output_type": "stream",
     "text": [
      "    People                                  Weapons\n",
      "--  --------------------------------------  -------------\n",
      " 1  *👠 Miss Scarlet                    🍆  🔪 Knife\n",
      " 2  *🧐 Colonel Mustard                     🔫 Revolver\n",
      " 3  🥼  Mrs. White                          🪢 Rope\n",
      " 4  🐉 Mr. Green                            🔧 Wrench\n",
      " 5  *🍆 Professor Plum                      🕯️ Candlestick\n",
      " 6  🦚 Mrs. Peacock                         🪠 Lead Pipe\n"
     ]
    },
    {
     "name": "stdin",
     "output_type": "stream",
     "text": [
      " 3 3\n"
     ]
    },
    {
     "name": "stdout",
     "output_type": "stream",
     "text": [
      "\u001b[H\u001b[2J🧐 Colonel Mustard suspects 🥼  Mrs. White with the 🪢 Rope in the Billiard Room.\n",
      "your moves:\n",
      "🧐  asks (🧐 &  🪢 in the Dining Room) --->❓🧐🥼❓❓❓ shows 🧐 Colonel Mustard\n",
      "🧐  asks (🥼 &  🪢 in the Billiard Room) ->❓🧐🥼🐉❓❓ shows 🪢 Rope\n",
      "your hand:\n",
      "🍆 Professor Plum, Ball Room, Study, 👠 Miss Scarlet\n",
      "🧐  asks (🥼 &  🪢 in the Billiard Room) ->❓🧐🥼🐉❓ shows 🪢 Rope\n",
      "🥼  asks (👠 &  🔪 in the Billiard Room) ->❓❓🥼🐉❓\n",
      "🐉  asks (🐉 &  🪢 in the Ball Room) ----->👠❓❓🐉🍆\n",
      "🍆  asks (🧐 &  🪠 in the Lounge) -------->👠🧐🥼❓🍆\n",
      "👠  asks (🥼 &  🔪 in the Ball Room) ----->👠🧐❓❓❓\n",
      "╒════════════╤═══════════════╤══════════════╕\n",
      "│ Ball Room  │ Billiard Room │ Conservatory │\n",
      "│    S, W, G │               │              │\n",
      "├────────────┼───────────────┼──────────────┤\n",
      "│ Study      │               │ Dining Room  │\n",
      "│            │               │    P         │\n",
      "├────────────┼───────────────┼──────────────┤\n",
      "│ 3) Library │               │ Hall         │\n",
      "├────────────┼───────────────┼──────────────┤\n",
      "│            │ 2) Lounge     │ 1) Kitchen   │\n",
      "│            │    M, P       │              │\n",
      "╘════════════╧═══════════════╧══════════════╛\n",
      "🧐 will walk to:\n",
      "\n",
      "1 Kitchen\n",
      "2 Lounge\n",
      "3 Library                          👠\n"
     ]
    },
    {
     "ename": "KeyboardInterrupt",
     "evalue": "Interrupted by user",
     "output_type": "error",
     "traceback": [
      "\u001b[0;31m---------------------------------------------------------------------------\u001b[0m",
      "\u001b[0;31mKeyboardInterrupt\u001b[0m                         Traceback (most recent call last)",
      "Cell \u001b[0;32mIn [44], line 4\u001b[0m\n\u001b[1;32m      1\u001b[0m \u001b[38;5;66;03m#| hide\u001b[39;00m\n\u001b[1;32m      3\u001b[0m strategies \u001b[38;5;241m=\u001b[39m [ s1,p1,s1,hr,hr] \u001b[38;5;66;03m#hr,s1,p1,s1,s1]\u001b[39;00m\n\u001b[0;32m----> 4\u001b[0m rgame, rmoves \u001b[38;5;241m=\u001b[39m \u001b[43mrunVisualGame\u001b[49m\u001b[43m(\u001b[49m\u001b[43mstrategies\u001b[49m\u001b[43m)\u001b[49m\n",
      "Cell \u001b[0;32mIn [39], line 28\u001b[0m, in \u001b[0;36mrunVisualGame\u001b[0;34m(strats)\u001b[0m\n\u001b[1;32m     25\u001b[0m     ui\u001b[38;5;241m.\u001b[39mshowMoves(player,amoves[\u001b[38;5;241m-\u001b[39mnumPlayers:],numPlayers)\n\u001b[1;32m     27\u001b[0m \u001b[38;5;66;03m#print(player,agame,amoves)\u001b[39;00m\n\u001b[0;32m---> 28\u001b[0m ans \u001b[38;5;241m=\u001b[39m \u001b[43mstrat\u001b[49m\u001b[43m(\u001b[49m\u001b[43mplayer\u001b[49m\u001b[43m,\u001b[49m\u001b[43magame\u001b[49m\u001b[43m,\u001b[49m\u001b[43mamoves\u001b[49m\u001b[43m)\u001b[49m\n\u001b[1;32m     29\u001b[0m \u001b[38;5;28;01mif\u001b[39;00m isUser:\n\u001b[1;32m     30\u001b[0m     os\u001b[38;5;241m.\u001b[39msystem(\u001b[38;5;124m\"\u001b[39m\u001b[38;5;124mclear\u001b[39m\u001b[38;5;124m\"\u001b[39m)\n",
      "Cell \u001b[0;32mIn [7], line 15\u001b[0m, in \u001b[0;36mgetPlay\u001b[0;34m(pc, game, moves)\u001b[0m\n\u001b[1;32m     10\u001b[0m verb \u001b[38;5;241m=\u001b[39m choice([\u001b[38;5;124m\"\u001b[39m\u001b[38;5;124mtotter\u001b[39m\u001b[38;5;124m\"\u001b[39m,\u001b[38;5;124m\"\u001b[39m\u001b[38;5;124mwalk\u001b[39m\u001b[38;5;124m\"\u001b[39m,\u001b[38;5;124m\"\u001b[39m\u001b[38;5;124mstumble\u001b[39m\u001b[38;5;124m\"\u001b[39m,\u001b[38;5;124m\"\u001b[39m\u001b[38;5;124mstaggar\u001b[39m\u001b[38;5;124m\"\u001b[39m,\u001b[38;5;124m\"\u001b[39m\u001b[38;5;124mrush\u001b[39m\u001b[38;5;124m\"\u001b[39m,\u001b[38;5;124m\"\u001b[39m\u001b[38;5;124mdash\u001b[39m\u001b[38;5;124m\"\u001b[39m,\u001b[38;5;124m\"\u001b[39m\u001b[38;5;124mrace\u001b[39m\u001b[38;5;124m\"\u001b[39m,\u001b[38;5;124m\"\u001b[39m\u001b[38;5;124msprint\u001b[39m\u001b[38;5;124m\"\u001b[39m])\n\u001b[1;32m     13\u001b[0m \u001b[38;5;28mprint\u001b[39m(model\u001b[38;5;241m.\u001b[39mpeople[pc\u001b[38;5;241m-\u001b[39m\u001b[38;5;241m1\u001b[39m][\u001b[38;5;241m2\u001b[39m] \u001b[38;5;241m+\u001b[39m \u001b[38;5;124m\"\u001b[39m\u001b[38;5;124m will \u001b[39m\u001b[38;5;124m\"\u001b[39m \u001b[38;5;241m+\u001b[39m verb \u001b[38;5;241m+\u001b[39m \u001b[38;5;124m\"\u001b[39m\u001b[38;5;124m to:\u001b[39m\u001b[38;5;130;01m\\n\u001b[39;00m\u001b[38;5;124m\"\u001b[39m)\n\u001b[0;32m---> 15\u001b[0m l \u001b[38;5;241m=\u001b[39m \u001b[43mui\u001b[49m\u001b[38;5;241;43m.\u001b[39;49m\u001b[43mchooseKey\u001b[49m\u001b[43m(\u001b[49m\u001b[43mlocs\u001b[49m\u001b[43m,\u001b[49m\u001b[43mpc\u001b[49m\u001b[43m,\u001b[49m\u001b[43mgame\u001b[49m\u001b[43m,\u001b[49m\u001b[43mmoves\u001b[49m\u001b[43m)\u001b[49m\n\u001b[1;32m     16\u001b[0m l \u001b[38;5;241m=\u001b[39m passages[l\u001b[38;5;241m-\u001b[39m\u001b[38;5;241m1\u001b[39m]\n\u001b[1;32m     18\u001b[0m p, w \u001b[38;5;241m=\u001b[39m ui\u001b[38;5;241m.\u001b[39mchoosePandW(pc,game,moves)\n",
      "File \u001b[0;32m~/code/clue/nbs/clue/ui.py:210\u001b[0m, in \u001b[0;36mchooseKey\u001b[0;34m(keys, playerID, game, moves)\u001b[0m\n\u001b[1;32m    208\u001b[0m \u001b[38;5;28;01mwhile\u001b[39;00m keyChoice \u001b[38;5;241m<\u001b[39m \u001b[38;5;241m1\u001b[39m:   \n\u001b[1;32m    209\u001b[0m     \u001b[38;5;28mprint\u001b[39m(lines)\n\u001b[0;32m--> 210\u001b[0m     keyChoice \u001b[38;5;241m=\u001b[39m \u001b[38;5;28mint\u001b[39m(\u001b[38;5;28;43minput\u001b[39;49m\u001b[43m(\u001b[49m\u001b[38;5;124;43m\"\u001b[39;49m\u001b[38;5;124;43mChoose from 1 to \u001b[39;49m\u001b[38;5;124;43m\"\u001b[39;49m\u001b[43m \u001b[49m\u001b[38;5;241;43m+\u001b[39;49m\u001b[43m  \u001b[49m\u001b[38;5;28;43mstr\u001b[39;49m\u001b[43m(\u001b[49m\u001b[38;5;28;43mlen\u001b[39;49m\u001b[43m(\u001b[49m\u001b[43mkeys\u001b[49m\u001b[43m)\u001b[49m\u001b[43m)\u001b[49m\u001b[38;5;241;43m+\u001b[39;49m\u001b[38;5;124;43m\"\u001b[39;49m\u001b[38;5;124;43m: \u001b[39;49m\u001b[38;5;124;43m\"\u001b[39;49m\u001b[43m)\u001b[49m)\n\u001b[1;32m    212\u001b[0m     \u001b[38;5;28;01mif\u001b[39;00m (keyChoice \u001b[38;5;241m>\u001b[39m \u001b[38;5;241m0\u001b[39m) \u001b[38;5;129;01mand\u001b[39;00m (keyChoice \u001b[38;5;241m<\u001b[39m\u001b[38;5;241m=\u001b[39m \u001b[38;5;28mlen\u001b[39m(keys)):\n\u001b[1;32m    213\u001b[0m         \u001b[38;5;28;01mreturn\u001b[39;00m keyChoice\n",
      "File \u001b[0;32m~/anaconda3/envs/clue/lib/python3.11/site-packages/ipykernel/kernelbase.py:1177\u001b[0m, in \u001b[0;36mKernel.raw_input\u001b[0;34m(self, prompt)\u001b[0m\n\u001b[1;32m   1173\u001b[0m \u001b[38;5;28;01mif\u001b[39;00m \u001b[38;5;129;01mnot\u001b[39;00m \u001b[38;5;28mself\u001b[39m\u001b[38;5;241m.\u001b[39m_allow_stdin:\n\u001b[1;32m   1174\u001b[0m     \u001b[38;5;28;01mraise\u001b[39;00m StdinNotImplementedError(\n\u001b[1;32m   1175\u001b[0m         \u001b[38;5;124m\"\u001b[39m\u001b[38;5;124mraw_input was called, but this frontend does not support input requests.\u001b[39m\u001b[38;5;124m\"\u001b[39m\n\u001b[1;32m   1176\u001b[0m     )\n\u001b[0;32m-> 1177\u001b[0m \u001b[38;5;28;01mreturn\u001b[39;00m \u001b[38;5;28;43mself\u001b[39;49m\u001b[38;5;241;43m.\u001b[39;49m\u001b[43m_input_request\u001b[49m\u001b[43m(\u001b[49m\n\u001b[1;32m   1178\u001b[0m \u001b[43m    \u001b[49m\u001b[38;5;28;43mstr\u001b[39;49m\u001b[43m(\u001b[49m\u001b[43mprompt\u001b[49m\u001b[43m)\u001b[49m\u001b[43m,\u001b[49m\n\u001b[1;32m   1179\u001b[0m \u001b[43m    \u001b[49m\u001b[38;5;28;43mself\u001b[39;49m\u001b[38;5;241;43m.\u001b[39;49m\u001b[43m_parent_ident\u001b[49m\u001b[43m[\u001b[49m\u001b[38;5;124;43m\"\u001b[39;49m\u001b[38;5;124;43mshell\u001b[39;49m\u001b[38;5;124;43m\"\u001b[39;49m\u001b[43m]\u001b[49m\u001b[43m,\u001b[49m\n\u001b[1;32m   1180\u001b[0m \u001b[43m    \u001b[49m\u001b[38;5;28;43mself\u001b[39;49m\u001b[38;5;241;43m.\u001b[39;49m\u001b[43mget_parent\u001b[49m\u001b[43m(\u001b[49m\u001b[38;5;124;43m\"\u001b[39;49m\u001b[38;5;124;43mshell\u001b[39;49m\u001b[38;5;124;43m\"\u001b[39;49m\u001b[43m)\u001b[49m\u001b[43m,\u001b[49m\n\u001b[1;32m   1181\u001b[0m \u001b[43m    \u001b[49m\u001b[43mpassword\u001b[49m\u001b[38;5;241;43m=\u001b[39;49m\u001b[38;5;28;43;01mFalse\u001b[39;49;00m\u001b[43m,\u001b[49m\n\u001b[1;32m   1182\u001b[0m \u001b[43m\u001b[49m\u001b[43m)\u001b[49m\n",
      "File \u001b[0;32m~/anaconda3/envs/clue/lib/python3.11/site-packages/ipykernel/kernelbase.py:1219\u001b[0m, in \u001b[0;36mKernel._input_request\u001b[0;34m(self, prompt, ident, parent, password)\u001b[0m\n\u001b[1;32m   1216\u001b[0m             \u001b[38;5;28;01mbreak\u001b[39;00m\n\u001b[1;32m   1217\u001b[0m \u001b[38;5;28;01mexcept\u001b[39;00m \u001b[38;5;167;01mKeyboardInterrupt\u001b[39;00m:\n\u001b[1;32m   1218\u001b[0m     \u001b[38;5;66;03m# re-raise KeyboardInterrupt, to truncate traceback\u001b[39;00m\n\u001b[0;32m-> 1219\u001b[0m     \u001b[38;5;28;01mraise\u001b[39;00m \u001b[38;5;167;01mKeyboardInterrupt\u001b[39;00m(\u001b[38;5;124m\"\u001b[39m\u001b[38;5;124mInterrupted by user\u001b[39m\u001b[38;5;124m\"\u001b[39m) \u001b[38;5;28;01mfrom\u001b[39;00m \u001b[38;5;28mNone\u001b[39m\n\u001b[1;32m   1220\u001b[0m \u001b[38;5;28;01mexcept\u001b[39;00m \u001b[38;5;167;01mException\u001b[39;00m:\n\u001b[1;32m   1221\u001b[0m     \u001b[38;5;28mself\u001b[39m\u001b[38;5;241m.\u001b[39mlog\u001b[38;5;241m.\u001b[39mwarning(\u001b[38;5;124m\"\u001b[39m\u001b[38;5;124mInvalid Message:\u001b[39m\u001b[38;5;124m\"\u001b[39m, exc_info\u001b[38;5;241m=\u001b[39m\u001b[38;5;28;01mTrue\u001b[39;00m)\n",
      "\u001b[0;31mKeyboardInterrupt\u001b[0m: Interrupted by user"
     ]
    }
   ],
   "source": [
    "#| hide\n",
    "\n",
    "strategies = [ s1,p1,s1,hr,hr] #hr,s1,p1,s1,s1]\n",
    "rgame, rmoves = runVisualGame(strategies)"
   ]
  },
  {
   "cell_type": "code",
   "execution_count": null,
   "metadata": {},
   "outputs": [
    {
     "name": "stdout",
     "output_type": "stream",
     "text": [
      "👠  asks (🥼 &  🔧 in the Dining Room) --->👠🧐🥼🐉 shows \u001b[36mDining Room\u001b[0m\n",
      "🧐  asks (🥼 &  🔧 in the Dining Room) --->❓🧐🥼❓ shows \u001b[36mKitchen\u001b[0m\n",
      "🥼  asks (🥼 &  🔧 in the Dining Room) --->❓❓🥼🐉 shows 🔧 \u001b[36mWrench\u001b[0m\n",
      "🐉  asks (🦚 &  🪢 in the Conservatory) -->👠🧐🥼🐉 shows \u001b[36mLounge\u001b[0m\n",
      "🍆  asks (🦚 &  🔧 in the Dining Room) --->👠🧐🥼❓ shows \u001b[36mHall\u001b[0m\n",
      "👠  asks (🍆 &  🔧 in the Dining Room) --->👠🧐🥼🐉 shows 🔧 \u001b[36mWrench\u001b[0m\n",
      "🧐  asks (🧐 &  🪢 in the Conservatory) -->❓🧐🥼❓ shows \u001b[36mHall\u001b[0m\n",
      "🥼  asks (🧐 &  🪢 in the Conservatory) -->❓❓🥼🐉 shows \u001b[36mDining Room\u001b[0m\n",
      "🐉  asks (🐉 &  🔧 in the Dining Room) --->👠❓❓🐉 shows \u001b[36mLibrary\u001b[0m\n",
      "🍆  asks (🐉 &  🔪 in the Ball Room) ----->👠🧐❓❓ shows 🐉 \u001b[32mMr. Green\u001b[0m\n",
      "👠  asks (🥼 &  🪢 in the Conservatory) -->👠🧐🥼❓ shows \u001b[36mBilliard Room\u001b[0m\n",
      "🧐  asks (🧐 &  🔧 in the Dining Room) --->❓🧐🥼🐉 shows 🔧 \u001b[36mWrench\u001b[0m\n"
     ]
    },
    {
     "ename": "KeyboardInterrupt",
     "evalue": "",
     "output_type": "error",
     "traceback": [
      "\u001b[0;31m---------------------------------------------------------------------------\u001b[0m",
      "\u001b[0;31mKeyboardInterrupt\u001b[0m                         Traceback (most recent call last)",
      "Cell \u001b[0;32mIn[45], line 1\u001b[0m\n\u001b[0;32m----> 1\u001b[0m ui\u001b[38;5;241m.\u001b[39mshowMoves(\u001b[38;5;241m-\u001b[39m\u001b[38;5;241m1\u001b[39m,rmoves,\u001b[38;5;241m4\u001b[39m)\n",
      "File \u001b[0;32m~/code/clue/ui/clue/nbs/clue/ui.py:129\u001b[0m, in \u001b[0;36mshowMoves\u001b[0;34m(pc, moves, plMax)\u001b[0m\n\u001b[1;32m    127\u001b[0m line \u001b[38;5;241m+\u001b[39m\u001b[38;5;241m=\u001b[39m \u001b[38;5;124m\"\u001b[39m\u001b[38;5;124m(\u001b[39m\u001b[38;5;124m\"\u001b[39m \u001b[38;5;241m+\u001b[39m model\u001b[38;5;241m.\u001b[39mpeople[p][\u001b[38;5;241m2\u001b[39m] \u001b[38;5;241m+\u001b[39m \u001b[38;5;124m\"\u001b[39m\u001b[38;5;124m &  \u001b[39m\u001b[38;5;124m\"\u001b[39m \u001b[38;5;241m+\u001b[39m model\u001b[38;5;241m.\u001b[39mweapons[w][\u001b[38;5;241m2\u001b[39m] \u001b[38;5;241m+\u001b[39m \u001b[38;5;124m\"\u001b[39m\u001b[38;5;124m in the \u001b[39m\u001b[38;5;124m\"\u001b[39m       \n\u001b[1;32m    128\u001b[0m line \u001b[38;5;241m+\u001b[39m\u001b[38;5;241m=\u001b[39m ( model\u001b[38;5;241m.\u001b[39mrooms[w][\u001b[38;5;241m0\u001b[39m] \u001b[38;5;241m+\u001b[39m\u001b[38;5;124m\"\u001b[39m\u001b[38;5;124m) \u001b[39m\u001b[38;5;124m\"\u001b[39m)\u001b[38;5;241m.\u001b[39mljust(\u001b[38;5;241m15\u001b[39m,\u001b[38;5;124m\"\u001b[39m\u001b[38;5;124m-\u001b[39m\u001b[38;5;124m\"\u001b[39m)\n\u001b[0;32m--> 129\u001b[0m line \u001b[38;5;241m+\u001b[39m\u001b[38;5;241m=\u001b[39m \u001b[38;5;124m\"\u001b[39m\u001b[38;5;124m->\u001b[39m\u001b[38;5;124m\"\u001b[39m \u001b[38;5;241m+\u001b[39m wrapL(asker,answered,plMax)\n\u001b[1;32m    130\u001b[0m \u001b[38;5;28;01mif\u001b[39;00m asker \u001b[38;5;241m==\u001b[39m pc \u001b[38;5;129;01mor\u001b[39;00m pc \u001b[38;5;241m<\u001b[39m \u001b[38;5;241m0\u001b[39m :\n\u001b[1;32m    132\u001b[0m     line \u001b[38;5;241m+\u001b[39m\u001b[38;5;241m=\u001b[39m \u001b[38;5;124m\"\u001b[39m\u001b[38;5;124m shows \u001b[39m\u001b[38;5;124m\"\u001b[39m \u001b[38;5;241m+\u001b[39m cardFull(model\u001b[38;5;241m.\u001b[39mcardLookup(\u001b[38;5;28mint\u001b[39m(shown\u001b[38;5;241m/\u001b[39m\u001b[38;5;241m100\u001b[39m),shown\u001b[38;5;241m%\u001b[39m\u001b[38;5;241m100\u001b[39m))\n",
      "File \u001b[0;32m~/code/clue/ui/clue/nbs/clue/ui.py:108\u001b[0m, in \u001b[0;36mwrapL\u001b[0;34m(s, f, l)\u001b[0m\n\u001b[1;32m    106\u001b[0m \u001b[38;5;28;01mif\u001b[39;00m s \u001b[38;5;241m>\u001b[39m l:\n\u001b[1;32m    107\u001b[0m     s \u001b[38;5;241m=\u001b[39m \u001b[38;5;241m1\u001b[39m\n\u001b[0;32m--> 108\u001b[0m \u001b[38;5;28;01mwhile\u001b[39;00m s \u001b[38;5;241m!=\u001b[39m f:\n\u001b[1;32m    109\u001b[0m     show\u001b[38;5;241m.\u001b[39madd(s\u001b[38;5;241m-\u001b[39m\u001b[38;5;241m1\u001b[39m)\n\u001b[1;32m    110\u001b[0m     s \u001b[38;5;241m+\u001b[39m\u001b[38;5;241m=\u001b[39m \u001b[38;5;241m1\u001b[39m\n",
      "\u001b[0;31mKeyboardInterrupt\u001b[0m: "
     ]
    }
   ],
   "source": [
    " ui.showMoves(-1,rmoves,4)"
   ]
  },
  {
   "cell_type": "code",
   "execution_count": null,
   "metadata": {},
   "outputs": [],
   "source": []
  },
  {
   "cell_type": "code",
   "execution_count": null,
   "metadata": {},
   "outputs": [],
   "source": [
    "#| export\n",
    "def keysForGuess(guess):\n",
    "    p,w,l = guess[:3]\n",
    "    h = [[1,p],[2,w],[3,l]]\n",
    "    h = [model.keyCard(x[0],x[1]) for x in h]\n",
    "    return h\n",
    "\n",
    "def responseToGuess(guess,asker,answered,shown):\n",
    "    p,w,l = guess\n",
    "    return (p,w,l,asker, answered,shown)\n",
    "def localgetAnswer(playerNum,game,guess):\n",
    "\n",
    "    h = keysForGuess(guess)\n",
    "    shuffle(h)\n",
    "    print(h)\n",
    "\n",
    "    playCount = len(game) - 1\n",
    "    \n",
    "    c = playerNum+1\n",
    "    \n",
    "    if c > playCount:\n",
    "        c = 1\n",
    "    while c != playerNum:\n",
    "        hand = game[c]\n",
    "        print(hand)\n",
    "        for y in h:\n",
    "            for x in hand:\n",
    "                 \n",
    "\n",
    "                if x == y :\n",
    "                    return responseToGuess(guess,playerNum,c,y)\n",
    "        c = c+1\n",
    "        if c >= playCount:\n",
    "            c = 1\n",
    "    return (-1,0,0)"
   ]
  },
  {
   "cell_type": "code",
   "execution_count": null,
   "metadata": {},
   "outputs": [],
   "source": []
  },
  {
   "cell_type": "code",
   "execution_count": null,
   "metadata": {},
   "outputs": [
    {
     "name": "stdout",
     "output_type": "stream",
     "text": [
      "[204, 103, 305]\n",
      "[306, 304, 305, 301]\n",
      "🧐  asks (🐉 &  🕯️ in the Hall) ---------->❓🧐🥼❓ shows \u001b[36mKitchen\u001b[0m\n"
     ]
    },
    {
     "data": {
      "text/plain": [
       "((3, 4, 5, 2, 3, 305), None)"
      ]
     },
     "execution_count": null,
     "metadata": {},
     "output_type": "execute_result"
    }
   ],
   "source": [
    "check = localgetAnswer(2,rgame,(3, 4, 5))\n",
    "check,  ui.showMoves(-1,[check],4)"
   ]
  },
  {
   "cell_type": "code",
   "execution_count": null,
   "metadata": {},
   "outputs": [],
   "source": [
    "#| export\n",
    "def runGame( strats):\n",
    "    numPlayers = len(strats)\n",
    "    done = False\n",
    "    agame = model.createClue(numPlayers)\n",
    "    amoves = []\n",
    "    player = 1\n",
    "          \n",
    "    while not done:\n",
    "        #print(seenCounts(player,agame,amoves))\n",
    "        \n",
    "        stratName, isUser, strat = strats[player - 1]\n",
    "        \n",
    "        ans = strat(player,agame,amoves)\n",
    "        agame = model.relocatePlayers(player , ans[0],ans[2],agame)\n",
    "        check = model.getAnswer(player,agame,ans)\n",
    "        \n",
    "        if check[0] < 0:\n",
    "            seen =  model.getSeen(player,agame, amoves)\n",
    "            exclude  = set(seen)\n",
    "            done = True\n",
    "            for x in model.keysForGuess(ans):\n",
    "                if x in exclude:\n",
    "                    done = False\n",
    "            \n",
    "        else:\n",
    "            #(p,w,l,playerNum, c,y[0],y[1])\n",
    "            card = check[-1]\n",
    "            \n",
    "            amoves.append(check)\n",
    "\n",
    "        if not done:\n",
    "            player = player + 1\n",
    "            if player - 1 >= numPlayers:\n",
    "               player = 1 \n",
    "    \n",
    "    return player, agame , amoves\n"
   ]
  },
  {
   "cell_type": "code",
   "execution_count": null,
   "metadata": {},
   "outputs": [],
   "source": [
    "#| hide\n",
    "s1 = (\"simple\",False,mimic(-1,rWalk))\n",
    "b1 = (\"better\",False,mimic(2,rWalk))\n",
    "d1 =(\"deep\",False,mimic(8,rWalk))\n",
    "c1 = (\"cheater\",False,cheater(repelWalk))\n",
    "s2 = (\"simpleR\",False,mimic(4,rWalk))\n",
    "hr = (\"halfRight\",False,halfRight(rWalk))\n",
    "s3 = (\"stay\",False,mimic(-1,biasWalk(1,0,2)))\n",
    "sleft =  (\"sleft\",False,mimic(-1,biasWalk(1,0,0)))\n",
    "strategies = [s1, s2,b1,b1,d1,s3]\n",
    "strategies = [s3, s2,sleft,s3]\n",
    "counts = [0 for x in range(len(strategies))]\n",
    "for c  in range(1000):\n",
    "    p, g, m = runGame(strategies)\n",
    "    counts[p-1] += 1\n",
    "\n",
    "m = zip([x[0] for x in strategies],counts)\n",
    "for x in m:\n",
    "    print(x)"
   ]
  },
  {
   "cell_type": "code",
   "execution_count": null,
   "metadata": {},
   "outputs": [],
   "source": [
    "#| hide\n",
    "chooseCard(rooms,cardFull)"
   ]
  },
  {
   "cell_type": "code",
   "execution_count": null,
   "metadata": {},
   "outputs": [],
   "source": [
    "#| hide\n",
    "import nbdev; nbdev.nbdev_export()"
   ]
  }
 ],
 "metadata": {
  "kernelspec": {
   "display_name": "python3",
   "language": "python",
   "name": "python3"
  }
 },
 "nbformat": 4,
 "nbformat_minor": 4
}
