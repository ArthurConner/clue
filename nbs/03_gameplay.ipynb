{
 "cells": [
  {
   "cell_type": "markdown",
   "metadata": {},
   "source": [
    "# gameplay\n",
    "\n",
    "> Fill in a module description here"
   ]
  },
  {
   "cell_type": "code",
   "execution_count": null,
   "metadata": {},
   "outputs": [],
   "source": [
    "#| default_exp gameplay"
   ]
  },
  {
   "cell_type": "code",
   "execution_count": 1,
   "metadata": {},
   "outputs": [],
   "source": [
    "#| hide\n",
    "from nbdev.showdoc import *"
   ]
  },
  {
   "cell_type": "code",
   "execution_count": 2,
   "metadata": {},
   "outputs": [],
   "source": [
    "%load_ext autoreload\n"
   ]
  },
  {
   "cell_type": "code",
   "execution_count": 3,
   "metadata": {},
   "outputs": [],
   "source": [
    "%autoreload 2"
   ]
  },
  {
   "cell_type": "code",
   "execution_count": 4,
   "metadata": {},
   "outputs": [
    {
     "name": "stdout",
     "output_type": "stream",
     "text": [
      "Intel MKL WARNING: Support of Intel(R) Streaming SIMD Extensions 4.2 (Intel(R) SSE4.2) enabled only processors has been deprecated. Intel oneAPI Math Kernel Library 2025.0 will require Intel(R) Advanced Vector Extensions (Intel(R) AVX) instructions.\n",
      "Intel MKL WARNING: Support of Intel(R) Streaming SIMD Extensions 4.2 (Intel(R) SSE4.2) enabled only processors has been deprecated. Intel oneAPI Math Kernel Library 2025.0 will require Intel(R) Advanced Vector Extensions (Intel(R) AVX) instructions.\n"
     ]
    },
    {
     "name": "stderr",
     "output_type": "stream",
     "text": [
      "/Users/arthurconner/code/clue/nbs/clue/board.py:86: SyntaxWarning: \"is\" with a literal. Did you mean \"==\"?\n",
      "  if join_type is 'either' and set([0, 1]).intersection(\n",
      "/Users/arthurconner/code/clue/nbs/clue/board.py:90: SyntaxWarning: \"is\" with a literal. Did you mean \"==\"?\n",
      "  elif join_type is 'either' and set([self.width - 1,\n",
      "/Users/arthurconner/code/clue/nbs/clue/board.py:96: SyntaxWarning: \"is\" with a literal. Did you mean \"==\"?\n",
      "  elif join_type is 'either':\n",
      "/Users/arthurconner/code/clue/nbs/clue/board.py:101: SyntaxWarning: \"is\" with a literal. Did you mean \"==\"?\n",
      "  if join is 'top':\n",
      "/Users/arthurconner/code/clue/nbs/clue/board.py:103: SyntaxWarning: \"is\" with a literal. Did you mean \"==\"?\n",
      "  elif join is 'bottom':\n",
      "/Users/arthurconner/code/clue/nbs/clue/board.py:167: SyntaxWarning: \"is\" with a literal. Did you mean \"==\"?\n",
      "  if join_type is 'either':\n",
      "/Users/arthurconner/code/clue/nbs/clue/board.py:172: SyntaxWarning: \"is\" with a literal. Did you mean \"==\"?\n",
      "  if join is 'top':\n",
      "/Users/arthurconner/code/clue/nbs/clue/board.py:190: SyntaxWarning: \"is\" with a literal. Did you mean \"==\"?\n",
      "  elif join is 'bottom':\n"
     ]
    }
   ],
   "source": [
    "#| export\n",
    "import clue.model as model\n",
    "import clue.ui as ui\n",
    "import clue.board as bd\n",
    "from random import choice,shuffle,choices\n",
    "import os"
   ]
  },
  {
   "cell_type": "code",
   "execution_count": 5,
   "metadata": {},
   "outputs": [],
   "source": [
    "#| hide\n",
    "\n",
    "\n",
    "sboard = bd.Board()\n",
    "sState = sboard.updateState(4)\n"
   ]
  },
  {
   "cell_type": "code",
   "execution_count": null,
   "metadata": {},
   "outputs": [],
   "source": []
  },
  {
   "cell_type": "code",
   "execution_count": null,
   "metadata": {},
   "outputs": [],
   "source": [
    "\n",
    "\n"
   ]
  },
  {
   "cell_type": "code",
   "execution_count": 6,
   "metadata": {},
   "outputs": [],
   "source": [
    "#| export\n",
    "def getPlay(state):\n",
    "    state.board.show(state)\n",
    "    l = state.board.pickRoom(state)\n",
    "    p, w = ui.choosePandW(state)\n",
    "    return p-1, w-1, l\n",
    "\n"
   ]
  },
  {
   "cell_type": "code",
   "execution_count": 7,
   "metadata": {},
   "outputs": [
    {
     "name": "stdout",
     "output_type": "stream",
     "text": [
      "                                          ▒▒▒▒▒▒▒▒▒▒▒           \n",
      "                                          ▒░░░░░░░░░▒           \n",
      "                                          ▒░░░░░░░░░▒           \n",
      "                                          ▒░░░Lib░░░▒           \n",
      "                                          ▒░░░👠░░░░▒           \n",
      "                                          ▒░░░░░░░░░▒           \n",
      "                                          ▒▒░▒▒▒░▒▒▒▒           \n",
      "                                           ▒░▒ ▒░▒              \n",
      "                                           ▒░▒ ▒░▒              \n",
      "                                           ▒░▒ ▒░▒              \n",
      "                                           ▒░▒ ▒░▒              \n",
      "                                           ▒░▒ ▒░▒              \n",
      "                                           ▒░▒ ▒░▒              \n",
      "                                           ▒░▒ ▒░▒              \n",
      "                                           ▒░▒ ▒░▒              \n",
      "                                           ▒░▒ ▒░▒              \n",
      "                            Study          ▒░▒ ▒░▒              \n",
      "                             🐉            ▒░▒ ▒░▒              \n",
      "                                 ▒▒▒▒▒▒▒▒▒▒▒░▒▒▒░▒              \n",
      "                                 ▒░░░░░░░░░░░░░░░▒              \n",
      "                                 ▒▒▒▒▒▒▒▒▒▒▒░▒▒▒▒▒              \n",
      "                                           ▒░▒                  \n",
      "                                           ▒░▒                  \n",
      "                                           ▒░▒                  \n",
      "                                           ▒░▒                  \n",
      "                                           ▒░▒                  \n",
      "                                           ▒░▒                  \n",
      "                                           ▒░▒                  \n",
      "                                           ▒░▒                  \n",
      "                                           ▒░▒                  \n",
      "                                           ▒░▒                  \n",
      "                                           ▒░▒                  \n",
      "                                           ▒░▒                  \n",
      "                                           ▒░▒                  \n",
      "                                           ▒░▒                  \n",
      "                                           ▒░▒                  \n",
      "                                           ▒░▒                  \n",
      "                                           ▒░▒                  \n",
      "                                           ▒░▒                  \n",
      "                                           ▒░▒                  \n",
      "                                           ▒░▒                  \n",
      "                                           ▒░▒                  \n",
      "                                           ▒░▒                  \n",
      "                                           ▒░▒                  \n",
      "                                           ▒░▒                  \n",
      "                                     ▒▒▒▒▒▒▒░▒                  \n",
      "                                Lounge░░░░░░░▒                  \n",
      "                                  🧐 ▒▒▒▒▒▒▒▒▒                  \n",
      "👠 will dash to:\n",
      "\n",
      "1 Library\n",
      "2*Study\n",
      "3*Lounge\n"
     ]
    },
    {
     "name": "stdin",
     "output_type": "stream",
     "text": [
      "Choose from 1 to 3:  1\n"
     ]
    },
    {
     "name": "stdout",
     "output_type": "stream",
     "text": [
      "    People              Weapons\n",
      "--  ------------------  -------------\n",
      " 1  👠 Miss Scarlet     🔪 Dagger\n",
      " 2  🧐 Colonel Mustard  *🔫 Revolver\n",
      " 3  🥼  Mrs. White      🪢 Rope\n",
      " 4  🐉 Mr. Green        🔧 Wrench\n",
      " 5  🍆 Professor Plum   🕯️ Candlestick\n",
      " 6  *🦚 Mrs. Peacock    🪠 Lead Pipe\n"
     ]
    },
    {
     "name": "stdin",
     "output_type": "stream",
     "text": [
      " 2 2\n"
     ]
    },
    {
     "name": "stdout",
     "output_type": "stream",
     "text": [
      "🧐 Colonel Mustard with the 🔫 Revolver in the Library\n"
     ]
    }
   ],
   "source": [
    "\n",
    "print(ui.showChoice(getPlay(sState)))"
   ]
  },
  {
   "cell_type": "code",
   "execution_count": 8,
   "metadata": {},
   "outputs": [],
   "source": [
    "#| hide\n",
    "#stguess = getPlay(1,stgame,stmoves)\n",
    "#print(ui.showChoice(stguess))\n",
    "def seenCounts(state):\n",
    "    knoweledge = ui.getSeen(state)\n",
    "    p = [0,0,0]\n",
    "    for x in knoweledge:\n",
    "        i = int(x/100) -1\n",
    "        p[i] += 1\n",
    "\n",
    "    return p"
   ]
  },
  {
   "cell_type": "code",
   "execution_count": null,
   "metadata": {},
   "outputs": [],
   "source": [
    "#| hide\n",
    "#stguess = getPlay(2,stgame,stmoves)"
   ]
  },
  {
   "cell_type": "code",
   "execution_count": 9,
   "metadata": {},
   "outputs": [],
   "source": [
    "#| export\n",
    "\n",
    "\n",
    "\n",
    "\n",
    "def simpleGuess(state):\n",
    "   \n",
    "\n",
    "\n",
    "    playerRoom = model.roomOf(pc,state)\n",
    "    exclude  = set(model.getSeen(state))\n",
    "    \n",
    "    pdeck = [model.keyCard(1,x) for x in range(len(model.people))]\n",
    "    pdeck = [x for x in  pdeck if x not in exclude]\n",
    "    p = choice(pdeck)%100\n",
    "    \n",
    "    pdeck = [model.keyCard(2,x) for x in range(len(model.weapons))]\n",
    "    pdeck = [x for x in pdeck if x not in exclude]\n",
    "    w = choice(pdeck)%100\n",
    "    \n",
    "    pdeck = [model.keyCard(3,x) for x in model.roomsAround(playerRoom)]\n",
    "    rdeck = [x for x in  pdeck if x not in exclude]\n",
    "    \n",
    "    if len(rdeck) == 0:\n",
    "        l = pdeck[0]%100\n",
    "    else:\n",
    "        l = choice(rdeck)%100\n",
    "    \n",
    "    return (p,w,l)\n"
   ]
  },
  {
   "cell_type": "code",
   "execution_count": 10,
   "metadata": {},
   "outputs": [],
   "source": [
    "#| export\n",
    "\n",
    "def itemsForType(t):\n",
    "    if t == 1:\n",
    "        return model.people\n",
    "    if t == 2:\n",
    "        return model.weapons\n",
    "    return model.rooms\n",
    "        \n",
    "def itemGuess(t,moves):\n",
    "    l = itemsForType(t)\n",
    "\n",
    "    ret = [1 for x in range(len(l))]\n",
    "    for x in moves:\n",
    "        ret[x[t-1]] += 1\n",
    "    #print(ret)\n",
    "    return ret\n",
    "    \n",
    "def showCounts(t,moves):\n",
    "    items = itemGuess(t,moves)\n",
    "    base = itemsForType(t)\n",
    "    #print(items,base)\n",
    "    for i in range(len(items)):\n",
    "        print(i,ui.cardFull(base[i]),items[i])\n",
    "\n",
    "\n",
    "                              \n",
    "\n",
    "\n"
   ]
  },
  {
   "cell_type": "code",
   "execution_count": 11,
   "metadata": {},
   "outputs": [],
   "source": [
    "#| export\n",
    "def biasWalk(state):\n",
    "    \n",
    "    def bWalk(exclude,state):\n",
    "\n",
    "        playerRoom = model.roomOf(state.player,state) \n",
    "        dest = model.roomsAround(playerRoom)\n",
    "        if model.keyCard(3,dest[a]) not in exclude:\n",
    "            return dest[a]%100\n",
    "        if model.keyCard(3,dest[b]) not in exclude:\n",
    "            return dest[b]%100\n",
    "        \n",
    "        return dest[c]%100\n",
    "    return bWalk\n",
    "    \n",
    "    \n",
    " "
   ]
  },
  {
   "cell_type": "code",
   "execution_count": 12,
   "metadata": {},
   "outputs": [],
   "source": [
    "#| export\n",
    "def rWalk(exclude,state):\n",
    "\n",
    "    playerRoom = model.roomOf(state.player,state)\n",
    "    pdeck = [model.keyCard(3,x) for x in model.roomsAround(playerRoom,state)]\n",
    "    rdeck = [x for x in  pdeck if x not in exclude]\n",
    "    \n",
    "    if len(rdeck) == 0:\n",
    "        l = pdeck[0]%100\n",
    "    else:\n",
    "        l = choice(rdeck)%100\n",
    "                              \n",
    "    return l"
   ]
  },
  {
   "cell_type": "code",
   "execution_count": 13,
   "metadata": {},
   "outputs": [],
   "source": [
    "#| export\n",
    "\n",
    "\n",
    "def roomsAway(roomNum,roomSize):\n",
    "    foo = [x for x in range(roomSize)]\n",
    "    middle = int( roomSize / 2)\n",
    "    if roomNum <middle:\n",
    "        lm = foo[roomNum - int(middle):]\n",
    "        lSide = lm + foo[:roomNum] \n",
    "        lSide.reverse()\n",
    "        rSide = foo[roomNum + 1:roomNum + 1 + middle]\n",
    "    elif roomNum > middle:\n",
    "        lSide = foo[roomNum-middle:roomNum]\n",
    "        lSide.reverse()\n",
    "        rSide = foo[roomNum +1: ] + foo[:roomNum-middle]\n",
    "    else:\n",
    "        lSide = foo[:middle]\n",
    "        lSide.reverse()\n",
    "        rSide = foo[middle+1:]\n",
    "    return lSide, rSide\n",
    "\n",
    "def repelWalk(exclude,state):\n",
    "    playerRoom = model.roomOf(state.player,state)\n",
    "    lRooms, rRooms = roomsAway(playerRoom,len(model.rooms))\n",
    "    #print(\"staring at \" + ui.cardFull(model.rooms[playerRoom]))\n",
    "    #print(playerRoom,lRooms,rRooms)\n",
    "    if not (model.keyCard(3,playerRoom) in exclude):\n",
    "     return playerRoom\n",
    "    #print(exclude)\n",
    "    def score(rooms):\n",
    "        rooms.reverse()\n",
    "        weights = []\n",
    "        cards = []\n",
    "        for i in range(len(rooms)):\n",
    "            r = rooms[i]\n",
    "            cards.append(str(model.keyCard(3,r)) + \" \" + model.rooms[r][0])\n",
    "            \n",
    "            if model.keyCard(3,r) in exclude:\n",
    "                w = 2**i\n",
    "                #print(i,w)\n",
    "                weights.append(w)\n",
    "            else:\n",
    "                weights.append(0)\n",
    "        #print(cards,weights)\n",
    "        return sum(weights)\n",
    "\n",
    "\n",
    "    lPull = score(lRooms)\n",
    "    rPull = score(rRooms)\n",
    "    #trace.append([playerRoom,lPull,rPull])\n",
    "    #print(trace)\n",
    "    #ui.showBoard(pc,game,moves)\n",
    "    achoice = list(model.roomsAround(playerRoom,state))\n",
    "    achoice.sort()\n",
    "    if lPull > rPull:\n",
    "        #print(\"to\" + ui.cardFull(model.rooms[achoice[2]]))\n",
    "        return achoice[2]\n",
    "    if lPull < rPull:\n",
    "        \n",
    "        #print(\"to\" + ui.cardFull(model.rooms[achoice[0]]))\n",
    "        return achoice[0]\n",
    "    #print(\"same\")    \n",
    "    return rWalk(exclude,state)\n"
   ]
  },
  {
   "cell_type": "code",
   "execution_count": 14,
   "metadata": {},
   "outputs": [],
   "source": [
    "#| export\n",
    "def mimic(memory,walk):\n",
    "    def betterGuess(state):\n",
    "\n",
    "        exclude  = set(model.getSeen(state))\n",
    "\n",
    "        if memory < 0:\n",
    "            examine = []\n",
    "        else:\n",
    "            examine = state.moves[-memory:]\n",
    "\n",
    "\n",
    "        keydeck = [model.keyCard(1,x) for x in range(len(model.people))]\n",
    "        pdeck = [x for x in  keydeck if x not in exclude]\n",
    "        pC = itemGuess(1,examine)\n",
    "        pWeights = [pC[x%100] * pC[x%100] for x in  keydeck if x not in exclude]\n",
    "\n",
    "        p = choices(pdeck,weights=pWeights)\n",
    "        p = p[0]%100\n",
    "\n",
    "        keydeck = [model.keyCard(2,x) for x in range(len(model.weapons))]\n",
    "        pdeck = [x for x in keydeck if x not in exclude]\n",
    "        pC = itemGuess(2,examine)\n",
    "        pWeights = [pC[x%100] * pC[x%100] for x in  keydeck if x not in exclude]\n",
    "\n",
    "        w = choices(pdeck,weights=pWeights)[0]%100\n",
    "        \n",
    "        l = walk(exclude,state)\n",
    "\n",
    "        return (p,w,l)\n",
    "    \n",
    "    return betterGuess"
   ]
  },
  {
   "cell_type": "code",
   "execution_count": 15,
   "metadata": {},
   "outputs": [],
   "source": [
    "#| export\n",
    "def cheater(walk):\n",
    "    def betterGuess(state):\n",
    "\n",
    " \n",
    "        exclude  = set(model.handOf(state) +[x[-1] for x in state.moves] )\n",
    "\n",
    "       \n",
    "        examine = []\n",
    "   \n",
    "\n",
    "\n",
    "        keydeck = [model.keyCard(1,x) for x in range(len(model.people))]\n",
    "        pdeck = [x for x in  keydeck if x not in exclude]\n",
    "        pC = itemGuess(1,examine)\n",
    "        pWeights = [pC[x%100] * pC[x%100] for x in  keydeck if x not in exclude]\n",
    "\n",
    "        p = choices(pdeck,weights=pWeights)\n",
    "        p = p[0]%100\n",
    "\n",
    "        keydeck = [model.keyCard(2,x) for x in range(len(model.weapons))]\n",
    "        pdeck = [x for x in keydeck if x not in exclude]\n",
    "        pC = itemGuess(2,examine)\n",
    "        pWeights = [pC[x%100] * pC[x%100] for x in  keydeck if x not in exclude]\n",
    "\n",
    "        w = choices(pdeck,weights=pWeights)[0]%100\n",
    "        \n",
    "        l = walk(exclude,state)\n",
    "\n",
    "        return (p,w,l)\n",
    "    return betterGuess\n",
    "\n",
    "\n",
    "def halfRight(walk):\n",
    "    oracle = cheater(walk)\n",
    "    \n",
    "    def betterGuess(state):\n",
    "        p,w,l = oracle(state)\n",
    "        exclude  = model.handOf(state) +[x[-1] for x in state.moves] \n",
    "        exclude = [x for x in exclude if x < 300]\n",
    "        \n",
    "\n",
    "        if len(exclude) <= 0:\n",
    "            return (p,w,l)\n",
    "\n",
    "        wrong = choice(exclude)\n",
    "        if wrong < 200:\n",
    "            p = wrong%100\n",
    "        else:\n",
    "            w = wrong%100\n",
    "\n",
    "        return (p,w,l)\n",
    "    return betterGuess"
   ]
  },
  {
   "cell_type": "code",
   "execution_count": 16,
   "metadata": {},
   "outputs": [],
   "source": [
    "#| export\n",
    "\n",
    "def hasGuess(guess,moves):\n",
    "    p, w, l = guess[:3]\n",
    "    c = (p,w,l)\n",
    "    for x in moves:\n",
    "        p, w, l = x[:3]\n",
    "        xc = (p,w,l)\n",
    "        if c == xc:\n",
    "            return True\n",
    "    return False\n",
    "\n",
    "def repeater(strats,verbose=False):\n",
    "    def betterGuess(state):\n",
    "        counter = 0\n",
    "        for strat in strats:\n",
    "            \n",
    "            g =  strat(state)\n",
    "            if not hasGuess(g,state.moves):\n",
    "                if verbose and counter > 0:\n",
    "                    print(\"counter \" + str(counter))\n",
    "                return g\n",
    "            counter += 1\n",
    "                        \n",
    "        if verbose and counter > 0:\n",
    "            print(\" over counter \" + str(counter))\n",
    "        return strats[-1](state)\n",
    "                          \n",
    "    return betterGuess"
   ]
  },
  {
   "cell_type": "code",
   "execution_count": 17,
   "metadata": {},
   "outputs": [
    {
     "data": {
      "text/plain": [
       "(4, 0, 8)"
      ]
     },
     "execution_count": 17,
     "metadata": {},
     "output_type": "execute_result"
    }
   ],
   "source": [
    "r1 = repeater([mimic(1*(x+3),rWalk) for x in range(4)])\n",
    "r1(sState)"
   ]
  },
  {
   "cell_type": "code",
   "execution_count": 18,
   "metadata": {},
   "outputs": [
    {
     "data": {
      "text/plain": [
       "(0, 4, 7)"
      ]
     },
     "execution_count": 18,
     "metadata": {},
     "output_type": "execute_result"
    }
   ],
   "source": [
    "r2 = repeater([mimic(1*(x+3),repelWalk) for x in range(4)])\n",
    "r2(sState)"
   ]
  },
  {
   "cell_type": "code",
   "execution_count": 19,
   "metadata": {},
   "outputs": [
    {
     "data": {
      "text/plain": [
       "(5, 4, 8)"
      ]
     },
     "execution_count": 19,
     "metadata": {},
     "output_type": "execute_result"
    }
   ],
   "source": [
    "r3 = repeater([halfRight(rWalk) for x in range(4)])\n",
    "r3(sState)"
   ]
  },
  {
   "cell_type": "code",
   "execution_count": null,
   "metadata": {},
   "outputs": [],
   "source": []
  },
  {
   "cell_type": "markdown",
   "metadata": {},
   "source": [
    "## Visual"
   ]
  },
  {
   "cell_type": "code",
   "execution_count": 20,
   "metadata": {},
   "outputs": [],
   "source": [
    "#| export\n",
    "def showHist(state):\n",
    "    amoves = [x for x in state.moves if x[-3] == state.player]\n",
    "    ui.showMoves(state.player,amoves,len(state.game)-1)"
   ]
  },
  {
   "cell_type": "code",
   "execution_count": 21,
   "metadata": {},
   "outputs": [],
   "source": [
    "#| export\n",
    "def playerName(i):\n",
    "    return ui.cardFull(model.cardLookup(1,i-1))\n",
    "    \n",
    "def runVisualGame( strats):\n",
    "    numPlayers = len(strats)\n",
    "    done = False\n",
    "    sBoard = bd.Board()\n",
    "    sState = sBoard.updateState(numPlayers)\n",
    "\n",
    "   \n",
    "             \n",
    "    while not done:\n",
    "        #print(seenCounts(player,agame,amoves))\n",
    "        #print(\"on player \",sState.player)\n",
    "        stratName, isUser, strat = strats[sState.player - 1]\n",
    "        \n",
    "        if isUser:\n",
    "            #ui.showMoves(player,amoves[-numPlayers:],numPlayers)\n",
    "            print(\"your moves:\")\n",
    "            showHist(sState)\n",
    "            print(\"your hand:\")\n",
    "            ui.printPlayerHand(sState)\n",
    "            print(\"last round:\")\n",
    "            ui.showMoves(sState.player,sState.moves[-numPlayers:],numPlayers)\n",
    "\n",
    "        #print(player,agame,amoves)\n",
    "        ans = strat(sState)\n",
    "        if isUser:\n",
    "            os.system(\"clear\")\n",
    "            #print(seenCounts(player,agame,amoves))\n",
    "            print( playerName(sState.player) + \" suspects \" + ui.showChoice(ans)+\".\")\n",
    "        sState = model.relocatePlayers(sState.player , ans[0],ans[2],sState)\n",
    "        #print( playerName(player) + \" suspects \" + ui.showChoice(ans)+\".\")\n",
    "        check = model.getAnswer(sState,ans)\n",
    "        \n",
    "        if check[0] < 0:\n",
    "            seen =  model.getSeen(sState)\n",
    "            exclude  = set(seen)\n",
    "            done = True\n",
    "            for x in model.keysForGuess(ans):\n",
    "                if x in exclude:\n",
    "                    print(\"\\n\\n\" + playerName(sState.player) + \" is not quite ready to accuse.\")\n",
    "                    done = False\n",
    "            \n",
    "        else:\n",
    "            #(p,w,l,playerNum, c,y[0],y[1])\n",
    "            card = check[-1]\n",
    "            \n",
    "            sState.moves.append(check)\n",
    "\n",
    "\n",
    "        if not done:\n",
    "            sState = model.bumpPlayer(sState)\n",
    "    \n",
    "    \n",
    "    ui.printGame(sState) \n",
    "    ui.showMoves(-1,sState.moves,numPlayers)\n",
    "    print(\"\\n\" + playerName(sState.player) + \" \" + stratName + \" won!\")\n",
    "    sBoard.showAll(sState)\n",
    "    return sState"
   ]
  },
  {
   "cell_type": "code",
   "execution_count": 22,
   "metadata": {},
   "outputs": [],
   "source": [
    "def quickGame():\n",
    "    p1 = (\"user\",True,getPlay)\n",
    "    s1 = (\"simple\",False,mimic(4,rWalk))\n",
    "    hr1 = (\"half\",False,halfRight(rWalk))\n",
    "    s2 = (\"simple r\",False,repeater([mimic(-1,rWalk) for x in range(4)]))\n",
    "    b2 = (\"better rZ\",False,repeater([mimic(8,rWalk) for x in range(4)]))\n",
    "\n",
    "    strategies = [p1,s1,s2]\n",
    "    runVisualGame(strategies)"
   ]
  },
  {
   "cell_type": "code",
   "execution_count": 23,
   "metadata": {},
   "outputs": [
    {
     "name": "stdout",
     "output_type": "stream",
     "text": [
      "your moves:\n",
      "your hand:\n",
      "🕯️ Candlestick, Dining Room, 🔫 Revolver, Ball Room, 🧐 Colonel Mustard, Study\n",
      "last round:\n",
      "                                   Lounge                       \n",
      "                                       ▒▒▒                      \n",
      "                                       ▒░▒                      \n",
      "                                       ▒░▒                      \n",
      "                      Consv            ▒░▒                      \n",
      "                           ▒▒▒▒▒▒▒▒▒▒▒▒▒░▒▒▒▒▒                  \n",
      "                           ▒░░░░░░░░░░░░░░░░░▒                  \n",
      "                           ▒▒▒▒▒▒▒▒▒▒▒▒▒░▒▒▒░▒                  \n",
      "                                       ▒░▒ ▒░▒                  \n",
      "                                       ▒░▒ ▒░▒                  \n",
      "                                       ▒░▒ ▒░▒                  \n",
      "                                       ▒░▒ ▒░▒                  \n",
      "                                       ▒░▒ ▒░▒                  \n",
      "                                       ▒░▒ ▒░▒                  \n",
      "                                       ▒░▒ ▒░▒                  \n",
      "                                       ▒░▒ ▒░▒                  \n",
      "                                       ▒░▒ ▒░▒                  \n",
      "                                       ▒░▒ ▒░▒                  \n",
      "                                       ▒░▒ ▒░▒                  \n",
      "                                       ▒░▒ ▒░▒                  \n",
      "                                       ▒░▒ ▒░▒                  \n",
      "                                       ▒░▒ ▒░▒                  \n",
      "                                       ▒░▒ ▒░▒                  \n",
      "                                       ▒░▒ ▒░▒                  \n",
      "                                       ▒░▒ ▒░▒                  \n",
      "                                       ▒░▒ ▒░▒                  \n",
      "                                       ▒░▒ ▒░▒                  \n",
      "                                       ▒░▒ ▒░▒                  \n",
      "                                       ▒░▒ ▒░▒▒▒▒▒▒▒▒▒          \n",
      "                                       ▒░▒ ▒░░░░░░░░░▒          \n",
      "                           ▒▒▒▒▒▒▒▒▒▒▒▒▒░▒▒▒░░░░░░░░░▒          \n",
      "                       Study░░░░░░░░░░░░░░░░░░░░░░░░░▒          \n",
      "                        🥼 ▒▒▒▒▒▒▒▒▒▒▒▒▒▒▒▒▒░░░░░░░░░▒          \n",
      "                                           ▒░Library░▒          \n",
      "                                           ▒░░░👠░░░░▒          \n",
      "                                           ▒░░░░░░░░░▒          \n",
      "                                           ▒░░░░░░░░░▒          \n",
      "                                           ▒░░░░░░░░░▒          \n",
      "                                           ▒▒▒▒▒▒▒▒▒▒▒          \n",
      "👠 will stumble to:\n",
      "\n",
      "1 Library\n",
      "2*Study\n",
      "3 Conservatory\n",
      "4 Lounge\n"
     ]
    },
    {
     "name": "stdin",
     "output_type": "stream",
     "text": [
      "Choose from 1 to 4:  1\n"
     ]
    },
    {
     "name": "stdout",
     "output_type": "stream",
     "text": [
      "    People               Weapons\n",
      "--  -------------------  --------------\n",
      " 1  👠 Miss Scarlet      🔪 Dagger\n",
      " 2  *🧐 Colonel Mustard  *🔫 Revolver\n",
      " 3  🥼  Mrs. White       🪢 Rope\n",
      " 4  🐉 Mr. Green         🔧 Wrench\n",
      " 5  🍆 Professor Plum    *🕯️ Candlestick\n",
      " 6  🦚 Mrs. Peacock      🪠 Lead Pipe\n"
     ]
    },
    {
     "name": "stdin",
     "output_type": "stream",
     "text": [
      " 5 4\n"
     ]
    },
    {
     "name": "stdout",
     "output_type": "stream",
     "text": [
      "\u001b[H\u001b[2J👠 Miss Scarlet suspects 🍆 Professor Plum with the 🔧 Wrench in the Library.\n",
      "your moves:\n",
      "👠  asks (🍆 &  🔧 in the Library) ------->👠🧐❓❓ shows Library\n",
      "your hand:\n",
      "🕯️ Candlestick, Dining Room, 🔫 Revolver, Ball Room, 🧐 Colonel Mustard, Study\n",
      "last round:\n",
      "👠  asks (🍆 &  🔧 in the Library) ------->👠🧐❓ shows Library\n",
      "🧐  asks (🧐 &  🔧 in the Hall) ---------->❓🧐🥼\n",
      "🥼  asks (🥼 &  🪠 in the Library) ------->👠🧐🥼\n",
      "                                   Lounge                       \n",
      "                                       ▒▒▒                      \n",
      "                                       ▒░▒                      \n",
      "                                       ▒░▒                      \n",
      "                      Consv            ▒░▒                      \n",
      "                           ▒▒▒▒▒▒▒▒▒▒▒▒▒░▒▒▒▒▒                  \n",
      "                           ▒░░░░░░░░░░░░░░░░░▒                  \n",
      "                           ▒▒▒▒▒▒▒▒▒▒▒▒▒░▒▒▒░▒                  \n",
      "                                       ▒░▒ ▒░▒                  \n",
      "                                       ▒░▒ ▒░▒                  \n",
      "                                       ▒░▒ ▒░▒                  \n",
      "                                       ▒░▒ ▒░▒                  \n",
      "                                       ▒░▒ ▒░▒                  \n",
      "                                       ▒░▒ ▒░▒                  \n",
      "                                       ▒░▒ ▒░▒                  \n",
      "                                       ▒░▒ ▒░▒                  \n",
      "                                       ▒░▒ ▒░▒                  \n",
      "                                       ▒░▒ ▒░▒                  \n",
      "                                       ▒░▒ ▒░▒                  \n",
      "                                       ▒░▒ ▒░▒                  \n",
      "                                       ▒░▒ ▒░▒                  \n",
      "                                       ▒░▒ ▒░▒                  \n",
      "                                       ▒░▒ ▒░▒                  \n",
      "                                       ▒░▒ ▒░▒                  \n",
      "                                       ▒░▒ ▒░▒                  \n",
      "                                       ▒░▒ ▒░▒                  \n",
      "                                       ▒░▒ ▒░▒                  \n",
      "                                       ▒░▒ ▒░▒                  \n",
      "                                       ▒░▒ ▒░▒▒▒▒▒▒▒▒▒          \n",
      "                                       ▒░▒ ▒░░░░░░░░░▒          \n",
      "                           ▒▒▒▒▒▒▒▒▒▒▒▒▒░▒▒▒░░░░░░░░░▒          \n",
      "                       Study░░░░░░░░░░░░░░░░░░░░░░░░░▒          \n",
      "                           ▒▒▒▒▒▒▒▒▒▒▒▒▒▒▒▒▒░░░░░░░░░▒          \n",
      "                                           ▒░Library░▒          \n",
      "                                           ▒░👠🥼🍆░░▒          \n",
      "                                           ▒░░░░░░░░░▒          \n",
      "                                           ▒░░░░░░░░░▒          \n",
      "                                           ▒░░░░░░░░░▒          \n",
      "                                           ▒▒▒▒▒▒▒▒▒▒▒          \n",
      "👠 will race to:\n",
      "\n",
      "1*Library                          🥼\n",
      "2*Study\n",
      "3 Conservatory\n",
      "4 Lounge\n"
     ]
    },
    {
     "name": "stdin",
     "output_type": "stream",
     "text": [
      "Choose from 1 to 4:  3\n"
     ]
    },
    {
     "name": "stdout",
     "output_type": "stream",
     "text": [
      "    People               Weapons\n",
      "--  -------------------  --------------\n",
      " 1  👠 Miss Scarlet      🔪 Dagger\n",
      " 2  *🧐 Colonel Mustard  *🔫 Revolver\n",
      " 3  🥼  Mrs. White       🪢 Rope\n",
      " 4  🐉 Mr. Green         🔧 Wrench\n",
      " 5  🍆 Professor Plum    *🕯️ Candlestick\n",
      " 6  🦚 Mrs. Peacock      🪠 Lead Pipe\n"
     ]
    },
    {
     "name": "stdin",
     "output_type": "stream",
     "text": [
      " 3 3\n"
     ]
    },
    {
     "name": "stdout",
     "output_type": "stream",
     "text": [
      "\u001b[H\u001b[2J👠 Miss Scarlet suspects 🥼  Mrs. White with the 🪢 Rope in the Conservatory.\n",
      "your moves:\n",
      "👠  asks (🍆 &  🔧 in the Library) ------->👠🧐❓❓ shows Library\n",
      "👠  asks (🥼 &  🪢 in the Conservatory) -->👠🧐🥼❓ shows 🪢 Rope\n",
      "your hand:\n",
      "🕯️ Candlestick, Dining Room, 🔫 Revolver, Ball Room, 🧐 Colonel Mustard, Study\n",
      "last round:\n",
      "👠  asks (🥼 &  🪢 in the Conservatory) -->👠🧐🥼 shows 🪢 Rope\n",
      "🧐  asks (🥼 &  🪢 in the Kitchen) ------->❓🧐🥼\n",
      "🥼  asks (🍆 &  🕯️ in the Lounge) -------->👠❓🥼\n",
      "                       ▒▒▒▒▒▒▒▒▒▒▒▒▒▒▒▒▒▒▒▒▒▒▒▒▒▒▒              \n",
      "                       ▒░░░░░░░░░░░░░░░░░░░░░░░░░▒              \n",
      "                       ▒░▒▒▒▒▒▒▒▒▒▒▒▒▒▒▒▒▒▒▒▒▒▒▒▒▒              \n",
      "                       ▒░▒                          Bill        \n",
      "                       ▒░▒                                      \n",
      "                       ▒░▒                                      \n",
      "                   ▒▒▒▒▒░▒▒▒▒                                   \n",
      "                   ▒░░░░░░░░▒                                   \n",
      "                   ▒░░░░░░░░▒                                   \n",
      "                   ▒░░░░░░░░▒                                   \n",
      "                   ▒░░Consv░▒                                   \n",
      "                   ▒░░░👠░░░▒▒▒▒▒▒▒▒▒▒▒▒▒▒▒▒▒▒                  \n",
      "               ▒▒▒▒▒░░░░░░░░░░░░░░░░░░░░░░░░░▒                  \n",
      "               ▒░░░░░░░░░░░░▒▒▒▒▒▒▒▒▒▒▒▒▒▒▒▒░▒                  \n",
      "               ▒░▒▒▒▒▒▒▒▒▒▒▒▒              ▒░▒                  \n",
      "               ▒░▒                         ▒░▒                  \n",
      "               ▒░▒                         ▒░▒                  \n",
      "               ▒░▒                         ▒░▒                  \n",
      "               ▒░▒                         ▒░▒                  \n",
      "               ▒░▒                         ▒░▒                  \n",
      "               ▒░▒                         ▒░▒                  \n",
      "               ▒░▒                         ▒░▒                  \n",
      "               ▒░▒                         ▒░▒                  \n",
      "               ▒░▒                         ▒░▒                  \n",
      "               ▒░▒                         ▒░▒                  \n",
      "               ▒░▒                         ▒░▒                  \n",
      "               ▒░▒                         ▒░▒                  \n",
      "               ▒░▒                         ▒░▒                  \n",
      "               ▒░▒                         ▒░▒                  \n",
      "               ▒░▒                         ▒░▒                  \n",
      "               ▒░▒                         ▒░▒                  \n",
      "               ▒░▒                         ▒░▒                  \n",
      "               ▒░▒                         ▒░▒                  \n",
      "               ▒░▒                         ▒░▒                  \n",
      "               ▒░▒                         ▒░▒                  \n",
      "               ▒░▒                         ▒▒▒                  \n",
      "               ▒░▒                                              \n",
      "               ▒░▒                                              \n",
      "               ▒░▒                                              \n",
      "               ▒░▒                           Library            \n",
      "               ▒░▒                                              \n",
      "               ▒░▒                                              \n",
      "               ▒░▒                                              \n",
      "               ▒░▒                                              \n",
      "               ▒░▒                                              \n",
      "               ▒░▒                                              \n",
      "               ▒░▒                                              \n",
      "               ▒░▒                                              \n",
      "               ▒▒▒                                              \n",
      "            Dining                                              \n",
      "              🐉                                                \n",
      "👠 will race to:\n",
      "\n",
      "1 Conservatory\n",
      "2 Billiard Room\n",
      "3*Dining Room\n",
      "4*Library                          🥼\n"
     ]
    },
    {
     "name": "stdin",
     "output_type": "stream",
     "text": [
      "Choose from 1 to 4:  1\n"
     ]
    },
    {
     "name": "stdout",
     "output_type": "stream",
     "text": [
      "    People               Weapons\n",
      "--  -------------------  --------------------------------------\n",
      " 1  👠 Miss Scarlet      🔪 Dagger\n",
      " 2  *🧐 Colonel Mustard  *🔫 Revolver\n",
      " 3  🥼  Mrs. White       *🪢 Rope                            👠\n",
      " 4  🐉 Mr. Green         🔧 Wrench\n",
      " 5  🍆 Professor Plum    *🕯️ Candlestick                    🥼\n",
      " 6  🦚 Mrs. Peacock      🪠 Lead Pipe\n"
     ]
    },
    {
     "name": "stdin",
     "output_type": "stream",
     "text": [
      " 5 4\n"
     ]
    },
    {
     "name": "stdout",
     "output_type": "stream",
     "text": [
      "\u001b[H\u001b[2J👠 Miss Scarlet suspects 🍆 Professor Plum with the 🔧 Wrench in the Conservatory.\n",
      "your moves:\n",
      "👠  asks (🍆 &  🔧 in the Library) ------->👠🧐❓❓ shows Library\n",
      "👠  asks (🥼 &  🪢 in the Conservatory) -->👠🧐🥼❓ shows 🪢 Rope\n",
      "👠  asks (🍆 &  🔧 in the Conservatory) -->👠🧐❓❓ shows 🍆 Professor Plum\n",
      "your hand:\n",
      "🕯️ Candlestick, Dining Room, 🔫 Revolver, Ball Room, 🧐 Colonel Mustard, Study\n",
      "last round:\n",
      "👠  asks (🍆 &  🔧 in the Conservatory) -->👠🧐❓ shows 🍆 Professor Plum\n",
      "🧐  asks (🥼 &  🕯️ in the Hall) ---------->👠🧐🥼\n",
      "🥼  asks (🧐 &  🪠 in the Dining Room) --->👠❓🥼\n",
      "                       ▒▒▒▒▒▒▒▒▒▒▒▒▒▒▒▒▒▒▒▒▒▒▒▒▒▒▒              \n",
      "                       ▒░░░░░░░░░░░░░░░░░░░░░░░░░▒              \n",
      "                       ▒░▒▒▒▒▒▒▒▒▒▒▒▒▒▒▒▒▒▒▒▒▒▒▒▒▒              \n",
      "                       ▒░▒                          Bill        \n",
      "                       ▒░▒                                      \n",
      "                       ▒░▒                                      \n",
      "                   ▒▒▒▒▒░▒▒▒▒                                   \n",
      "                   ▒░░░░░░░░▒                                   \n",
      "                   ▒░░░░░░░░▒                                   \n",
      "                   ▒░░░░░░░░▒                                   \n",
      "                   ▒░░Consv░▒                                   \n",
      "                   ▒░░👠🍆░░▒▒▒▒▒▒▒▒▒▒▒▒▒▒▒▒▒▒                  \n",
      "               ▒▒▒▒▒░░░░░░░░░░░░░░░░░░░░░░░░░▒                  \n",
      "               ▒░░░░░░░░░░░░▒▒▒▒▒▒▒▒▒▒▒▒▒▒▒▒░▒                  \n",
      "               ▒░▒▒▒▒▒▒▒▒▒▒▒▒              ▒░▒                  \n",
      "               ▒░▒                         ▒░▒                  \n",
      "               ▒░▒                         ▒░▒                  \n",
      "               ▒░▒                         ▒░▒                  \n",
      "               ▒░▒                         ▒░▒                  \n",
      "               ▒░▒                         ▒░▒                  \n",
      "               ▒░▒                         ▒░▒                  \n",
      "               ▒░▒                         ▒░▒                  \n",
      "               ▒░▒                         ▒░▒                  \n",
      "               ▒░▒                         ▒░▒                  \n",
      "               ▒░▒                         ▒░▒                  \n",
      "               ▒░▒                         ▒░▒                  \n",
      "               ▒░▒                         ▒░▒                  \n",
      "               ▒░▒                         ▒░▒                  \n",
      "               ▒░▒                         ▒░▒                  \n",
      "               ▒░▒                         ▒░▒                  \n",
      "               ▒░▒                         ▒░▒                  \n",
      "               ▒░▒                         ▒░▒                  \n",
      "               ▒░▒                         ▒░▒                  \n",
      "               ▒░▒                         ▒░▒                  \n",
      "               ▒░▒                         ▒░▒                  \n",
      "               ▒░▒                         ▒▒▒                  \n",
      "               ▒░▒                                              \n",
      "               ▒░▒                                              \n",
      "               ▒░▒                                              \n",
      "               ▒░▒                           Library            \n",
      "               ▒░▒                                              \n",
      "               ▒░▒                                              \n",
      "               ▒░▒                                              \n",
      "               ▒░▒                                              \n",
      "               ▒░▒                                              \n",
      "               ▒░▒                                              \n",
      "               ▒░▒                                              \n",
      "               ▒░▒                                              \n",
      "               ▒▒▒                                              \n",
      "            Dining                                              \n",
      "            🧐🥼🐉                                              \n",
      "👠 will dash to:\n",
      "\n",
      "1 Conservatory\n",
      "2 Billiard Room\n",
      "3*Dining Room                      🥼\n",
      "4*Library                          🥼\n"
     ]
    },
    {
     "name": "stdin",
     "output_type": "stream",
     "text": [
      "Choose from 1 to 4:  2\n"
     ]
    },
    {
     "name": "stdout",
     "output_type": "stream",
     "text": [
      "    People               Weapons\n",
      "--  -------------------  ----------------------------------------\n",
      " 1  👠 Miss Scarlet      🔪 Dagger\n",
      " 2  *🧐 Colonel Mustard  *🔫 Revolver\n",
      " 3  🥼  Mrs. White       *🪢 Rope                            👠\n",
      " 4  🐉 Mr. Green         🔧 Wrench\n",
      " 5  *🍆 Professor Plum   *🕯️ Candlestick                    🧐, 🥼\n",
      " 6  🦚 Mrs. Peacock      🪠 Lead Pipe\n"
     ]
    },
    {
     "name": "stdin",
     "output_type": "stream",
     "text": [
      " 6 6\n"
     ]
    },
    {
     "name": "stdout",
     "output_type": "stream",
     "text": [
      "\u001b[H\u001b[2J👠 Miss Scarlet suspects 🦚 Mrs. Peacock with the 🪠 Lead Pipe in the Billiard Room.\n",
      "Solution\n",
      "🥼  Mrs. White, 🪠 Lead Pipe, Conservatory\n",
      "\n",
      "                [1] 👠 Miss Scarlet is in Billiard Room                \n",
      "🕯️ Candlestick, Dining Room, 🔫 Revolver, Ball Room, 🧐 Colonel Mustard, Study\n",
      "\n",
      "               [2] 🧐 Colonel Mustard is in Conservatory               \n",
      "Lounge, 🍆 Professor Plum, 👠 Miss Scarlet, Library, 🦚 Mrs. Peacock, Hall\n",
      "\n",
      "                 [3] 🥼  Mrs. White is in Conservatory                 \n",
      "Billiard Room, 🔧 Wrench, 🪢 Rope, 🔪 Dagger, 🐉 Mr. Green, Kitchen\n",
      "👠  asks (🍆 &  🔧 in the Library) ------->👠🧐❓ shows Library\n",
      "🧐  asks (🧐 &  🔧 in the Hall) ---------->❓🧐🥼 shows 🔧 Wrench\n",
      "🥼  asks (🥼 &  🪠 in the Library) ------->👠🧐🥼 shows Library\n",
      "👠  asks (🥼 &  🪢 in the Conservatory) -->👠🧐🥼 shows 🪢 Rope\n",
      "🧐  asks (🥼 &  🪢 in the Kitchen) ------->❓🧐🥼 shows 🪢 Rope\n",
      "🥼  asks (🍆 &  🕯️ in the Lounge) -------->👠❓🥼 shows 🕯️ Candlestick\n",
      "👠  asks (🍆 &  🔧 in the Conservatory) -->👠🧐❓ shows 🍆 Professor Plum\n",
      "🧐  asks (🥼 &  🕯️ in the Hall) ---------->👠🧐🥼 shows 🕯️ Candlestick\n",
      "🥼  asks (🧐 &  🪠 in the Dining Room) --->👠❓🥼 shows Dining Room\n",
      "👠  asks (🦚 &  🪠 in the Billiard Room) ->👠🧐❓ shows 🦚 Mrs. Peacock\n",
      "\n",
      "🧐 Colonel Mustard simple won!\n",
      "                       ▒▒▒▒▒▒▒▒▒▒▒▒▒▒▒▒▒▒▒▒▒▒▒▒▒▒▒▒▒▒▒▒▒▒▒▒▒    \n",
      "                       ▒░░░░░░░░░░░░░░░░░░░░░░░░░░░░░░░░░░░▒    \n",
      "   ▒▒▒▒▒▒▒▒▒▒▒▒▒▒▒▒▒▒▒▒▒░▒▒▒▒▒▒▒▒▒▒▒▒▒▒▒▒▒▒▒▒▒▒▒▒░░░░░░░░░░▒    \n",
      "   ▒░░░░░░░░░░░░░░░░░░░░░░░░░░░░▒  ▒░░░░░▒      ▒░░░Bill░░░▒    \n",
      "   ▒░░░░░░░░▒▒▒▒▒▒▒▒▒▒▒▒░▒▒▒▒▒▒░▒▒▒▒░░░░░▒      ▒░░░░░░░░░░▒    \n",
      "   ▒░░░░░░░░░░░░░░░░░░░░░░░░░░░░░░░Lounge▒      ▒░░░░░░░░░░▒    \n",
      "   ▒░░░░░░░░▒▒▒▒▒▒▒▒▒▒▒▒░▒▒▒▒▒▒░▒▒▒▒░░░░░▒      ▒▒▒▒▒░▒▒▒▒▒▒    \n",
      "   ▒░░░░░░░░▒      ▒░░░░░░░░▒ ▒░▒  ▒░░░░░▒          ▒░▒         \n",
      "   ▒░Kitchen▒      ▒░░░░░░░░▒ ▒░▒  ▒▒▒▒▒░▒          ▒░▒         \n",
      "   ▒░░░░░░░░▒      ▒░░░░░░░░▒ ▒░▒      ▒░▒          ▒░▒         \n",
      "   ▒░░░░░░░░▒      ▒░░Consv░▒ ▒░▒      ▒░▒          ▒░▒         \n",
      "   ▒░░░░░░░░▒      ▒░░░░░░░░▒▒▒░▒▒▒▒▒▒▒▒░▒▒▒▒▒      ▒░▒         \n",
      "   ▒░░░░░░░░▒  ▒▒▒▒▒░░░░░░░░░░░░░░░░░░░░░░░░░▒      ▒░▒         \n",
      "   ▒▒▒▒▒▒▒▒▒▒  ▒░░░░░░░░░░░░▒▒▒░▒▒▒▒▒▒▒▒░▒▒▒░▒      ▒░▒         \n",
      "               ▒░▒▒▒▒▒▒▒▒▒▒▒▒ ▒░▒      ▒░▒ ▒░▒      ▒░▒         \n",
      "               ▒░▒            ▒░▒      ▒░▒ ▒░▒      ▒░▒         \n",
      "               ▒░▒            ▒░▒      ▒░▒ ▒░▒      ▒░▒         \n",
      "               ▒░▒            ▒░▒      ▒░▒ ▒░▒      ▒░▒         \n",
      "               ▒░▒            ▒░▒      ▒░▒ ▒░▒      ▒░▒         \n",
      "               ▒░▒            ▒░▒      ▒░▒ ▒░▒      ▒░▒         \n",
      "               ▒░▒            ▒░▒      ▒░▒ ▒░▒      ▒░▒         \n",
      "               ▒░▒            ▒░▒      ▒░▒ ▒░▒      ▒░▒         \n",
      "               ▒░▒            ▒░▒      ▒░▒ ▒░▒      ▒░▒         \n",
      "               ▒░▒            ▒░▒      ▒░▒ ▒░▒      ▒░▒         \n",
      "               ▒░▒            ▒░▒      ▒░▒ ▒░▒      ▒░▒         \n",
      "               ▒░▒            ▒░▒      ▒░▒ ▒░▒      ▒░▒         \n",
      "               ▒░▒            ▒░▒      ▒░▒ ▒░▒      ▒░▒         \n",
      "               ▒░▒            ▒░▒      ▒░▒ ▒░▒      ▒░▒         \n",
      "               ▒░▒            ▒░▒      ▒░▒ ▒░▒      ▒░▒         \n",
      "               ▒░▒            ▒░▒      ▒░▒ ▒░▒      ▒░▒         \n",
      "               ▒░▒            ▒░▒      ▒░▒ ▒░▒      ▒░▒         \n",
      "               ▒░▒            ▒░▒      ▒░▒ ▒░▒      ▒░▒▒▒▒▒▒    \n",
      "               ▒░▒            ▒░▒      ▒░▒ ▒░▒      ▒░░░░░░▒    \n",
      "               ▒░▒    ▒▒▒▒▒▒▒ ▒░▒      ▒░▒ ▒░▒      ▒░░░░░░▒    \n",
      "               ▒░▒    ▒░░░░░▒ ▒░▒      ▒░▒ ▒░▒▒▒▒▒▒▒▒░░░░░░▒    \n",
      "               ▒░▒    ▒░░░░░▒ ▒░▒      ▒░▒ ▒░░░░░░░░░░Ball░▒    \n",
      "               ▒░▒    ▒░░░░░▒▒▒░▒▒▒▒▒▒▒▒░▒▒▒░░░░░░░░░░░░░░░▒    \n",
      "               ▒░▒    ▒Study░░░░░░░░░░░░░░░░░░░░░░░░░░░░░░░▒    \n",
      "               ▒░▒    ▒░░░░░▒▒▒░▒▒▒▒▒▒▒▒▒▒▒▒░░░░░░░░░░░░░░░▒    \n",
      "               ▒░▒    ▒░░░░░▒ ▒░▒          ▒░Library░▒▒▒▒▒▒▒    \n",
      "               ▒░▒    ▒░░░░░▒ ▒░▒          ▒░░░░░░░░░▒          \n",
      "               ▒░▒    ▒▒▒▒▒▒▒ ▒░▒          ▒░░░░░░░░░▒          \n",
      "               ▒░▒            ▒░▒          ▒░░░░░░░░░▒          \n",
      "               ▒░▒            ▒░▒          ▒░░░░░░░░░▒          \n",
      "               ▒░▒            ▒░▒          ▒▒▒▒▒▒▒▒▒▒▒          \n",
      "               ▒░▒            ▒░▒                               \n",
      "               ▒░▒            ▒░▒                               \n",
      "          ▒▒▒▒▒▒░▒▒▒▒         ▒░▒                               \n",
      "          ▒░░░░░░░░░▒▒▒▒▒▒▒▒▒▒▒░▒                               \n",
      "          ▒░░░░░░░░░░░░░░░░░░░░░▒                               \n",
      "          ▒░░░░░░░░░▒▒▒▒░░░░░░░░▒                               \n",
      "          ▒░░░░░░░░░▒  ▒░░░░░░░░▒                               \n",
      "          ▒░Dining░░▒  ▒░░░░░░░░▒                               \n",
      "          ▒░░░░░░░░░▒  ▒░░Hall░░▒                               \n",
      "          ▒░░░░░░░░░▒  ▒░░░░░░░░▒                               \n",
      "          ▒░░░░░░░░░▒  ▒░░░░░░░░▒                               \n",
      "          ▒▒▒▒▒▒▒▒▒▒▒  ▒░░░░░░░░▒                               \n",
      "                       ▒▒▒▒▒▒▒▒▒▒                               \n"
     ]
    }
   ],
   "source": [
    "quickGame()"
   ]
  },
  {
   "cell_type": "code",
   "execution_count": null,
   "metadata": {},
   "outputs": [],
   "source": [
    "p1 = (\"player\",True,getPlay)\n",
    "s1 = (\"simple\",False,mimic(-1,rWalk))\n",
    "b1 = (\"better\",False,mimic(2,rWalk))\n",
    "d1 =(\"deep\",False,mimic(8,rWalk))\n",
    "c1 = (\"cheater\",False,cheater(repelWalk))\n",
    "s2 = (\"simpleR\",False,mimic(4,rWalk))\n",
    "hr = (\"halfRight\",False,halfRight(rWalk))\n",
    "s3 = (\"stay\",False,mimic(-1,biasWalk(1,0,2)))\n",
    "sleft =  (\"sleft\",False,mimic(-1,biasWalk(1,0,0)))\n",
    "strategies = [s1, s2,b1,b1,d1,s3]\n",
    "strategies = [s3, s2,sleft,s3]"
   ]
  },
  {
   "cell_type": "code",
   "execution_count": null,
   "metadata": {},
   "outputs": [
    {
     "name": "stdout",
     "output_type": "stream",
     "text": [
      "your moves:\n",
      "your hand:\n",
      "🍆 Professor Plum, Ball Room, Study, 👠 Miss Scarlet\n",
      "👠  asks (🦚 &  🪢 in the Dining Room) --->👠🧐🥼🐉❓\n",
      "╒═══════════╤═══════════════╤═════════════════╕\n",
      "│ Ball Room │ Billiard Room │ 1) Conservatory │\n",
      "│    G      │    W          │                 │\n",
      "├───────────┼───────────────┼─────────────────┤\n",
      "│ Study     │               │ 2) Dining Room  │\n",
      "│           │               │    S, M, P      │\n",
      "├───────────┼───────────────┼─────────────────┤\n",
      "│ Library   │               │ 3) Hall         │\n",
      "│    P      │               │                 │\n",
      "├───────────┼───────────────┼─────────────────┤\n",
      "│           │ Lounge        │ Kitchen         │\n",
      "╘═══════════╧═══════════════╧═════════════════╛\n",
      "🧐 will stumble to:\n",
      "\n",
      "1 Conservatory\n",
      "2 Dining Room                      👠, 🧐\n",
      "3 Hall\n"
     ]
    },
    {
     "name": "stdin",
     "output_type": "stream",
     "text": [
      "Choose from 1 to 3:  2\n"
     ]
    },
    {
     "name": "stdout",
     "output_type": "stream",
     "text": [
      "    People              Weapons\n",
      "--  ------------------  -------------\n",
      " 1  *👠 Miss Scarlet    🔪 Knife\n",
      " 2  🧐 Colonel Mustard  🔫 Revolver\n",
      " 3  🥼  Mrs. White      🪢 Rope\n",
      " 4  🐉 Mr. Green        🔧 Wrench\n",
      " 5  *🍆 Professor Plum  🕯️ Candlestick\n",
      " 6  🦚 Mrs. Peacock     🪠 Lead Pipe\n"
     ]
    },
    {
     "name": "stdin",
     "output_type": "stream",
     "text": [
      " 2 3\n"
     ]
    },
    {
     "name": "stdout",
     "output_type": "stream",
     "text": [
      "\u001b[H\u001b[2J🧐 Colonel Mustard suspects 🧐 Colonel Mustard with the 🪢 Rope in the Dining Room.\n",
      "your moves:\n",
      "🧐  asks (🧐 &  🪢 in the Dining Room) --->❓🧐🥼❓❓❓ shows 🧐 Colonel Mustard\n",
      "your hand:\n",
      "🍆 Professor Plum, Ball Room, Study, 👠 Miss Scarlet\n",
      "🧐  asks (🧐 &  🪢 in the Dining Room) --->❓🧐🥼❓❓ shows 🧐 Colonel Mustard\n",
      "🥼  asks (🐉 &  🪠 in the Conservatory) -->👠❓🥼🐉🍆\n",
      "🐉  asks (🧐 &  🔫 in the Billiard Room) ->👠❓❓🐉🍆\n",
      "🍆  asks (👠 &  🔧 in the Lounge) -------->👠🧐❓❓🍆\n",
      "👠  asks (🥼 &  🪠 in the Library) ------->👠🧐🥼❓❓\n",
      "╒══════════════╤══════════════════╤═════════════════╕\n",
      "│ 1) Ball Room │ 2) Billiard Room │ 3) Conservatory │\n",
      "│              │    M, G          │                 │\n",
      "├──────────────┼──────────────────┼─────────────────┤\n",
      "│ Study        │                  │ Dining Room     │\n",
      "│              │                  │    P            │\n",
      "├──────────────┼──────────────────┼─────────────────┤\n",
      "│ Library      │                  │ Hall            │\n",
      "│    S, W      │                  │                 │\n",
      "├──────────────┼──────────────────┼─────────────────┤\n",
      "│              │ Lounge           │ Kitchen         │\n",
      "│              │    P             │                 │\n",
      "╘══════════════╧══════════════════╧═════════════════╛\n",
      "🧐 will staggar to:\n",
      "\n",
      "1*Ball Room\n",
      "2 Billiard Room                    🐉, 🍆\n",
      "3 Conservatory                     🥼, 🐉, 🍆\n"
     ]
    },
    {
     "name": "stdin",
     "output_type": "stream",
     "text": [
      "Choose from 1 to 3:  2\n"
     ]
    },
    {
     "name": "stdout",
     "output_type": "stream",
     "text": [
      "    People                                  Weapons\n",
      "--  --------------------------------------  -------------\n",
      " 1  *👠 Miss Scarlet                    🍆  🔪 Knife\n",
      " 2  *🧐 Colonel Mustard                     🔫 Revolver\n",
      " 3  🥼  Mrs. White                          🪢 Rope\n",
      " 4  🐉 Mr. Green                            🔧 Wrench\n",
      " 5  *🍆 Professor Plum                      🕯️ Candlestick\n",
      " 6  🦚 Mrs. Peacock                         🪠 Lead Pipe\n"
     ]
    },
    {
     "name": "stdin",
     "output_type": "stream",
     "text": [
      " 3 3\n"
     ]
    },
    {
     "name": "stdout",
     "output_type": "stream",
     "text": [
      "\u001b[H\u001b[2J🧐 Colonel Mustard suspects 🥼  Mrs. White with the 🪢 Rope in the Billiard Room.\n",
      "your moves:\n",
      "🧐  asks (🧐 &  🪢 in the Dining Room) --->❓🧐🥼❓❓❓ shows 🧐 Colonel Mustard\n",
      "🧐  asks (🥼 &  🪢 in the Billiard Room) ->❓🧐🥼🐉❓❓ shows 🪢 Rope\n",
      "your hand:\n",
      "🍆 Professor Plum, Ball Room, Study, 👠 Miss Scarlet\n",
      "🧐  asks (🥼 &  🪢 in the Billiard Room) ->❓🧐🥼🐉❓ shows 🪢 Rope\n",
      "🥼  asks (👠 &  🔪 in the Billiard Room) ->❓❓🥼🐉❓\n",
      "🐉  asks (🐉 &  🪢 in the Ball Room) ----->👠❓❓🐉🍆\n",
      "🍆  asks (🧐 &  🪠 in the Lounge) -------->👠🧐🥼❓🍆\n",
      "👠  asks (🥼 &  🔪 in the Ball Room) ----->👠🧐❓❓❓\n",
      "╒════════════╤═══════════════╤══════════════╕\n",
      "│ Ball Room  │ Billiard Room │ Conservatory │\n",
      "│    S, W, G │               │              │\n",
      "├────────────┼───────────────┼──────────────┤\n",
      "│ Study      │               │ Dining Room  │\n",
      "│            │               │    P         │\n",
      "├────────────┼───────────────┼──────────────┤\n",
      "│ 3) Library │               │ Hall         │\n",
      "├────────────┼───────────────┼──────────────┤\n",
      "│            │ 2) Lounge     │ 1) Kitchen   │\n",
      "│            │    M, P       │              │\n",
      "╘════════════╧═══════════════╧══════════════╛\n",
      "🧐 will walk to:\n",
      "\n",
      "1 Kitchen\n",
      "2 Lounge\n",
      "3 Library                          👠\n"
     ]
    },
    {
     "ename": "KeyboardInterrupt",
     "evalue": "Interrupted by user",
     "output_type": "error",
     "traceback": [
      "\u001b[0;31m---------------------------------------------------------------------------\u001b[0m",
      "\u001b[0;31mKeyboardInterrupt\u001b[0m                         Traceback (most recent call last)",
      "Cell \u001b[0;32mIn [44], line 4\u001b[0m\n\u001b[1;32m      1\u001b[0m \u001b[38;5;66;03m#| hide\u001b[39;00m\n\u001b[1;32m      3\u001b[0m strategies \u001b[38;5;241m=\u001b[39m [ s1,p1,s1,hr,hr] \u001b[38;5;66;03m#hr,s1,p1,s1,s1]\u001b[39;00m\n\u001b[0;32m----> 4\u001b[0m rgame, rmoves \u001b[38;5;241m=\u001b[39m \u001b[43mrunVisualGame\u001b[49m\u001b[43m(\u001b[49m\u001b[43mstrategies\u001b[49m\u001b[43m)\u001b[49m\n",
      "Cell \u001b[0;32mIn [39], line 28\u001b[0m, in \u001b[0;36mrunVisualGame\u001b[0;34m(strats)\u001b[0m\n\u001b[1;32m     25\u001b[0m     ui\u001b[38;5;241m.\u001b[39mshowMoves(player,amoves[\u001b[38;5;241m-\u001b[39mnumPlayers:],numPlayers)\n\u001b[1;32m     27\u001b[0m \u001b[38;5;66;03m#print(player,agame,amoves)\u001b[39;00m\n\u001b[0;32m---> 28\u001b[0m ans \u001b[38;5;241m=\u001b[39m \u001b[43mstrat\u001b[49m\u001b[43m(\u001b[49m\u001b[43mplayer\u001b[49m\u001b[43m,\u001b[49m\u001b[43magame\u001b[49m\u001b[43m,\u001b[49m\u001b[43mamoves\u001b[49m\u001b[43m)\u001b[49m\n\u001b[1;32m     29\u001b[0m \u001b[38;5;28;01mif\u001b[39;00m isUser:\n\u001b[1;32m     30\u001b[0m     os\u001b[38;5;241m.\u001b[39msystem(\u001b[38;5;124m\"\u001b[39m\u001b[38;5;124mclear\u001b[39m\u001b[38;5;124m\"\u001b[39m)\n",
      "Cell \u001b[0;32mIn [7], line 15\u001b[0m, in \u001b[0;36mgetPlay\u001b[0;34m(pc, game, moves)\u001b[0m\n\u001b[1;32m     10\u001b[0m verb \u001b[38;5;241m=\u001b[39m choice([\u001b[38;5;124m\"\u001b[39m\u001b[38;5;124mtotter\u001b[39m\u001b[38;5;124m\"\u001b[39m,\u001b[38;5;124m\"\u001b[39m\u001b[38;5;124mwalk\u001b[39m\u001b[38;5;124m\"\u001b[39m,\u001b[38;5;124m\"\u001b[39m\u001b[38;5;124mstumble\u001b[39m\u001b[38;5;124m\"\u001b[39m,\u001b[38;5;124m\"\u001b[39m\u001b[38;5;124mstaggar\u001b[39m\u001b[38;5;124m\"\u001b[39m,\u001b[38;5;124m\"\u001b[39m\u001b[38;5;124mrush\u001b[39m\u001b[38;5;124m\"\u001b[39m,\u001b[38;5;124m\"\u001b[39m\u001b[38;5;124mdash\u001b[39m\u001b[38;5;124m\"\u001b[39m,\u001b[38;5;124m\"\u001b[39m\u001b[38;5;124mrace\u001b[39m\u001b[38;5;124m\"\u001b[39m,\u001b[38;5;124m\"\u001b[39m\u001b[38;5;124msprint\u001b[39m\u001b[38;5;124m\"\u001b[39m])\n\u001b[1;32m     13\u001b[0m \u001b[38;5;28mprint\u001b[39m(model\u001b[38;5;241m.\u001b[39mpeople[pc\u001b[38;5;241m-\u001b[39m\u001b[38;5;241m1\u001b[39m][\u001b[38;5;241m2\u001b[39m] \u001b[38;5;241m+\u001b[39m \u001b[38;5;124m\"\u001b[39m\u001b[38;5;124m will \u001b[39m\u001b[38;5;124m\"\u001b[39m \u001b[38;5;241m+\u001b[39m verb \u001b[38;5;241m+\u001b[39m \u001b[38;5;124m\"\u001b[39m\u001b[38;5;124m to:\u001b[39m\u001b[38;5;130;01m\\n\u001b[39;00m\u001b[38;5;124m\"\u001b[39m)\n\u001b[0;32m---> 15\u001b[0m l \u001b[38;5;241m=\u001b[39m \u001b[43mui\u001b[49m\u001b[38;5;241;43m.\u001b[39;49m\u001b[43mchooseKey\u001b[49m\u001b[43m(\u001b[49m\u001b[43mlocs\u001b[49m\u001b[43m,\u001b[49m\u001b[43mpc\u001b[49m\u001b[43m,\u001b[49m\u001b[43mgame\u001b[49m\u001b[43m,\u001b[49m\u001b[43mmoves\u001b[49m\u001b[43m)\u001b[49m\n\u001b[1;32m     16\u001b[0m l \u001b[38;5;241m=\u001b[39m passages[l\u001b[38;5;241m-\u001b[39m\u001b[38;5;241m1\u001b[39m]\n\u001b[1;32m     18\u001b[0m p, w \u001b[38;5;241m=\u001b[39m ui\u001b[38;5;241m.\u001b[39mchoosePandW(pc,game,moves)\n",
      "File \u001b[0;32m~/code/clue/nbs/clue/ui.py:210\u001b[0m, in \u001b[0;36mchooseKey\u001b[0;34m(keys, playerID, game, moves)\u001b[0m\n\u001b[1;32m    208\u001b[0m \u001b[38;5;28;01mwhile\u001b[39;00m keyChoice \u001b[38;5;241m<\u001b[39m \u001b[38;5;241m1\u001b[39m:   \n\u001b[1;32m    209\u001b[0m     \u001b[38;5;28mprint\u001b[39m(lines)\n\u001b[0;32m--> 210\u001b[0m     keyChoice \u001b[38;5;241m=\u001b[39m \u001b[38;5;28mint\u001b[39m(\u001b[38;5;28;43minput\u001b[39;49m\u001b[43m(\u001b[49m\u001b[38;5;124;43m\"\u001b[39;49m\u001b[38;5;124;43mChoose from 1 to \u001b[39;49m\u001b[38;5;124;43m\"\u001b[39;49m\u001b[43m \u001b[49m\u001b[38;5;241;43m+\u001b[39;49m\u001b[43m  \u001b[49m\u001b[38;5;28;43mstr\u001b[39;49m\u001b[43m(\u001b[49m\u001b[38;5;28;43mlen\u001b[39;49m\u001b[43m(\u001b[49m\u001b[43mkeys\u001b[49m\u001b[43m)\u001b[49m\u001b[43m)\u001b[49m\u001b[38;5;241;43m+\u001b[39;49m\u001b[38;5;124;43m\"\u001b[39;49m\u001b[38;5;124;43m: \u001b[39;49m\u001b[38;5;124;43m\"\u001b[39;49m\u001b[43m)\u001b[49m)\n\u001b[1;32m    212\u001b[0m     \u001b[38;5;28;01mif\u001b[39;00m (keyChoice \u001b[38;5;241m>\u001b[39m \u001b[38;5;241m0\u001b[39m) \u001b[38;5;129;01mand\u001b[39;00m (keyChoice \u001b[38;5;241m<\u001b[39m\u001b[38;5;241m=\u001b[39m \u001b[38;5;28mlen\u001b[39m(keys)):\n\u001b[1;32m    213\u001b[0m         \u001b[38;5;28;01mreturn\u001b[39;00m keyChoice\n",
      "File \u001b[0;32m~/anaconda3/envs/clue/lib/python3.11/site-packages/ipykernel/kernelbase.py:1177\u001b[0m, in \u001b[0;36mKernel.raw_input\u001b[0;34m(self, prompt)\u001b[0m\n\u001b[1;32m   1173\u001b[0m \u001b[38;5;28;01mif\u001b[39;00m \u001b[38;5;129;01mnot\u001b[39;00m \u001b[38;5;28mself\u001b[39m\u001b[38;5;241m.\u001b[39m_allow_stdin:\n\u001b[1;32m   1174\u001b[0m     \u001b[38;5;28;01mraise\u001b[39;00m StdinNotImplementedError(\n\u001b[1;32m   1175\u001b[0m         \u001b[38;5;124m\"\u001b[39m\u001b[38;5;124mraw_input was called, but this frontend does not support input requests.\u001b[39m\u001b[38;5;124m\"\u001b[39m\n\u001b[1;32m   1176\u001b[0m     )\n\u001b[0;32m-> 1177\u001b[0m \u001b[38;5;28;01mreturn\u001b[39;00m \u001b[38;5;28;43mself\u001b[39;49m\u001b[38;5;241;43m.\u001b[39;49m\u001b[43m_input_request\u001b[49m\u001b[43m(\u001b[49m\n\u001b[1;32m   1178\u001b[0m \u001b[43m    \u001b[49m\u001b[38;5;28;43mstr\u001b[39;49m\u001b[43m(\u001b[49m\u001b[43mprompt\u001b[49m\u001b[43m)\u001b[49m\u001b[43m,\u001b[49m\n\u001b[1;32m   1179\u001b[0m \u001b[43m    \u001b[49m\u001b[38;5;28;43mself\u001b[39;49m\u001b[38;5;241;43m.\u001b[39;49m\u001b[43m_parent_ident\u001b[49m\u001b[43m[\u001b[49m\u001b[38;5;124;43m\"\u001b[39;49m\u001b[38;5;124;43mshell\u001b[39;49m\u001b[38;5;124;43m\"\u001b[39;49m\u001b[43m]\u001b[49m\u001b[43m,\u001b[49m\n\u001b[1;32m   1180\u001b[0m \u001b[43m    \u001b[49m\u001b[38;5;28;43mself\u001b[39;49m\u001b[38;5;241;43m.\u001b[39;49m\u001b[43mget_parent\u001b[49m\u001b[43m(\u001b[49m\u001b[38;5;124;43m\"\u001b[39;49m\u001b[38;5;124;43mshell\u001b[39;49m\u001b[38;5;124;43m\"\u001b[39;49m\u001b[43m)\u001b[49m\u001b[43m,\u001b[49m\n\u001b[1;32m   1181\u001b[0m \u001b[43m    \u001b[49m\u001b[43mpassword\u001b[49m\u001b[38;5;241;43m=\u001b[39;49m\u001b[38;5;28;43;01mFalse\u001b[39;49;00m\u001b[43m,\u001b[49m\n\u001b[1;32m   1182\u001b[0m \u001b[43m\u001b[49m\u001b[43m)\u001b[49m\n",
      "File \u001b[0;32m~/anaconda3/envs/clue/lib/python3.11/site-packages/ipykernel/kernelbase.py:1219\u001b[0m, in \u001b[0;36mKernel._input_request\u001b[0;34m(self, prompt, ident, parent, password)\u001b[0m\n\u001b[1;32m   1216\u001b[0m             \u001b[38;5;28;01mbreak\u001b[39;00m\n\u001b[1;32m   1217\u001b[0m \u001b[38;5;28;01mexcept\u001b[39;00m \u001b[38;5;167;01mKeyboardInterrupt\u001b[39;00m:\n\u001b[1;32m   1218\u001b[0m     \u001b[38;5;66;03m# re-raise KeyboardInterrupt, to truncate traceback\u001b[39;00m\n\u001b[0;32m-> 1219\u001b[0m     \u001b[38;5;28;01mraise\u001b[39;00m \u001b[38;5;167;01mKeyboardInterrupt\u001b[39;00m(\u001b[38;5;124m\"\u001b[39m\u001b[38;5;124mInterrupted by user\u001b[39m\u001b[38;5;124m\"\u001b[39m) \u001b[38;5;28;01mfrom\u001b[39;00m \u001b[38;5;28mNone\u001b[39m\n\u001b[1;32m   1220\u001b[0m \u001b[38;5;28;01mexcept\u001b[39;00m \u001b[38;5;167;01mException\u001b[39;00m:\n\u001b[1;32m   1221\u001b[0m     \u001b[38;5;28mself\u001b[39m\u001b[38;5;241m.\u001b[39mlog\u001b[38;5;241m.\u001b[39mwarning(\u001b[38;5;124m\"\u001b[39m\u001b[38;5;124mInvalid Message:\u001b[39m\u001b[38;5;124m\"\u001b[39m, exc_info\u001b[38;5;241m=\u001b[39m\u001b[38;5;28;01mTrue\u001b[39;00m)\n",
      "\u001b[0;31mKeyboardInterrupt\u001b[0m: Interrupted by user"
     ]
    }
   ],
   "source": [
    "#| hide\n",
    "\n",
    "strategies = [ s1,p1,s1,hr,hr] #hr,s1,p1,s1,s1]\n",
    "rgame, rmoves = runVisualGame(strategies)"
   ]
  },
  {
   "cell_type": "code",
   "execution_count": null,
   "metadata": {},
   "outputs": [
    {
     "name": "stdout",
     "output_type": "stream",
     "text": [
      "👠  asks (🥼 &  🔧 in the Dining Room) --->👠🧐🥼🐉 shows \u001b[36mDining Room\u001b[0m\n",
      "🧐  asks (🥼 &  🔧 in the Dining Room) --->❓🧐🥼❓ shows \u001b[36mKitchen\u001b[0m\n",
      "🥼  asks (🥼 &  🔧 in the Dining Room) --->❓❓🥼🐉 shows 🔧 \u001b[36mWrench\u001b[0m\n",
      "🐉  asks (🦚 &  🪢 in the Conservatory) -->👠🧐🥼🐉 shows \u001b[36mLounge\u001b[0m\n",
      "🍆  asks (🦚 &  🔧 in the Dining Room) --->👠🧐🥼❓ shows \u001b[36mHall\u001b[0m\n",
      "👠  asks (🍆 &  🔧 in the Dining Room) --->👠🧐🥼🐉 shows 🔧 \u001b[36mWrench\u001b[0m\n",
      "🧐  asks (🧐 &  🪢 in the Conservatory) -->❓🧐🥼❓ shows \u001b[36mHall\u001b[0m\n",
      "🥼  asks (🧐 &  🪢 in the Conservatory) -->❓❓🥼🐉 shows \u001b[36mDining Room\u001b[0m\n",
      "🐉  asks (🐉 &  🔧 in the Dining Room) --->👠❓❓🐉 shows \u001b[36mLibrary\u001b[0m\n",
      "🍆  asks (🐉 &  🔪 in the Ball Room) ----->👠🧐❓❓ shows 🐉 \u001b[32mMr. Green\u001b[0m\n",
      "👠  asks (🥼 &  🪢 in the Conservatory) -->👠🧐🥼❓ shows \u001b[36mBilliard Room\u001b[0m\n",
      "🧐  asks (🧐 &  🔧 in the Dining Room) --->❓🧐🥼🐉 shows 🔧 \u001b[36mWrench\u001b[0m\n"
     ]
    },
    {
     "ename": "KeyboardInterrupt",
     "evalue": "",
     "output_type": "error",
     "traceback": [
      "\u001b[0;31m---------------------------------------------------------------------------\u001b[0m",
      "\u001b[0;31mKeyboardInterrupt\u001b[0m                         Traceback (most recent call last)",
      "Cell \u001b[0;32mIn[45], line 1\u001b[0m\n\u001b[0;32m----> 1\u001b[0m ui\u001b[38;5;241m.\u001b[39mshowMoves(\u001b[38;5;241m-\u001b[39m\u001b[38;5;241m1\u001b[39m,rmoves,\u001b[38;5;241m4\u001b[39m)\n",
      "File \u001b[0;32m~/code/clue/ui/clue/nbs/clue/ui.py:129\u001b[0m, in \u001b[0;36mshowMoves\u001b[0;34m(pc, moves, plMax)\u001b[0m\n\u001b[1;32m    127\u001b[0m line \u001b[38;5;241m+\u001b[39m\u001b[38;5;241m=\u001b[39m \u001b[38;5;124m\"\u001b[39m\u001b[38;5;124m(\u001b[39m\u001b[38;5;124m\"\u001b[39m \u001b[38;5;241m+\u001b[39m model\u001b[38;5;241m.\u001b[39mpeople[p][\u001b[38;5;241m2\u001b[39m] \u001b[38;5;241m+\u001b[39m \u001b[38;5;124m\"\u001b[39m\u001b[38;5;124m &  \u001b[39m\u001b[38;5;124m\"\u001b[39m \u001b[38;5;241m+\u001b[39m model\u001b[38;5;241m.\u001b[39mweapons[w][\u001b[38;5;241m2\u001b[39m] \u001b[38;5;241m+\u001b[39m \u001b[38;5;124m\"\u001b[39m\u001b[38;5;124m in the \u001b[39m\u001b[38;5;124m\"\u001b[39m       \n\u001b[1;32m    128\u001b[0m line \u001b[38;5;241m+\u001b[39m\u001b[38;5;241m=\u001b[39m ( model\u001b[38;5;241m.\u001b[39mrooms[w][\u001b[38;5;241m0\u001b[39m] \u001b[38;5;241m+\u001b[39m\u001b[38;5;124m\"\u001b[39m\u001b[38;5;124m) \u001b[39m\u001b[38;5;124m\"\u001b[39m)\u001b[38;5;241m.\u001b[39mljust(\u001b[38;5;241m15\u001b[39m,\u001b[38;5;124m\"\u001b[39m\u001b[38;5;124m-\u001b[39m\u001b[38;5;124m\"\u001b[39m)\n\u001b[0;32m--> 129\u001b[0m line \u001b[38;5;241m+\u001b[39m\u001b[38;5;241m=\u001b[39m \u001b[38;5;124m\"\u001b[39m\u001b[38;5;124m->\u001b[39m\u001b[38;5;124m\"\u001b[39m \u001b[38;5;241m+\u001b[39m wrapL(asker,answered,plMax)\n\u001b[1;32m    130\u001b[0m \u001b[38;5;28;01mif\u001b[39;00m asker \u001b[38;5;241m==\u001b[39m pc \u001b[38;5;129;01mor\u001b[39;00m pc \u001b[38;5;241m<\u001b[39m \u001b[38;5;241m0\u001b[39m :\n\u001b[1;32m    132\u001b[0m     line \u001b[38;5;241m+\u001b[39m\u001b[38;5;241m=\u001b[39m \u001b[38;5;124m\"\u001b[39m\u001b[38;5;124m shows \u001b[39m\u001b[38;5;124m\"\u001b[39m \u001b[38;5;241m+\u001b[39m cardFull(model\u001b[38;5;241m.\u001b[39mcardLookup(\u001b[38;5;28mint\u001b[39m(shown\u001b[38;5;241m/\u001b[39m\u001b[38;5;241m100\u001b[39m),shown\u001b[38;5;241m%\u001b[39m\u001b[38;5;241m100\u001b[39m))\n",
      "File \u001b[0;32m~/code/clue/ui/clue/nbs/clue/ui.py:108\u001b[0m, in \u001b[0;36mwrapL\u001b[0;34m(s, f, l)\u001b[0m\n\u001b[1;32m    106\u001b[0m \u001b[38;5;28;01mif\u001b[39;00m s \u001b[38;5;241m>\u001b[39m l:\n\u001b[1;32m    107\u001b[0m     s \u001b[38;5;241m=\u001b[39m \u001b[38;5;241m1\u001b[39m\n\u001b[0;32m--> 108\u001b[0m \u001b[38;5;28;01mwhile\u001b[39;00m s \u001b[38;5;241m!=\u001b[39m f:\n\u001b[1;32m    109\u001b[0m     show\u001b[38;5;241m.\u001b[39madd(s\u001b[38;5;241m-\u001b[39m\u001b[38;5;241m1\u001b[39m)\n\u001b[1;32m    110\u001b[0m     s \u001b[38;5;241m+\u001b[39m\u001b[38;5;241m=\u001b[39m \u001b[38;5;241m1\u001b[39m\n",
      "\u001b[0;31mKeyboardInterrupt\u001b[0m: "
     ]
    }
   ],
   "source": [
    " ui.showMoves(-1,rmoves,4)"
   ]
  },
  {
   "cell_type": "code",
   "execution_count": null,
   "metadata": {},
   "outputs": [],
   "source": []
  },
  {
   "cell_type": "code",
   "execution_count": null,
   "metadata": {},
   "outputs": [],
   "source": [
    "#| export\n",
    "def keysForGuess(guess):\n",
    "    p,w,l = guess[:3]\n",
    "    h = [[1,p],[2,w],[3,l]]\n",
    "    h = [model.keyCard(x[0],x[1]) for x in h]\n",
    "    return h\n",
    "\n",
    "def responseToGuess(guess,asker,answered,shown):\n",
    "    p,w,l = guess\n",
    "    return (p,w,l,asker, answered,shown)\n",
    "def localgetAnswer(playerNum,game,guess):\n",
    "\n",
    "    h = keysForGuess(guess)\n",
    "    shuffle(h)\n",
    "    print(h)\n",
    "\n",
    "    playCount = len(game) - 1\n",
    "    \n",
    "    c = playerNum+1\n",
    "    \n",
    "    if c > playCount:\n",
    "        c = 1\n",
    "    while c != playerNum:\n",
    "        hand = game[c]\n",
    "        print(hand)\n",
    "        for y in h:\n",
    "            for x in hand:\n",
    "                 \n",
    "\n",
    "                if x == y :\n",
    "                    return responseToGuess(guess,playerNum,c,y)\n",
    "        c = c+1\n",
    "        if c >= playCount:\n",
    "            c = 1\n",
    "    return (-1,0,0)"
   ]
  },
  {
   "cell_type": "code",
   "execution_count": null,
   "metadata": {},
   "outputs": [],
   "source": []
  },
  {
   "cell_type": "code",
   "execution_count": null,
   "metadata": {},
   "outputs": [
    {
     "name": "stdout",
     "output_type": "stream",
     "text": [
      "[204, 103, 305]\n",
      "[306, 304, 305, 301]\n",
      "🧐  asks (🐉 &  🕯️ in the Hall) ---------->❓🧐🥼❓ shows \u001b[36mKitchen\u001b[0m\n"
     ]
    },
    {
     "data": {
      "text/plain": [
       "((3, 4, 5, 2, 3, 305), None)"
      ]
     },
     "execution_count": null,
     "metadata": {},
     "output_type": "execute_result"
    }
   ],
   "source": [
    "check = localgetAnswer(2,rgame,(3, 4, 5))\n",
    "check,  ui.showMoves(-1,[check],4)"
   ]
  },
  {
   "cell_type": "code",
   "execution_count": null,
   "metadata": {},
   "outputs": [],
   "source": [
    "#| export\n",
    "def runGame( strats):\n",
    "    numPlayers = len(strats)\n",
    "    done = False\n",
    "    agame = model.createClue(numPlayers)\n",
    "    amoves = []\n",
    "    player = 1\n",
    "          \n",
    "    while not done:\n",
    "        #print(seenCounts(player,agame,amoves))\n",
    "        \n",
    "        stratName, isUser, strat = strats[player - 1]\n",
    "        \n",
    "        ans = strat(player,agame,amoves)\n",
    "        agame = model.relocatePlayers(player , ans[0],ans[2],agame)\n",
    "        check = model.getAnswer(player,agame,ans)\n",
    "        \n",
    "        if check[0] < 0:\n",
    "            seen =  model.getSeen(player,agame, amoves)\n",
    "            exclude  = set(seen)\n",
    "            done = True\n",
    "            for x in model.keysForGuess(ans):\n",
    "                if x in exclude:\n",
    "                    done = False\n",
    "            \n",
    "        else:\n",
    "            #(p,w,l,playerNum, c,y[0],y[1])\n",
    "            card = check[-1]\n",
    "            \n",
    "            amoves.append(check)\n",
    "\n",
    "        if not done:\n",
    "            player = player + 1\n",
    "            if player - 1 >= numPlayers:\n",
    "               player = 1 \n",
    "    \n",
    "    return player, agame , amoves\n"
   ]
  },
  {
   "cell_type": "code",
   "execution_count": null,
   "metadata": {},
   "outputs": [],
   "source": [
    "#| hide\n",
    "s1 = (\"simple\",False,mimic(-1,rWalk))\n",
    "b1 = (\"better\",False,mimic(2,rWalk))\n",
    "d1 =(\"deep\",False,mimic(8,rWalk))\n",
    "c1 = (\"cheater\",False,cheater(repelWalk))\n",
    "s2 = (\"simpleR\",False,mimic(4,rWalk))\n",
    "hr = (\"halfRight\",False,halfRight(rWalk))\n",
    "s3 = (\"stay\",False,mimic(-1,biasWalk(1,0,2)))\n",
    "sleft =  (\"sleft\",False,mimic(-1,biasWalk(1,0,0)))\n",
    "strategies = [s1, s2,b1,b1,d1,s3]\n",
    "strategies = [s3, s2,sleft,s3]\n",
    "counts = [0 for x in range(len(strategies))]\n",
    "for c  in range(1000):\n",
    "    p, g, m = runGame(strategies)\n",
    "    counts[p-1] += 1\n",
    "\n",
    "m = zip([x[0] for x in strategies],counts)\n",
    "for x in m:\n",
    "    print(x)"
   ]
  },
  {
   "cell_type": "code",
   "execution_count": null,
   "metadata": {},
   "outputs": [],
   "source": [
    "#| hide\n",
    "chooseCard(rooms,cardFull)"
   ]
  },
  {
   "cell_type": "code",
   "execution_count": null,
   "metadata": {},
   "outputs": [],
   "source": [
    "#| hide\n",
    "import nbdev; nbdev.nbdev_export()"
   ]
  }
 ],
 "metadata": {
  "kernelspec": {
   "display_name": "Python 3 (ipykernel)",
   "language": "python",
   "name": "python3"
  },
  "language_info": {
   "codemirror_mode": {
    "name": "ipython",
    "version": 3
   },
   "file_extension": ".py",
   "mimetype": "text/x-python",
   "name": "python",
   "nbconvert_exporter": "python",
   "pygments_lexer": "ipython3",
   "version": "3.11.0"
  }
 },
 "nbformat": 4,
 "nbformat_minor": 4
}
