{
 "cells": [
  {
   "cell_type": "markdown",
   "metadata": {},
   "source": [
    "# gameplay\n",
    "\n",
    "> Fill in a module description here"
   ]
  },
  {
   "cell_type": "code",
   "execution_count": 4,
   "metadata": {},
   "outputs": [],
   "source": [
    "#| default_exp gameplay"
   ]
  },
  {
   "cell_type": "code",
   "execution_count": 1,
   "metadata": {},
   "outputs": [],
   "source": [
    "#| hide\n",
    "from nbdev.showdoc import *"
   ]
  },
  {
   "cell_type": "code",
   "execution_count": 2,
   "metadata": {},
   "outputs": [],
   "source": [
    "%load_ext autoreload\n"
   ]
  },
  {
   "cell_type": "code",
   "execution_count": 7,
   "metadata": {},
   "outputs": [],
   "source": [
    "%autoreload 2"
   ]
  },
  {
   "cell_type": "code",
   "execution_count": 3,
   "metadata": {},
   "outputs": [],
   "source": [
    "#| export\n",
    "import clue.model as model\n",
    "import clue.ui as ui\n",
    "from random import choice,shuffle,choices\n",
    "import os"
   ]
  },
  {
   "cell_type": "code",
   "execution_count": 4,
   "metadata": {},
   "outputs": [],
   "source": [
    "#| hide\n",
    "stgame = model.createClue(4)\n",
    "stmoves = []"
   ]
  },
  {
   "cell_type": "code",
   "execution_count": null,
   "metadata": {},
   "outputs": [],
   "source": []
  },
  {
   "cell_type": "code",
   "execution_count": null,
   "metadata": {},
   "outputs": [],
   "source": [
    "\n",
    "\n"
   ]
  },
  {
   "cell_type": "code",
   "execution_count": 5,
   "metadata": {},
   "outputs": [],
   "source": [
    "#| export\n",
    "def getPlay(pc,game, moves):\n",
    "    \n",
    "    \n",
    "\n",
    "    ui.showBoard(pc,game,moves)\n",
    "    playerRoom = model.roomOf(pc,game)\n",
    "    passages = model.roomsAround(playerRoom)\n",
    "    locs = [[3,x] for x in passages ]\n",
    "    verb = choice([\"totter\",\"walk\",\"stumble\",\"staggar\",\"rush\",\"dash\",\"race\",\"sprint\"])\n",
    "\n",
    "\n",
    "    print(model.people[pc-1][2] + \" will \" + verb + \" to:\\n\")\n",
    " \n",
    "    l = ui.chooseKey(locs,pc,game,moves)\n",
    "    l = passages[l-1]\n",
    "\n",
    "    wKeys = [[1,x] for x in range(len(model.people))]\n",
    "    p = ui.chooseKey(wKeys,pc,game,moves) - 1\n",
    "\n",
    "    wKeys = [[2,x] for x in range(len(model.weapons))]\n",
    "    w = ui.chooseKey(wKeys,pc,game,moves) - 1\n",
    "\n",
    "    return p, w, l\n",
    "\n"
   ]
  },
  {
   "cell_type": "code",
   "execution_count": 6,
   "metadata": {},
   "outputs": [],
   "source": [
    "#| hide\n",
    "#stguess = getPlay(1,stgame,stmoves)\n",
    "#print(ui.showChoice(stguess))\n",
    "def seenCounts(pc,game, moves):\n",
    "    knoweledge = getSeen(pc,game, moves)\n",
    "    p = [0,0,0]\n",
    "    for x in knoweledge:\n",
    "        i = int(x/100) -1\n",
    "        p[i] += 1\n",
    "\n",
    "    return p"
   ]
  },
  {
   "cell_type": "code",
   "execution_count": 12,
   "metadata": {},
   "outputs": [],
   "source": [
    "#| hide\n",
    "#stguess = getPlay(2,stgame,stmoves)"
   ]
  },
  {
   "cell_type": "code",
   "execution_count": 7,
   "metadata": {},
   "outputs": [],
   "source": [
    "#| export\n",
    "\n",
    "\n",
    "\n",
    "\n",
    "def simpleGuess(pc,game, moves):\n",
    "\n",
    "\n",
    "    playerRoom = model.roomOf(pc,game)\n",
    "    exclude  = set(model.getSeen(pc,game, moves))\n",
    "    \n",
    "    pdeck = [model.keyCard(1,x) for x in range(len(model.people))]\n",
    "    pdeck = [x for x in  pdeck if x not in exclude]\n",
    "    p = choice(pdeck)%100\n",
    "    \n",
    "    pdeck = [model.keyCard(2,x) for x in range(len(model.weapons))]\n",
    "    pdeck = [x for x in pdeck if x not in exclude]\n",
    "    w = choice(pdeck)%100\n",
    "    \n",
    "    pdeck = [model.keyCard(3,x) for x in model.roomsAround(playerRoom)]\n",
    "    rdeck = [x for x in  pdeck if x not in exclude]\n",
    "    \n",
    "    if len(rdeck) == 0:\n",
    "        l = pdeck[0]%100\n",
    "    else:\n",
    "        l = choice(rdeck)%100\n",
    "    \n",
    "    return (p,w,l)\n"
   ]
  },
  {
   "cell_type": "code",
   "execution_count": 8,
   "metadata": {},
   "outputs": [],
   "source": [
    "#| export\n",
    "\n",
    "def itemsForType(t):\n",
    "    if t == 1:\n",
    "        return model.people\n",
    "    if t == 2:\n",
    "        return model.weapons\n",
    "    return model.rooms\n",
    "        \n",
    "def itemGuess(t,moves):\n",
    "    l = itemsForType(t)\n",
    "\n",
    "    ret = [1 for x in range(len(l))]\n",
    "    for x in moves:\n",
    "        ret[x[t-1]] += 1\n",
    "    #print(ret)\n",
    "    return ret\n",
    "    \n",
    "def showCounts(t,moves):\n",
    "    items = itemGuess(t,moves)\n",
    "    base = itemsForType(t)\n",
    "    #print(items,base)\n",
    "    for i in range(len(items)):\n",
    "        print(i,ui.cardFull(base[i]),items[i])\n",
    "\n",
    "\n",
    "                              \n",
    "\n",
    "\n"
   ]
  },
  {
   "cell_type": "code",
   "execution_count": 9,
   "metadata": {},
   "outputs": [],
   "source": [
    "#| export\n",
    "def biasWalk(a,b,c):\n",
    "    \n",
    "    def bWalk(exclude,pc,game, moves):\n",
    "        playerRoom = model.roomOf(pc,game) \n",
    "        dest = model.roomsAround(playerRoom)\n",
    "        if model.keyCard(3,dest[a]) not in exclude:\n",
    "            return dest[a]%100\n",
    "        if model.keyCard(3,dest[b]) not in exclude:\n",
    "            return dest[b]%100\n",
    "        \n",
    "        return dest[c]%100\n",
    "    return bWalk\n",
    "    \n",
    " "
   ]
  },
  {
   "cell_type": "code",
   "execution_count": 10,
   "metadata": {},
   "outputs": [],
   "source": [
    "#| export\n",
    "def rWalk(exclude,pc,game, moves):\n",
    "    playerRoom = model.roomOf(pc,game)\n",
    "    pdeck = [model.keyCard(3,x) for x in model.roomsAround(playerRoom)]\n",
    "    rdeck = [x for x in  pdeck if x not in exclude]\n",
    "    \n",
    "    if len(rdeck) == 0:\n",
    "        l = pdeck[0]%100\n",
    "    else:\n",
    "        l = choice(rdeck)%100\n",
    "                              \n",
    "    return l"
   ]
  },
  {
   "cell_type": "code",
   "execution_count": 11,
   "metadata": {},
   "outputs": [],
   "source": [
    "#| export\n",
    "\n",
    "\n",
    "def roomsAway(roomNum,roomSize):\n",
    "    foo = [x for x in range(roomSize)]\n",
    "    middle = int( roomSize / 2)\n",
    "    if roomNum <middle:\n",
    "        lm = foo[roomNum - int(middle):]\n",
    "        lSide = lm + foo[:roomNum] \n",
    "        lSide.reverse()\n",
    "        rSide = foo[roomNum + 1:roomNum + 1 + middle]\n",
    "    elif roomNum > middle:\n",
    "        lSide = foo[roomNum-middle:roomNum]\n",
    "        lSide.reverse()\n",
    "        rSide = foo[roomNum +1: ] + foo[:roomNum-middle]\n",
    "    else:\n",
    "        lSide = foo[:middle]\n",
    "        lSide.reverse()\n",
    "        rSide = foo[middle+1:]\n",
    "    return lSide, rSide\n",
    "\n",
    "def repelWalk(exclude,pc,game, moves):\n",
    "    playerRoom = model.roomOf(pc,game)\n",
    "    lRooms, rRooms = roomsAway(playerRoom,len(model.rooms))\n",
    "    #print(\"staring at \" + ui.cardFull(model.rooms[playerRoom]))\n",
    "    #print(playerRoom,lRooms,rRooms)\n",
    "    #print(exclude)\n",
    "    def score(rooms):\n",
    "        rooms.reverse()\n",
    "        weights = []\n",
    "        cards = []\n",
    "        for i in range(len(rooms)):\n",
    "            r = rooms[i]\n",
    "            cards.append(str(model.keyCard(3,r)) + \" \" + model.rooms[r][0])\n",
    "            \n",
    "            if model.keyCard(3,r) in exclude:\n",
    "                w = 2**i\n",
    "                #print(i,w)\n",
    "                weights.append(w)\n",
    "            else:\n",
    "                weights.append(0)\n",
    "        #print(cards,weights)\n",
    "        return sum(weights)\n",
    "\n",
    "\n",
    "    lPull = score(lRooms)\n",
    "    rPull = score(rRooms)\n",
    "    #trace.append([playerRoom,lPull,rPull])\n",
    "    #print(trace)\n",
    "    #ui.showBoard(pc,game,moves)\n",
    "    achoice = model.roomsAround(playerRoom)\n",
    "    if lPull > rPull:\n",
    "        #print(\"to\" + ui.cardFull(model.rooms[achoice[2]]))\n",
    "        return achoice[2]\n",
    "    if lPull < rPull:\n",
    "        \n",
    "        #print(\"to\" + ui.cardFull(model.rooms[achoice[0]]))\n",
    "        return achoice[0]\n",
    "    #print(\"same\")    \n",
    "    return rWalk(exclude,pc,game, moves)\n"
   ]
  },
  {
   "cell_type": "code",
   "execution_count": 12,
   "metadata": {},
   "outputs": [],
   "source": [
    "#| export\n",
    "def mimic(memory,walk):\n",
    "    def betterGuess(pc,game, moves):\n",
    "\n",
    "        exclude  = set(model.getSeen(pc,game, moves))\n",
    "\n",
    "        if memory < 0:\n",
    "            examine = []\n",
    "        else:\n",
    "            examine = moves[-memory:]\n",
    "\n",
    "\n",
    "        keydeck = [model.keyCard(1,x) for x in range(len(model.people))]\n",
    "        pdeck = [x for x in  keydeck if x not in exclude]\n",
    "        pC = itemGuess(1,examine)\n",
    "        pWeights = [pC[x%100] * pC[x%100] for x in  keydeck if x not in exclude]\n",
    "\n",
    "        p = choices(pdeck,weights=pWeights)\n",
    "        p = p[0]%100\n",
    "\n",
    "        keydeck = [model.keyCard(2,x) for x in range(len(model.weapons))]\n",
    "        pdeck = [x for x in keydeck if x not in exclude]\n",
    "        pC = itemGuess(2,examine)\n",
    "        pWeights = [pC[x%100] * pC[x%100] for x in  keydeck if x not in exclude]\n",
    "\n",
    "        w = choices(pdeck,weights=pWeights)[0]%100\n",
    "        \n",
    "        l = walk(exclude,pc,game, moves)\n",
    "\n",
    "        return (p,w,l)\n",
    "    \n",
    "    return betterGuess"
   ]
  },
  {
   "cell_type": "code",
   "execution_count": 13,
   "metadata": {},
   "outputs": [],
   "source": [
    "#| export\n",
    "def cheater(walk):\n",
    "    def betterGuess(pc,game, moves):\n",
    "\n",
    " \n",
    "        exclude  = set(model.handOf(pc,game) +[x[-1] for x in moves] )\n",
    "\n",
    "       \n",
    "        examine = []\n",
    "   \n",
    "\n",
    "\n",
    "        keydeck = [model.keyCard(1,x) for x in range(len(model.people))]\n",
    "        pdeck = [x for x in  keydeck if x not in exclude]\n",
    "        pC = itemGuess(1,examine)\n",
    "        pWeights = [pC[x%100] * pC[x%100] for x in  keydeck if x not in exclude]\n",
    "\n",
    "        p = choices(pdeck,weights=pWeights)\n",
    "        p = p[0]%100\n",
    "\n",
    "        keydeck = [model.keyCard(2,x) for x in range(len(model.weapons))]\n",
    "        pdeck = [x for x in keydeck if x not in exclude]\n",
    "        pC = itemGuess(2,examine)\n",
    "        pWeights = [pC[x%100] * pC[x%100] for x in  keydeck if x not in exclude]\n",
    "\n",
    "        w = choices(pdeck,weights=pWeights)[0]%100\n",
    "        \n",
    "        l = walk(exclude,pc,game, moves)\n",
    "\n",
    "        return (p,w,l)\n",
    "    return betterGuess\n",
    "\n",
    "\n",
    "def halfRight(walk):\n",
    "    oracle = cheater(walk)\n",
    "    \n",
    "    def betterGuess(pc,game, moves):\n",
    "        p,w,l = oracle(pc,game, moves)\n",
    "        exclude  = model.handOf(pc,game) +[x[-1] for x in moves] \n",
    "        exclude = [x for x in exclude if x < 300]\n",
    "        \n",
    "\n",
    "        if len(exclude) <= 0:\n",
    "            return (p,w,l)\n",
    "\n",
    "        wrong = choice(exclude)\n",
    "        if wrong < 200:\n",
    "            p = wrong%100\n",
    "        else:\n",
    "            w = wrong%100\n",
    "\n",
    "        return (p,w,l)\n",
    "    return betterGuess"
   ]
  },
  {
   "cell_type": "code",
   "execution_count": 15,
   "metadata": {},
   "outputs": [],
   "source": [
    "#| export\n",
    "\n",
    "def hasGuess(guess,moves):\n",
    "    p, w, l = guess[:3]\n",
    "    c = (p,w,l)\n",
    "    for x in moves:\n",
    "        p, w, l = x[:3]\n",
    "        xc = (p,w,l)\n",
    "        if c == xc:\n",
    "            return True\n",
    "    return False\n",
    "\n",
    "def repeater(strats,verbose=False):\n",
    "    def betterGuess(pc,game, moves):\n",
    "        counter = 0\n",
    "        for strat in strats:\n",
    "            \n",
    "            g =  strat(pc,game, moves)\n",
    "            if not hasGuess(g,moves):\n",
    "                if verbose and counter > 0:\n",
    "                    print(\"counter \" + str(counter))\n",
    "                return g\n",
    "            counter += 1\n",
    "                        \n",
    "        if verbose and counter > 0:\n",
    "            print(\" over counter \" + str(counter))\n",
    "        return strats[-1](pc,game, moves)\n",
    "                          \n",
    "    return betterGuess"
   ]
  },
  {
   "cell_type": "code",
   "execution_count": 16,
   "metadata": {},
   "outputs": [
    {
     "data": {
      "text/plain": [
       "(5, 3, 0)"
      ]
     },
     "execution_count": 16,
     "metadata": {},
     "output_type": "execute_result"
    }
   ],
   "source": [
    "r1 = repeater([mimic(1*(x+3),rWalk) for x in range(4)])\n",
    "rgame = model.createClue(4)\n",
    "r1(1,rgame,[])"
   ]
  },
  {
   "cell_type": "code",
   "execution_count": null,
   "metadata": {},
   "outputs": [],
   "source": []
  },
  {
   "cell_type": "code",
   "execution_count": null,
   "metadata": {},
   "outputs": [],
   "source": []
  },
  {
   "cell_type": "code",
   "execution_count": null,
   "metadata": {},
   "outputs": [],
   "source": []
  },
  {
   "cell_type": "markdown",
   "metadata": {},
   "source": [
    "## Visual"
   ]
  },
  {
   "cell_type": "code",
   "execution_count": null,
   "metadata": {},
   "outputs": [],
   "source": [
    "\n"
   ]
  },
  {
   "cell_type": "code",
   "execution_count": 17,
   "metadata": {},
   "outputs": [],
   "source": [
    "#| export\n",
    "def playerName(i):\n",
    "    return ui.cardFull(model.cardLookup(1,i-1))\n",
    "    \n",
    "def runVisualGame( strats):\n",
    "    numPlayers = len(strats)\n",
    "    done = False\n",
    "    agame = model.createClue(numPlayers)\n",
    "    amoves = []\n",
    "    player = 1\n",
    "\n",
    "   \n",
    "             \n",
    "    while not done:\n",
    "        #print(seenCounts(player,agame,amoves))\n",
    "        \n",
    "        stratName, isUser, strat = strats[player - 1]\n",
    "        \n",
    "        if isUser:\n",
    "            #ui.showMoves(player,amoves[-numPlayers:],numPlayers)\n",
    "            ui.printPlayerHand(player,agame)\n",
    "            ui.showMoves(player,amoves[-numPlayers:],numPlayers)\n",
    "\n",
    "        #print(player,agame,amoves)\n",
    "        ans = strat(player,agame,amoves)\n",
    "        if isUser:\n",
    "            pass\n",
    "            #os.system(\"clear\")\n",
    "        agame = model.relocatePlayers(player , ans[0],ans[2],agame)\n",
    "        #print( playerName(player) + \" suspects \" + ui.showChoice(ans)+\".\")\n",
    "        check = model.getAnswer(player,agame,ans)\n",
    "        \n",
    "        if check[0] < 0:\n",
    "            seen =  model.getSeen(player,agame, amoves)\n",
    "            exclude  = set(seen)\n",
    "            done = True\n",
    "            for x in model.keysForGuess(ans):\n",
    "                if x in exclude:\n",
    "                    print(\"\\n\\n\" + playerName(player) + \" is not quite ready to accuse.\")\n",
    "                    done = False\n",
    "            \n",
    "        else:\n",
    "            #(p,w,l,playerNum, c,y[0],y[1])\n",
    "            card = check[-1]\n",
    "            \n",
    "            amoves.append(check)\n",
    "\n",
    "\n",
    "        if not done:\n",
    "            player = player + 1\n",
    "            if player - 1 >=len(strats):\n",
    "               player = 1 \n",
    "    \n",
    "    print(\"\\n\" + playerName(player) + \" \" + stratName + \" won!\")\n",
    "    ui.printGame(agame) \n",
    "    ui.showMoves(player,amoves,numPlayers)"
   ]
  },
  {
   "cell_type": "code",
   "execution_count": 46,
   "metadata": {},
   "outputs": [
    {
     "name": "stdout",
     "output_type": "stream",
     "text": [
      "ok\n",
      "repeat\n",
      "👠 Miss Scarlet, 🔫 Revolver, Billiard Room, Kitchen\n",
      "👠  asks (🥼 &  🪠 in the Kitchen) ------->👠🧐🥼❓❓\n",
      "╒═══════════╤══════════════════╤═════════════════╕\n",
      "│ Ball Room │ 1) Billiard Room │ 2) Conservatory │\n",
      "│    G      │                  │    S, M, W      │\n",
      "├───────────┼──────────────────┼─────────────────┤\n",
      "│ Study     │                  │ 3) Dining Room  │\n",
      "├───────────┼──────────────────┼─────────────────┤\n",
      "│ Library   │                  │ Hall            │\n",
      "│    P      │                  │                 │\n",
      "├───────────┼──────────────────┼─────────────────┤\n",
      "│           │ Lounge           │ Kitchen         │\n",
      "│           │    P             │                 │\n",
      "╘═══════════╧══════════════════╧═════════════════╛\n",
      "🧐 will race to:\n",
      "\n",
      "1*Billiard Room\n",
      "2 Conservatory                     👠\n",
      "3 Dining Room\n"
     ]
    },
    {
     "name": "stdin",
     "output_type": "stream",
     "text": [
      "Choose from 1 to 3:  2\n"
     ]
    },
    {
     "name": "stdout",
     "output_type": "stream",
     "text": [
      "1*👠 Miss Scarlet\n",
      "2 🧐 Colonel Mustard\n",
      "3 🥼  Mrs. White\n",
      "4 🐉 Mr. Green\n",
      "5 🍆 Professor Plum\n",
      "6 🦚 Mrs. Peacock\n"
     ]
    },
    {
     "name": "stdin",
     "output_type": "stream",
     "text": [
      "Choose from 1 to 6:  5\n"
     ]
    },
    {
     "name": "stdout",
     "output_type": "stream",
     "text": [
      "1 🔪 Knife\n",
      "2*🔫 Revolver\n",
      "3 🪢 Rope\n",
      "4 🔧 Wrench\n",
      "5 🕯️ Candlestick\n",
      "6 🪠 Lead Pipe\n"
     ]
    },
    {
     "name": "stdin",
     "output_type": "stream",
     "text": [
      "Choose from 1 to 6:  4\n"
     ]
    },
    {
     "name": "stdout",
     "output_type": "stream",
     "text": [
      "ok\n",
      "repeat\n",
      "ok\n",
      "repeat\n",
      "👠 Miss Scarlet, 🔫 Revolver, Billiard Room, Kitchen\n",
      "🧐  asks (🍆 &  🔧 in the Dining Room) --->❓🧐🥼❓❓ shows Conservatory\n",
      "🥼  asks (🍆 &  🔪 in the Ball Room) ----->❓❓🥼🐉❓\n",
      "🐉  asks (🦚 &  🪠 in the Kitchen) ------->👠🧐❓🐉🍆\n",
      "🍆  asks (🦚 &  🔪 in the Ball Room) ----->👠🧐🥼🐉🍆\n",
      "👠  asks (👠 &  🔧 in the Dining Room) --->👠🧐❓❓❓\n",
      "╒═══════════╤══════════════════╤═════════════════╕\n",
      "│ Ball Room │ 1) Billiard Room │ 2) Conservatory │\n",
      "│           │    S, G          │    M            │\n",
      "├───────────┼──────────────────┼─────────────────┤\n",
      "│ Study     │                  │ 3) Dining Room  │\n",
      "│           │                  │    W            │\n",
      "├───────────┼──────────────────┼─────────────────┤\n",
      "│ Library   │                  │ Hall            │\n",
      "│           │                  │    P, P         │\n",
      "├───────────┼──────────────────┼─────────────────┤\n",
      "│           │ Lounge           │ Kitchen         │\n",
      "╘═══════════╧══════════════════╧═════════════════╛\n",
      "🧐 will sprint to:\n",
      "\n",
      "1*Billiard Room                    🐉, 🍆\n",
      "2*Conservatory                     👠\n",
      "3 Dining Room\n"
     ]
    },
    {
     "name": "stdin",
     "output_type": "stream",
     "text": [
      "Choose from 1 to 3:  3\n"
     ]
    },
    {
     "name": "stdout",
     "output_type": "stream",
     "text": [
      "1*👠 Miss Scarlet\n",
      "2 🧐 Colonel Mustard\n",
      "3 🥼  Mrs. White\n",
      "4 🐉 Mr. Green\n",
      "5 🍆 Professor Plum\n",
      "6 🦚 Mrs. Peacock\n"
     ]
    },
    {
     "name": "stdin",
     "output_type": "stream",
     "text": [
      "Choose from 1 to 6:  2\n"
     ]
    },
    {
     "name": "stdout",
     "output_type": "stream",
     "text": [
      "1 🔪 Knife\n",
      "2*🔫 Revolver\n",
      "3 🪢 Rope\n",
      "4 🔧 Wrench\n",
      "5 🕯️ Candlestick\n",
      "6 🪠 Lead Pipe\n"
     ]
    },
    {
     "name": "stdin",
     "output_type": "stream",
     "text": [
      "Choose from 1 to 6:  1\n"
     ]
    },
    {
     "name": "stdout",
     "output_type": "stream",
     "text": [
      "ok\n",
      "repeat\n",
      "ok\n",
      "repeat\n",
      "👠 Miss Scarlet, 🔫 Revolver, Billiard Room, Kitchen\n",
      "🧐  asks (🧐 &  🔪 in the Ball Room) ----->❓🧐🥼❓❓ shows 🧐 Colonel Mustard\n",
      "🥼  asks (🦚 &  🪠 in the Kitchen) ------->❓❓🥼🐉❓\n",
      "🐉  asks (👠 &  🪢 in the Conservatory) -->👠❓❓🐉🍆\n",
      "🍆  asks (🐉 &  🪠 in the Kitchen) ------->👠🧐❓❓🍆\n",
      "👠  asks (🦚 &  🔫 in the Billiard Room) ->👠🧐❓❓❓\n",
      "╒═══════════╤═══════════════╤═════════════════╕\n",
      "│ Ball Room │ Billiard Room │ 1) Conservatory │\n",
      "│           │    S, P       │                 │\n",
      "├───────────┼───────────────┼─────────────────┤\n",
      "│ Study     │               │ 2) Dining Room  │\n",
      "│           │               │    M            │\n",
      "├───────────┼───────────────┼─────────────────┤\n",
      "│ Library   │               │ 3) Hall         │\n",
      "│           │               │    W            │\n",
      "├───────────┼───────────────┼─────────────────┤\n",
      "│           │ Lounge        │ Kitchen         │\n",
      "│           │               │    G, P         │\n",
      "╘═══════════╧═══════════════╧═════════════════╛\n",
      "🧐 will rush to:\n",
      "\n",
      "1*Conservatory                     👠\n",
      "2 Dining Room\n",
      "3 Hall                             👠, 🧐, 🍆\n"
     ]
    },
    {
     "name": "stdin",
     "output_type": "stream",
     "text": [
      "Choose from 1 to 3:  2\n"
     ]
    },
    {
     "name": "stdout",
     "output_type": "stream",
     "text": [
      "1*👠 Miss Scarlet\n",
      "2*🧐 Colonel Mustard\n",
      "3 🥼  Mrs. White\n",
      "4 🐉 Mr. Green\n",
      "5 🍆 Professor Plum\n",
      "6 🦚 Mrs. Peacock\n"
     ]
    },
    {
     "name": "stdin",
     "output_type": "stream",
     "text": [
      "Choose from 1 to 6:  3\n"
     ]
    },
    {
     "name": "stdout",
     "output_type": "stream",
     "text": [
      "1 🔪 Knife\n",
      "2*🔫 Revolver\n",
      "3 🪢 Rope                           🐉, 🍆\n",
      "4 🔧 Wrench\n",
      "5 🕯️ Candlestick\n",
      "6 🪠 Lead Pipe\n"
     ]
    },
    {
     "name": "stdin",
     "output_type": "stream",
     "text": [
      "Choose from 1 to 6:  6\n"
     ]
    },
    {
     "name": "stdout",
     "output_type": "stream",
     "text": [
      "ok\n",
      "repeat\n",
      "ok\n",
      "repeat\n",
      "👠 Miss Scarlet, 🔫 Revolver, Billiard Room, Kitchen\n",
      "🧐  asks (🥼 &  🪠 in the Kitchen) ------->❓🧐🥼🐉❓ shows 🪠 Lead Pipe\n",
      "🥼  asks (🥼 &  🔪 in the Ball Room) ----->❓❓🥼🐉🍆\n",
      "🐉  asks (🥼 &  🪠 in the Kitchen) ------->❓❓❓🐉🍆\n",
      "🍆  asks (🧐 &  🔫 in the Billiard Room) ->👠🧐❓❓🍆\n",
      "👠  asks (🐉 &  🕯️ in the Hall) ---------->👠🧐🥼🐉🍆\n",
      "╒════════════╤═══════════════╤══════════════╕\n",
      "│ Ball Room  │ Billiard Room │ Conservatory │\n",
      "│    S, G    │    P          │              │\n",
      "├────────────┼───────────────┼──────────────┤\n",
      "│ Study      │               │ Dining Room  │\n",
      "├────────────┼───────────────┼──────────────┤\n",
      "│ 3) Library │               │ Hall         │\n",
      "├────────────┼───────────────┼──────────────┤\n",
      "│            │ 2) Lounge     │ 1) Kitchen   │\n",
      "│            │    M, W, P    │              │\n",
      "╘════════════╧═══════════════╧══════════════╛\n",
      "🧐 will staggar to:\n",
      "\n",
      "1*Kitchen                          🍆\n",
      "2 Lounge\n",
      "3 Library\n"
     ]
    },
    {
     "name": "stdin",
     "output_type": "stream",
     "text": [
      "Choose from 1 to 3:  1\n"
     ]
    },
    {
     "name": "stdout",
     "output_type": "stream",
     "text": [
      "1*👠 Miss Scarlet\n",
      "2*🧐 Colonel Mustard\n",
      "3 🥼  Mrs. White\n",
      "4 🐉 Mr. Green                      👠, 🧐, 🥼\n",
      "5 🍆 Professor Plum\n",
      "6 🦚 Mrs. Peacock\n"
     ]
    },
    {
     "name": "stdin",
     "output_type": "stream",
     "text": [
      "Choose from 1 to 6:  5\n"
     ]
    },
    {
     "name": "stdout",
     "output_type": "stream",
     "text": [
      "1 🔪 Knife                          🥼\n",
      "2*🔫 Revolver                       🍆\n",
      "3 🪢 Rope                           🐉, 🍆\n",
      "4 🔧 Wrench\n",
      "5 🕯️ Candlestick\n",
      "6*🪠 Lead Pipe                      🧐\n"
     ]
    },
    {
     "name": "stdin",
     "output_type": "stream",
     "text": [
      "Choose from 1 to 6:  4\n"
     ]
    },
    {
     "name": "stdout",
     "output_type": "stream",
     "text": [
      "ok\n",
      "repeat\n",
      "ok\n",
      "repeat\n",
      "👠 Miss Scarlet, 🔫 Revolver, Billiard Room, Kitchen\n",
      "🧐  asks (🍆 &  🔧 in the Dining Room) --->❓🧐🥼❓❓ shows 🔧 Wrench\n",
      "🥼  asks (👠 &  🕯️ in the Hall) ---------->👠❓🥼🐉🍆\n",
      "🐉  asks (🦚 &  🔫 in the Billiard Room) ->👠🧐❓🐉🍆\n",
      "🍆  asks (🦚 &  🪠 in the Kitchen) ------->👠🧐🥼🐉🍆\n",
      "👠  asks (🥼 &  🔫 in the Billiard Room) ->👠🧐❓❓❓\n",
      "╒════════════╤═══════════════╤══════════════╕\n",
      "│ Ball Room  │ Billiard Room │ Conservatory │\n",
      "├────────────┼───────────────┼──────────────┤\n",
      "│ Study      │               │ Dining Room  │\n",
      "│    S, W, G │               │              │\n",
      "├────────────┼───────────────┼──────────────┤\n",
      "│ Library    │               │ 1) Hall      │\n",
      "├────────────┼───────────────┼──────────────┤\n",
      "│            │ 3) Lounge     │ 2) Kitchen   │\n",
      "│            │    P, P       │    M         │\n",
      "╘════════════╧═══════════════╧══════════════╛\n",
      "🧐 will rush to:\n",
      "\n",
      "1 Hall                             👠, 🧐, 🍆\n",
      "2*Kitchen                          🍆\n",
      "3 Lounge\n"
     ]
    },
    {
     "name": "stdin",
     "output_type": "stream",
     "text": [
      "Choose from 1 to 3:  2\n"
     ]
    },
    {
     "name": "stdout",
     "output_type": "stream",
     "text": [
      "1*👠 Miss Scarlet\n",
      "2*🧐 Colonel Mustard\n",
      "3 🥼  Mrs. White\n",
      "4 🐉 Mr. Green                      👠, 🧐, 🥼\n",
      "5 🍆 Professor Plum\n",
      "6 🦚 Mrs. Peacock\n"
     ]
    },
    {
     "name": "stdin",
     "output_type": "stream",
     "text": [
      "Choose from 1 to 6:  3\n"
     ]
    },
    {
     "name": "stdout",
     "output_type": "stream",
     "text": [
      "1 🔪 Knife                          🥼\n",
      "2*🔫 Revolver                       🐉, 🍆\n",
      "3 🪢 Rope                           🐉, 🍆\n",
      "4*🔧 Wrench\n",
      "5 🕯️ Candlestick\n",
      "6*🪠 Lead Pipe                      👠, 🧐, 🍆\n"
     ]
    },
    {
     "name": "stdin",
     "output_type": "stream",
     "text": [
      "Choose from 1 to 6:  5\n"
     ]
    },
    {
     "name": "stdout",
     "output_type": "stream",
     "text": [
      "ok\n",
      "repeat\n",
      "ok\n",
      "repeat\n",
      "👠 Miss Scarlet, 🔫 Revolver, Billiard Room, Kitchen\n",
      "🧐  asks (🥼 &  🕯️ in the Hall) ---------->❓🧐🥼🐉🍆 shows 🥼  Mrs. White\n",
      "🥼  asks (🥼 &  🪢 in the Conservatory) -->❓❓🥼🐉🍆\n",
      "🐉  asks (🍆 &  🔫 in the Billiard Room) ->👠❓❓🐉🍆\n",
      "🍆  asks (🐉 &  🕯️ in the Hall) ---------->👠❓❓❓🍆\n",
      "👠  asks (🧐 &  🔪 in the Ball Room) ----->👠🧐🥼❓❓\n",
      "╒══════════════╤═══════════════╤══════════════╕\n",
      "│ 3) Ball Room │ Billiard Room │ Conservatory │\n",
      "│    G, P      │               │              │\n",
      "├──────────────┼───────────────┼──────────────┤\n",
      "│ 2) Study     │               │ Dining Room  │\n",
      "│    S, M      │               │              │\n",
      "├──────────────┼───────────────┼──────────────┤\n",
      "│ 1) Library   │               │ Hall         │\n",
      "├──────────────┼───────────────┼──────────────┤\n",
      "│              │ Lounge        │ Kitchen      │\n",
      "│              │    W, P       │              │\n",
      "╘══════════════╧═══════════════╧══════════════╛\n",
      "🧐 will staggar to:\n",
      "\n",
      "1 Library                          🥼, 🐉, 🍆\n",
      "2 Study\n",
      "3 Ball Room                        🍆\n"
     ]
    },
    {
     "name": "stdin",
     "output_type": "stream",
     "text": [
      "Choose from 1 to 3:  2\n"
     ]
    },
    {
     "name": "stdout",
     "output_type": "stream",
     "text": [
      "1*👠 Miss Scarlet\n",
      "2*🧐 Colonel Mustard                👠\n",
      "3*🥼  Mrs. White                    🧐, 🥼\n",
      "4 🐉 Mr. Green                      👠, 🧐, 🥼\n",
      "5 🍆 Professor Plum                 🐉, 🍆\n",
      "6 🦚 Mrs. Peacock\n"
     ]
    },
    {
     "name": "stdin",
     "output_type": "stream",
     "text": [
      "Choose from 1 to 6:  4\n"
     ]
    },
    {
     "name": "stdout",
     "output_type": "stream",
     "text": [
      "1 🔪 Knife                          🥼\n",
      "2*🔫 Revolver                       🐉, 🍆\n",
      "3 🪢 Rope                           🐉, 🍆\n",
      "4*🔧 Wrench\n",
      "5 🕯️ Candlestick\n",
      "6*🪠 Lead Pipe                      👠, 🧐, 🍆\n"
     ]
    },
    {
     "name": "stdin",
     "output_type": "stream",
     "text": [
      "Choose from 1 to 6:  5\n"
     ]
    },
    {
     "name": "stdout",
     "output_type": "stream",
     "text": [
      "ok\n",
      "repeat\n",
      "ok\n",
      "repeat\n",
      "repeat\n",
      "👠 Miss Scarlet, 🔫 Revolver, Billiard Room, Kitchen\n",
      "🧐  asks (🐉 &  🕯️ in the Hall) ---------->❓🧐🥼❓❓ shows Study\n",
      "🥼  asks (👠 &  🕯️ in the Hall) ---------->👠🧐🥼🐉🍆\n",
      "🐉  asks (🥼 &  🕯️ in the Hall) ---------->❓❓❓🐉🍆\n",
      "🍆  asks (🦚 &  🪠 in the Kitchen) ------->👠🧐🥼❓🍆\n",
      "👠  asks (🦚 &  🕯️ in the Hall) ---------->👠🧐❓❓❓\n",
      "╒══════════════╤═══════════════╤══════════════╕\n",
      "│ 3) Ball Room │ Billiard Room │ Conservatory │\n",
      "├──────────────┼───────────────┼──────────────┤\n",
      "│ 2) Study     │               │ Dining Room  │\n",
      "│    M, P      │               │              │\n",
      "├──────────────┼───────────────┼──────────────┤\n",
      "│ 1) Library   │               │ Hall         │\n",
      "│    W, G      │               │              │\n",
      "├──────────────┼───────────────┼──────────────┤\n",
      "│              │ Lounge        │ Kitchen      │\n",
      "│              │               │    S, P      │\n",
      "╘══════════════╧═══════════════╧══════════════╛\n",
      "🧐 will race to:\n",
      "\n",
      "1 Library                          🥼, 🐉, 🍆\n",
      "2*Study                            👠, 🍆\n",
      "3 Ball Room                        🍆\n"
     ]
    },
    {
     "ename": "KeyboardInterrupt",
     "evalue": "Interrupted by user",
     "output_type": "error",
     "traceback": [
      "\u001b[0;31m---------------------------------------------------------------------------\u001b[0m",
      "\u001b[0;31mKeyboardInterrupt\u001b[0m                         Traceback (most recent call last)",
      "Cell \u001b[0;32mIn [46], line 11\u001b[0m\n\u001b[1;32m      9\u001b[0m hr \u001b[38;5;241m=\u001b[39m (\u001b[38;5;124m\"\u001b[39m\u001b[38;5;124mhalfRight\u001b[39m\u001b[38;5;124m\"\u001b[39m,\u001b[38;5;28;01mFalse\u001b[39;00m,halfRight(rWalk))\n\u001b[1;32m     10\u001b[0m strategies \u001b[38;5;241m=\u001b[39m [ s1,p1,s1,hr,hr] \u001b[38;5;66;03m#hr,s1,p1,s1,s1]\u001b[39;00m\n\u001b[0;32m---> 11\u001b[0m \u001b[43mrunVisualGame\u001b[49m\u001b[43m(\u001b[49m\u001b[43mstrategies\u001b[49m\u001b[43m)\u001b[49m\n",
      "Cell \u001b[0;32mIn [45], line 25\u001b[0m, in \u001b[0;36mrunVisualGame\u001b[0;34m(strats)\u001b[0m\n\u001b[1;32m     22\u001b[0m     ui\u001b[38;5;241m.\u001b[39mshowMoves(player,amoves[\u001b[38;5;241m-\u001b[39mnumPlayers:],numPlayers)\n\u001b[1;32m     24\u001b[0m \u001b[38;5;66;03m#print(player,agame,amoves)\u001b[39;00m\n\u001b[0;32m---> 25\u001b[0m ans \u001b[38;5;241m=\u001b[39m \u001b[43mstrat\u001b[49m\u001b[43m(\u001b[49m\u001b[43mplayer\u001b[49m\u001b[43m,\u001b[49m\u001b[43magame\u001b[49m\u001b[43m,\u001b[49m\u001b[43mamoves\u001b[49m\u001b[43m)\u001b[49m\n\u001b[1;32m     26\u001b[0m \u001b[38;5;28;01mif\u001b[39;00m isUser:\n\u001b[1;32m     27\u001b[0m     \u001b[38;5;28;01mpass\u001b[39;00m\n",
      "Cell \u001b[0;32mIn [10], line 15\u001b[0m, in \u001b[0;36mgetPlay\u001b[0;34m(pc, game, moves)\u001b[0m\n\u001b[1;32m     10\u001b[0m verb \u001b[38;5;241m=\u001b[39m choice([\u001b[38;5;124m\"\u001b[39m\u001b[38;5;124mtotter\u001b[39m\u001b[38;5;124m\"\u001b[39m,\u001b[38;5;124m\"\u001b[39m\u001b[38;5;124mwalk\u001b[39m\u001b[38;5;124m\"\u001b[39m,\u001b[38;5;124m\"\u001b[39m\u001b[38;5;124mstumble\u001b[39m\u001b[38;5;124m\"\u001b[39m,\u001b[38;5;124m\"\u001b[39m\u001b[38;5;124mstaggar\u001b[39m\u001b[38;5;124m\"\u001b[39m,\u001b[38;5;124m\"\u001b[39m\u001b[38;5;124mrush\u001b[39m\u001b[38;5;124m\"\u001b[39m,\u001b[38;5;124m\"\u001b[39m\u001b[38;5;124mdash\u001b[39m\u001b[38;5;124m\"\u001b[39m,\u001b[38;5;124m\"\u001b[39m\u001b[38;5;124mrace\u001b[39m\u001b[38;5;124m\"\u001b[39m,\u001b[38;5;124m\"\u001b[39m\u001b[38;5;124msprint\u001b[39m\u001b[38;5;124m\"\u001b[39m])\n\u001b[1;32m     13\u001b[0m \u001b[38;5;28mprint\u001b[39m(model\u001b[38;5;241m.\u001b[39mpeople[pc\u001b[38;5;241m-\u001b[39m\u001b[38;5;241m1\u001b[39m][\u001b[38;5;241m2\u001b[39m] \u001b[38;5;241m+\u001b[39m \u001b[38;5;124m\"\u001b[39m\u001b[38;5;124m will \u001b[39m\u001b[38;5;124m\"\u001b[39m \u001b[38;5;241m+\u001b[39m verb \u001b[38;5;241m+\u001b[39m \u001b[38;5;124m\"\u001b[39m\u001b[38;5;124m to:\u001b[39m\u001b[38;5;130;01m\\n\u001b[39;00m\u001b[38;5;124m\"\u001b[39m)\n\u001b[0;32m---> 15\u001b[0m l \u001b[38;5;241m=\u001b[39m \u001b[43mui\u001b[49m\u001b[38;5;241;43m.\u001b[39;49m\u001b[43mchooseKey\u001b[49m\u001b[43m(\u001b[49m\u001b[43mlocs\u001b[49m\u001b[43m,\u001b[49m\u001b[43mpc\u001b[49m\u001b[43m,\u001b[49m\u001b[43mgame\u001b[49m\u001b[43m,\u001b[49m\u001b[43mmoves\u001b[49m\u001b[43m)\u001b[49m\n\u001b[1;32m     16\u001b[0m l \u001b[38;5;241m=\u001b[39m passages[l\u001b[38;5;241m-\u001b[39m\u001b[38;5;241m1\u001b[39m]\n\u001b[1;32m     18\u001b[0m wKeys \u001b[38;5;241m=\u001b[39m [[\u001b[38;5;241m1\u001b[39m,x] \u001b[38;5;28;01mfor\u001b[39;00m x \u001b[38;5;129;01min\u001b[39;00m \u001b[38;5;28mrange\u001b[39m(\u001b[38;5;28mlen\u001b[39m(model\u001b[38;5;241m.\u001b[39mpeople))]\n",
      "File \u001b[0;32m~/code/clue/nbs/clue/ui.py:164\u001b[0m, in \u001b[0;36mchooseKey\u001b[0;34m(keys, playerID, game, moves)\u001b[0m\n\u001b[1;32m    159\u001b[0m     \u001b[38;5;28mprint\u001b[39m(base)\n\u001b[1;32m    160\u001b[0m     i\u001b[38;5;241m+\u001b[39m\u001b[38;5;241m=\u001b[39m\u001b[38;5;241m1\u001b[39m\n\u001b[0;32m--> 164\u001b[0m keyChoice \u001b[38;5;241m=\u001b[39m \u001b[38;5;28mint\u001b[39m(\u001b[38;5;28;43minput\u001b[39;49m\u001b[43m(\u001b[49m\u001b[38;5;124;43m\"\u001b[39;49m\u001b[38;5;124;43mChoose from 1 to \u001b[39;49m\u001b[38;5;124;43m\"\u001b[39;49m\u001b[43m \u001b[49m\u001b[38;5;241;43m+\u001b[39;49m\u001b[43m  \u001b[49m\u001b[38;5;28;43mstr\u001b[39;49m\u001b[43m(\u001b[49m\u001b[38;5;28;43mlen\u001b[39;49m\u001b[43m(\u001b[49m\u001b[43mkeys\u001b[49m\u001b[43m)\u001b[49m\u001b[43m)\u001b[49m\u001b[38;5;241;43m+\u001b[39;49m\u001b[38;5;124;43m\"\u001b[39;49m\u001b[38;5;124;43m: \u001b[39;49m\u001b[38;5;124;43m\"\u001b[39;49m\u001b[43m)\u001b[49m)\n\u001b[1;32m    166\u001b[0m \u001b[38;5;28;01mif\u001b[39;00m (keyChoice \u001b[38;5;241m>\u001b[39m \u001b[38;5;241m0\u001b[39m) \u001b[38;5;129;01mand\u001b[39;00m (keyChoice \u001b[38;5;241m<\u001b[39m\u001b[38;5;241m=\u001b[39m \u001b[38;5;28mlen\u001b[39m(keys)):\n\u001b[1;32m    167\u001b[0m     \u001b[38;5;28;01mreturn\u001b[39;00m keyChoice\n",
      "File \u001b[0;32m~/anaconda3/envs/clue/lib/python3.11/site-packages/ipykernel/kernelbase.py:1177\u001b[0m, in \u001b[0;36mKernel.raw_input\u001b[0;34m(self, prompt)\u001b[0m\n\u001b[1;32m   1173\u001b[0m \u001b[38;5;28;01mif\u001b[39;00m \u001b[38;5;129;01mnot\u001b[39;00m \u001b[38;5;28mself\u001b[39m\u001b[38;5;241m.\u001b[39m_allow_stdin:\n\u001b[1;32m   1174\u001b[0m     \u001b[38;5;28;01mraise\u001b[39;00m StdinNotImplementedError(\n\u001b[1;32m   1175\u001b[0m         \u001b[38;5;124m\"\u001b[39m\u001b[38;5;124mraw_input was called, but this frontend does not support input requests.\u001b[39m\u001b[38;5;124m\"\u001b[39m\n\u001b[1;32m   1176\u001b[0m     )\n\u001b[0;32m-> 1177\u001b[0m \u001b[38;5;28;01mreturn\u001b[39;00m \u001b[38;5;28;43mself\u001b[39;49m\u001b[38;5;241;43m.\u001b[39;49m\u001b[43m_input_request\u001b[49m\u001b[43m(\u001b[49m\n\u001b[1;32m   1178\u001b[0m \u001b[43m    \u001b[49m\u001b[38;5;28;43mstr\u001b[39;49m\u001b[43m(\u001b[49m\u001b[43mprompt\u001b[49m\u001b[43m)\u001b[49m\u001b[43m,\u001b[49m\n\u001b[1;32m   1179\u001b[0m \u001b[43m    \u001b[49m\u001b[38;5;28;43mself\u001b[39;49m\u001b[38;5;241;43m.\u001b[39;49m\u001b[43m_parent_ident\u001b[49m\u001b[43m[\u001b[49m\u001b[38;5;124;43m\"\u001b[39;49m\u001b[38;5;124;43mshell\u001b[39;49m\u001b[38;5;124;43m\"\u001b[39;49m\u001b[43m]\u001b[49m\u001b[43m,\u001b[49m\n\u001b[1;32m   1180\u001b[0m \u001b[43m    \u001b[49m\u001b[38;5;28;43mself\u001b[39;49m\u001b[38;5;241;43m.\u001b[39;49m\u001b[43mget_parent\u001b[49m\u001b[43m(\u001b[49m\u001b[38;5;124;43m\"\u001b[39;49m\u001b[38;5;124;43mshell\u001b[39;49m\u001b[38;5;124;43m\"\u001b[39;49m\u001b[43m)\u001b[49m\u001b[43m,\u001b[49m\n\u001b[1;32m   1181\u001b[0m \u001b[43m    \u001b[49m\u001b[43mpassword\u001b[49m\u001b[38;5;241;43m=\u001b[39;49m\u001b[38;5;28;43;01mFalse\u001b[39;49;00m\u001b[43m,\u001b[49m\n\u001b[1;32m   1182\u001b[0m \u001b[43m\u001b[49m\u001b[43m)\u001b[49m\n",
      "File \u001b[0;32m~/anaconda3/envs/clue/lib/python3.11/site-packages/ipykernel/kernelbase.py:1219\u001b[0m, in \u001b[0;36mKernel._input_request\u001b[0;34m(self, prompt, ident, parent, password)\u001b[0m\n\u001b[1;32m   1216\u001b[0m             \u001b[38;5;28;01mbreak\u001b[39;00m\n\u001b[1;32m   1217\u001b[0m \u001b[38;5;28;01mexcept\u001b[39;00m \u001b[38;5;167;01mKeyboardInterrupt\u001b[39;00m:\n\u001b[1;32m   1218\u001b[0m     \u001b[38;5;66;03m# re-raise KeyboardInterrupt, to truncate traceback\u001b[39;00m\n\u001b[0;32m-> 1219\u001b[0m     \u001b[38;5;28;01mraise\u001b[39;00m \u001b[38;5;167;01mKeyboardInterrupt\u001b[39;00m(\u001b[38;5;124m\"\u001b[39m\u001b[38;5;124mInterrupted by user\u001b[39m\u001b[38;5;124m\"\u001b[39m) \u001b[38;5;28;01mfrom\u001b[39;00m \u001b[38;5;28mNone\u001b[39m\n\u001b[1;32m   1220\u001b[0m \u001b[38;5;28;01mexcept\u001b[39;00m \u001b[38;5;167;01mException\u001b[39;00m:\n\u001b[1;32m   1221\u001b[0m     \u001b[38;5;28mself\u001b[39m\u001b[38;5;241m.\u001b[39mlog\u001b[38;5;241m.\u001b[39mwarning(\u001b[38;5;124m\"\u001b[39m\u001b[38;5;124mInvalid Message:\u001b[39m\u001b[38;5;124m\"\u001b[39m, exc_info\u001b[38;5;241m=\u001b[39m\u001b[38;5;28;01mTrue\u001b[39;00m)\n",
      "\u001b[0;31mKeyboardInterrupt\u001b[0m: Interrupted by user"
     ]
    }
   ],
   "source": [
    "#| hide\n",
    "trace = []\n",
    "p1 = (\"player\",True,getPlay)\n",
    "s1 = (\"simple\",False,repeater([mimic(-1,rWalk) for x in range(4)]),True)\n",
    "b1 = (\"better\",False,repeater([mimic(-1,rWalk) for x in range(4)]),True)\n",
    "#s2 = #repeater([(\"simpleR\",False,mimic(-1,repelWalk)) for x in range(4)])\n",
    "#s3 = #repeater([(\"stay\",False,mimic(-1,biasWalk(1,0,2)))  for x in range(4)])\n",
    "b1 = #repeater([(\"better\",False,mimic(8,rWalk))  for x in range(4)])\n",
    "#d1 = #repeater([(\"deep\",False,mimic(20,rWalk))   for x in range(4)])\n",
    "hr = (\"halfRight\",False,halfRight(rWalk))\n",
    "strategies = [ s1,p1,s1,hr,hr] #hr,s1,p1,s1,s1]\n",
    "runVisualGame(strategies)"
   ]
  },
  {
   "cell_type": "code",
   "execution_count": null,
   "metadata": {},
   "outputs": [],
   "source": [
    "#| export\n",
    "def runGame( strats):\n",
    "    numPlayers = len(strats)\n",
    "    done = False\n",
    "    agame = model.createClue(numPlayers)\n",
    "    amoves = []\n",
    "    player = 1\n",
    "          \n",
    "    while not done:\n",
    "        #print(seenCounts(player,agame,amoves))\n",
    "        \n",
    "        stratName, isUser, strat = strats[player - 1]\n",
    "        \n",
    "        ans = strat(player,agame,amoves)\n",
    "        agame = model.relocatePlayers(player , ans[0],ans[2],agame)\n",
    "        check = model.getAnswer(player,agame,ans)\n",
    "        \n",
    "        if check[0] < 0:\n",
    "            seen =  model.getSeen(player,agame, amoves)\n",
    "            exclude  = set(seen)\n",
    "            done = True\n",
    "            for x in model.keysForGuess(ans):\n",
    "                if x in exclude:\n",
    "                    done = False\n",
    "            \n",
    "        else:\n",
    "            #(p,w,l,playerNum, c,y[0],y[1])\n",
    "            card = check[-1]\n",
    "            \n",
    "            amoves.append(check)\n",
    "\n",
    "        if not done:\n",
    "            player = player + 1\n",
    "            if player - 1 >= numPlayers:\n",
    "               player = 1 \n",
    "    \n",
    "    return player, agame , amoves\n"
   ]
  },
  {
   "cell_type": "code",
   "execution_count": null,
   "metadata": {},
   "outputs": [],
   "source": [
    "#| hide\n",
    "s1 = (\"simple\",False,mimic(-1,rWalk))\n",
    "b1 = (\"better\",False,mimic(2,rWalk))\n",
    "d1 =(\"deep\",False,mimic(8,rWalk))\n",
    "c1 = (\"cheater\",False,cheater(repelWalk))\n",
    "s2 = (\"simpleR\",False,mimic(4,rWalk))\n",
    "hr = (\"halfRight\",False,halfRight(rWalk))\n",
    "s3 = (\"stay\",False,mimic(-1,biasWalk(1,0,2)))\n",
    "sleft =  (\"sleft\",False,mimic(-1,biasWalk(1,0,0)))\n",
    "strategies = [s1, s2,b1,b1,d1,s3]\n",
    "strategies = [s3, s2,sleft,s3]\n",
    "counts = [0 for x in range(len(strategies))]\n",
    "for c  in range(1000):\n",
    "    p, g, m = runGame(strategies)\n",
    "    counts[p-1] += 1\n",
    "\n",
    "m = zip([x[0] for x in strategies],counts)\n",
    "for x in m:\n",
    "    print(x)"
   ]
  },
  {
   "cell_type": "code",
   "execution_count": null,
   "metadata": {},
   "outputs": [],
   "source": [
    "#| hide\n",
    "chooseCard(rooms,cardFull)"
   ]
  },
  {
   "cell_type": "code",
   "execution_count": null,
   "metadata": {},
   "outputs": [],
   "source": [
    "#| hide\n",
    "import nbdev; nbdev.nbdev_export()"
   ]
  }
 ],
 "metadata": {
  "kernelspec": {
   "display_name": "Python 3 (ipykernel)",
   "language": "python",
   "name": "python3"
  },
  "language_info": {
   "codemirror_mode": {
    "name": "ipython",
    "version": 3
   },
   "file_extension": ".py",
   "mimetype": "text/x-python",
   "name": "python",
   "nbconvert_exporter": "python",
   "pygments_lexer": "ipython3",
   "version": "3.11.0"
  }
 },
 "nbformat": 4,
 "nbformat_minor": 4
}
