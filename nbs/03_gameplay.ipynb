{
 "cells": [
  {
   "cell_type": "markdown",
   "metadata": {},
   "source": [
    "# gameplay\n",
    "\n",
    "> Fill in a module description here"
   ]
  },
  {
   "cell_type": "code",
   "execution_count": null,
   "metadata": {},
   "outputs": [],
   "source": [
    "#| default_exp gameplay"
   ]
  },
  {
   "cell_type": "code",
   "execution_count": null,
   "metadata": {},
   "outputs": [
    {
     "ename": "ModuleNotFoundError",
     "evalue": "No module named 'nbdev'",
     "output_type": "error",
     "traceback": [
      "\u001b[0;31m---------------------------------------------------------------------------\u001b[0m",
      "\u001b[0;31mModuleNotFoundError\u001b[0m                       Traceback (most recent call last)",
      "\u001b[0;32m<ipython-input-1-e54b6621ff5b>\u001b[0m in \u001b[0;36m<module>\u001b[0;34m\u001b[0m\n\u001b[1;32m      1\u001b[0m \u001b[0;31m#| hide\u001b[0m\u001b[0;34m\u001b[0m\u001b[0;34m\u001b[0m\u001b[0;34m\u001b[0m\u001b[0m\n\u001b[0;32m----> 2\u001b[0;31m \u001b[0;32mfrom\u001b[0m \u001b[0mnbdev\u001b[0m\u001b[0;34m.\u001b[0m\u001b[0mshowdoc\u001b[0m \u001b[0;32mimport\u001b[0m \u001b[0;34m*\u001b[0m\u001b[0;34m\u001b[0m\u001b[0;34m\u001b[0m\u001b[0m\n\u001b[0m",
      "\u001b[0;31mModuleNotFoundError\u001b[0m: No module named 'nbdev'"
     ]
    }
   ],
   "source": [
    "#| hide\n",
    "from nbdev.showdoc import *"
   ]
  },
  {
   "cell_type": "code",
   "execution_count": null,
   "metadata": {},
   "outputs": [],
   "source": [
    "%load_ext autoreload\n"
   ]
  },
  {
   "cell_type": "code",
   "execution_count": null,
   "metadata": {},
   "outputs": [],
   "source": [
    "%autoreload 2"
   ]
  },
  {
   "cell_type": "code",
   "execution_count": null,
   "metadata": {},
   "outputs": [],
   "source": [
    "#| export\n",
    "import clue.model as model\n",
    "import clue.ui as ui\n",
    "from random import choice,shuffle,choices\n",
    "import os"
   ]
  },
  {
   "cell_type": "code",
   "execution_count": null,
   "metadata": {},
   "outputs": [],
   "source": [
    "#| hide\n",
    "stgame = model.createClue(4)\n",
    "stmoves = []"
   ]
  },
  {
   "cell_type": "code",
   "execution_count": null,
   "metadata": {},
   "outputs": [],
   "source": []
  },
  {
   "cell_type": "code",
   "execution_count": null,
   "metadata": {},
   "outputs": [],
   "source": [
    "\n",
    "\n"
   ]
  },
  {
   "cell_type": "code",
   "execution_count": null,
   "metadata": {},
   "outputs": [],
   "source": [
    "#| export\n",
    "def getPlay(pc,game, moves):\n",
    "    \n",
    "    \n",
    "\n",
    "    ui.showBoard(pc,game,moves)\n",
    "    playerRoom = model.roomOf(pc,game)\n",
    "    passages = model.roomsAround(playerRoom)\n",
    "    locs = [[3,x] for x in passages ]\n",
    "    print(\"Move to Room:\\n\")\n",
    " \n",
    "    l = ui.chooseKey(locs,pc,game,moves)\n",
    "    l = passages[l-1]\n",
    "\n",
    "    wKeys = [[1,x] for x in range(len(model.people))]\n",
    "    p = ui.chooseKey(wKeys,1,game,moves) - 1\n",
    "\n",
    "    wKeys = [[2,x] for x in range(len(model.weapons))]\n",
    "    w = ui.chooseKey(wKeys,1,game,moves) - 1\n",
    "\n",
    "    return p, w, l\n",
    "\n"
   ]
  },
  {
   "cell_type": "code",
   "execution_count": null,
   "metadata": {},
   "outputs": [],
   "source": [
    "#| hide\n",
    "stguess = getPlay(1,stgame,stmoves)\n",
    "print(ui.showChoice(stguess))\n",
    "def seenCounts(pc,game, moves):\n",
    "    knoweledge = getSeen(pc,game, moves)\n",
    "    p = [0,0,0]\n",
    "    for x in knoweledge:\n",
    "        i = int(x/100) -1\n",
    "        p[i] += 1\n",
    "\n",
    "    return p"
   ]
  },
  {
   "cell_type": "code",
   "execution_count": null,
   "metadata": {},
   "outputs": [],
   "source": [
    "#| export\n",
    "\n",
    "\n",
    "\n",
    "\n",
    "def simpleGuess(pc,game, moves):\n",
    "\n",
    "\n",
    "    playerRoom = model.roomOf(pc,game)\n",
    "    exclude  = set(model.getSeen(pc,game, moves))\n",
    "    \n",
    "    pdeck = [model.keyCard(1,x) for x in range(len(model.people))]\n",
    "    pdeck = [x for x in  pdeck if x not in exclude]\n",
    "    p = choice(pdeck)%100\n",
    "    \n",
    "    pdeck = [model.keyCard(2,x) for x in range(len(model.weapons))]\n",
    "    pdeck = [x for x in pdeck if x not in exclude]\n",
    "    w = choice(pdeck)%100\n",
    "    \n",
    "    pdeck = [model.keyCard(3,x) for x in model.roomsAround(playerRoom)]\n",
    "    rdeck = [x for x in  pdeck if x not in exclude]\n",
    "    \n",
    "    if len(rdeck) == 0:\n",
    "        l = pdeck[0]%100\n",
    "    else:\n",
    "        l = choice(rdeck)%100\n",
    "    \n",
    "    return (p,w,l)\n"
   ]
  },
  {
   "cell_type": "code",
   "execution_count": null,
   "metadata": {},
   "outputs": [],
   "source": [
    "#| export\n",
    "def itemGuess(type,moves):\n",
    "    if type == 1:\n",
    "        l = len(model.people)\n",
    "    if type == 2:\n",
    "        l = len(model.weapons)\n",
    "    if type == 3:\n",
    "        l = len(model.rooms)\n",
    "    ret = [1 for x in range(l)]\n",
    "    for x in moves:\n",
    "        ret[x[type]] += 1\n",
    "    print(ret)\n",
    "    return ret\n",
    "    \n",
    "\n",
    "\n",
    "def betterGuess(pc,game, moves):\n",
    "\n",
    "\n",
    "    playerRoom = model.roomOf(pc,game)\n",
    "    exclude  = set(model.getSeen(pc,game, moves))\n",
    "    \n",
    "    pdeck = [model.keyCard(1,x) for x in range(len(model.people))]\n",
    "    pdeck = [x for x in  pdeck if x not in exclude]\n",
    "    pC = itemGuess(1,moves)\n",
    "    pWeights = [pC[x%100] for x in  pdeck if x not in exclude]\n",
    "    p = choices(pdeck,weights=pWeights)\n",
    "    p = p[0]%100\n",
    "    \n",
    "    pdeck = [model.keyCard(2,x) for x in range(len(model.weapons))]\n",
    "    pdeck = [x for x in pdeck if x not in exclude]\n",
    "    pC = itemGuess(2,moves)\n",
    "    pWeights = [pC[x%100] for x in  pdeck if x not in exclude]\n",
    "    w = choices(pdeck,weights=pWeights)[0]%100\n",
    "    \n",
    "    pdeck = [model.keyCard(3,x) for x in model.roomsAround(playerRoom)]\n",
    "    rdeck = [x for x in  pdeck if x not in exclude]\n",
    "    \n",
    "    if len(rdeck) == 0:\n",
    "        l = pdeck[0]%100\n",
    "    else:\n",
    "        l = choice(rdeck)%100\n",
    "    \n",
    "    return (p,w,l)"
   ]
  },
  {
   "cell_type": "code",
   "execution_count": null,
   "metadata": {},
   "outputs": [],
   "source": []
  },
  {
   "cell_type": "code",
   "execution_count": null,
   "metadata": {},
   "outputs": [],
   "source": []
  },
  {
   "cell_type": "code",
   "execution_count": null,
   "metadata": {},
   "outputs": [],
   "source": []
  },
  {
   "cell_type": "code",
   "execution_count": null,
   "metadata": {},
   "outputs": [],
   "source": []
  },
  {
   "cell_type": "markdown",
   "metadata": {},
   "source": [
    "## Visual"
   ]
  },
  {
   "cell_type": "code",
   "execution_count": null,
   "metadata": {},
   "outputs": [],
   "source": [
    "\n"
   ]
  },
  {
   "cell_type": "code",
   "execution_count": null,
   "metadata": {},
   "outputs": [],
   "source": [
    "#| export\n",
    "def playerName(i):\n",
    "    return ui.cardFull(model.cardLookup(1,i-1))\n",
    "    \n",
    "def runVisualGame(numPlayers, strats):\n",
    "    done = False\n",
    "    agame = model.createClue(4)\n",
    "    amoves = []\n",
    "    player = 1\n",
    "    lastM = [\"\" for x in range(numPlayers)]\n",
    "   \n",
    "             \n",
    "    while not done:\n",
    "        #print(seenCounts(player,agame,amoves))\n",
    "        \n",
    "        stratName, isUser, strat = strats[player - 1]\n",
    "        \n",
    "        if isUser:\n",
    "            #ui.printPlayerHand(player,agame)\n",
    "            print(lastM[player-1])\n",
    "        \n",
    "        ans = strat(player,agame,amoves)\n",
    "        if isUser:\n",
    "            pass\n",
    "            #os.system(\"clear\")\n",
    "        agame = model.relocatePlayers(player , ans[0],ans[2],agame)\n",
    "        print( playerName(player) + \" suspects \" + ui.showChoice(ans)+\".\")\n",
    "        check = model.getAnswer(player,agame,ans)\n",
    "        \n",
    "        if check[0] < 0:\n",
    "            seen =  model.getSeen(player,agame, amoves)\n",
    "            exclude  = set(seen)\n",
    "            done = True\n",
    "            for x in model.keysForGuess(ans):\n",
    "                if x in exclude:\n",
    "                    print(\"\\n\\n gave a false one \" +  ui.cardFull(model.keyLookUp(x))+\"!\")\n",
    "                    done = False\n",
    "            \n",
    "        else:\n",
    "            #(p,w,l,playerNum, c,y[0],y[1])\n",
    "            card = check[-1]\n",
    "            \n",
    "            amoves.append(check)\n",
    "            if isUser:\n",
    "                msg = playerName(check[-2]) + \" has \" + ui.cardFull(model.keyLookUp(card))+\"!\"\n",
    "            else:\n",
    "                msg = playerName(check[-2]) + \" responds.\"\n",
    "            print(msg)\n",
    "            lastM[player-1] = msg\n",
    "            \n",
    "            player = player + 1\n",
    "            if player - 1 >=len(strats):\n",
    "               player = 1 \n",
    "    \n",
    "    print(\"\\n\" + playerName(player) + \" won!\")\n",
    "    ui.printGame(agame) "
   ]
  },
  {
   "cell_type": "code",
   "execution_count": null,
   "metadata": {},
   "outputs": [
    {
     "name": "stdout",
     "output_type": "stream",
     "text": [
      "\n",
      "╒══════════════╤═══════════════╤══════════════╕\n",
      "│ 3) Ball Room │ Billiard Room │ Conservatory │\n",
      "│    \u001b[32mG\u001b[0m         │               │    \u001b[33mM\u001b[0m         │\n",
      "├──────────────┼───────────────┼──────────────┤\n",
      "│ Study        │               │ \u001b[31mDining Room\u001b[0m  │\n",
      "│              │               │    \u001b[37mW\u001b[0m         │\n",
      "├──────────────┼───────────────┼──────────────┤\n",
      "│ 2) \u001b[31mLibrary\u001b[0m   │               │ Hall         │\n",
      "│    \u001b[31mS\u001b[0m         │               │    \u001b[34mP\u001b[0m         │\n",
      "├──────────────┼───────────────┼──────────────┤\n",
      "│              │ 1) Lounge     │ Kitchen      │\n",
      "│              │    \u001b[35mP\u001b[0m          │              │\n",
      "╘══════════════╧═══════════════╧══════════════╛\n",
      "Move to Room:\n",
      "\n",
      "1 \u001b[30mLounge\u001b[0m\n",
      "2 \u001b[30mLibrary\u001b[0m\n",
      "3 \u001b[30mBall Room\u001b[0m\n"
     ]
    },
    {
     "name": "stdin",
     "output_type": "stream",
     "text": [
      "Choose from 1 to 3:  2\n"
     ]
    },
    {
     "name": "stdout",
     "output_type": "stream",
     "text": [
      "1 👠 \u001b[31mMiss Scarlet\u001b[0m\n",
      "2 🧐 \u001b[33mColonel Mustard\u001b[0m\n",
      "3 ♡ \u001b[37m Mrs. White\u001b[0m\n",
      "4 🐉 \u001b[32mMr. Green\u001b[0m\n",
      "5 🍆 \u001b[35mProfessor Plum\u001b[0m\n",
      "6 🦚 \u001b[34mMrs. Peacock\u001b[0m\n"
     ]
    },
    {
     "name": "stdin",
     "output_type": "stream",
     "text": [
      "Choose from 1 to 6:  3\n"
     ]
    },
    {
     "name": "stdout",
     "output_type": "stream",
     "text": [
      "1*🔪 \u001b[36mKnife\u001b[0m\n",
      "2 🔫 \u001b[36mRevolver\u001b[0m\n",
      "3*🪢 \u001b[36mRope\u001b[0m\n",
      "4 🔧 \u001b[36mWrench\u001b[0m\n",
      "5*🕯️ \u001b[36mCandlestick\u001b[0m\n",
      "6 🪠 \u001b[36mLead Pipe\u001b[0m\n"
     ]
    },
    {
     "name": "stdin",
     "output_type": "stream",
     "text": [
      "Choose from 1 to 6:  2\n"
     ]
    },
    {
     "name": "stdout",
     "output_type": "stream",
     "text": [
      "👠 \u001b[31mMiss Scarlet\u001b[0m suspects ♡ \u001b[37m Mrs. White\u001b[0m with the 🔫 \u001b[36mRevolver\u001b[0m in the \u001b[30mLibrary\u001b[0m.\n",
      "🧐 \u001b[33mColonel Mustard\u001b[0m has \u001b[30mLibrary\u001b[0m!\n",
      "🧐 \u001b[33mColonel Mustard\u001b[0m suspects 🧐 \u001b[33mColonel Mustard\u001b[0m with the 🔫 \u001b[36mRevolver\u001b[0m in the \u001b[30mBilliard Room\u001b[0m.\n",
      "♡ \u001b[37m Mrs. White\u001b[0m responds.\n",
      "[1, 3, 1, 1, 1, 1]\n"
     ]
    },
    {
     "ename": "IndexError",
     "evalue": "list index out of range",
     "output_type": "error",
     "traceback": [
      "\u001b[0;31m---------------------------------------------------------------------------\u001b[0m",
      "\u001b[0;31mIndexError\u001b[0m                                Traceback (most recent call last)",
      "Cell \u001b[0;32mIn[25], line 3\u001b[0m\n\u001b[1;32m      1\u001b[0m \u001b[38;5;66;03m#| hide\u001b[39;00m\n\u001b[1;32m      2\u001b[0m strategies \u001b[38;5;241m=\u001b[39m [(\u001b[38;5;124m\"\u001b[39m\u001b[38;5;124muser\u001b[39m\u001b[38;5;124m\"\u001b[39m,\u001b[38;5;28;01mTrue\u001b[39;00m,getPlay),(\u001b[38;5;124m\"\u001b[39m\u001b[38;5;124msimple\u001b[39m\u001b[38;5;124m\"\u001b[39m,\u001b[38;5;28;01mFalse\u001b[39;00m,simpleGuess),(\u001b[38;5;124m\"\u001b[39m\u001b[38;5;124mbetter\u001b[39m\u001b[38;5;124m\"\u001b[39m,\u001b[38;5;28;01mFalse\u001b[39;00m,betterGuess)]\n\u001b[0;32m----> 3\u001b[0m runVisualGame(\u001b[38;5;241m4\u001b[39m,strategies)\n",
      "Cell \u001b[0;32mIn[14], line 22\u001b[0m, in \u001b[0;36mrunVisualGame\u001b[0;34m(numPlayers, strats)\u001b[0m\n\u001b[1;32m     18\u001b[0m \u001b[38;5;28;01mif\u001b[39;00m isUser:\n\u001b[1;32m     19\u001b[0m     \u001b[38;5;66;03m#ui.printPlayerHand(player,agame)\u001b[39;00m\n\u001b[1;32m     20\u001b[0m     \u001b[38;5;28mprint\u001b[39m(lastM[player\u001b[38;5;241m-\u001b[39m\u001b[38;5;241m1\u001b[39m])\n\u001b[0;32m---> 22\u001b[0m ans \u001b[38;5;241m=\u001b[39m strat(player,agame,amoves)\n\u001b[1;32m     23\u001b[0m \u001b[38;5;28;01mif\u001b[39;00m isUser:\n\u001b[1;32m     24\u001b[0m     \u001b[38;5;28;01mpass\u001b[39;00m\n",
      "Cell \u001b[0;32mIn[24], line 32\u001b[0m, in \u001b[0;36mbetterGuess\u001b[0;34m(pc, game, moves)\u001b[0m\n\u001b[1;32m     30\u001b[0m pdeck \u001b[38;5;241m=\u001b[39m [model\u001b[38;5;241m.\u001b[39mkeyCard(\u001b[38;5;241m2\u001b[39m,x) \u001b[38;5;28;01mfor\u001b[39;00m x \u001b[38;5;129;01min\u001b[39;00m \u001b[38;5;28mrange\u001b[39m(\u001b[38;5;28mlen\u001b[39m(model\u001b[38;5;241m.\u001b[39mweapons))]\n\u001b[1;32m     31\u001b[0m pdeck \u001b[38;5;241m=\u001b[39m [x \u001b[38;5;28;01mfor\u001b[39;00m x \u001b[38;5;129;01min\u001b[39;00m pdeck \u001b[38;5;28;01mif\u001b[39;00m x \u001b[38;5;129;01mnot\u001b[39;00m \u001b[38;5;129;01min\u001b[39;00m exclude]\n\u001b[0;32m---> 32\u001b[0m pC \u001b[38;5;241m=\u001b[39m itemGuess(\u001b[38;5;241m2\u001b[39m,moves)\n\u001b[1;32m     33\u001b[0m pWeights \u001b[38;5;241m=\u001b[39m [pC[x\u001b[38;5;241m%\u001b[39m\u001b[38;5;241m100\u001b[39m] \u001b[38;5;28;01mfor\u001b[39;00m x \u001b[38;5;129;01min\u001b[39;00m  pdeck \u001b[38;5;28;01mif\u001b[39;00m x \u001b[38;5;129;01mnot\u001b[39;00m \u001b[38;5;129;01min\u001b[39;00m exclude]\n\u001b[1;32m     34\u001b[0m w \u001b[38;5;241m=\u001b[39m choices(pdeck,weights\u001b[38;5;241m=\u001b[39mpWeights)[\u001b[38;5;241m0\u001b[39m]\u001b[38;5;241m%\u001b[39m\u001b[38;5;241m100\u001b[39m\n",
      "Cell \u001b[0;32mIn[24], line 11\u001b[0m, in \u001b[0;36mitemGuess\u001b[0;34m(type, moves)\u001b[0m\n\u001b[1;32m      9\u001b[0m ret \u001b[38;5;241m=\u001b[39m [\u001b[38;5;241m1\u001b[39m \u001b[38;5;28;01mfor\u001b[39;00m x \u001b[38;5;129;01min\u001b[39;00m \u001b[38;5;28mrange\u001b[39m(l)]\n\u001b[1;32m     10\u001b[0m \u001b[38;5;28;01mfor\u001b[39;00m x \u001b[38;5;129;01min\u001b[39;00m moves:\n\u001b[0;32m---> 11\u001b[0m     ret[x[\u001b[38;5;28mtype\u001b[39m]] \u001b[38;5;241m+\u001b[39m\u001b[38;5;241m=\u001b[39m \u001b[38;5;241m1\u001b[39m\n\u001b[1;32m     12\u001b[0m \u001b[38;5;28mprint\u001b[39m(ret)\n\u001b[1;32m     13\u001b[0m \u001b[38;5;28;01mreturn\u001b[39;00m ret\n",
      "\u001b[0;31mIndexError\u001b[0m: list index out of range"
     ]
    }
   ],
   "source": [
    "#| hide\n",
    "strategies = [(\"user\",True,getPlay),(\"simple\",False,simpleGuess),(\"better\",False,betterGuess)]\n",
    "runVisualGame(4,strategies)"
   ]
  },
  {
   "cell_type": "code",
   "execution_count": null,
   "metadata": {},
   "outputs": [],
   "source": [
    "\n"
   ]
  },
  {
   "cell_type": "code",
   "execution_count": null,
   "metadata": {},
   "outputs": [
    {
     "name": "stdout",
     "output_type": "stream",
     "text": [
      "Solution\n",
      "🦚 \u001b[34mMrs. Peacock\u001b[0m, 🪢 \u001b[36mRope\u001b[0m, \u001b[30mLounge\u001b[0m\n",
      "\n",
      "          [1] 👠 \u001b[31mMiss Scarlet\u001b[0m is in \u001b[30mLibrary\u001b[0m          \n",
      "🔫 \u001b[36mRevolver\u001b[0m, 🔪 \u001b[36mKnife\u001b[0m, \u001b[30mHall\u001b[0m, 🐉 \u001b[32mMr. Green\u001b[0m, \u001b[30mBall Room\u001b[0m\n",
      "\n",
      "        [2] 🧐 \u001b[33mColonel Mustard\u001b[0m is in \u001b[30mLibrary\u001b[0m         \n",
      "\u001b[30mKitchen\u001b[0m, \u001b[30mStudy\u001b[0m, \u001b[30mConservatory\u001b[0m, 🧐 \u001b[33mColonel Mustard\u001b[0m, \u001b[30mBilliard Room\u001b[0m\n",
      "\n",
      "       [3] ♡ \u001b[37m Mrs. White\u001b[0m is in \u001b[30mBilliard Room\u001b[0m        \n",
      "🔧 \u001b[36mWrench\u001b[0m, \u001b[30mDining Room\u001b[0m, ♡ \u001b[37m Mrs. White\u001b[0m, \u001b[30mLibrary\u001b[0m\n",
      "\n",
      "            [4] 🐉 \u001b[32mMr. Green\u001b[0m is in \u001b[30mLounge\u001b[0m            \n",
      "🪠 \u001b[36mLead Pipe\u001b[0m, 👠 \u001b[31mMiss Scarlet\u001b[0m, 🍆 \u001b[35mProfessor Plum\u001b[0m, 🕯️ \u001b[36mCandlestick\u001b[0m\n"
     ]
    }
   ],
   "source": [
    "#| hide\n",
    "printGame(agame) "
   ]
  },
  {
   "cell_type": "code",
   "execution_count": null,
   "metadata": {},
   "outputs": [],
   "source": [
    "#| hide\n",
    "chooseCard(rooms,cardFull)"
   ]
  },
  {
   "cell_type": "code",
   "execution_count": null,
   "metadata": {},
   "outputs": [],
   "source": [
    "#| hide\n",
    "import nbdev; nbdev.nbdev_export()"
   ]
  }
 ],
 "metadata": {
  "kernelspec": {
   "display_name": "python3",
   "language": "python",
   "name": "python3"
  }
 },
 "nbformat": 4,
 "nbformat_minor": 4
}
