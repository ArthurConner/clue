{
 "cells": [
  {
   "cell_type": "markdown",
   "metadata": {},
   "source": [
    "# gameplay\n",
    "\n",
    "> Fill in a module description here"
   ]
  },
  {
   "cell_type": "code",
   "execution_count": null,
   "metadata": {},
   "outputs": [],
   "source": [
    "#| default_exp gameplay"
   ]
  },
  {
   "cell_type": "code",
   "execution_count": 1,
   "metadata": {},
   "outputs": [],
   "source": [
    "#| hide\n",
    "from nbdev.showdoc import *"
   ]
  },
  {
   "cell_type": "code",
   "execution_count": 2,
   "metadata": {},
   "outputs": [],
   "source": [
    "%load_ext autoreload\n"
   ]
  },
  {
   "cell_type": "code",
   "execution_count": 3,
   "metadata": {},
   "outputs": [],
   "source": [
    "%autoreload 2"
   ]
  },
  {
   "cell_type": "code",
   "execution_count": 4,
   "metadata": {},
   "outputs": [],
   "source": [
    "#| export\n",
    "import clue.model as model\n",
    "import clue.ui as ui\n",
    "from random import choice,shuffle,choices\n",
    "import os"
   ]
  },
  {
   "cell_type": "code",
   "execution_count": 5,
   "metadata": {},
   "outputs": [],
   "source": [
    "#| hide\n",
    "stgame = model.createClue(4)\n",
    "stmoves = []"
   ]
  },
  {
   "cell_type": "code",
   "execution_count": null,
   "metadata": {},
   "outputs": [],
   "source": []
  },
  {
   "cell_type": "code",
   "execution_count": null,
   "metadata": {},
   "outputs": [],
   "source": [
    "\n",
    "\n"
   ]
  },
  {
   "cell_type": "code",
   "execution_count": 6,
   "metadata": {},
   "outputs": [],
   "source": [
    "#| export\n",
    "def getPlay(pc,game, moves):\n",
    "    \n",
    "    \n",
    "\n",
    "    ui.showBoard(pc,game,moves)\n",
    "    playerRoom = model.roomOf(pc,game)\n",
    "    passages = model.roomsAround(playerRoom)\n",
    "    locs = [[3,x] for x in passages ]\n",
    "    print(\"Move to Room:\\n\")\n",
    " \n",
    "    l = ui.chooseKey(locs,pc,game,moves)\n",
    "    l = passages[l-1]\n",
    "\n",
    "    wKeys = [[1,x] for x in range(len(model.people))]\n",
    "    p = ui.chooseKey(wKeys,1,game,moves) - 1\n",
    "\n",
    "    wKeys = [[2,x] for x in range(len(model.weapons))]\n",
    "    w = ui.chooseKey(wKeys,1,game,moves) - 1\n",
    "\n",
    "    return p, w, l\n",
    "\n"
   ]
  },
  {
   "cell_type": "code",
   "execution_count": 7,
   "metadata": {},
   "outputs": [
    {
     "name": "stdout",
     "output_type": "stream",
     "text": [
      "╒══════════════╤══════════════════╤══════════════╕\n",
      "│ 2) Ball Room │ 3) Billiard Room │ Conservatory │\n",
      "│    S         │    P             │    P         │\n",
      "├──────────────┼──────────────────┼──────────────┤\n",
      "│ 1) Study     │                  │ Dining Room  │\n",
      "│    G         │                  │              │\n",
      "├──────────────┼──────────────────┼──────────────┤\n",
      "│ Library      │                  │ Hall         │\n",
      "│    W         │                  │              │\n",
      "├──────────────┼──────────────────┼──────────────┤\n",
      "│              │ Lounge           │ Kitchen      │\n",
      "│              │                  │    M         │\n",
      "╘══════════════╧══════════════════╧══════════════╛\n",
      "Move to Room:\n",
      "\n",
      "1 Study\n",
      "2 Ball Room\n",
      "3*Billiard Room\n"
     ]
    },
    {
     "name": "stdin",
     "output_type": "stream",
     "text": [
      "Choose from 1 to 3:  2\n"
     ]
    },
    {
     "name": "stdout",
     "output_type": "stream",
     "text": [
      "1 👠 Miss Scarlet\n",
      "2 🧐 Colonel Mustard\n",
      "3*♡  Mrs. White\n",
      "4*🐉 Mr. Green\n",
      "5 🍆 Professor Plum\n",
      "6 🦚 Mrs. Peacock\n"
     ]
    },
    {
     "name": "stdin",
     "output_type": "stream",
     "text": [
      "Choose from 1 to 6:  3\n"
     ]
    },
    {
     "name": "stdout",
     "output_type": "stream",
     "text": [
      "1 🔪 Knife\n",
      "2*🔫 Revolver\n",
      "3 🪢 Rope\n",
      "4 🔧 Wrench\n",
      "5 🕯️ Candlestick\n",
      "6 🪠 Lead Pipe\n"
     ]
    },
    {
     "name": "stdin",
     "output_type": "stream",
     "text": [
      "Choose from 1 to 6:  1\n"
     ]
    },
    {
     "name": "stdout",
     "output_type": "stream",
     "text": [
      "♡  Mrs. White with the 🔪 Knife in the Ball Room\n"
     ]
    }
   ],
   "source": [
    "#| hide\n",
    "stguess = getPlay(1,stgame,stmoves)\n",
    "print(ui.showChoice(stguess))\n",
    "def seenCounts(pc,game, moves):\n",
    "    knoweledge = getSeen(pc,game, moves)\n",
    "    p = [0,0,0]\n",
    "    for x in knoweledge:\n",
    "        i = int(x/100) -1\n",
    "        p[i] += 1\n",
    "\n",
    "    return p"
   ]
  },
  {
   "cell_type": "code",
   "execution_count": 8,
   "metadata": {},
   "outputs": [],
   "source": [
    "#| export\n",
    "\n",
    "\n",
    "\n",
    "\n",
    "def simpleGuess(pc,game, moves):\n",
    "\n",
    "\n",
    "    playerRoom = model.roomOf(pc,game)\n",
    "    exclude  = set(model.getSeen(pc,game, moves))\n",
    "    \n",
    "    pdeck = [model.keyCard(1,x) for x in range(len(model.people))]\n",
    "    pdeck = [x for x in  pdeck if x not in exclude]\n",
    "    p = choice(pdeck)%100\n",
    "    \n",
    "    pdeck = [model.keyCard(2,x) for x in range(len(model.weapons))]\n",
    "    pdeck = [x for x in pdeck if x not in exclude]\n",
    "    w = choice(pdeck)%100\n",
    "    \n",
    "    pdeck = [model.keyCard(3,x) for x in model.roomsAround(playerRoom)]\n",
    "    rdeck = [x for x in  pdeck if x not in exclude]\n",
    "    \n",
    "    if len(rdeck) == 0:\n",
    "        l = pdeck[0]%100\n",
    "    else:\n",
    "        l = choice(rdeck)%100\n",
    "    \n",
    "    return (p,w,l)\n"
   ]
  },
  {
   "cell_type": "code",
   "execution_count": 105,
   "metadata": {},
   "outputs": [],
   "source": [
    "#| export\n",
    "\n",
    "def itemsForType(t):\n",
    "    if t == 1:\n",
    "        return model.people\n",
    "    if t == 2:\n",
    "        return model.weapons\n",
    "    return model.rooms\n",
    "        \n",
    "def itemGuess(t,moves):\n",
    "    l = itemsForType(t)\n",
    "\n",
    "    ret = [1 for x in range(len(l))]\n",
    "    for x in moves:\n",
    "        ret[x[t-1]] += 1\n",
    "    #print(ret)\n",
    "    return ret\n",
    "    \n",
    "def showCounts(t,moves):\n",
    "    items = itemGuess(t,moves)\n",
    "    base = itemsForType(t)\n",
    "    #print(items,base)\n",
    "    for i in range(len(items)):\n",
    "        print(i,ui.cardFull(base[i]),items[i])\n",
    "    \n",
    "\n",
    "def betterGuess(pc,game, moves):\n",
    "    memory = 3\n",
    "\n",
    "    playerRoom = model.roomOf(pc,game)\n",
    "    exclude  = set(model.getSeen(pc,game, moves))\n",
    "    \n",
    "    examine = moves[-memory:]\n",
    "    #examine = []\n",
    "    \n",
    "    keydeck = [model.keyCard(1,x) for x in range(len(model.people))]\n",
    "    pdeck = [x for x in  keydeck if x not in exclude]\n",
    "    pC = itemGuess(1,examine)\n",
    "    pWeights = [pC[x%100] * pC[x%100] for x in  keydeck if x not in exclude]\n",
    "    \n",
    "    p = choices(pdeck,weights=pWeights)\n",
    "    p = p[0]%100\n",
    "    \n",
    "    keydeck = [model.keyCard(2,x) for x in range(len(model.weapons))]\n",
    "    pdeck = [x for x in keydeck if x not in exclude]\n",
    "    pC = itemGuess(2,examine)\n",
    "    pWeights = [pC[x%100] * pC[x%100] for x in  keydeck if x not in exclude]\n",
    "    \n",
    "    w = choices(pdeck,weights=pWeights)[0]%100\n",
    "    \n",
    "    pdeck = [model.keyCard(3,x) for x in model.roomsAround(playerRoom)]\n",
    "    rdeck = [x for x in  pdeck if x not in exclude]\n",
    "    \n",
    "    if len(rdeck) == 0:\n",
    "        l = pdeck[0]%100\n",
    "    else:\n",
    "        l = choice(rdeck)%100\n",
    "    \n",
    "    return (p,w,l)\n",
    "\n",
    "def deepGuess(pc,game, moves):\n",
    "    memory = 20\n",
    "\n",
    "    playerRoom = model.roomOf(pc,game)\n",
    "    exclude  = set(model.getSeen(pc,game, moves))\n",
    "    \n",
    "    keydeck = [model.keyCard(1,x) for x in range(len(model.people))]\n",
    "    pdeck = [x for x in  keydeck if x not in exclude]\n",
    "    pC = itemGuess(1,moves[-memory:])\n",
    "    pWeights = [pC[x%100] for x in  keydeck if x not in exclude]\n",
    "    p = choices(pdeck,weights=pWeights)\n",
    "    p = p[0]%100\n",
    "    \n",
    "    keydeck = [model.keyCard(2,x) for x in range(len(model.weapons))]\n",
    "    pdeck = [x for x in keydeck if x not in exclude]\n",
    "    pC = itemGuess(2,moves[-memory:])\n",
    "    pWeights = [pC[x%100] for x in  keydeck if x not in exclude]\n",
    "    w = choices(pdeck,weights=pWeights)[0]%100\n",
    "    \n",
    "    pdeck = [model.keyCard(3,x) for x in model.roomsAround(playerRoom)]\n",
    "    rdeck = [x for x in  pdeck if x not in exclude]\n",
    "    \n",
    "    if len(rdeck) == 0:\n",
    "        l = pdeck[0]%100\n",
    "    else:\n",
    "        l = choice(rdeck)%100\n",
    "    \n",
    "    return (p,w,l)"
   ]
  },
  {
   "cell_type": "code",
   "execution_count": 33,
   "metadata": {},
   "outputs": [
    {
     "data": {
      "text/plain": [
       "[1, 2, 3, 4, 5]"
      ]
     },
     "execution_count": 33,
     "metadata": {},
     "output_type": "execute_result"
    }
   ],
   "source": []
  },
  {
   "cell_type": "code",
   "execution_count": null,
   "metadata": {},
   "outputs": [],
   "source": []
  },
  {
   "cell_type": "code",
   "execution_count": null,
   "metadata": {},
   "outputs": [],
   "source": []
  },
  {
   "cell_type": "code",
   "execution_count": null,
   "metadata": {},
   "outputs": [],
   "source": []
  },
  {
   "cell_type": "markdown",
   "metadata": {},
   "source": [
    "## Visual"
   ]
  },
  {
   "cell_type": "code",
   "execution_count": null,
   "metadata": {},
   "outputs": [],
   "source": [
    "\n"
   ]
  },
  {
   "cell_type": "code",
   "execution_count": 89,
   "metadata": {},
   "outputs": [],
   "source": [
    "#| export\n",
    "def playerName(i):\n",
    "    return ui.cardFull(model.cardLookup(1,i-1))\n",
    "    \n",
    "def runVisualGame( strats):\n",
    "    numPlayers = len(strats)\n",
    "    done = False\n",
    "    agame = model.createClue(numPlayers)\n",
    "    amoves = []\n",
    "    player = 1\n",
    "    lastM = [\"\" for x in range(numPlayers)]\n",
    "   \n",
    "             \n",
    "    while not done:\n",
    "        #print(seenCounts(player,agame,amoves))\n",
    "        \n",
    "        stratName, isUser, strat = strats[player - 1]\n",
    "        \n",
    "        if isUser:\n",
    "            ui.printPlayerHand(player,agame)\n",
    "            #showCounts(1,amoves)\n",
    "            #showCounts(2,amoves)\n",
    "            print(lastM[player-1])\n",
    "        \n",
    "        ans = strat(player,agame,amoves)\n",
    "        if isUser:\n",
    "            pass\n",
    "            #os.system(\"clear\")\n",
    "        agame = model.relocatePlayers(player , ans[0],ans[2],agame)\n",
    "        print( playerName(player) + \" suspects \" + ui.showChoice(ans)+\".\")\n",
    "        check = model.getAnswer(player,agame,ans)\n",
    "        \n",
    "        if check[0] < 0:\n",
    "            seen =  model.getSeen(player,agame, amoves)\n",
    "            exclude  = set(seen)\n",
    "            done = True\n",
    "            for x in model.keysForGuess(ans):\n",
    "                if x in exclude:\n",
    "                    print(\"\\n\\n gave a false one \" +  ui.cardFull(model.keyLookUp(x))+\"!\")\n",
    "                    done = False\n",
    "            \n",
    "        else:\n",
    "            #(p,w,l,playerNum, c,y[0],y[1])\n",
    "            card = check[-1]\n",
    "            \n",
    "            amoves.append(check)\n",
    "            if isUser:\n",
    "                msg = playerName(check[-2]) + \" has \" + ui.cardFull(model.keyLookUp(card))+\"!\"\n",
    "            else:\n",
    "                msg = playerName(check[-2]) + \" responds.\"\n",
    "            print(msg)\n",
    "            lastM[player-1] = msg\n",
    "            \n",
    "            player = player + 1\n",
    "            if player - 1 >=len(strats):\n",
    "               player = 1 \n",
    "    \n",
    "    print(\"\\n\" + playerName(player) + \" won!\")\n",
    "    ui.printGame(agame) "
   ]
  },
  {
   "cell_type": "code",
   "execution_count": 93,
   "metadata": {},
   "outputs": [
    {
     "name": "stdout",
     "output_type": "stream",
     "text": [
      "👠 Miss Scarlet suspects ♡  Mrs. White with the 🔧 Wrench in the Conservatory.\n",
      "♡  Mrs. White responds.\n",
      "[1, 1, 1, 1, 1] [1, 1, 1, 1, 1, 1]\n",
      "[1, 1, 1, 1]\n",
      "🧐 Colonel Mustard suspects 🐉 Mr. Green with the 🪠 Lead Pipe in the Kitchen.\n",
      "👠 Miss Scarlet responds.\n",
      "♡  Mrs. White suspects 🐉 Mr. Green with the 🕯️ Candlestick in the Billiard Room.\n",
      "🧐 Colonel Mustard responds.\n",
      "👠 Miss Scarlet suspects 👠 Miss Scarlet with the 🔧 Wrench in the Billiard Room.\n",
      "🧐 Colonel Mustard responds.\n",
      "[1, 1, 1, 1, 1] [1, 1, 1, 1, 1, 1]\n",
      "[1, 1, 1, 1]\n",
      "🧐 Colonel Mustard suspects 🍆 Professor Plum with the 🔫 Revolver in the Hall.\n",
      "♡  Mrs. White responds.\n",
      "♡  Mrs. White suspects 🐉 Mr. Green with the 🪠 Lead Pipe in the Conservatory.\n",
      "👠 Miss Scarlet responds.\n",
      "👠 Miss Scarlet suspects 🍆 Professor Plum with the 🔧 Wrench in the Conservatory.\n",
      "♡  Mrs. White responds.\n",
      "[1, 1, 1, 1] [1, 1, 1, 1, 1, 1]\n",
      "[1, 1, 1, 1]\n",
      "🧐 Colonel Mustard suspects 🐉 Mr. Green with the 🪠 Lead Pipe in the Dining Room.\n",
      "👠 Miss Scarlet responds.\n",
      "♡  Mrs. White suspects 🐉 Mr. Green with the 🪢 Rope in the Dining Room.\n",
      "👠 Miss Scarlet responds.\n",
      "👠 Miss Scarlet suspects 🦚 Mrs. Peacock with the 🪢 Rope in the Conservatory.\n",
      "🧐 Colonel Mustard responds.\n",
      "[1, 1, 1, 1] [1, 1, 1, 1, 1, 1]\n",
      "[1, 1, 1]\n",
      "🧐 Colonel Mustard suspects ♡  Mrs. White with the 🔧 Wrench in the Dining Room.\n",
      "♡  Mrs. White responds.\n",
      "♡  Mrs. White suspects 🐉 Mr. Green with the 🕯️ Candlestick in the Hall.\n",
      "👠 Miss Scarlet responds.\n",
      "👠 Miss Scarlet suspects 🧐 Colonel Mustard with the 🔪 Knife in the Conservatory.\n",
      "🧐 Colonel Mustard responds.\n",
      "[1, 1, 1] [1, 1, 1, 1, 1, 1]\n",
      "[1, 1, 1]\n",
      "🧐 Colonel Mustard suspects 🦚 Mrs. Peacock with the 🔫 Revolver in the Conservatory.\n",
      "♡  Mrs. White responds.\n",
      "♡  Mrs. White suspects 🧐 Colonel Mustard with the 🔫 Revolver in the Kitchen.\n",
      "👠 Miss Scarlet responds.\n",
      "👠 Miss Scarlet suspects 👠 Miss Scarlet with the 🕯️ Candlestick in the Conservatory.\n",
      "🧐 Colonel Mustard responds.\n",
      "[1, 1] [1, 1, 1, 1, 1, 1]\n",
      "[1, 1, 1]\n",
      "🧐 Colonel Mustard suspects 🐉 Mr. Green with the 🔧 Wrench in the Hall.\n",
      "👠 Miss Scarlet responds.\n",
      "♡  Mrs. White suspects 🐉 Mr. Green with the 🕯️ Candlestick in the Kitchen.\n",
      "👠 Miss Scarlet responds.\n",
      "👠 Miss Scarlet suspects 🦚 Mrs. Peacock with the 🔪 Knife in the Conservatory.\n",
      "♡  Mrs. White responds.\n",
      "[1, 1] [1, 1, 1, 1, 1, 1]\n",
      "[1, 1, 1]\n",
      "🧐 Colonel Mustard suspects 👠 Miss Scarlet with the 🔪 Knife in the Dining Room.\n",
      "♡  Mrs. White responds.\n",
      "♡  Mrs. White suspects 🐉 Mr. Green with the 🪢 Rope in the Lounge.\n",
      "👠 Miss Scarlet responds.\n",
      "👠 Miss Scarlet suspects 👠 Miss Scarlet with the 🔪 Knife in the Conservatory.\n",
      "♡  Mrs. White responds.\n",
      "[1] [1, 1, 1, 1, 1, 1]\n",
      "[1, 1, 1]\n",
      "🧐 Colonel Mustard suspects 🐉 Mr. Green with the 🔧 Wrench in the Dining Room.\n",
      "👠 Miss Scarlet responds.\n",
      "♡  Mrs. White suspects 🐉 Mr. Green with the 🕯️ Candlestick in the Library.\n",
      "🧐 Colonel Mustard responds.\n",
      "👠 Miss Scarlet suspects 🐉 Mr. Green with the 🔧 Wrench in the Conservatory.\n",
      "\n",
      "👠 Miss Scarlet won!\n",
      "Solution\n",
      "🐉 Mr. Green, 🔧 Wrench, Conservatory\n",
      "\n",
      "                [1] 👠 Miss Scarlet is in Conservatory                 \n",
      "Lounge, Hall, Dining Room, 🪠 Lead Pipe, Kitchen, 🔫 Revolver\n",
      "\n",
      "               [2] 🧐 Colonel Mustard is in Dining Room                \n",
      "Library, 🕯️ Candlestick, Billiard Room, 🪢 Rope, Study, 🧐 Colonel Mustard\n",
      "\n",
      "                   [3] ♡  Mrs. White is in Library                    \n",
      "🦚 Mrs. Peacock, 🍆 Professor Plum, 👠 Miss Scarlet, Ball Room, ♡  Mrs. White, 🔪 Knife\n"
     ]
    }
   ],
   "source": [
    "#| hide\n",
    "s1 = (\"simple\",False,simpleGuess)\n",
    "b1 = (\"better\",False,betterGuess)\n",
    "d1 =(\"deep\",False,deepGuess)\n",
    "strategies = [ s1,b1,s1]\n",
    "runVisualGame(strategies)"
   ]
  },
  {
   "cell_type": "code",
   "execution_count": 92,
   "metadata": {},
   "outputs": [],
   "source": [
    "def runGame( strats):\n",
    "    numPlayers = len(strats)\n",
    "    done = False\n",
    "    agame = model.createClue(numPlayers)\n",
    "    amoves = []\n",
    "    player = 1\n",
    "          \n",
    "    while not done:\n",
    "        #print(seenCounts(player,agame,amoves))\n",
    "        \n",
    "        stratName, isUser, strat = strats[player - 1]\n",
    "        \n",
    "        ans = strat(player,agame,amoves)\n",
    "        agame = model.relocatePlayers(player , ans[0],ans[2],agame)\n",
    "        check = model.getAnswer(player,agame,ans)\n",
    "        \n",
    "        if check[0] < 0:\n",
    "            seen =  model.getSeen(player,agame, amoves)\n",
    "            exclude  = set(seen)\n",
    "            done = True\n",
    "            for x in model.keysForGuess(ans):\n",
    "                if x in exclude:\n",
    "                    done = False\n",
    "            \n",
    "        else:\n",
    "            #(p,w,l,playerNum, c,y[0],y[1])\n",
    "            card = check[-1]\n",
    "            \n",
    "            amoves.append(check)\n",
    "            \n",
    "            player = player + 1\n",
    "            if player - 1 >= numPlayers:\n",
    "               player = 1 \n",
    "    \n",
    "    return player, agame , amoves\n"
   ]
  },
  {
   "cell_type": "code",
   "execution_count": 127,
   "metadata": {},
   "outputs": [
    {
     "data": {
      "text/plain": [
       "[568, 1054, 993, 1014, 923, 448]"
      ]
     },
     "execution_count": 127,
     "metadata": {},
     "output_type": "execute_result"
    }
   ],
   "source": [
    "#| hide\n",
    "s1 = (\"simple\",False,simpleGuess)\n",
    "b1 = (\"better\",False,betterGuess)\n",
    "d1 =(\"deep\",False,deepGuess)\n",
    "strategies = [s1, d1,b1,b1,d1,s1]\n",
    "counts = [0 for x in range(len(strategies))]\n",
    "for c  in range(5000):\n",
    "    p, g, m = runGame(strategies)\n",
    "    counts[p-1] += 1\n",
    "counts"
   ]
  },
  {
   "cell_type": "code",
   "execution_count": null,
   "metadata": {},
   "outputs": [],
   "source": [
    "#| hide\n",
    "chooseCard(rooms,cardFull)"
   ]
  },
  {
   "cell_type": "code",
   "execution_count": null,
   "metadata": {},
   "outputs": [],
   "source": [
    "#| hide\n",
    "import nbdev; nbdev.nbdev_export()"
   ]
  }
 ],
 "metadata": {
  "kernelspec": {
   "display_name": "Python 3 (ipykernel)",
   "language": "python",
   "name": "python3"
  },
  "language_info": {
   "codemirror_mode": {
    "name": "ipython",
    "version": 3
   },
   "file_extension": ".py",
   "mimetype": "text/x-python",
   "name": "python",
   "nbconvert_exporter": "python",
   "pygments_lexer": "ipython3",
   "version": "3.11.0"
  }
 },
 "nbformat": 4,
 "nbformat_minor": 4
}
