{
 "cells": [
  {
   "cell_type": "markdown",
   "metadata": {},
   "source": [
    "# gameplay\n",
    "\n",
    "> Fill in a module description here"
   ]
  },
  {
   "cell_type": "code",
   "execution_count": null,
   "metadata": {},
   "outputs": [],
   "source": [
    "#| default_exp gameplay"
   ]
  },
  {
   "cell_type": "code",
   "execution_count": null,
   "metadata": {},
   "outputs": [],
   "source": [
    "#| hide\n",
    "from nbdev.showdoc import *"
   ]
  },
  {
   "cell_type": "code",
   "execution_count": null,
   "metadata": {},
   "outputs": [],
   "source": [
    "%load_ext autoreload\n"
   ]
  },
  {
   "cell_type": "code",
   "execution_count": null,
   "metadata": {},
   "outputs": [],
   "source": [
    "%autoreload 2"
   ]
  },
  {
   "cell_type": "code",
   "execution_count": null,
   "metadata": {},
   "outputs": [
    {
     "name": "stdout",
     "output_type": "stream",
     "text": [
      "Intel MKL WARNING: Support of Intel(R) Streaming SIMD Extensions 4.2 (Intel(R) SSE4.2) enabled only processors has been deprecated. Intel oneAPI Math Kernel Library 2025.0 will require Intel(R) Advanced Vector Extensions (Intel(R) AVX) instructions.\n",
      "Intel MKL WARNING: Support of Intel(R) Streaming SIMD Extensions 4.2 (Intel(R) SSE4.2) enabled only processors has been deprecated. Intel oneAPI Math Kernel Library 2025.0 will require Intel(R) Advanced Vector Extensions (Intel(R) AVX) instructions.\n"
     ]
    }
   ],
   "source": [
    "#| export\n",
    "import clue.model as model\n",
    "import clue.ui as ui\n",
    "from random import choice,shuffle,choices\n",
    "import os"
   ]
  },
  {
   "cell_type": "code",
   "execution_count": null,
   "metadata": {},
   "outputs": [],
   "source": [
    "#| hide\n",
    "stgame = model.createClue(4)\n",
    "stmoves = []"
   ]
  },
  {
   "cell_type": "code",
   "execution_count": null,
   "metadata": {},
   "outputs": [],
   "source": []
  },
  {
   "cell_type": "code",
   "execution_count": null,
   "metadata": {},
   "outputs": [],
   "source": [
    "\n",
    "\n"
   ]
  },
  {
   "cell_type": "code",
   "execution_count": null,
   "metadata": {},
   "outputs": [],
   "source": [
    "#| export\n",
    "def getPlay(pc,game, moves):\n",
    "    \n",
    "    \n",
    "\n",
    "    ui.showBoard(pc,game,moves)\n",
    "    playerRoom = model.roomOf(pc,game)\n",
    "    passages = model.roomsAround(playerRoom)\n",
    "    locs = [[3,x] for x in passages ]\n",
    "    verb = choice([\"totter\",\"walk\",\"stumble\",\"staggar\",\"rush\",\"dash\",\"race\",\"sprint\"])\n",
    "\n",
    "\n",
    "    print(model.people[pc-1][2] + \" will \" + verb + \" to:\\n\")\n",
    " \n",
    "    l = ui.chooseKey(locs,pc,game,moves)\n",
    "    l = passages[l-1]\n",
    "\n",
    "    p, w = ui.choosePandW(pc,game,moves)\n",
    "    \n",
    "\n",
    "\n",
    "    return p-1, w-1, l\n",
    "\n"
   ]
  },
  {
   "cell_type": "code",
   "execution_count": null,
   "metadata": {},
   "outputs": [
    {
     "name": "stdout",
     "output_type": "stream",
     "text": [
      "╒═══════════╤══════════════════╤═════════════════╕\n",
      "│ Ball Room │ 1) Billiard Room │ 2) Conservatory │\n",
      "│           │    \u001b[35mP\u001b[0m             │    \u001b[31mS\u001b[0m            │\n",
      "├───────────┼──────────────────┼─────────────────┤\n",
      "│ \u001b[31mStudy\u001b[0m     │                  │ 3) \u001b[31mDining Room\u001b[0m  │\n",
      "│    \u001b[37mW\u001b[0m      │                  │                 │\n",
      "├───────────┼──────────────────┼─────────────────┤\n",
      "│ Library   │                  │ Hall            │\n",
      "│           │                  │    \u001b[34mP\u001b[0m            │\n",
      "├───────────┼──────────────────┼─────────────────┤\n",
      "│           │ Lounge           │ \u001b[31mKitchen\u001b[0m         │\n",
      "│           │    \u001b[33mM\u001b[0m             │    \u001b[32mG\u001b[0m            │\n",
      "╘═══════════╧══════════════════╧═════════════════╛\n",
      "👠 will stumble to:\n",
      "\n",
      "1 \u001b[36mBilliard Room\u001b[0m\n",
      "2 \u001b[36mConservatory\u001b[0m\n",
      "3*\u001b[36mDining Room\u001b[0m\n"
     ]
    },
    {
     "name": "stdin",
     "output_type": "stream",
     "text": [
      "Choose from 1 to 3:  3\n"
     ]
    },
    {
     "name": "stdout",
     "output_type": "stream",
     "text": [
      "    People              Weapons\n",
      "--  ------------------  -------------\n",
      " 1  👠 \u001b[31mMiss Scarlet\u001b[0m     🔪 \u001b[36mKnife\u001b[0m\n",
      " 2  🧐 \u001b[33mColonel Mustard\u001b[0m  🔫 \u001b[36mRevolver\u001b[0m\n",
      " 3  *🥼 \u001b[37m Mrs. White\u001b[0m     🪢 \u001b[36mRope\u001b[0m\n",
      " 4  🐉 \u001b[32mMr. Green\u001b[0m        *🔧 \u001b[36mWrench\u001b[0m\n",
      " 5  🍆 \u001b[35mProfessor Plum\u001b[0m   🕯️ \u001b[36mCandlestick\u001b[0m\n",
      " 6  🦚 \u001b[34mMrs. Peacock\u001b[0m     🪠 \u001b[36mLead Pipe\u001b[0m\n"
     ]
    },
    {
     "name": "stdin",
     "output_type": "stream",
     "text": [
      " 2 4\n"
     ]
    },
    {
     "name": "stdout",
     "output_type": "stream",
     "text": [
      "🧐 \u001b[33mColonel Mustard\u001b[0m with the 🔧 \u001b[36mWrench\u001b[0m in the \u001b[36mDining Room\u001b[0m\n"
     ]
    }
   ],
   "source": [
    "pgame = model.createClue(5)\n",
    "print(ui.showChoice(getPlay(1,pgame,[])))"
   ]
  },
  {
   "cell_type": "code",
   "execution_count": null,
   "metadata": {},
   "outputs": [],
   "source": [
    "#| hide\n",
    "#stguess = getPlay(1,stgame,stmoves)\n",
    "#print(ui.showChoice(stguess))\n",
    "def seenCounts(pc,game, moves):\n",
    "    knoweledge = getSeen(pc,game, moves)\n",
    "    p = [0,0,0]\n",
    "    for x in knoweledge:\n",
    "        i = int(x/100) -1\n",
    "        p[i] += 1\n",
    "\n",
    "    return p"
   ]
  },
  {
   "cell_type": "code",
   "execution_count": null,
   "metadata": {},
   "outputs": [],
   "source": [
    "#| hide\n",
    "#stguess = getPlay(2,stgame,stmoves)"
   ]
  },
  {
   "cell_type": "code",
   "execution_count": null,
   "metadata": {},
   "outputs": [],
   "source": [
    "#| export\n",
    "\n",
    "\n",
    "\n",
    "\n",
    "def simpleGuess(pc,game, moves):\n",
    "\n",
    "\n",
    "    playerRoom = model.roomOf(pc,game)\n",
    "    exclude  = set(model.getSeen(pc,game, moves))\n",
    "    \n",
    "    pdeck = [model.keyCard(1,x) for x in range(len(model.people))]\n",
    "    pdeck = [x for x in  pdeck if x not in exclude]\n",
    "    p = choice(pdeck)%100\n",
    "    \n",
    "    pdeck = [model.keyCard(2,x) for x in range(len(model.weapons))]\n",
    "    pdeck = [x for x in pdeck if x not in exclude]\n",
    "    w = choice(pdeck)%100\n",
    "    \n",
    "    pdeck = [model.keyCard(3,x) for x in model.roomsAround(playerRoom)]\n",
    "    rdeck = [x for x in  pdeck if x not in exclude]\n",
    "    \n",
    "    if len(rdeck) == 0:\n",
    "        l = pdeck[0]%100\n",
    "    else:\n",
    "        l = choice(rdeck)%100\n",
    "    \n",
    "    return (p,w,l)\n"
   ]
  },
  {
   "cell_type": "code",
   "execution_count": null,
   "metadata": {},
   "outputs": [],
   "source": [
    "#| export\n",
    "\n",
    "def itemsForType(t):\n",
    "    if t == 1:\n",
    "        return model.people\n",
    "    if t == 2:\n",
    "        return model.weapons\n",
    "    return model.rooms\n",
    "        \n",
    "def itemGuess(t,moves):\n",
    "    l = itemsForType(t)\n",
    "\n",
    "    ret = [1 for x in range(len(l))]\n",
    "    for x in moves:\n",
    "        ret[x[t-1]] += 1\n",
    "    #print(ret)\n",
    "    return ret\n",
    "    \n",
    "def showCounts(t,moves):\n",
    "    items = itemGuess(t,moves)\n",
    "    base = itemsForType(t)\n",
    "    #print(items,base)\n",
    "    for i in range(len(items)):\n",
    "        print(i,ui.cardFull(base[i]),items[i])\n",
    "\n",
    "\n",
    "                              \n",
    "\n",
    "\n"
   ]
  },
  {
   "cell_type": "code",
   "execution_count": null,
   "metadata": {},
   "outputs": [],
   "source": [
    "#| export\n",
    "def biasWalk(a,b,c):\n",
    "    \n",
    "    def bWalk(exclude,pc,game, moves):\n",
    "        playerRoom = model.roomOf(pc,game) \n",
    "        dest = model.roomsAround(playerRoom)\n",
    "        if model.keyCard(3,dest[a]) not in exclude:\n",
    "            return dest[a]%100\n",
    "        if model.keyCard(3,dest[b]) not in exclude:\n",
    "            return dest[b]%100\n",
    "        \n",
    "        return dest[c]%100\n",
    "    return bWalk\n",
    "    \n",
    " "
   ]
  },
  {
   "cell_type": "code",
   "execution_count": null,
   "metadata": {},
   "outputs": [],
   "source": [
    "#| export\n",
    "def rWalk(exclude,pc,game, moves):\n",
    "    playerRoom = model.roomOf(pc,game)\n",
    "    pdeck = [model.keyCard(3,x) for x in model.roomsAround(playerRoom)]\n",
    "    rdeck = [x for x in  pdeck if x not in exclude]\n",
    "    \n",
    "    if len(rdeck) == 0:\n",
    "        l = pdeck[0]%100\n",
    "    else:\n",
    "        l = choice(rdeck)%100\n",
    "                              \n",
    "    return l"
   ]
  },
  {
   "cell_type": "code",
   "execution_count": null,
   "metadata": {},
   "outputs": [],
   "source": [
    "#| export\n",
    "\n",
    "\n",
    "def roomsAway(roomNum,roomSize):\n",
    "    foo = [x for x in range(roomSize)]\n",
    "    middle = int( roomSize / 2)\n",
    "    if roomNum <middle:\n",
    "        lm = foo[roomNum - int(middle):]\n",
    "        lSide = lm + foo[:roomNum] \n",
    "        lSide.reverse()\n",
    "        rSide = foo[roomNum + 1:roomNum + 1 + middle]\n",
    "    elif roomNum > middle:\n",
    "        lSide = foo[roomNum-middle:roomNum]\n",
    "        lSide.reverse()\n",
    "        rSide = foo[roomNum +1: ] + foo[:roomNum-middle]\n",
    "    else:\n",
    "        lSide = foo[:middle]\n",
    "        lSide.reverse()\n",
    "        rSide = foo[middle+1:]\n",
    "    return lSide, rSide\n",
    "\n",
    "def repelWalk(exclude,pc,game, moves):\n",
    "    playerRoom = model.roomOf(pc,game)\n",
    "    lRooms, rRooms = roomsAway(playerRoom,len(model.rooms))\n",
    "    #print(\"staring at \" + ui.cardFull(model.rooms[playerRoom]))\n",
    "    #print(playerRoom,lRooms,rRooms)\n",
    "    if not (model.keyCard(3,playerRoom) in exclude):\n",
    "     return playerRoom\n",
    "    #print(exclude)\n",
    "    def score(rooms):\n",
    "        rooms.reverse()\n",
    "        weights = []\n",
    "        cards = []\n",
    "        for i in range(len(rooms)):\n",
    "            r = rooms[i]\n",
    "            cards.append(str(model.keyCard(3,r)) + \" \" + model.rooms[r][0])\n",
    "            \n",
    "            if model.keyCard(3,r) in exclude:\n",
    "                w = 2**i\n",
    "                #print(i,w)\n",
    "                weights.append(w)\n",
    "            else:\n",
    "                weights.append(0)\n",
    "        #print(cards,weights)\n",
    "        return sum(weights)\n",
    "\n",
    "\n",
    "    lPull = score(lRooms)\n",
    "    rPull = score(rRooms)\n",
    "    #trace.append([playerRoom,lPull,rPull])\n",
    "    #print(trace)\n",
    "    #ui.showBoard(pc,game,moves)\n",
    "    achoice = model.roomsAround(playerRoom)\n",
    "    if lPull > rPull:\n",
    "        #print(\"to\" + ui.cardFull(model.rooms[achoice[2]]))\n",
    "        return achoice[2]\n",
    "    if lPull < rPull:\n",
    "        \n",
    "        #print(\"to\" + ui.cardFull(model.rooms[achoice[0]]))\n",
    "        return achoice[0]\n",
    "    #print(\"same\")    \n",
    "    return rWalk(exclude,pc,game, moves)\n"
   ]
  },
  {
   "cell_type": "code",
   "execution_count": null,
   "metadata": {},
   "outputs": [],
   "source": [
    "#| export\n",
    "def mimic(memory,walk):\n",
    "    def betterGuess(pc,game, moves):\n",
    "\n",
    "        exclude  = set(model.getSeen(pc,game, moves))\n",
    "\n",
    "        if memory < 0:\n",
    "            examine = []\n",
    "        else:\n",
    "            examine = moves[-memory:]\n",
    "\n",
    "\n",
    "        keydeck = [model.keyCard(1,x) for x in range(len(model.people))]\n",
    "        pdeck = [x for x in  keydeck if x not in exclude]\n",
    "        pC = itemGuess(1,examine)\n",
    "        pWeights = [pC[x%100] * pC[x%100] for x in  keydeck if x not in exclude]\n",
    "\n",
    "        p = choices(pdeck,weights=pWeights)\n",
    "        p = p[0]%100\n",
    "\n",
    "        keydeck = [model.keyCard(2,x) for x in range(len(model.weapons))]\n",
    "        pdeck = [x for x in keydeck if x not in exclude]\n",
    "        pC = itemGuess(2,examine)\n",
    "        pWeights = [pC[x%100] * pC[x%100] for x in  keydeck if x not in exclude]\n",
    "\n",
    "        w = choices(pdeck,weights=pWeights)[0]%100\n",
    "        \n",
    "        l = walk(exclude,pc,game, moves)\n",
    "\n",
    "        return (p,w,l)\n",
    "    \n",
    "    return betterGuess"
   ]
  },
  {
   "cell_type": "code",
   "execution_count": null,
   "metadata": {},
   "outputs": [],
   "source": [
    "#| export\n",
    "def cheater(walk):\n",
    "    def betterGuess(pc,game, moves):\n",
    "\n",
    " \n",
    "        exclude  = set(model.handOf(pc,game) +[x[-1] for x in moves] )\n",
    "\n",
    "       \n",
    "        examine = []\n",
    "   \n",
    "\n",
    "\n",
    "        keydeck = [model.keyCard(1,x) for x in range(len(model.people))]\n",
    "        pdeck = [x for x in  keydeck if x not in exclude]\n",
    "        pC = itemGuess(1,examine)\n",
    "        pWeights = [pC[x%100] * pC[x%100] for x in  keydeck if x not in exclude]\n",
    "\n",
    "        p = choices(pdeck,weights=pWeights)\n",
    "        p = p[0]%100\n",
    "\n",
    "        keydeck = [model.keyCard(2,x) for x in range(len(model.weapons))]\n",
    "        pdeck = [x for x in keydeck if x not in exclude]\n",
    "        pC = itemGuess(2,examine)\n",
    "        pWeights = [pC[x%100] * pC[x%100] for x in  keydeck if x not in exclude]\n",
    "\n",
    "        w = choices(pdeck,weights=pWeights)[0]%100\n",
    "        \n",
    "        l = walk(exclude,pc,game, moves)\n",
    "\n",
    "        return (p,w,l)\n",
    "    return betterGuess\n",
    "\n",
    "\n",
    "def halfRight(walk):\n",
    "    oracle = cheater(walk)\n",
    "    \n",
    "    def betterGuess(pc,game, moves):\n",
    "        p,w,l = oracle(pc,game, moves)\n",
    "        exclude  = model.handOf(pc,game) +[x[-1] for x in moves] \n",
    "        exclude = [x for x in exclude if x < 300]\n",
    "        \n",
    "\n",
    "        if len(exclude) <= 0:\n",
    "            return (p,w,l)\n",
    "\n",
    "        wrong = choice(exclude)\n",
    "        if wrong < 200:\n",
    "            p = wrong%100\n",
    "        else:\n",
    "            w = wrong%100\n",
    "\n",
    "        return (p,w,l)\n",
    "    return betterGuess"
   ]
  },
  {
   "cell_type": "code",
   "execution_count": null,
   "metadata": {},
   "outputs": [],
   "source": [
    "#| export\n",
    "\n",
    "def hasGuess(guess,moves):\n",
    "    p, w, l = guess[:3]\n",
    "    c = (p,w,l)\n",
    "    for x in moves:\n",
    "        p, w, l = x[:3]\n",
    "        xc = (p,w,l)\n",
    "        if c == xc:\n",
    "            return True\n",
    "    return False\n",
    "\n",
    "def repeater(strats,verbose=False):\n",
    "    def betterGuess(pc,game, moves):\n",
    "        counter = 0\n",
    "        for strat in strats:\n",
    "            \n",
    "            g =  strat(pc,game, moves)\n",
    "            if not hasGuess(g,moves):\n",
    "                if verbose and counter > 0:\n",
    "                    print(\"counter \" + str(counter))\n",
    "                return g\n",
    "            counter += 1\n",
    "                        \n",
    "        if verbose and counter > 0:\n",
    "            print(\" over counter \" + str(counter))\n",
    "        return strats[-1](pc,game, moves)\n",
    "                          \n",
    "    return betterGuess"
   ]
  },
  {
   "cell_type": "code",
   "execution_count": null,
   "metadata": {},
   "outputs": [
    {
     "data": {
      "text/plain": [
       "(3, 3, 6)"
      ]
     },
     "execution_count": null,
     "metadata": {},
     "output_type": "execute_result"
    }
   ],
   "source": [
    "r1 = repeater([mimic(1*(x+3),rWalk) for x in range(4)])\n",
    "rgame = model.createClue(4)\n",
    "r1(1,rgame,[])"
   ]
  },
  {
   "cell_type": "code",
   "execution_count": null,
   "metadata": {},
   "outputs": [],
   "source": []
  },
  {
   "cell_type": "code",
   "execution_count": null,
   "metadata": {},
   "outputs": [],
   "source": []
  },
  {
   "cell_type": "code",
   "execution_count": null,
   "metadata": {},
   "outputs": [],
   "source": []
  },
  {
   "cell_type": "markdown",
   "metadata": {},
   "source": [
    "## Visual"
   ]
  },
  {
   "cell_type": "code",
   "execution_count": null,
   "metadata": {},
   "outputs": [],
   "source": [
    "\n"
   ]
  },
  {
   "cell_type": "code",
   "execution_count": null,
   "metadata": {},
   "outputs": [],
   "source": [
    "#| export\n",
    "def playerName(i):\n",
    "    return ui.cardFull(model.cardLookup(1,i-1))\n",
    "    \n",
    "def runVisualGame( strats):\n",
    "    numPlayers = len(strats)\n",
    "    done = False\n",
    "    agame = model.createClue(numPlayers)\n",
    "    amoves = []\n",
    "    player = 1\n",
    "\n",
    "   \n",
    "             \n",
    "    while not done:\n",
    "        #print(seenCounts(player,agame,amoves))\n",
    "        \n",
    "        stratName, isUser, strat = strats[player - 1]\n",
    "        \n",
    "        if isUser:\n",
    "            #ui.showMoves(player,amoves[-numPlayers:],numPlayers)\n",
    "            ui.printPlayerHand(player,agame)\n",
    "            ui.showMoves(player,amoves[-numPlayers:],numPlayers)\n",
    "\n",
    "        #print(player,agame,amoves)\n",
    "        ans = strat(player,agame,amoves)\n",
    "        if isUser:\n",
    "            pass\n",
    "            #os.system(\"clear\")\n",
    "        agame = model.relocatePlayers(player , ans[0],ans[2],agame)\n",
    "        #print( playerName(player) + \" suspects \" + ui.showChoice(ans)+\".\")\n",
    "        check = model.getAnswer(player,agame,ans)\n",
    "        \n",
    "        if check[0] < 0:\n",
    "            seen =  model.getSeen(player,agame, amoves)\n",
    "            exclude  = set(seen)\n",
    "            done = True\n",
    "            for x in model.keysForGuess(ans):\n",
    "                if x in exclude:\n",
    "                    print(\"\\n\\n\" + playerName(player) + \" is not quite ready to accuse.\")\n",
    "                    done = False\n",
    "            \n",
    "        else:\n",
    "            #(p,w,l,playerNum, c,y[0],y[1])\n",
    "            card = check[-1]\n",
    "            \n",
    "            amoves.append(check)\n",
    "\n",
    "\n",
    "        if not done:\n",
    "            player = player + 1\n",
    "            if player - 1 >=len(strats):\n",
    "               player = 1 \n",
    "    \n",
    "    print(\"\\n\" + playerName(player) + \" \" + stratName + \" won!\")\n",
    "    ui.printGame(agame) \n",
    "    ui.showMoves(-1,amoves,numPlayers)\n",
    "    return agame, amoves"
   ]
  },
  {
   "cell_type": "code",
   "execution_count": null,
   "metadata": {},
   "outputs": [],
   "source": [
    "p1 = (\"player\",True,getPlay)\n",
    "s1 = (\"simple\",False,mimic(-1,rWalk))\n",
    "b1 = (\"better\",False,mimic(2,rWalk))\n",
    "d1 =(\"deep\",False,mimic(8,rWalk))\n",
    "c1 = (\"cheater\",False,cheater(repelWalk))\n",
    "s2 = (\"simpleR\",False,mimic(4,rWalk))\n",
    "hr = (\"halfRight\",False,halfRight(rWalk))\n",
    "s3 = (\"stay\",False,mimic(-1,biasWalk(1,0,2)))\n",
    "sleft =  (\"sleft\",False,mimic(-1,biasWalk(1,0,0)))\n",
    "strategies = [s1, s2,b1,b1,d1,s3]\n",
    "strategies = [s3, s2,sleft,s3]"
   ]
  },
  {
   "cell_type": "code",
   "execution_count": null,
   "metadata": {},
   "outputs": [
    {
     "name": "stdout",
     "output_type": "stream",
     "text": [
      "🔧 \u001b[36mWrench\u001b[0m, \u001b[36mHall\u001b[0m, 👠 \u001b[31mMiss Scarlet\u001b[0m, \u001b[36mLounge\u001b[0m\n",
      "👠  asks (🥼 &  🕯️ in the Hall) ---------->👠🧐🥼🐉🍆\n",
      "╒══════════════╤══════════════════╤═════════════════╕\n",
      "│ 1) Ball Room │ 2) Billiard Room │ 3) Conservatory │\n",
      "│    \u001b[34mP\u001b[0m         │    \u001b[31mS\u001b[0m, \u001b[33mM\u001b[0m, \u001b[37mW\u001b[0m       │                 │\n",
      "├──────────────┼──────────────────┼─────────────────┤\n",
      "│ Study        │                  │ Dining Room     │\n",
      "│    \u001b[32mG\u001b[0m         │                  │                 │\n",
      "├──────────────┼──────────────────┼─────────────────┤\n",
      "│ Library      │                  │ \u001b[31mHall\u001b[0m            │\n",
      "├──────────────┼──────────────────┼─────────────────┤\n",
      "│              │ \u001b[31mLounge\u001b[0m           │ Kitchen         │\n",
      "│              │    \u001b[35mP\u001b[0m             │                 │\n",
      "╘══════════════╧══════════════════╧═════════════════╛\n",
      "🧐 will rush to:\n",
      "\n",
      "1 \u001b[36mBall Room\u001b[0m\n",
      "2 \u001b[36mBilliard Room\u001b[0m           👠, 🧐, 🥼\n",
      "3 \u001b[36mConservatory\u001b[0m\n"
     ]
    }
   ],
   "source": [
    "#| hide\n",
    "\n",
    "strategies = [ s1,p1,s1,hr,hr] #hr,s1,p1,s1,s1]\n",
    "rgame, rmoves = runVisualGame(strategies)"
   ]
  },
  {
   "cell_type": "code",
   "execution_count": null,
   "metadata": {},
   "outputs": [
    {
     "name": "stdout",
     "output_type": "stream",
     "text": [
      "👠  asks (🥼 &  🔧 in the Dining Room) --->👠🧐🥼🐉 shows \u001b[36mDining Room\u001b[0m\n",
      "🧐  asks (🥼 &  🔧 in the Dining Room) --->❓🧐🥼❓ shows \u001b[36mKitchen\u001b[0m\n",
      "🥼  asks (🥼 &  🔧 in the Dining Room) --->❓❓🥼🐉 shows 🔧 \u001b[36mWrench\u001b[0m\n",
      "🐉  asks (🦚 &  🪢 in the Conservatory) -->👠🧐🥼🐉 shows \u001b[36mLounge\u001b[0m\n",
      "🍆  asks (🦚 &  🔧 in the Dining Room) --->👠🧐🥼❓ shows \u001b[36mHall\u001b[0m\n",
      "👠  asks (🍆 &  🔧 in the Dining Room) --->👠🧐🥼🐉 shows 🔧 \u001b[36mWrench\u001b[0m\n",
      "🧐  asks (🧐 &  🪢 in the Conservatory) -->❓🧐🥼❓ shows \u001b[36mHall\u001b[0m\n",
      "🥼  asks (🧐 &  🪢 in the Conservatory) -->❓❓🥼🐉 shows \u001b[36mDining Room\u001b[0m\n",
      "🐉  asks (🐉 &  🔧 in the Dining Room) --->👠❓❓🐉 shows \u001b[36mLibrary\u001b[0m\n",
      "🍆  asks (🐉 &  🔪 in the Ball Room) ----->👠🧐❓❓ shows 🐉 \u001b[32mMr. Green\u001b[0m\n",
      "👠  asks (🥼 &  🪢 in the Conservatory) -->👠🧐🥼❓ shows \u001b[36mBilliard Room\u001b[0m\n",
      "🧐  asks (🧐 &  🔧 in the Dining Room) --->❓🧐🥼🐉 shows 🔧 \u001b[36mWrench\u001b[0m\n"
     ]
    },
    {
     "ename": "KeyboardInterrupt",
     "evalue": "",
     "output_type": "error",
     "traceback": [
      "\u001b[0;31m---------------------------------------------------------------------------\u001b[0m",
      "\u001b[0;31mKeyboardInterrupt\u001b[0m                         Traceback (most recent call last)",
      "Cell \u001b[0;32mIn[45], line 1\u001b[0m\n\u001b[0;32m----> 1\u001b[0m ui\u001b[38;5;241m.\u001b[39mshowMoves(\u001b[38;5;241m-\u001b[39m\u001b[38;5;241m1\u001b[39m,rmoves,\u001b[38;5;241m4\u001b[39m)\n",
      "File \u001b[0;32m~/code/clue/ui/clue/nbs/clue/ui.py:129\u001b[0m, in \u001b[0;36mshowMoves\u001b[0;34m(pc, moves, plMax)\u001b[0m\n\u001b[1;32m    127\u001b[0m line \u001b[38;5;241m+\u001b[39m\u001b[38;5;241m=\u001b[39m \u001b[38;5;124m\"\u001b[39m\u001b[38;5;124m(\u001b[39m\u001b[38;5;124m\"\u001b[39m \u001b[38;5;241m+\u001b[39m model\u001b[38;5;241m.\u001b[39mpeople[p][\u001b[38;5;241m2\u001b[39m] \u001b[38;5;241m+\u001b[39m \u001b[38;5;124m\"\u001b[39m\u001b[38;5;124m &  \u001b[39m\u001b[38;5;124m\"\u001b[39m \u001b[38;5;241m+\u001b[39m model\u001b[38;5;241m.\u001b[39mweapons[w][\u001b[38;5;241m2\u001b[39m] \u001b[38;5;241m+\u001b[39m \u001b[38;5;124m\"\u001b[39m\u001b[38;5;124m in the \u001b[39m\u001b[38;5;124m\"\u001b[39m       \n\u001b[1;32m    128\u001b[0m line \u001b[38;5;241m+\u001b[39m\u001b[38;5;241m=\u001b[39m ( model\u001b[38;5;241m.\u001b[39mrooms[w][\u001b[38;5;241m0\u001b[39m] \u001b[38;5;241m+\u001b[39m\u001b[38;5;124m\"\u001b[39m\u001b[38;5;124m) \u001b[39m\u001b[38;5;124m\"\u001b[39m)\u001b[38;5;241m.\u001b[39mljust(\u001b[38;5;241m15\u001b[39m,\u001b[38;5;124m\"\u001b[39m\u001b[38;5;124m-\u001b[39m\u001b[38;5;124m\"\u001b[39m)\n\u001b[0;32m--> 129\u001b[0m line \u001b[38;5;241m+\u001b[39m\u001b[38;5;241m=\u001b[39m \u001b[38;5;124m\"\u001b[39m\u001b[38;5;124m->\u001b[39m\u001b[38;5;124m\"\u001b[39m \u001b[38;5;241m+\u001b[39m wrapL(asker,answered,plMax)\n\u001b[1;32m    130\u001b[0m \u001b[38;5;28;01mif\u001b[39;00m asker \u001b[38;5;241m==\u001b[39m pc \u001b[38;5;129;01mor\u001b[39;00m pc \u001b[38;5;241m<\u001b[39m \u001b[38;5;241m0\u001b[39m :\n\u001b[1;32m    132\u001b[0m     line \u001b[38;5;241m+\u001b[39m\u001b[38;5;241m=\u001b[39m \u001b[38;5;124m\"\u001b[39m\u001b[38;5;124m shows \u001b[39m\u001b[38;5;124m\"\u001b[39m \u001b[38;5;241m+\u001b[39m cardFull(model\u001b[38;5;241m.\u001b[39mcardLookup(\u001b[38;5;28mint\u001b[39m(shown\u001b[38;5;241m/\u001b[39m\u001b[38;5;241m100\u001b[39m),shown\u001b[38;5;241m%\u001b[39m\u001b[38;5;241m100\u001b[39m))\n",
      "File \u001b[0;32m~/code/clue/ui/clue/nbs/clue/ui.py:108\u001b[0m, in \u001b[0;36mwrapL\u001b[0;34m(s, f, l)\u001b[0m\n\u001b[1;32m    106\u001b[0m \u001b[38;5;28;01mif\u001b[39;00m s \u001b[38;5;241m>\u001b[39m l:\n\u001b[1;32m    107\u001b[0m     s \u001b[38;5;241m=\u001b[39m \u001b[38;5;241m1\u001b[39m\n\u001b[0;32m--> 108\u001b[0m \u001b[38;5;28;01mwhile\u001b[39;00m s \u001b[38;5;241m!=\u001b[39m f:\n\u001b[1;32m    109\u001b[0m     show\u001b[38;5;241m.\u001b[39madd(s\u001b[38;5;241m-\u001b[39m\u001b[38;5;241m1\u001b[39m)\n\u001b[1;32m    110\u001b[0m     s \u001b[38;5;241m+\u001b[39m\u001b[38;5;241m=\u001b[39m \u001b[38;5;241m1\u001b[39m\n",
      "\u001b[0;31mKeyboardInterrupt\u001b[0m: "
     ]
    }
   ],
   "source": [
    " ui.showMoves(-1,rmoves,4)"
   ]
  },
  {
   "cell_type": "code",
   "execution_count": null,
   "metadata": {},
   "outputs": [],
   "source": []
  },
  {
   "cell_type": "code",
   "execution_count": null,
   "metadata": {},
   "outputs": [],
   "source": [
    "#| export\n",
    "def keysForGuess(guess):\n",
    "    p,w,l = guess[:3]\n",
    "    h = [[1,p],[2,w],[3,l]]\n",
    "    h = [model.keyCard(x[0],x[1]) for x in h]\n",
    "    return h\n",
    "\n",
    "def responseToGuess(guess,asker,answered,shown):\n",
    "    p,w,l = guess\n",
    "    return (p,w,l,asker, answered,shown)\n",
    "def localgetAnswer(playerNum,game,guess):\n",
    "\n",
    "    h = keysForGuess(guess)\n",
    "    shuffle(h)\n",
    "    print(h)\n",
    "\n",
    "    playCount = len(game) - 1\n",
    "    \n",
    "    c = playerNum+1\n",
    "    \n",
    "    if c > playCount:\n",
    "        c = 1\n",
    "    while c != playerNum:\n",
    "        hand = game[c]\n",
    "        print(hand)\n",
    "        for y in h:\n",
    "            for x in hand:\n",
    "                 \n",
    "\n",
    "                if x == y :\n",
    "                    return responseToGuess(guess,playerNum,c,y)\n",
    "        c = c+1\n",
    "        if c >= playCount:\n",
    "            c = 1\n",
    "    return (-1,0,0)"
   ]
  },
  {
   "cell_type": "code",
   "execution_count": null,
   "metadata": {},
   "outputs": [],
   "source": []
  },
  {
   "cell_type": "code",
   "execution_count": null,
   "metadata": {},
   "outputs": [
    {
     "name": "stdout",
     "output_type": "stream",
     "text": [
      "[204, 103, 305]\n",
      "[306, 304, 305, 301]\n",
      "🧐  asks (🐉 &  🕯️ in the Hall) ---------->❓🧐🥼❓ shows \u001b[36mKitchen\u001b[0m\n"
     ]
    },
    {
     "data": {
      "text/plain": [
       "((3, 4, 5, 2, 3, 305), None)"
      ]
     },
     "execution_count": null,
     "metadata": {},
     "output_type": "execute_result"
    }
   ],
   "source": [
    "check = localgetAnswer(2,rgame,(3, 4, 5))\n",
    "check,  ui.showMoves(-1,[check],4)"
   ]
  },
  {
   "cell_type": "code",
   "execution_count": null,
   "metadata": {},
   "outputs": [],
   "source": [
    "#| export\n",
    "def runGame( strats):\n",
    "    numPlayers = len(strats)\n",
    "    done = False\n",
    "    agame = model.createClue(numPlayers)\n",
    "    amoves = []\n",
    "    player = 1\n",
    "          \n",
    "    while not done:\n",
    "        #print(seenCounts(player,agame,amoves))\n",
    "        \n",
    "        stratName, isUser, strat = strats[player - 1]\n",
    "        \n",
    "        ans = strat(player,agame,amoves)\n",
    "        agame = model.relocatePlayers(player , ans[0],ans[2],agame)\n",
    "        check = model.getAnswer(player,agame,ans)\n",
    "        \n",
    "        if check[0] < 0:\n",
    "            seen =  model.getSeen(player,agame, amoves)\n",
    "            exclude  = set(seen)\n",
    "            done = True\n",
    "            for x in model.keysForGuess(ans):\n",
    "                if x in exclude:\n",
    "                    done = False\n",
    "            \n",
    "        else:\n",
    "            #(p,w,l,playerNum, c,y[0],y[1])\n",
    "            card = check[-1]\n",
    "            \n",
    "            amoves.append(check)\n",
    "\n",
    "        if not done:\n",
    "            player = player + 1\n",
    "            if player - 1 >= numPlayers:\n",
    "               player = 1 \n",
    "    \n",
    "    return player, agame , amoves\n"
   ]
  },
  {
   "cell_type": "code",
   "execution_count": null,
   "metadata": {},
   "outputs": [],
   "source": [
    "#| hide\n",
    "s1 = (\"simple\",False,mimic(-1,rWalk))\n",
    "b1 = (\"better\",False,mimic(2,rWalk))\n",
    "d1 =(\"deep\",False,mimic(8,rWalk))\n",
    "c1 = (\"cheater\",False,cheater(repelWalk))\n",
    "s2 = (\"simpleR\",False,mimic(4,rWalk))\n",
    "hr = (\"halfRight\",False,halfRight(rWalk))\n",
    "s3 = (\"stay\",False,mimic(-1,biasWalk(1,0,2)))\n",
    "sleft =  (\"sleft\",False,mimic(-1,biasWalk(1,0,0)))\n",
    "strategies = [s1, s2,b1,b1,d1,s3]\n",
    "strategies = [s3, s2,sleft,s3]\n",
    "counts = [0 for x in range(len(strategies))]\n",
    "for c  in range(1000):\n",
    "    p, g, m = runGame(strategies)\n",
    "    counts[p-1] += 1\n",
    "\n",
    "m = zip([x[0] for x in strategies],counts)\n",
    "for x in m:\n",
    "    print(x)"
   ]
  },
  {
   "cell_type": "code",
   "execution_count": null,
   "metadata": {},
   "outputs": [],
   "source": [
    "#| hide\n",
    "chooseCard(rooms,cardFull)"
   ]
  },
  {
   "cell_type": "code",
   "execution_count": null,
   "metadata": {},
   "outputs": [],
   "source": [
    "#| hide\n",
    "import nbdev; nbdev.nbdev_export()"
   ]
  }
 ],
 "metadata": {
  "kernelspec": {
   "display_name": "python3",
   "language": "python",
   "name": "python3"
  }
 },
 "nbformat": 4,
 "nbformat_minor": 4
}
