{
 "cells": [
  {
   "cell_type": "markdown",
   "metadata": {},
   "source": [
    "# gameplay\n",
    "\n",
    "> Fill in a module description here"
   ]
  },
  {
   "cell_type": "code",
   "execution_count": null,
   "metadata": {},
   "outputs": [],
   "source": [
    "#| default_exp gameplay"
   ]
  },
  {
   "cell_type": "code",
   "execution_count": null,
   "metadata": {},
   "outputs": [],
   "source": [
    "#| hide\n",
    "from nbdev.showdoc import *"
   ]
  },
  {
   "cell_type": "code",
   "execution_count": null,
   "metadata": {},
   "outputs": [],
   "source": [
    "%load_ext autoreload\n"
   ]
  },
  {
   "cell_type": "code",
   "execution_count": null,
   "metadata": {},
   "outputs": [],
   "source": [
    "%autoreload 2"
   ]
  },
  {
   "cell_type": "code",
   "execution_count": null,
   "metadata": {},
   "outputs": [],
   "source": [
    "#| export\n",
    "import clue.model as model\n",
    "import clue.ui as ui\n",
    "from random import choice,shuffle,choices\n",
    "import os"
   ]
  },
  {
   "cell_type": "code",
   "execution_count": null,
   "metadata": {},
   "outputs": [],
   "source": [
    "#| hide\n",
    "stgame = model.createClue(4)\n",
    "stmoves = []"
   ]
  },
  {
   "cell_type": "code",
   "execution_count": null,
   "metadata": {},
   "outputs": [],
   "source": []
  },
  {
   "cell_type": "code",
   "execution_count": null,
   "metadata": {},
   "outputs": [],
   "source": [
    "\n",
    "\n"
   ]
  },
  {
   "cell_type": "code",
   "execution_count": null,
   "metadata": {},
   "outputs": [],
   "source": [
    "#| export\n",
    "def getPlay(pc,game, moves):\n",
    "    \n",
    "    \n",
    "\n",
    "    ui.showBoard(pc,game,moves)\n",
    "    playerRoom = model.roomOf(pc,game)\n",
    "    passages = model.roomsAround(playerRoom)\n",
    "    locs = [[3,x] for x in passages ]\n",
    "    print(\"Move to Room:\\n\")\n",
    " \n",
    "    l = ui.chooseKey(locs,pc,game,moves)\n",
    "    l = passages[l-1]\n",
    "\n",
    "    wKeys = [[1,x] for x in range(len(model.people))]\n",
    "    p = ui.chooseKey(wKeys,1,game,moves) - 1\n",
    "\n",
    "    wKeys = [[2,x] for x in range(len(model.weapons))]\n",
    "    w = ui.chooseKey(wKeys,1,game,moves) - 1\n",
    "\n",
    "    return p, w, l\n",
    "\n"
   ]
  },
  {
   "cell_type": "code",
   "execution_count": null,
   "metadata": {},
   "outputs": [
    {
     "ename": "NameError",
     "evalue": "name 'stgame' is not defined",
     "output_type": "error",
     "traceback": [
      "\u001b[0;31m---------------------------------------------------------------------------\u001b[0m",
      "\u001b[0;31mNameError\u001b[0m                                 Traceback (most recent call last)",
      "Cell \u001b[0;32mIn[5], line 2\u001b[0m\n\u001b[1;32m      1\u001b[0m \u001b[38;5;66;03m#| hide\u001b[39;00m\n\u001b[0;32m----> 2\u001b[0m stguess \u001b[38;5;241m=\u001b[39m getPlay(\u001b[38;5;241m1\u001b[39m,stgame,stmoves)\n\u001b[1;32m      3\u001b[0m \u001b[38;5;28mprint\u001b[39m(ui\u001b[38;5;241m.\u001b[39mshowChoice(stguess))\n\u001b[1;32m      4\u001b[0m \u001b[38;5;28;01mdef\u001b[39;00m \u001b[38;5;21mseenCounts\u001b[39m(pc,game, moves):\n",
      "\u001b[0;31mNameError\u001b[0m: name 'stgame' is not defined"
     ]
    }
   ],
   "source": [
    "#| hide\n",
    "stguess = getPlay(1,stgame,stmoves)\n",
    "print(ui.showChoice(stguess))\n",
    "def seenCounts(pc,game, moves):\n",
    "    knoweledge = getSeen(pc,game, moves)\n",
    "    p = [0,0,0]\n",
    "    for x in knoweledge:\n",
    "        i = int(x/100) -1\n",
    "        p[i] += 1\n",
    "\n",
    "    return p"
   ]
  },
  {
   "cell_type": "code",
   "execution_count": null,
   "metadata": {},
   "outputs": [],
   "source": [
    "#| export\n",
    "\n",
    "\n",
    "\n",
    "\n",
    "def simpleGuess(pc,game, moves):\n",
    "\n",
    "\n",
    "    playerRoom = model.roomOf(pc,game)\n",
    "    exclude  = set(model.getSeen(pc,game, moves))\n",
    "    \n",
    "    pdeck = [model.keyCard(1,x) for x in range(len(model.people))]\n",
    "    pdeck = [x for x in  pdeck if x not in exclude]\n",
    "    p = choice(pdeck)%100\n",
    "    \n",
    "    pdeck = [model.keyCard(2,x) for x in range(len(model.weapons))]\n",
    "    pdeck = [x for x in pdeck if x not in exclude]\n",
    "    w = choice(pdeck)%100\n",
    "    \n",
    "    pdeck = [model.keyCard(3,x) for x in model.roomsAround(playerRoom)]\n",
    "    rdeck = [x for x in  pdeck if x not in exclude]\n",
    "    \n",
    "    if len(rdeck) == 0:\n",
    "        l = pdeck[0]%100\n",
    "    else:\n",
    "        l = choice(rdeck)%100\n",
    "    \n",
    "    return (p,w,l)\n"
   ]
  },
  {
   "cell_type": "code",
   "execution_count": null,
   "metadata": {},
   "outputs": [],
   "source": [
    "#| export\n",
    "\n",
    "def itemsForType(t):\n",
    "    if t == 1:\n",
    "        return model.people\n",
    "    if t == 2:\n",
    "        return model.weapons\n",
    "    return model.rooms\n",
    "        \n",
    "def itemGuess(t,moves):\n",
    "    l = itemsForType(t)\n",
    "\n",
    "    ret = [1 for x in range(len(l))]\n",
    "    for x in moves:\n",
    "        ret[x[t-1]] += 1\n",
    "    #print(ret)\n",
    "    return ret\n",
    "    \n",
    "def showCounts(t,moves):\n",
    "    items = itemGuess(t,moves)\n",
    "    base = itemsForType(t)\n",
    "    #print(items,base)\n",
    "    for i in range(len(items)):\n",
    "        print(i,ui.cardFull(base[i]),items[i])\n",
    "\n",
    "\n",
    "                              \n",
    "\n",
    "\n"
   ]
  },
  {
   "cell_type": "code",
   "execution_count": null,
   "metadata": {},
   "outputs": [],
   "source": []
  },
  {
   "cell_type": "code",
   "execution_count": null,
   "metadata": {},
   "outputs": [],
   "source": [
    "#| export\n",
    "def rWalk(exclude,pc,game, moves):\n",
    "    playerRoom = model.roomOf(pc,game)\n",
    "    pdeck = [model.keyCard(3,x) for x in model.roomsAround(playerRoom)]\n",
    "    rdeck = [x for x in  pdeck if x not in exclude]\n",
    "    \n",
    "    if len(rdeck) == 0:\n",
    "        l = pdeck[0]%100\n",
    "    else:\n",
    "        l = choice(rdeck)%100\n",
    "                              \n",
    "    return l"
   ]
  },
  {
   "cell_type": "code",
   "execution_count": null,
   "metadata": {},
   "outputs": [
    {
     "name": "stdout",
     "output_type": "stream",
     "text": [
      "0 ([8, 7, 6, 5], [1, 2, 3, 4])\n",
      "1 ([0, 8, 7, 6], [2, 3, 4, 5])\n",
      "2 ([1, 0, 8, 7], [3, 4, 5, 6])\n",
      "3 ([2, 1, 0, 8], [4, 5, 6, 7])\n",
      "4 ([3, 2, 1, 0], [5, 6, 7, 8])\n",
      "5 ([4, 3, 2, 1], [6, 7, 8, 0])\n",
      "6 ([5, 4, 3, 2], [7, 8, 0, 1])\n",
      "7 ([6, 5, 4, 3], [8, 0, 1, 2])\n",
      "8 ([7, 6, 5, 4], [0, 1, 2, 3])\n"
     ]
    }
   ],
   "source": [
    "#| export\n",
    "\n",
    "\n",
    "def roomsAway(roomNum,roomSize):\n",
    "    foo = [x for x in range(roomSize)]\n",
    "    middle = int( roomSize / 2)\n",
    "    if roomNum <middle:\n",
    "        lm = foo[roomNum - int(middle):]\n",
    "        lSide = lm + foo[:roomNum] \n",
    "        lSide.reverse()\n",
    "        rSide = foo[roomNum + 1:roomNum + 1 + middle]\n",
    "    elif roomNum > middle:\n",
    "        lSide = foo[roomNum-middle:roomNum]\n",
    "        lSide.reverse()\n",
    "        rSide = foo[roomNum +1: ] + foo[:roomNum-middle]\n",
    "    else:\n",
    "        lSide = foo[:middle]\n",
    "        lSide.reverse()\n",
    "        rSide = foo[middle+1:]\n",
    "    return lSide, rSide\n",
    "\n",
    "def repelWalk(exclude,pc,game, moves):\n",
    "    playerRoom = model.roomOf(pc,game)\n",
    "    lRooms, rRooms = roomsAway(playerRoom,len(model.rooms))\n",
    "    #print(\"staring at \" + ui.cardFull(model.rooms[playerRoom]))\n",
    "    #print(playerRoom,lRooms,rRooms)\n",
    "    #print(exclude)\n",
    "    def score(rooms):\n",
    "        rooms.reverse()\n",
    "        weights = []\n",
    "        cards = []\n",
    "        for i in range(len(rooms)):\n",
    "            r = rooms[i]\n",
    "            cards.append(str(model.keyCard(3,r)) + \" \" + model.rooms[r][0])\n",
    "            \n",
    "            if model.keyCard(3,r) in exclude:\n",
    "                w = 2**i\n",
    "                #print(i,w)\n",
    "                weights.append(w)\n",
    "            else:\n",
    "                weights.append(0)\n",
    "        #print(cards,weights)\n",
    "        return sum(weights)\n",
    "\n",
    "\n",
    "    lPull = score(lRooms)\n",
    "    rPull = score(rRooms)\n",
    "    #trace.append([playerRoom,lPull,rPull])\n",
    "    #print(trace)\n",
    "    #ui.showBoard(pc,game,moves)\n",
    "    achoice = model.roomsAround(playerRoom)\n",
    "    if lPull > rPull:\n",
    "        #print(\"to\" + ui.cardFull(model.rooms[achoice[2]]))\n",
    "        return achoice[2]\n",
    "    if lPull < rPull:\n",
    "        \n",
    "        #print(\"to\" + ui.cardFull(model.rooms[achoice[0]]))\n",
    "        return achoice[0]\n",
    "    #print(\"same\")    \n",
    "    return rWalk(exclude,pc,game, moves)\n"
   ]
  },
  {
   "cell_type": "code",
   "execution_count": null,
   "metadata": {},
   "outputs": [],
   "source": [
    "#| export\n",
    "def mimic(memory,walk):\n",
    "    def betterGuess(pc,game, moves):\n",
    "\n",
    "        exclude  = set(model.getSeen(pc,game, moves))\n",
    "\n",
    "        if memory < 0:\n",
    "            examine = []\n",
    "        else:\n",
    "            examine = moves[-memory:]\n",
    "\n",
    "\n",
    "        keydeck = [model.keyCard(1,x) for x in range(len(model.people))]\n",
    "        pdeck = [x for x in  keydeck if x not in exclude]\n",
    "        pC = itemGuess(1,examine)\n",
    "        pWeights = [pC[x%100] * pC[x%100] for x in  keydeck if x not in exclude]\n",
    "\n",
    "        p = choices(pdeck,weights=pWeights)\n",
    "        p = p[0]%100\n",
    "\n",
    "        keydeck = [model.keyCard(2,x) for x in range(len(model.weapons))]\n",
    "        pdeck = [x for x in keydeck if x not in exclude]\n",
    "        pC = itemGuess(2,examine)\n",
    "        pWeights = [pC[x%100] * pC[x%100] for x in  keydeck if x not in exclude]\n",
    "\n",
    "        w = choices(pdeck,weights=pWeights)[0]%100\n",
    "        \n",
    "        l = walk(exclude,pc,game, moves)\n",
    "\n",
    "        return (p,w,l)\n",
    "    return betterGuess"
   ]
  },
  {
   "cell_type": "code",
   "execution_count": null,
   "metadata": {},
   "outputs": [],
   "source": [
    "#| export\n",
    "def cheater(walk):\n",
    "    def betterGuess(pc,game, moves):\n",
    "\n",
    " \n",
    "        exclude  = set(model.handOf(pc,game) +[x[-1] for x in moves] )\n",
    "\n",
    "       \n",
    "        examine = []\n",
    "   \n",
    "\n",
    "\n",
    "        keydeck = [model.keyCard(1,x) for x in range(len(model.people))]\n",
    "        pdeck = [x for x in  keydeck if x not in exclude]\n",
    "        pC = itemGuess(1,examine)\n",
    "        pWeights = [pC[x%100] * pC[x%100] for x in  keydeck if x not in exclude]\n",
    "\n",
    "        p = choices(pdeck,weights=pWeights)\n",
    "        p = p[0]%100\n",
    "\n",
    "        keydeck = [model.keyCard(2,x) for x in range(len(model.weapons))]\n",
    "        pdeck = [x for x in keydeck if x not in exclude]\n",
    "        pC = itemGuess(2,examine)\n",
    "        pWeights = [pC[x%100] * pC[x%100] for x in  keydeck if x not in exclude]\n",
    "\n",
    "        w = choices(pdeck,weights=pWeights)[0]%100\n",
    "        \n",
    "        l = walk(exclude,pc,game, moves)\n",
    "\n",
    "        return (p,w,l)\n",
    "    return betterGuess\n",
    "\n",
    "\n",
    "def halfRight(walk):\n",
    "    oracle = cheater(walk)\n",
    "    \n",
    "    def betterGuess(pc,game, moves):\n",
    "        p,w,l = oracle(pc,game, moves)\n",
    "        exclude  = model.handOf(pc,game) +[x[-1] for x in moves] \n",
    "        exclude = [x for x in exclude if x < 300]\n",
    "        \n",
    "\n",
    "        if len(exclude) < 0:\n",
    "            return (p,w,l)\n",
    "\n",
    "        wrong = choice(exclude)\n",
    "        if wrong < 200:\n",
    "            p = wrong%100\n",
    "        else:\n",
    "            w = wrong%100\n",
    "\n",
    "        return (p,w,l)\n",
    "    return betterGuess"
   ]
  },
  {
   "cell_type": "code",
   "execution_count": null,
   "metadata": {},
   "outputs": [],
   "source": []
  },
  {
   "cell_type": "markdown",
   "metadata": {},
   "source": [
    "## Visual"
   ]
  },
  {
   "cell_type": "code",
   "execution_count": null,
   "metadata": {},
   "outputs": [],
   "source": [
    "\n"
   ]
  },
  {
   "cell_type": "code",
   "execution_count": null,
   "metadata": {},
   "outputs": [],
   "source": [
    "#| export\n",
    "def playerName(i):\n",
    "    return ui.cardFull(model.cardLookup(1,i-1))\n",
    "    \n",
    "def runVisualGame( strats):\n",
    "    numPlayers = len(strats)\n",
    "    done = False\n",
    "    agame = model.createClue(numPlayers)\n",
    "    amoves = []\n",
    "    player = 1\n",
    "    lastM = [\"\" for x in range(numPlayers)]\n",
    "   \n",
    "             \n",
    "    while not done:\n",
    "        #print(seenCounts(player,agame,amoves))\n",
    "        \n",
    "        stratName, isUser, strat = strats[player - 1]\n",
    "        \n",
    "        if isUser:\n",
    "            ui.printPlayerHand(player,agame)\n",
    "            #showCounts(1,amoves)\n",
    "            #showCounts(2,amoves)\n",
    "            print(lastM[player-1])\n",
    "        \n",
    "        ans = strat(player,agame,amoves)\n",
    "        if isUser:\n",
    "            pass\n",
    "            #os.system(\"clear\")\n",
    "        agame = model.relocatePlayers(player , ans[0],ans[2],agame)\n",
    "        print( playerName(player) + \" suspects \" + ui.showChoice(ans)+\".\")\n",
    "        check = model.getAnswer(player,agame,ans)\n",
    "        \n",
    "        if check[0] < 0:\n",
    "            seen =  model.getSeen(player,agame, amoves)\n",
    "            exclude  = set(seen)\n",
    "            done = True\n",
    "            for x in model.keysForGuess(ans):\n",
    "                if x in exclude:\n",
    "                    print(\"\\n\\n\" + playerName(player) + \" is not quite ready to accuse.\")\n",
    "                    done = False\n",
    "            \n",
    "        else:\n",
    "            #(p,w,l,playerNum, c,y[0],y[1])\n",
    "            card = check[-1]\n",
    "            \n",
    "            amoves.append(check)\n",
    "            if isUser:\n",
    "                msg = playerName(check[-2]) + \" has \" + ui.cardFull(model.keyLookUp(card))+\"!\"\n",
    "            else:\n",
    "                msg = playerName(check[-2]) + \" responds.\"\n",
    "            print(msg)\n",
    "            lastM[player-1] = msg\n",
    "\n",
    "        if not done:\n",
    "            player = player + 1\n",
    "            if player - 1 >=len(strats):\n",
    "               player = 1 \n",
    "    \n",
    "    print(\"\\n\" + playerName(player) + \" \" + stratName + \" won!\")\n",
    "    ui.printGame(agame) "
   ]
  },
  {
   "cell_type": "code",
   "execution_count": null,
   "metadata": {},
   "outputs": [
    {
     "name": "stdout",
     "output_type": "stream",
     "text": [
      "\u001b[36mHall\u001b[0m, 🕯️ \u001b[36mCandlestick\u001b[0m, 🪠 \u001b[36mLead Pipe\u001b[0m, 🔫 \u001b[36mRevolver\u001b[0m, \u001b[36mBall Room\u001b[0m\n",
      "\n",
      "╒═══════════╤═══════════════╤═════════════════╕\n",
      "│ \u001b[31mBall Room\u001b[0m │ Billiard Room │ 1) Conservatory │\n",
      "│           │    \u001b[37mW\u001b[0m          │                 │\n",
      "├───────────┼───────────────┼─────────────────┤\n",
      "│ Study     │               │ 2) Dining Room  │\n",
      "│    \u001b[35mP\u001b[0m      │               │    \u001b[31mS\u001b[0m            │\n",
      "├───────────┼───────────────┼─────────────────┤\n",
      "│ Library   │               │ 3) \u001b[31mHall\u001b[0m         │\n",
      "│    \u001b[32mG\u001b[0m      │               │                 │\n",
      "├───────────┼───────────────┼─────────────────┤\n",
      "│           │ Lounge        │ Kitchen         │\n",
      "│           │    \u001b[34mP\u001b[0m          │    \u001b[33mM\u001b[0m            │\n",
      "╘═══════════╧═══════════════╧═════════════════╛\n",
      "Move to Room:\n",
      "\n",
      "1 \u001b[36mConservatory\u001b[0m\n",
      "2 \u001b[36mDining Room\u001b[0m\n",
      "3*\u001b[36mHall\u001b[0m\n"
     ]
    },
    {
     "name": "stdin",
     "output_type": "stream",
     "text": [
      "Choose from 1 to 3:  2\n"
     ]
    },
    {
     "name": "stdout",
     "output_type": "stream",
     "text": [
      "1 👠 \u001b[31mMiss Scarlet\u001b[0m\n",
      "2 🧐 \u001b[33mColonel Mustard\u001b[0m\n",
      "3 ♡ \u001b[37m Mrs. White\u001b[0m\n",
      "4 🐉 \u001b[32mMr. Green\u001b[0m\n",
      "5 🍆 \u001b[35mProfessor Plum\u001b[0m\n",
      "6 🦚 \u001b[34mMrs. Peacock\u001b[0m\n"
     ]
    },
    {
     "name": "stdin",
     "output_type": "stream",
     "text": [
      "Choose from 1 to 6:  3\n"
     ]
    },
    {
     "name": "stdout",
     "output_type": "stream",
     "text": [
      "1 🔪 \u001b[36mKnife\u001b[0m\n",
      "2*🔫 \u001b[36mRevolver\u001b[0m\n",
      "3 🪢 \u001b[36mRope\u001b[0m\n",
      "4 🔧 \u001b[36mWrench\u001b[0m\n",
      "5*🕯️ \u001b[36mCandlestick\u001b[0m\n",
      "6*🪠 \u001b[36mLead Pipe\u001b[0m\n"
     ]
    },
    {
     "name": "stdin",
     "output_type": "stream",
     "text": [
      "Choose from 1 to 6:  3\n"
     ]
    },
    {
     "name": "stdout",
     "output_type": "stream",
     "text": [
      "👠 \u001b[31mMiss Scarlet\u001b[0m suspects ♡ \u001b[37m Mrs. White\u001b[0m with the 🪢 \u001b[36mRope\u001b[0m in the \u001b[36mDining Room\u001b[0m.\n",
      "🧐 \u001b[33mColonel Mustard\u001b[0m has \u001b[36mDining Room\u001b[0m!\n",
      "🧐 \u001b[33mColonel Mustard\u001b[0m suspects ♡ \u001b[37m Mrs. White\u001b[0m with the 🪢 \u001b[36mRope\u001b[0m in the \u001b[36mHall\u001b[0m.\n",
      "♡ \u001b[37m Mrs. White\u001b[0m responds.\n",
      "♡ \u001b[37m Mrs. White\u001b[0m suspects 👠 \u001b[31mMiss Scarlet\u001b[0m with the 🪠 \u001b[36mLead Pipe\u001b[0m in the \u001b[36mKitchen\u001b[0m.\n",
      "👠 \u001b[31mMiss Scarlet\u001b[0m responds.\n",
      "🐉 \u001b[32mMr. Green\u001b[0m suspects 🐉 \u001b[32mMr. Green\u001b[0m with the 🪢 \u001b[36mRope\u001b[0m in the \u001b[30mLibrary\u001b[0m.\n",
      "🧐 \u001b[33mColonel Mustard\u001b[0m responds.\n",
      "\u001b[36mHall\u001b[0m, 🕯️ \u001b[36mCandlestick\u001b[0m, 🪠 \u001b[36mLead Pipe\u001b[0m, 🔫 \u001b[36mRevolver\u001b[0m, \u001b[36mBall Room\u001b[0m\n",
      "🧐 \u001b[33mColonel Mustard\u001b[0m has \u001b[36mDining Room\u001b[0m!\n",
      "╒═══════════╤═══════════════╤══════════════╕\n",
      "│ \u001b[31mBall Room\u001b[0m │ Billiard Room │ Conservatory │\n",
      "├───────────┼───────────────┼──────────────┤\n",
      "│ Study     │               │ \u001b[31mDining Room\u001b[0m  │\n",
      "│    \u001b[35mP\u001b[0m      │               │              │\n",
      "├───────────┼───────────────┼──────────────┤\n",
      "│ Library   │               │ 1) \u001b[31mHall\u001b[0m      │\n",
      "│    \u001b[32mG\u001b[0m      │               │    \u001b[33mM\u001b[0m         │\n",
      "├───────────┼───────────────┼──────────────┤\n",
      "│           │ 3) Lounge     │ 2) Kitchen   │\n",
      "│           │    \u001b[34mP\u001b[0m          │    \u001b[31mS\u001b[0m, \u001b[37mW\u001b[0m      │\n",
      "╘═══════════╧═══════════════╧══════════════╛\n",
      "Move to Room:\n",
      "\n",
      "1*\u001b[36mHall\u001b[0m\n",
      "2 \u001b[36mKitchen\u001b[0m\n",
      "3 \u001b[36mLounge\u001b[0m\n"
     ]
    },
    {
     "name": "stdin",
     "output_type": "stream",
     "text": [
      "Choose from 1 to 3:  2\n"
     ]
    },
    {
     "name": "stdout",
     "output_type": "stream",
     "text": [
      "1 👠 \u001b[31mMiss Scarlet\u001b[0m\n",
      "2 🧐 \u001b[33mColonel Mustard\u001b[0m\n",
      "3 ♡ \u001b[37m Mrs. White\u001b[0m\n",
      "4 🐉 \u001b[32mMr. Green\u001b[0m\n",
      "5 🍆 \u001b[35mProfessor Plum\u001b[0m\n",
      "6 🦚 \u001b[34mMrs. Peacock\u001b[0m\n"
     ]
    },
    {
     "name": "stdin",
     "output_type": "stream",
     "text": [
      "Choose from 1 to 6:  5\n"
     ]
    },
    {
     "name": "stdout",
     "output_type": "stream",
     "text": [
      "1 🔪 \u001b[36mKnife\u001b[0m\n",
      "2*🔫 \u001b[36mRevolver\u001b[0m\n",
      "3 🪢 \u001b[36mRope\u001b[0m\n",
      "4 🔧 \u001b[36mWrench\u001b[0m\n",
      "5*🕯️ \u001b[36mCandlestick\u001b[0m\n",
      "6*🪠 \u001b[36mLead Pipe\u001b[0m             🐉, 🍆\n"
     ]
    },
    {
     "name": "stdin",
     "output_type": "stream",
     "text": [
      "Choose from 1 to 6:  4\n"
     ]
    },
    {
     "name": "stdout",
     "output_type": "stream",
     "text": [
      "👠 \u001b[31mMiss Scarlet\u001b[0m suspects 🍆 \u001b[35mProfessor Plum\u001b[0m with the 🔧 \u001b[36mWrench\u001b[0m in the \u001b[36mKitchen\u001b[0m.\n",
      "♡ \u001b[37m Mrs. White\u001b[0m has 🍆 \u001b[35mProfessor Plum\u001b[0m!\n",
      "🧐 \u001b[33mColonel Mustard\u001b[0m suspects 🍆 \u001b[35mProfessor Plum\u001b[0m with the 🪠 \u001b[36mLead Pipe\u001b[0m in the \u001b[36mKitchen\u001b[0m.\n",
      "♡ \u001b[37m Mrs. White\u001b[0m responds.\n",
      "♡ \u001b[37m Mrs. White\u001b[0m suspects 👠 \u001b[31mMiss Scarlet\u001b[0m with the 🕯️ \u001b[36mCandlestick\u001b[0m in the \u001b[36mHall\u001b[0m.\n",
      "👠 \u001b[31mMiss Scarlet\u001b[0m responds.\n",
      "🐉 \u001b[32mMr. Green\u001b[0m suspects 🍆 \u001b[35mProfessor Plum\u001b[0m with the 🪢 \u001b[36mRope\u001b[0m in the \u001b[30mStudy\u001b[0m.\n",
      "🧐 \u001b[33mColonel Mustard\u001b[0m responds.\n",
      "\u001b[36mHall\u001b[0m, 🕯️ \u001b[36mCandlestick\u001b[0m, 🪠 \u001b[36mLead Pipe\u001b[0m, 🔫 \u001b[36mRevolver\u001b[0m, \u001b[36mBall Room\u001b[0m\n",
      "♡ \u001b[37m Mrs. White\u001b[0m has 🍆 \u001b[35mProfessor Plum\u001b[0m!\n",
      "╒═══════════╤═══════════════╤════════════════╕\n",
      "│ \u001b[31mBall Room\u001b[0m │ Billiard Room │ Conservatory   │\n",
      "├───────────┼───────────────┼────────────────┤\n",
      "│ Study     │               │ 1) \u001b[31mDining Room\u001b[0m │\n",
      "│    \u001b[32mG\u001b[0m, \u001b[35mP\u001b[0m   │               │                │\n",
      "├───────────┼───────────────┼────────────────┤\n",
      "│ Library   │               │ 2) \u001b[31mHall\u001b[0m        │\n",
      "│           │               │    \u001b[31mS\u001b[0m, \u001b[37mW\u001b[0m        │\n",
      "├───────────┼───────────────┼────────────────┤\n",
      "│           │ Lounge        │ 3) Kitchen     │\n",
      "│           │    \u001b[34mP\u001b[0m          │    \u001b[33mM\u001b[0m           │\n",
      "╘═══════════╧═══════════════╧════════════════╛\n",
      "Move to Room:\n",
      "\n",
      "1*\u001b[36mDining Room\u001b[0m\n",
      "2*\u001b[36mHall\u001b[0m                    🐉, 🍆\n",
      "3 \u001b[36mKitchen\u001b[0m\n"
     ]
    },
    {
     "name": "stdin",
     "output_type": "stream",
     "text": [
      "Choose from 1 to 3:  3\n"
     ]
    },
    {
     "name": "stdout",
     "output_type": "stream",
     "text": [
      "1 👠 \u001b[31mMiss Scarlet\u001b[0m\n",
      "2 🧐 \u001b[33mColonel Mustard\u001b[0m\n",
      "3 ♡ \u001b[37m Mrs. White\u001b[0m\n",
      "4 🐉 \u001b[32mMr. Green\u001b[0m\n",
      "5*🍆 \u001b[35mProfessor Plum\u001b[0m        🧐\n",
      "6 🦚 \u001b[34mMrs. Peacock\u001b[0m\n"
     ]
    },
    {
     "name": "stdin",
     "output_type": "stream",
     "text": [
      "Choose from 1 to 6:  4\n"
     ]
    },
    {
     "name": "stdout",
     "output_type": "stream",
     "text": [
      "1 🔪 \u001b[36mKnife\u001b[0m\n",
      "2*🔫 \u001b[36mRevolver\u001b[0m\n",
      "3 🪢 \u001b[36mRope\u001b[0m\n",
      "4 🔧 \u001b[36mWrench\u001b[0m\n",
      "5*🕯️ \u001b[36mCandlestick\u001b[0m\n",
      "6*🪠 \u001b[36mLead Pipe\u001b[0m             🐉, 🍆\n"
     ]
    },
    {
     "name": "stdin",
     "output_type": "stream",
     "text": [
      "Choose from 1 to 6:  3\n"
     ]
    },
    {
     "name": "stdout",
     "output_type": "stream",
     "text": [
      "👠 \u001b[31mMiss Scarlet\u001b[0m suspects 🐉 \u001b[32mMr. Green\u001b[0m with the 🪢 \u001b[36mRope\u001b[0m in the \u001b[36mKitchen\u001b[0m.\n",
      "♡ \u001b[37m Mrs. White\u001b[0m has 🪢 \u001b[36mRope\u001b[0m!\n",
      "🧐 \u001b[33mColonel Mustard\u001b[0m suspects 🐉 \u001b[32mMr. Green\u001b[0m with the 🕯️ \u001b[36mCandlestick\u001b[0m in the \u001b[36mKitchen\u001b[0m.\n",
      "👠 \u001b[31mMiss Scarlet\u001b[0m responds.\n",
      "♡ \u001b[37m Mrs. White\u001b[0m suspects 🦚 \u001b[34mMrs. Peacock\u001b[0m with the 🪢 \u001b[36mRope\u001b[0m in the \u001b[36mKitchen\u001b[0m.\n",
      "🐉 \u001b[32mMr. Green\u001b[0m responds.\n",
      "🐉 \u001b[32mMr. Green\u001b[0m suspects 🐉 \u001b[32mMr. Green\u001b[0m with the 🪢 \u001b[36mRope\u001b[0m in the \u001b[36mHall\u001b[0m.\n",
      "👠 \u001b[31mMiss Scarlet\u001b[0m responds.\n",
      "\u001b[36mHall\u001b[0m, 🕯️ \u001b[36mCandlestick\u001b[0m, 🪠 \u001b[36mLead Pipe\u001b[0m, 🔫 \u001b[36mRevolver\u001b[0m, \u001b[36mBall Room\u001b[0m\n",
      "♡ \u001b[37m Mrs. White\u001b[0m has 🪢 \u001b[36mRope\u001b[0m!\n",
      "╒═══════════╤═══════════════╤═══════════════╕\n",
      "│ \u001b[31mBall Room\u001b[0m │ Billiard Room │ Conservatory  │\n",
      "├───────────┼───────────────┼───────────────┤\n",
      "│ Study     │               │ \u001b[31mDining Room\u001b[0m   │\n",
      "│    \u001b[35mP\u001b[0m      │               │               │\n",
      "├───────────┼───────────────┼───────────────┤\n",
      "│ Library   │               │ 1) \u001b[31mHall\u001b[0m       │\n",
      "│           │               │    \u001b[32mG\u001b[0m          │\n",
      "├───────────┼───────────────┼───────────────┤\n",
      "│           │ 3) Lounge     │ 2) Kitchen    │\n",
      "│           │               │    \u001b[31mS\u001b[0m, \u001b[33mM\u001b[0m, \u001b[37mW\u001b[0m, \u001b[34mP\u001b[0m │\n",
      "╘═══════════╧═══════════════╧═══════════════╛\n",
      "Move to Room:\n",
      "\n",
      "1*\u001b[36mHall\u001b[0m                    🐉, 🍆\n",
      "2 \u001b[36mKitchen\u001b[0m\n",
      "3 \u001b[36mLounge\u001b[0m\n"
     ]
    },
    {
     "name": "stdin",
     "output_type": "stream",
     "text": [
      "Choose from 1 to 3:  2\n"
     ]
    },
    {
     "name": "stdout",
     "output_type": "stream",
     "text": [
      "1 👠 \u001b[31mMiss Scarlet\u001b[0m\n",
      "2 🧐 \u001b[33mColonel Mustard\u001b[0m\n",
      "3 ♡ \u001b[37m Mrs. White\u001b[0m\n",
      "4 🐉 \u001b[32mMr. Green\u001b[0m\n",
      "5*🍆 \u001b[35mProfessor Plum\u001b[0m        🧐\n",
      "6 🦚 \u001b[34mMrs. Peacock\u001b[0m\n"
     ]
    },
    {
     "name": "stdin",
     "output_type": "stream",
     "text": [
      "Choose from 1 to 6:  6\n"
     ]
    },
    {
     "name": "stdout",
     "output_type": "stream",
     "text": [
      "1 🔪 \u001b[36mKnife\u001b[0m\n",
      "2*🔫 \u001b[36mRevolver\u001b[0m\n",
      "3*🪢 \u001b[36mRope\u001b[0m                  🧐\n",
      "4 🔧 \u001b[36mWrench\u001b[0m\n",
      "5*🕯️ \u001b[36mCandlestick\u001b[0m          ♡, 🐉, 🍆\n",
      "6*🪠 \u001b[36mLead Pipe\u001b[0m             🐉, 🍆\n"
     ]
    },
    {
     "name": "stdin",
     "output_type": "stream",
     "text": [
      "Choose from 1 to 6:  1\n"
     ]
    },
    {
     "name": "stdout",
     "output_type": "stream",
     "text": [
      "👠 \u001b[31mMiss Scarlet\u001b[0m suspects 🦚 \u001b[34mMrs. Peacock\u001b[0m with the 🔪 \u001b[36mKnife\u001b[0m in the \u001b[36mKitchen\u001b[0m.\n",
      "🧐 \u001b[33mColonel Mustard\u001b[0m has 🔪 \u001b[36mKnife\u001b[0m!\n",
      "🧐 \u001b[33mColonel Mustard\u001b[0m suspects 🐉 \u001b[32mMr. Green\u001b[0m with the 🔫 \u001b[36mRevolver\u001b[0m in the \u001b[36mKitchen\u001b[0m.\n",
      "👠 \u001b[31mMiss Scarlet\u001b[0m responds.\n",
      "♡ \u001b[37m Mrs. White\u001b[0m suspects 🦚 \u001b[34mMrs. Peacock\u001b[0m with the 🔧 \u001b[36mWrench\u001b[0m in the \u001b[36mKitchen\u001b[0m.\n",
      "🐉 \u001b[32mMr. Green\u001b[0m responds.\n",
      "🐉 \u001b[32mMr. Green\u001b[0m suspects 🐉 \u001b[32mMr. Green\u001b[0m with the 🕯️ \u001b[36mCandlestick\u001b[0m in the \u001b[36mKitchen\u001b[0m.\n",
      "👠 \u001b[31mMiss Scarlet\u001b[0m responds.\n",
      "\u001b[36mHall\u001b[0m, 🕯️ \u001b[36mCandlestick\u001b[0m, 🪠 \u001b[36mLead Pipe\u001b[0m, 🔫 \u001b[36mRevolver\u001b[0m, \u001b[36mBall Room\u001b[0m\n",
      "🧐 \u001b[33mColonel Mustard\u001b[0m has 🔪 \u001b[36mKnife\u001b[0m!\n",
      "╒═══════════╤═══════════════╤══════════════════╕\n",
      "│ \u001b[31mBall Room\u001b[0m │ Billiard Room │ Conservatory     │\n",
      "├───────────┼───────────────┼──────────────────┤\n",
      "│ Study     │               │ \u001b[31mDining Room\u001b[0m      │\n",
      "│    \u001b[35mP\u001b[0m      │               │                  │\n",
      "├───────────┼───────────────┼──────────────────┤\n",
      "│ Library   │               │ 1) \u001b[31mHall\u001b[0m          │\n",
      "├───────────┼───────────────┼──────────────────┤\n",
      "│           │ 3) Lounge     │ 2) Kitchen       │\n",
      "│           │               │    \u001b[31mS\u001b[0m, \u001b[33mM\u001b[0m, \u001b[37mW\u001b[0m, \u001b[32mG\u001b[0m, \u001b[34mP\u001b[0m │\n",
      "╘═══════════╧═══════════════╧══════════════════╛\n",
      "Move to Room:\n",
      "\n",
      "1*\u001b[36mHall\u001b[0m                    🐉, 🍆\n",
      "2 \u001b[36mKitchen\u001b[0m\n",
      "3 \u001b[36mLounge\u001b[0m\n"
     ]
    },
    {
     "name": "stdin",
     "output_type": "stream",
     "text": [
      "Choose from 1 to 3:  2\n"
     ]
    },
    {
     "name": "stdout",
     "output_type": "stream",
     "text": [
      "1 👠 \u001b[31mMiss Scarlet\u001b[0m\n",
      "2 🧐 \u001b[33mColonel Mustard\u001b[0m\n",
      "3 ♡ \u001b[37m Mrs. White\u001b[0m\n",
      "4 🐉 \u001b[32mMr. Green\u001b[0m\n",
      "5*🍆 \u001b[35mProfessor Plum\u001b[0m        🧐\n",
      "6 🦚 \u001b[34mMrs. Peacock\u001b[0m\n"
     ]
    },
    {
     "name": "stdin",
     "output_type": "stream",
     "text": [
      "Choose from 1 to 6:  3\n"
     ]
    },
    {
     "name": "stdout",
     "output_type": "stream",
     "text": [
      "1*🔪 \u001b[36mKnife\u001b[0m\n",
      "2*🔫 \u001b[36mRevolver\u001b[0m              ♡, 🐉, 🍆\n",
      "3*🪢 \u001b[36mRope\u001b[0m                  🧐\n",
      "4 🔧 \u001b[36mWrench\u001b[0m\n",
      "5*🕯️ \u001b[36mCandlestick\u001b[0m          ♡, 🐉, 🍆\n",
      "6*🪠 \u001b[36mLead Pipe\u001b[0m             🐉, 🍆\n"
     ]
    },
    {
     "name": "stdin",
     "output_type": "stream",
     "text": [
      "Choose from 1 to 6:  4\n"
     ]
    },
    {
     "name": "stdout",
     "output_type": "stream",
     "text": [
      "👠 \u001b[31mMiss Scarlet\u001b[0m suspects ♡ \u001b[37m Mrs. White\u001b[0m with the 🔧 \u001b[36mWrench\u001b[0m in the \u001b[36mKitchen\u001b[0m.\n",
      "🐉 \u001b[32mMr. Green\u001b[0m has ♡ \u001b[37m Mrs. White\u001b[0m!\n",
      "🧐 \u001b[33mColonel Mustard\u001b[0m suspects 🐉 \u001b[32mMr. Green\u001b[0m with the 🔧 \u001b[36mWrench\u001b[0m in the \u001b[36mLounge\u001b[0m.\n",
      "🐉 \u001b[32mMr. Green\u001b[0m responds.\n",
      "♡ \u001b[37m Mrs. White\u001b[0m suspects 🐉 \u001b[32mMr. Green\u001b[0m with the 🪢 \u001b[36mRope\u001b[0m in the \u001b[36mKitchen\u001b[0m.\n",
      "\n",
      "\n",
      " gave a false one 🪢 \u001b[36mRope\u001b[0m!\n",
      "♡ \u001b[37m Mrs. White\u001b[0m suspects 🍆 \u001b[35mProfessor Plum\u001b[0m with the 🔧 \u001b[36mWrench\u001b[0m in the \u001b[36mKitchen\u001b[0m.\n",
      "\n",
      "\n",
      " gave a false one 🍆 \u001b[35mProfessor Plum\u001b[0m!\n",
      "♡ \u001b[37m Mrs. White\u001b[0m suspects 🧐 \u001b[33mColonel Mustard\u001b[0m with the 🪢 \u001b[36mRope\u001b[0m in the \u001b[36mKitchen\u001b[0m.\n",
      "🐉 \u001b[32mMr. Green\u001b[0m responds.\n",
      "🐉 \u001b[32mMr. Green\u001b[0m suspects 🐉 \u001b[32mMr. Green\u001b[0m with the 🔧 \u001b[36mWrench\u001b[0m in the \u001b[36mKitchen\u001b[0m.\n",
      "\n",
      "🐉 \u001b[32mMr. Green\u001b[0m better won!\n",
      "Solution\n",
      "🐉 \u001b[32mMr. Green\u001b[0m, 🔧 \u001b[36mWrench\u001b[0m, \u001b[36mKitchen\u001b[0m\n",
      "\n",
      "          [1] 👠 \u001b[31mMiss Scarlet\u001b[0m is in \u001b[36mKitchen\u001b[0m          \n",
      "\u001b[36mHall\u001b[0m, 🕯️ \u001b[36mCandlestick\u001b[0m, 🪠 \u001b[36mLead Pipe\u001b[0m, 🔫 \u001b[36mRevolver\u001b[0m, \u001b[36mBall Room\u001b[0m\n",
      "\n",
      "        [2] 🧐 \u001b[33mColonel Mustard\u001b[0m is in \u001b[36mKitchen\u001b[0m         \n",
      "\u001b[36mConservatory\u001b[0m, \u001b[30mLibrary\u001b[0m, \u001b[30mStudy\u001b[0m, 🔪 \u001b[36mKnife\u001b[0m, \u001b[36mDining Room\u001b[0m\n",
      "\n",
      "          [3] ♡ \u001b[37m Mrs. White\u001b[0m is in \u001b[36mKitchen\u001b[0m           \n",
      "👠 \u001b[31mMiss Scarlet\u001b[0m, 🪢 \u001b[36mRope\u001b[0m, \u001b[36mBilliard Room\u001b[0m, 🍆 \u001b[35mProfessor Plum\u001b[0m\n",
      "\n",
      "           [4] 🐉 \u001b[32mMr. Green\u001b[0m is in \u001b[36mKitchen\u001b[0m            \n",
      "\u001b[36mLounge\u001b[0m, ♡ \u001b[37m Mrs. White\u001b[0m, 🦚 \u001b[34mMrs. Peacock\u001b[0m, 🧐 \u001b[33mColonel Mustard\u001b[0m\n"
     ]
    }
   ],
   "source": [
    "#| hide\n",
    "trace = []\n",
    "p1 = (\"player\",True,getPlay)\n",
    "s1 = (\"simple\",False,mimic(-1,rWalk))\n",
    "s2 = (\"simpleR\",False,mimic(-1,repelWalk))\n",
    "b1 = (\"better\",False,mimic(8,rWalk))\n",
    "d1 =(\"deep\",False,mimic(20,rWalk))\n",
    "hr = (\"halfRight\",False,halfRight(rWalk))\n",
    "strategies = [ p1,s2,hr,b1]\n",
    "runVisualGame(strategies)"
   ]
  },
  {
   "cell_type": "code",
   "execution_count": null,
   "metadata": {},
   "outputs": [],
   "source": [
    "#| export\n",
    "def runGame( strats):\n",
    "    numPlayers = len(strats)\n",
    "    done = False\n",
    "    agame = model.createClue(numPlayers)\n",
    "    amoves = []\n",
    "    player = 1\n",
    "          \n",
    "    while not done:\n",
    "        #print(seenCounts(player,agame,amoves))\n",
    "        \n",
    "        stratName, isUser, strat = strats[player - 1]\n",
    "        \n",
    "        ans = strat(player,agame,amoves)\n",
    "        agame = model.relocatePlayers(player , ans[0],ans[2],agame)\n",
    "        check = model.getAnswer(player,agame,ans)\n",
    "        \n",
    "        if check[0] < 0:\n",
    "            seen =  model.getSeen(player,agame, amoves)\n",
    "            exclude  = set(seen)\n",
    "            done = True\n",
    "            for x in model.keysForGuess(ans):\n",
    "                if x in exclude:\n",
    "                    done = False\n",
    "            \n",
    "        else:\n",
    "            #(p,w,l,playerNum, c,y[0],y[1])\n",
    "            card = check[-1]\n",
    "            \n",
    "            amoves.append(check)\n",
    "\n",
    "        if not done:\n",
    "            player = player + 1\n",
    "            if player - 1 >= numPlayers:\n",
    "               player = 1 \n",
    "    \n",
    "    return player, agame , amoves\n"
   ]
  },
  {
   "cell_type": "code",
   "execution_count": null,
   "metadata": {},
   "outputs": [
    {
     "name": "stdout",
     "output_type": "stream",
     "text": [
      "('simple', 35)\n",
      "('simpleR', 44)\n",
      "('simple', 21)\n",
      "('halfRight', 0)\n"
     ]
    }
   ],
   "source": [
    "#| hide\n",
    "s1 = (\"simple\",False,mimic(-1,rWalk))\n",
    "b1 = (\"better\",False,mimic(2,rWalk))\n",
    "d1 =(\"deep\",False,mimic(8,rWalk))\n",
    "c1 = (\"cheater\",False,cheater(repelWalk))\n",
    "s2 = (\"simpleR\",False,mimic(4,rWalk))\n",
    "hr = (\"halfRight\",False,halfRight(rWalk))\n",
    "\n",
    "strategies = [s1, s2,b1,b1,d1,c1]\n",
    "strategies = [s1, s2,s1,hr]\n",
    "counts = [0 for x in range(len(strategies))]\n",
    "for c  in range(100):\n",
    "    p, g, m = runGame(strategies)\n",
    "    counts[p-1] += 1\n",
    "\n",
    "m = zip([x[0] for x in strategies],counts)\n",
    "for x in m:\n",
    "    print(x)"
   ]
  },
  {
   "cell_type": "code",
   "execution_count": null,
   "metadata": {},
   "outputs": [],
   "source": [
    "#| hide\n",
    "chooseCard(rooms,cardFull)"
   ]
  },
  {
   "cell_type": "code",
   "execution_count": null,
   "metadata": {},
   "outputs": [],
   "source": [
    "#| hide\n",
    "import nbdev; nbdev.nbdev_export()"
   ]
  }
 ],
 "metadata": {
  "kernelspec": {
   "display_name": "python3",
   "language": "python",
   "name": "python3"
  }
 },
 "nbformat": 4,
 "nbformat_minor": 4
}
