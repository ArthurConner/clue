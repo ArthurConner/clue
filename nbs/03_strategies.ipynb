{
 "cells": [
  {
   "cell_type": "markdown",
   "metadata": {},
   "source": [
    "# Strategies\n",
    "\n",
    "> Fill in a module description here"
   ]
  },
  {
   "cell_type": "code",
   "execution_count": null,
   "metadata": {},
   "outputs": [],
   "source": [
    "#| default_exp strategies"
   ]
  },
  {
   "cell_type": "code",
   "execution_count": null,
   "metadata": {},
   "outputs": [],
   "source": [
    "#| hide\n",
    "from nbdev.showdoc import *"
   ]
  },
  {
   "cell_type": "code",
   "execution_count": null,
   "metadata": {},
   "outputs": [],
   "source": [
    "%load_ext autoreload\n"
   ]
  },
  {
   "cell_type": "code",
   "execution_count": null,
   "metadata": {},
   "outputs": [],
   "source": [
    "%autoreload 2"
   ]
  },
  {
   "cell_type": "code",
   "execution_count": null,
   "metadata": {},
   "outputs": [],
   "source": [
    "#| export\n",
    "import clue.model as model\n",
    "import clue.ui as ui\n",
    "import clue.board as bd\n",
    "from random import choice,shuffle,choices\n",
    "import os"
   ]
  },
  {
   "cell_type": "code",
   "execution_count": null,
   "metadata": {},
   "outputs": [],
   "source": [
    "#| hide\n",
    "\n",
    "\n",
    "sboard = bd.Board()\n",
    "sState = sboard.updateState(4)\n"
   ]
  },
  {
   "cell_type": "code",
   "execution_count": null,
   "metadata": {},
   "outputs": [],
   "source": []
  },
  {
   "cell_type": "code",
   "execution_count": null,
   "metadata": {},
   "outputs": [],
   "source": [
    "\n",
    "\n"
   ]
  },
  {
   "cell_type": "code",
   "execution_count": null,
   "metadata": {},
   "outputs": [],
   "source": [
    "#| export\n",
    "def getPlay(state):\n",
    "    state.board.show(state)\n",
    "    l = state.board.pickRoom(state)\n",
    "    p, w = ui.choosePandW(state)\n",
    "    return p-1, w-1, l\n",
    "\n"
   ]
  },
  {
   "cell_type": "code",
   "execution_count": null,
   "metadata": {},
   "outputs": [
    {
     "name": "stdout",
     "output_type": "stream",
     "text": [
      "                    Lounge                                      \n",
      "                      🧐                                        \n",
      "                       ▒▒▒                                      \n",
      "                       ▒░▒                                      \n",
      "                       ▒░▒                                      \n",
      "                       ▒░▒                                      \n",
      "                       ▒░▒                                      \n",
      "                       ▒░▒                                      \n",
      "                       ▒░▒                                      \n",
      "                       ▒░▒                                      \n",
      "                       ▒░▒                                      \n",
      "                       ▒░▒                                      \n",
      "                       ▒░▒                                      \n",
      "                       ▒░▒                                      \n",
      "                       ▒░▒                                      \n",
      "                       ▒░▒▒▒▒▒                                  \n",
      "                       ▒░░░░░▒                                  \n",
      "                       ▒░░░░░▒                                  \n",
      "                       ▒░░░░░▒                                  \n",
      "                       Library                                  \n",
      "                       ▒░👠░░▒                                  \n",
      "                       ▒░░░░░▒                                  \n",
      "                       ▒░░░░░▒                                  \n",
      "                       ▒░▒▒▒▒▒                                  \n",
      "                       ▒░▒                                      \n",
      "                       ▒░▒                                      \n",
      "                       ▒░▒                                      \n",
      "                       ▒░▒                                      \n",
      "                       ▒░▒                                      \n",
      "                       ▒░▒                                      \n",
      "                       ▒░▒                                      \n",
      "                       ▒░▒                                      \n",
      "                       ▒░▒                                      \n",
      "                       ▒░▒                                      \n",
      "                       ▒░▒                                      \n",
      "                       ▒░▒                                      \n",
      "                       ▒░▒▒▒▒▒▒▒▒▒▒▒▒▒▒▒▒▒▒▒▒                   \n",
      "                       ▒░░░░░░░░░░░░░░░░░░░░▒Study              \n",
      "                       ▒▒▒▒▒▒▒▒▒▒▒▒▒▒▒▒▒▒▒▒▒▒ 🥼                \n",
      "👠 will walk to:\n",
      "\n",
      "1 \u001b[36mLibrary\u001b[0m\n",
      "2*\u001b[36mStudy\u001b[0m\n",
      "3 \u001b[36mLounge\u001b[0m\n"
     ]
    },
    {
     "name": "stdin",
     "output_type": "stream",
     "text": [
      "Choose from 1 to 3:  3\n"
     ]
    },
    {
     "name": "stdout",
     "output_type": "stream",
     "text": [
      "    People              Weapons\n",
      "--  ------------------  -------------\n",
      " 1  👠 \u001b[31mMiss Scarlet\u001b[0m     🔪 \u001b[36mDagger\u001b[0m\n",
      " 2  🧐 \u001b[33mColonel Mustard\u001b[0m  *🔫 \u001b[36mRevolver\u001b[0m\n",
      " 3  *🥼 \u001b[37m Mrs. White\u001b[0m     *🪢 \u001b[36mRope\u001b[0m\n",
      " 4  🐉 \u001b[32mMr. Green\u001b[0m        🔧 \u001b[36mWrench\u001b[0m\n",
      " 5  🍆 \u001b[35mProfessor Plum\u001b[0m   🕯️ \u001b[36mCandlestick\u001b[0m\n",
      " 6  *🦚 \u001b[34mMrs. Peacock\u001b[0m    🪠 \u001b[36mLead Pipe\u001b[0m\n"
     ]
    },
    {
     "name": "stdin",
     "output_type": "stream",
     "text": [
      " 4 5\n"
     ]
    },
    {
     "name": "stdout",
     "output_type": "stream",
     "text": [
      "🐉 \u001b[32mMr. Green\u001b[0m with the 🕯️ \u001b[36mCandlestick\u001b[0m in the \u001b[36mLounge\u001b[0m\n"
     ]
    }
   ],
   "source": [
    "\n",
    "print(ui.showChoice(getPlay(sState)))"
   ]
  },
  {
   "cell_type": "code",
   "execution_count": null,
   "metadata": {},
   "outputs": [],
   "source": [
    "#| hide\n",
    "#stguess = getPlay(1,stgame,stmoves)\n",
    "#print(ui.showChoice(stguess))\n",
    "def seenCounts(state):\n",
    "    knoweledge = ui.getSeen(state)\n",
    "    p = [0,0,0]\n",
    "    for x in knoweledge:\n",
    "        i = int(x/100) -1\n",
    "        p[i] += 1\n",
    "\n",
    "    return p"
   ]
  },
  {
   "cell_type": "code",
   "execution_count": null,
   "metadata": {},
   "outputs": [],
   "source": [
    "#| hide\n",
    "#stguess = getPlay(2,stgame,stmoves)"
   ]
  },
  {
   "cell_type": "code",
   "execution_count": null,
   "metadata": {},
   "outputs": [],
   "source": [
    "#| export\n",
    "\n",
    "\n",
    "\n",
    "\n",
    "def simpleGuess(state):\n",
    "   \n",
    "\n",
    "\n",
    "    playerRoom = model.roomOf(pc,state)\n",
    "    exclude  = set(model.getSeen(state))\n",
    "    \n",
    "    pdeck = [model.keyCard(1,x) for x in range(len(model.people))]\n",
    "    pdeck = [x for x in  pdeck if x not in exclude]\n",
    "    p = choice(pdeck)%100\n",
    "    \n",
    "    pdeck = [model.keyCard(2,x) for x in range(len(model.weapons))]\n",
    "    pdeck = [x for x in pdeck if x not in exclude]\n",
    "    w = choice(pdeck)%100\n",
    "    \n",
    "    pdeck = [model.keyCard(3,x) for x in model.roomsAround(playerRoom)]\n",
    "    rdeck = [x for x in  pdeck if x not in exclude]\n",
    "    \n",
    "    if len(rdeck) == 0:\n",
    "        l = pdeck[0]%100\n",
    "    else:\n",
    "        l = choice(rdeck)%100\n",
    "    \n",
    "    return (p,w,l)\n"
   ]
  },
  {
   "cell_type": "code",
   "execution_count": null,
   "metadata": {},
   "outputs": [],
   "source": [
    "#| export\n",
    "\n",
    "def itemsForType(t):\n",
    "    if t == 1:\n",
    "        return model.people\n",
    "    if t == 2:\n",
    "        return model.weapons\n",
    "    return model.rooms\n",
    "        \n",
    "def itemGuess(t,moves):\n",
    "    l = itemsForType(t)\n",
    "\n",
    "    ret = [1 for x in range(len(l))]\n",
    "    for x in moves:\n",
    "        ret[x[t-1]] += 1\n",
    "    #print(ret)\n",
    "    return ret\n",
    "    \n",
    "def showCounts(t,moves):\n",
    "    items = itemGuess(t,moves)\n",
    "    base = itemsForType(t)\n",
    "    #print(items,base)\n",
    "    for i in range(len(items)):\n",
    "        print(i,ui.cardFull(base[i]),items[i])\n",
    "\n",
    "\n",
    "                              \n",
    "\n",
    "\n"
   ]
  },
  {
   "cell_type": "code",
   "execution_count": null,
   "metadata": {},
   "outputs": [],
   "source": [
    "#| export\n",
    "def biasWalk(state):\n",
    "    \n",
    "    def bWalk(exclude,state):\n",
    "\n",
    "        playerRoom = model.roomOf(state.player,state) \n",
    "        dest = model.roomsAround(playerRoom)\n",
    "        if model.keyCard(3,dest[a]) not in exclude:\n",
    "            return dest[a]%100\n",
    "        if model.keyCard(3,dest[b]) not in exclude:\n",
    "            return dest[b]%100\n",
    "        \n",
    "        return dest[c]%100\n",
    "    return bWalk\n",
    "    \n",
    "    \n",
    " "
   ]
  },
  {
   "cell_type": "code",
   "execution_count": null,
   "metadata": {},
   "outputs": [],
   "source": [
    "#| export\n",
    "def rWalk(exclude,state):\n",
    "\n",
    "    playerRoom = model.roomOf(state.player,state)\n",
    "    pdeck = [model.keyCard(3,x) for x in model.roomsAround(playerRoom,state)]\n",
    "    rdeck = [x for x in  pdeck if x not in exclude]\n",
    "    \n",
    "    if len(rdeck) == 0:\n",
    "        l = pdeck[0]%100\n",
    "    else:\n",
    "        l = choice(rdeck)%100\n",
    "                              \n",
    "    return l"
   ]
  },
  {
   "cell_type": "code",
   "execution_count": null,
   "metadata": {},
   "outputs": [],
   "source": [
    "#| export\n",
    "\n",
    "\n",
    "def roomsAway(roomNum,roomSize):\n",
    "    foo = [x for x in range(roomSize)]\n",
    "    middle = int( roomSize / 2)\n",
    "    if roomNum <middle:\n",
    "        lm = foo[roomNum - int(middle):]\n",
    "        lSide = lm + foo[:roomNum] \n",
    "        lSide.reverse()\n",
    "        rSide = foo[roomNum + 1:roomNum + 1 + middle]\n",
    "    elif roomNum > middle:\n",
    "        lSide = foo[roomNum-middle:roomNum]\n",
    "        lSide.reverse()\n",
    "        rSide = foo[roomNum +1: ] + foo[:roomNum-middle]\n",
    "    else:\n",
    "        lSide = foo[:middle]\n",
    "        lSide.reverse()\n",
    "        rSide = foo[middle+1:]\n",
    "    return lSide, rSide\n",
    "\n",
    "def repelWalk(exclude,state):\n",
    "    playerRoom = model.roomOf(state.player,state)\n",
    "    lRooms, rRooms = roomsAway(playerRoom,len(model.rooms))\n",
    "    #print(\"staring at \" + ui.cardFull(model.rooms[playerRoom]))\n",
    "    #print(playerRoom,lRooms,rRooms)\n",
    "    if not (model.keyCard(3,playerRoom) in exclude):\n",
    "     return playerRoom\n",
    "    #print(exclude)\n",
    "    def score(rooms):\n",
    "        rooms.reverse()\n",
    "        weights = []\n",
    "        cards = []\n",
    "        for i in range(len(rooms)):\n",
    "            r = rooms[i]\n",
    "            cards.append(str(model.keyCard(3,r)) + \" \" + model.rooms[r][0])\n",
    "            \n",
    "            if model.keyCard(3,r) in exclude:\n",
    "                w = 2**i\n",
    "                #print(i,w)\n",
    "                weights.append(w)\n",
    "            else:\n",
    "                weights.append(0)\n",
    "        #print(cards,weights)\n",
    "        return sum(weights)\n",
    "\n",
    "\n",
    "    lPull = score(lRooms)\n",
    "    rPull = score(rRooms)\n",
    "    #trace.append([playerRoom,lPull,rPull])\n",
    "    #print(trace)\n",
    "    #ui.showBoard(pc,game,moves)\n",
    "    achoice = list(model.roomsAround(playerRoom,state))\n",
    "    achoice.sort()\n",
    "    if lPull > rPull:\n",
    "        #print(\"to\" + ui.cardFull(model.rooms[achoice[2]]))\n",
    "        return achoice[-1]\n",
    "    if lPull < rPull:\n",
    "        \n",
    "        #print(\"to\" + ui.cardFull(model.rooms[achoice[0]]))\n",
    "        return achoice[0]\n",
    "    #print(\"same\")    \n",
    "    return rWalk(exclude,state)\n"
   ]
  },
  {
   "cell_type": "code",
   "execution_count": null,
   "metadata": {},
   "outputs": [],
   "source": [
    "#| export\n",
    "def mimic(memory,walk):\n",
    "    def betterGuess(state):\n",
    "\n",
    "        exclude  = set(model.getSeen(state))\n",
    "\n",
    "        if memory < 0:\n",
    "            examine = []\n",
    "        else:\n",
    "            examine = state.moves[-memory:]\n",
    "\n",
    "\n",
    "        keydeck = [model.keyCard(1,x) for x in range(len(model.people))]\n",
    "        pdeck = [x for x in  keydeck if x not in exclude]\n",
    "        pC = itemGuess(1,examine)\n",
    "        pWeights = [pC[x%100] * pC[x%100] for x in  keydeck if x not in exclude]\n",
    "\n",
    "        p = choices(pdeck,weights=pWeights)\n",
    "        p = p[0]%100\n",
    "\n",
    "        keydeck = [model.keyCard(2,x) for x in range(len(model.weapons))]\n",
    "        pdeck = [x for x in keydeck if x not in exclude]\n",
    "        pC = itemGuess(2,examine)\n",
    "        pWeights = [pC[x%100] * pC[x%100] for x in  keydeck if x not in exclude]\n",
    "\n",
    "        w = choices(pdeck,weights=pWeights)[0]%100\n",
    "        \n",
    "        l = walk(exclude,state)\n",
    "\n",
    "        return (p,w,l)\n",
    "    \n",
    "    return betterGuess"
   ]
  },
  {
   "cell_type": "code",
   "execution_count": null,
   "metadata": {},
   "outputs": [],
   "source": [
    "#| export\n",
    "def cheater(walk):\n",
    "    def betterGuess(state):\n",
    "\n",
    " \n",
    "        exclude  = set(model.handOf(state) +[x[-1] for x in state.moves] )\n",
    "\n",
    "       \n",
    "        examine = []\n",
    "   \n",
    "\n",
    "\n",
    "        keydeck = [model.keyCard(1,x) for x in range(len(model.people))]\n",
    "        pdeck = [x for x in  keydeck if x not in exclude]\n",
    "        pC = itemGuess(1,examine)\n",
    "        pWeights = [pC[x%100] * pC[x%100] for x in  keydeck if x not in exclude]\n",
    "\n",
    "        p = choices(pdeck,weights=pWeights)\n",
    "        p = p[0]%100\n",
    "\n",
    "        keydeck = [model.keyCard(2,x) for x in range(len(model.weapons))]\n",
    "        pdeck = [x for x in keydeck if x not in exclude]\n",
    "        pC = itemGuess(2,examine)\n",
    "        pWeights = [pC[x%100] * pC[x%100] for x in  keydeck if x not in exclude]\n",
    "\n",
    "        w = choices(pdeck,weights=pWeights)[0]%100\n",
    "        \n",
    "        l = walk(exclude,state)\n",
    "\n",
    "        return (p,w,l)\n",
    "    return betterGuess\n",
    "\n",
    "\n",
    "def halfRight(walk):\n",
    "    oracle = cheater(walk)\n",
    "    \n",
    "    def betterGuess(state):\n",
    "        p,w,l = oracle(state)\n",
    "        exclude  = model.handOf(state) +[x[-1] for x in state.moves] \n",
    "        exclude = [x for x in exclude if x < 300]\n",
    "        \n",
    "\n",
    "        if len(exclude) <= 0:\n",
    "            return (p,w,l)\n",
    "\n",
    "        wrong = choice(exclude)\n",
    "        if wrong < 200:\n",
    "            p = wrong%100\n",
    "        else:\n",
    "            w = wrong%100\n",
    "\n",
    "        return (p,w,l)\n",
    "    return betterGuess"
   ]
  },
  {
   "cell_type": "code",
   "execution_count": null,
   "metadata": {},
   "outputs": [],
   "source": [
    "#| export\n",
    "\n",
    "def hasGuess(guess,moves):\n",
    "    p, w, l = guess[:3]\n",
    "    c = (p,w,l)\n",
    "    for x in moves:\n",
    "        p, w, l = x[:3]\n",
    "        xc = (p,w,l)\n",
    "        if c == xc:\n",
    "            return True\n",
    "    return False\n",
    "\n",
    "def repeater(strats,verbose=False):\n",
    "    def betterGuess(state):\n",
    "        counter = 0\n",
    "        for strat in strats:\n",
    "            \n",
    "            g =  strat(state)\n",
    "            if not hasGuess(g,state.moves):\n",
    "                if verbose and counter > 0:\n",
    "                    print(\"counter \" + str(counter))\n",
    "                return g\n",
    "            counter += 1\n",
    "                        \n",
    "        if verbose and counter > 0:\n",
    "            print(\" over counter \" + str(counter))\n",
    "        return strats[-1](state)\n",
    "                          \n",
    "    return betterGuess"
   ]
  },
  {
   "cell_type": "code",
   "execution_count": null,
   "metadata": {},
   "outputs": [
    {
     "data": {
      "text/plain": [
       "(3, 5, 6)"
      ]
     },
     "execution_count": null,
     "metadata": {},
     "output_type": "execute_result"
    }
   ],
   "source": [
    "r1 = repeater([mimic(1*(x+3),rWalk) for x in range(4)])\n",
    "r1(sState)"
   ]
  },
  {
   "cell_type": "code",
   "execution_count": null,
   "metadata": {},
   "outputs": [
    {
     "data": {
      "text/plain": [
       "(1, 5, 7)"
      ]
     },
     "execution_count": null,
     "metadata": {},
     "output_type": "execute_result"
    }
   ],
   "source": [
    "r2 = repeater([mimic(1*(x+3),repelWalk) for x in range(4)])\n",
    "r2(sState)"
   ]
  },
  {
   "cell_type": "code",
   "execution_count": null,
   "metadata": {},
   "outputs": [
    {
     "data": {
      "text/plain": [
       "(4, 2, 6)"
      ]
     },
     "execution_count": null,
     "metadata": {},
     "output_type": "execute_result"
    }
   ],
   "source": [
    "r3 = repeater([halfRight(rWalk) for x in range(4)])\n",
    "r3(sState)"
   ]
  },
  {
   "cell_type": "code",
   "execution_count": null,
   "metadata": {},
   "outputs": [],
   "source": []
  },
  {
   "cell_type": "code",
   "execution_count": null,
   "metadata": {},
   "outputs": [],
   "source": []
  }
 ],
 "metadata": {
  "kernelspec": {
   "display_name": "python3",
   "language": "python",
   "name": "python3"
  }
 },
 "nbformat": 4,
 "nbformat_minor": 4
}
