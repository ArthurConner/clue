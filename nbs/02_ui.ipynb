{
 "cells": [
  {
   "cell_type": "markdown",
   "metadata": {},
   "source": [
    "# ui\n",
    "\n",
    "> Fill in a module description here"
   ]
  },
  {
   "cell_type": "code",
   "execution_count": null,
   "metadata": {},
   "outputs": [],
   "source": [
    "#| default_exp ui"
   ]
  },
  {
   "cell_type": "code",
   "execution_count": null,
   "metadata": {},
   "outputs": [
    {
     "name": "stdout",
     "output_type": "stream",
     "text": [
      "Collecting package metadata (current_repodata.json): done\n",
      "Solving environment: done\n",
      "\n",
      "\n",
      "==> WARNING: A newer version of conda exists. <==\n",
      "  current version: 4.11.0\n",
      "  latest version: 23.11.0\n",
      "\n",
      "Please update conda by running\n",
      "\n",
      "    $ conda update -n base -c defaults conda\n",
      "\n",
      "\n",
      "\n",
      "## Package Plan ##\n",
      "\n",
      "  environment location: /Users/arthurconner/opt/anaconda3/envs/clue\n",
      "\n",
      "  added / updated specs:\n",
      "    - pandas\n",
      "\n",
      "\n",
      "The following packages will be downloaded:\n",
      "\n",
      "    package                    |            build\n",
      "    ---------------------------|-----------------\n",
      "    bottleneck-1.3.5           |  py311hb9e55a9_0         138 KB\n",
      "    certifi-2023.11.17         |  py311hecd8cb5_0         160 KB\n",
      "    intel-openmp-2023.1.0      |   ha357a0b_43548         638 KB\n",
      "    mkl-2023.1.0               |   h8e150cf_43560       181.0 MB\n",
      "    mkl-service-2.4.0          |  py311h6c40b1e_1          43 KB\n",
      "    mkl_fft-1.3.8              |  py311h6c40b1e_0         204 KB\n",
      "    mkl_random-1.2.4           |  py311ha357a0b_0         272 KB\n",
      "    numexpr-2.8.7              |  py311h728a8a3_0         162 KB\n",
      "    numpy-1.26.2               |  py311h728a8a3_0          11 KB\n",
      "    numpy-base-1.26.2          |  py311h53bf9ac_0         7.9 MB\n",
      "    pandas-2.1.1               |  py311hdb55bb0_0        14.3 MB\n",
      "    python-tzdata-2023.3       |     pyhd3eb1b0_0         140 KB\n",
      "    ------------------------------------------------------------\n",
      "                                           Total:       204.9 MB\n",
      "\n",
      "The following NEW packages will be INSTALLED:\n",
      "\n",
      "  blas               pkgs/main/osx-64::blas-1.0-mkl\n",
      "  bottleneck         pkgs/main/osx-64::bottleneck-1.3.5-py311hb9e55a9_0\n",
      "  intel-openmp       pkgs/main/osx-64::intel-openmp-2023.1.0-ha357a0b_43548\n",
      "  mkl                pkgs/main/osx-64::mkl-2023.1.0-h8e150cf_43560\n",
      "  mkl-service        pkgs/main/osx-64::mkl-service-2.4.0-py311h6c40b1e_1\n",
      "  mkl_fft            pkgs/main/osx-64::mkl_fft-1.3.8-py311h6c40b1e_0\n",
      "  mkl_random         pkgs/main/osx-64::mkl_random-1.2.4-py311ha357a0b_0\n",
      "  numexpr            pkgs/main/osx-64::numexpr-2.8.7-py311h728a8a3_0\n",
      "  numpy              pkgs/main/osx-64::numpy-1.26.2-py311h728a8a3_0\n",
      "  numpy-base         pkgs/main/osx-64::numpy-base-1.26.2-py311h53bf9ac_0\n",
      "  pandas             pkgs/main/osx-64::pandas-2.1.1-py311hdb55bb0_0\n",
      "  python-tzdata      pkgs/main/noarch::python-tzdata-2023.3-pyhd3eb1b0_0\n",
      "  tbb                pkgs/main/osx-64::tbb-2021.8.0-ha357a0b_0\n",
      "\n",
      "The following packages will be SUPERSEDED by a higher-priority channel:\n",
      "\n",
      "  ca-certificates    conda-forge::ca-certificates-2023.11.~ --> pkgs/main::ca-certificates-2023.08.22-hecd8cb5_0\n",
      "  certifi            conda-forge/noarch::certifi-2023.11.1~ --> pkgs/main/osx-64::certifi-2023.11.17-py311hecd8cb5_0\n",
      "  openssl             conda-forge::openssl-3.2.0-hd75f5a5_1 --> pkgs/main::openssl-3.0.12-hca72f7f_0\n",
      "\n",
      "\n",
      "Proceed ([y]/n)? "
     ]
    }
   ],
   "source": [
    "#| hide\n",
    "#from nbdev.showdoc import *\n",
    "#!conda install pandas"
   ]
  },
  {
   "cell_type": "code",
   "execution_count": 1,
   "metadata": {},
   "outputs": [
    {
     "name": "stdout",
     "output_type": "stream",
     "text": [
      "Intel MKL WARNING: Support of Intel(R) Streaming SIMD Extensions 4.2 (Intel(R) SSE4.2) enabled only processors has been deprecated. Intel oneAPI Math Kernel Library 2025.0 will require Intel(R) Advanced Vector Extensions (Intel(R) AVX) instructions.\n",
      "Intel MKL WARNING: Support of Intel(R) Streaming SIMD Extensions 4.2 (Intel(R) SSE4.2) enabled only processors has been deprecated. Intel oneAPI Math Kernel Library 2025.0 will require Intel(R) Advanced Vector Extensions (Intel(R) AVX) instructions.\n"
     ]
    }
   ],
   "source": [
    "#| export\n",
    "\n",
    "from termcolor import colored\n",
    "from random import shuffle, randint, sample\n",
    "import emoji\n",
    "import tabulate\n",
    "import pandas as pd\n",
    "import numpy as np"
   ]
  },
  {
   "cell_type": "code",
   "execution_count": 2,
   "metadata": {},
   "outputs": [],
   "source": [
    "#| export\n",
    "import clue.model as model"
   ]
  },
  {
   "cell_type": "code",
   "execution_count": 3,
   "metadata": {},
   "outputs": [],
   "source": [
    "#| export\n",
    "def cardFull(info):\n",
    "    name,color, icon = info[:3]\n",
    "    if len(icon) > 0:\n",
    "        ret = icon + \" \" + colored(name,color)\n",
    "    else:\n",
    "        ret = colored(name,color)\n",
    "    \n",
    "    return ret\n",
    "\n",
    "def cardUncolor(info):\n",
    "    name,color, icon = info[:3]\n",
    "    if len(icon) > 0:\n",
    "        ret = icon + \" \" + name\n",
    "    else:\n",
    "        ret = name\n",
    "    \n",
    "    return ret\n",
    "\n",
    "def cardShort(info):\n",
    "    if len(info) < 3:\n",
    "        return cardFull(info)\n",
    "    color,icon, name = info[1:]\n",
    "    if len(icon) > 0:\n",
    "        ret = icon + \" \" + colored(name,color)\n",
    "    else:\n",
    "        ret = colored(name,color)\n",
    "   \n",
    "    return  ret\n"
   ]
  },
  {
   "cell_type": "code",
   "execution_count": 4,
   "metadata": {},
   "outputs": [
    {
     "data": {
      "text/plain": [
       "('👠 hi', '👠 Scar.')"
      ]
     },
     "execution_count": 4,
     "metadata": {},
     "output_type": "execute_result"
    }
   ],
   "source": [
    "#| hide\n",
    "sampleC = [\"hi\",\"red\",u\"\\U0001f460\",\"Scar.\"]\n",
    "\n",
    "cardFull(sampleC),cardShort(sampleC)"
   ]
  },
  {
   "cell_type": "code",
   "execution_count": null,
   "metadata": {},
   "outputs": [],
   "source": []
  },
  {
   "cell_type": "code",
   "execution_count": 5,
   "metadata": {},
   "outputs": [],
   "source": [
    "#| export\n",
    "def cIndentity(x):\n",
    "  return x[0]\n",
    "    \n",
    "def printHand(hand,view=cIndentity):\n",
    "    container = []\n",
    "    line = [view(card) for card in hand]\n",
    "    print(', '.join(line))\n",
    "\n",
    "def printPlayerHand(player,game):\n",
    "    hand = [model.keyLookUp(x) for x in model.handOf(player,game)]\n",
    "    printHand(hand,cardFull)\n",
    "            \n"
   ]
  },
  {
   "cell_type": "code",
   "execution_count": null,
   "metadata": {},
   "outputs": [],
   "source": []
  },
  {
   "cell_type": "code",
   "execution_count": 6,
   "metadata": {},
   "outputs": [
    {
     "name": "stdout",
     "output_type": "stream",
     "text": [
      "🧐 Colonel Mustard, Hall, 🥼  Mrs. White\n"
     ]
    }
   ],
   "source": [
    "#| hide\n",
    "#printHand(model.people)\n",
    "pgame = model.createClue(6)\n",
    "printPlayerHand(2,pgame)"
   ]
  },
  {
   "cell_type": "code",
   "execution_count": null,
   "metadata": {},
   "outputs": [],
   "source": []
  },
  {
   "cell_type": "code",
   "execution_count": 7,
   "metadata": {},
   "outputs": [
    {
     "name": "stdout",
     "output_type": "stream",
     "text": [
      "👠 Miss Scarlet, 🧐 Colonel Mustard, 🥼  Mrs. White, 🐉 Mr. Green, 🍆 Professor Plum, 🦚 Mrs. Peacock\n",
      "👠 Scar., 🧐 Must., 🥼 White, 🐉 Green, 🍆 Plum , 🦚 Peac.\n"
     ]
    }
   ],
   "source": [
    "#| hide\n",
    "printHand(model.people,cardFull)\n",
    "printHand(model.people,cardShort)"
   ]
  },
  {
   "cell_type": "code",
   "execution_count": null,
   "metadata": {},
   "outputs": [],
   "source": [
    "\n",
    "    \n",
    "\n",
    "            \n",
    "\n"
   ]
  },
  {
   "cell_type": "code",
   "execution_count": null,
   "metadata": {},
   "outputs": [],
   "source": []
  },
  {
   "cell_type": "code",
   "execution_count": null,
   "metadata": {},
   "outputs": [],
   "source": []
  },
  {
   "cell_type": "code",
   "execution_count": 8,
   "metadata": {},
   "outputs": [],
   "source": [
    "#| export\n",
    "\n",
    "\n",
    "\n",
    "def printPlayer(game,i):\n",
    "    ploc = game[-1]\n",
    "    person = model.people[i-1]\n",
    "    d = cardFull(person)\n",
    "    loc = cardFull(model.cardLookup(3,ploc[i-1]))\n",
    "    d = \"[\" + str(i) + \"] \" + d  + \" is in \" + loc \n",
    "    print(\"\\n\" + d.center(70,\" \"))\n",
    " \n",
    "    ahand = game[i]\n",
    "    maps = [model.keyLookUp(x) for x in ahand]\n",
    "    printHand(maps,cardFull)\n",
    "\n",
    "    \n",
    "def printGame(game):\n",
    "    print(\"Solution\")\n",
    "    ahand = game[0]\n",
    "   \n",
    "    maps = [model.keyLookUp(x) for x in ahand]\n",
    "    printHand(maps,cardFull)\n",
    "    for i in range(1,len(game)-1):\n",
    "        printPlayer(game,i)\n",
    "        \n",
    "\n",
    "\n",
    "     \n",
    "       "
   ]
  },
  {
   "cell_type": "code",
   "execution_count": 9,
   "metadata": {},
   "outputs": [
    {
     "name": "stdout",
     "output_type": "stream",
     "text": [
      "Solution\n",
      "👠 Miss Scarlet, 🕯️ Candlestick, Study\n",
      "\n",
      "                  [1] 👠 Miss Scarlet is in Ball Room                  \n",
      "🐉 Mr. Green, Dining Room, 🔫 Revolver, 🪢 Rope, Library\n",
      "\n",
      "                   [2] 🧐 Colonel Mustard is in Hall                   \n",
      "Billiard Room, 🪠 Lead Pipe, Kitchen, 🥼  Mrs. White, Ball Room\n",
      "\n",
      "                 [3] 🥼  Mrs. White is in Dining Room                  \n",
      "🧐 Colonel Mustard, 🔧 Wrench, Lounge, 🍆 Professor Plum\n",
      "\n",
      "                     [4] 🐉 Mr. Green is in Study                      \n",
      "Hall, Conservatory, 🦚 Mrs. Peacock, 🔪 Knife\n"
     ]
    },
    {
     "data": {
      "text/plain": [
       "([0, 4, 3, 8, 7, 6],\n",
       " [['Ball Room', 'cyan', '', 'Ball'],\n",
       "  ['Billiard Room', 'cyan', '', 'Bill'],\n",
       "  ['Conservatory', 'cyan', '', 'Consv'],\n",
       "  ['Dining Room', 'cyan', '', 'Dining'],\n",
       "  ['Hall', 'cyan', '', 'Hall'],\n",
       "  ['Kitchen', 'cyan', '', 'Kitch'],\n",
       "  ['Lounge', 'cyan', '', 'Lounge'],\n",
       "  ['Library', 'cyan', '', 'Lib'],\n",
       "  ['Study', 'cyan', '', 'Study']])"
      ]
     },
     "execution_count": 9,
     "metadata": {},
     "output_type": "execute_result"
    }
   ],
   "source": [
    "#| hide\n",
    "agame = model.createClue(4)\n",
    "amoves = []\n",
    "printGame(agame)\n",
    "agame[-1], model.rooms"
   ]
  },
  {
   "cell_type": "code",
   "execution_count": null,
   "metadata": {},
   "outputs": [],
   "source": [
    "#| hide\n"
   ]
  },
  {
   "cell_type": "markdown",
   "metadata": {},
   "source": [
    "## Response and Answer\n",
    "    \n",
    "        \n"
   ]
  },
  {
   "cell_type": "code",
   "execution_count": 11,
   "metadata": {},
   "outputs": [],
   "source": [
    "#| export\n",
    "def showChoice(guess):\n",
    "    p,w,l = guess[:3]\n",
    "    ret = cardFull(model.cardLookup(1,p))\n",
    "    ret = ret + \" with the \" + cardFull(model.cardLookup(2,w))\n",
    "    ret = ret + \" in the \" + cardFull(model.cardLookup(3,l))\n",
    "    return ret\n",
    "    "
   ]
  },
  {
   "cell_type": "code",
   "execution_count": 12,
   "metadata": {},
   "outputs": [
    {
     "name": "stdout",
     "output_type": "stream",
     "text": [
      "👠 Miss Scarlet with the 🪢 Rope in the Library\n"
     ]
    }
   ],
   "source": [
    "#| hide\n",
    "aguess = (0,2,7)\n",
    "print(showChoice(aguess))"
   ]
  },
  {
   "cell_type": "code",
   "execution_count": 14,
   "metadata": {},
   "outputs": [
    {
     "data": {
      "text/plain": [
       "((0, 2, 7, 1, 4, 100), '👠 Miss Scarlet with the 🪢 Rope in the Library')"
      ]
     },
     "execution_count": 14,
     "metadata": {},
     "output_type": "execute_result"
    }
   ],
   "source": [
    "#| hide\n",
    "aresponse =  model.responseToGuess(aguess,1,4, model.keysForGuess(aguess)[0])\n",
    "aresponse, showChoice(aresponse)"
   ]
  },
  {
   "cell_type": "code",
   "execution_count": 15,
   "metadata": {},
   "outputs": [],
   "source": [
    "#| hide\n",
    "amoves.append(aresponse)"
   ]
  },
  {
   "cell_type": "code",
   "execution_count": 52,
   "metadata": {},
   "outputs": [
    {
     "data": {
      "text/plain": [
       "[(1, 4, 5, 1, 2, 305),\n",
       " (5, 3, 3, 3, 4, 105),\n",
       " (1, 2, 0, 1, 2, 300),\n",
       " (1, 2, 0, 3, 1, 202),\n",
       " (1, 4, 0, 2, 3, 101),\n",
       " (4, 1, 5, 3, 1, 201),\n",
       " (0, 0, 5, 1, 2, 305),\n",
       " (1, 3, 4, 2, 3, 101),\n",
       " (3, 2, 2, 3, 4, 302),\n",
       " (3, 5, 4, 3, 4, 304),\n",
       " (0, 3, 3, 2, 3, 203),\n",
       " (1, 1, 2, 3, 4, 302),\n",
       " (5, 2, 2, 4, 1, 202),\n",
       " (1, 4, 1, 4, 2, 301),\n",
       " (0, 3, 5, 3, 2, 305),\n",
       " (1, 4, 2, 2, 3, 101),\n",
       " (1, 5, 0, 1, 2, 205),\n",
       " (1, 3, 2, 1, 3, 101),\n",
       " (3, 5, 1, 4, 1, 103),\n",
       " (1, 0, 3, 4, 1, 303),\n",
       " (1, 2, 5, 4, 1, 202),\n",
       " (3, 3, 1, 2, 3, 203),\n",
       " (4, 3, 3, 2, 3, 104),\n",
       " (2, 1, 1, 3, 1, 201),\n",
       " (1, 2, 5, 1, 2, 305),\n",
       " (0, 0, 3, 3, 4, 200),\n",
       " (1, 1, 5, 1, 2, 305),\n",
       " (3, 4, 2, 3, 4, 302),\n",
       " (3, 0, 1, 2, 4, 200),\n",
       " (0, 2, 0, 4, 1, 202),\n",
       " (4, 1, 3, 2, 3, 104),\n",
       " (3, 4, 5, 2, 1, 103),\n",
       " (0, 2, 2, 3, 4, 302),\n",
       " (0, 3, 0, 1, 2, 300),\n",
       " (3, 4, 0, 4, 1, 103),\n",
       " (4, 1, 5, 3, 1, 201),\n",
       " (4, 5, 3, 3, 1, 303),\n",
       " (0, 3, 3, 4, 1, 303),\n",
       " (0, 0, 3, 3, 4, 200),\n",
       " (4, 5, 2, 1, 2, 205),\n",
       " (1, 2, 4, 2, 3, 101),\n",
       " (4, 2, 5, 1, 2, 305),\n",
       " (5, 1, 0, 2, 4, 105),\n",
       " (5, 2, 4, 4, 1, 202),\n",
       " (4, 0, 2, 4, 3, 104),\n",
       " (3, 3, 3, 2, 3, 203),\n",
       " (2, 5, 1, 1, 2, 205),\n",
       " (5, 1, 0, 4, 1, 201),\n",
       " (4, 0, 2, 3, 4, 302),\n",
       " (4, 5, 1, 3, 2, 205),\n",
       " (0, 5, 3, 3, 1, 303),\n",
       " (1, 2, 5, 4, 1, 202),\n",
       " (2, 1, 1, 2, 1, 201),\n",
       " (2, 0, 5, 2, 4, 200),\n",
       " (3, 4, 1, 4, 1, 103),\n",
       " (4, 1, 4, 3, 4, 304),\n",
       " (2, 3, 1, 3, 2, 301),\n",
       " (5, 4, 4, 3, 4, 105),\n",
       " (5, 5, 5, 1, 2, 205),\n",
       " (2, 4, 4, 2, 4, 304),\n",
       " (4, 3, 5, 4, 2, 305),\n",
       " (5, 1, 4, 4, 1, 201),\n",
       " (2, 2, 4, 2, 4, 304),\n",
       " (4, 4, 3, 3, 1, 303),\n",
       " (5, 1, 1, 1, 2, 301),\n",
       " (4, 3, 3, 3, 1, 303),\n",
       " (5, 1, 5, 2, 4, 105),\n",
       " (3, 5, 4, 4, 1, 103),\n",
       " (3, 4, 2, 2, 4, 302),\n",
       " (2, 3, 1, 4, 2, 301),\n",
       " (1, 0, 1, 4, 2, 301),\n",
       " (5, 5, 1, 1, 2, 205),\n",
       " (1, 4, 3, 2, 3, 101),\n",
       " (2, 2, 0, 4, 1, 202),\n",
       " (0, 5, 2, 3, 4, 302),\n",
       " (0, 4, 1, 1, 2, 301),\n",
       " (1, 3, 2, 2, 3, 203),\n",
       " (4, 0, 2, 2, 3, 104),\n",
       " (4, 4, 1, 3, 2, 301),\n",
       " (5, 0, 5, 2, 4, 105),\n",
       " (5, 0, 3, 2, 4, 200),\n",
       " (0, 4, 3, 4, 1, 303),\n",
       " (0, 4, 0, 4, 2, 300),\n",
       " (4, 0, 0, 3, 4, 200),\n",
       " (2, 3, 1, 2, 3, 203),\n",
       " (0, 3, 3, 1, 3, 203),\n",
       " (5, 0, 1, 4, 2, 301),\n",
       " (1, 2, 2, 2, 3, 101),\n",
       " (3, 1, 3, 4, 1, 303),\n",
       " (0, 0, 1, 4, 2, 301)]"
      ]
     },
     "execution_count": 52,
     "metadata": {},
     "output_type": "execute_result"
    }
   ],
   "source": [
    "#| hide\n",
    "amoves=[]\n",
    "for x in range(90):\n",
    "    pc = randint(1,4)\n",
    "    p = randint(0,5)\n",
    "    w =  randint(0,5)\n",
    "    l = randint(0,5)\n",
    "    aguess = (p,w,l)\n",
    "    aresponse =  model.getAnswer(pc,agame,aguess)\n",
    "    if aresponse[0] > -1:\n",
    "        amoves.append(aresponse)\n",
    "\n",
    "\n",
    "        \n",
    "\n",
    "amoves"
   ]
  },
  {
   "cell_type": "code",
   "execution_count": 66,
   "metadata": {},
   "outputs": [],
   "source": [
    "#| export\n",
    "def wrapL(s,f,l):\n",
    "    show = set([s-1])\n",
    "    s += 1\n",
    "    if s > l:\n",
    "        s = 1\n",
    "    while s != f:\n",
    "        show.add(s-1)\n",
    "        s += 1\n",
    "        if s > l:\n",
    "            s = 1\n",
    "    show.add(f-1)\n",
    "    \n",
    "    ret = \"\"\n",
    "    for x in range(l):\n",
    "        if x in show:\n",
    "            ret += model.people[x][2]\n",
    "        else:\n",
    "            ret += \"❓\" \n",
    "    return ret\n",
    "        \n",
    "def showMoves(pc,moves,plMax):\n",
    "    for answer in moves:\n",
    "        p,w,l,asker, answered,shown = answer\n",
    "        line = model.people[asker-1][2] + \"  asks \"\n",
    "        line += \"(\" + model.people[p][2] + \" &  \" + model.weapons[w][2] + \" in the \"       \n",
    "        line += ( model.rooms[l][0] +\") \").ljust(15,\"-\")\n",
    "        line += \"->\" + wrapL(asker,answered,plMax)\n",
    "        if asker == pc or pc < 0 :\n",
    "            k =  int(shown/100)\n",
    "            s = shown%100\n",
    "            line += \" shows \" + cardFull(model.cardLookup(k,s))\n",
    "        print(line)\n",
    "\n",
    "        if False:\n",
    "            \n",
    "            print(showChoice(answer))\n",
    "            print(answer)\n",
    "            print()\n",
    "        \n",
    "#showMoves(1,amoves,4)     \n",
    "        \n",
    "def showPasses(icon,moves,game):\n",
    "    myMoves = [ x for x in moves if x[-1] == icon]\n",
    "    ret = set()\n",
    "    for x in myMoves:\n",
    "        g = model.passedOnResponse(x,game)\n",
    "        print(g)\n",
    "        for y in g:\n",
    "            ret.add(y)\n",
    "    p = len(game) - 2\n",
    "    showMoves(-1,myMoves,p )\n",
    "    #g = model.passedOnResponse(ans,agame)\n",
    "    return y"
   ]
  },
  {
   "cell_type": "code",
   "execution_count": 69,
   "metadata": {},
   "outputs": [
    {
     "name": "stdout",
     "output_type": "stream",
     "text": [
      "[]\n",
      "[]\n",
      "[]\n",
      "[]\n",
      "[]\n",
      "[1]\n",
      "🧐  asks (👠 &  🔧 in the Dining Room) --->❓🧐🥼❓ shows 🔧 Wrench\n",
      "🧐  asks (🐉 &  🔧 in the Billiard Room) ->❓🧐🥼❓ shows 🔧 Wrench\n",
      "🧐  asks (🐉 &  🔧 in the Dining Room) --->❓🧐🥼❓ shows 🔧 Wrench\n",
      "🧐  asks (🧐 &  🔧 in the Conservatory) -->❓🧐🥼❓ shows 🔧 Wrench\n",
      "🧐  asks (🥼 &  🔧 in the Billiard Room) ->❓🧐🥼❓ shows 🔧 Wrench\n",
      "👠  asks (👠 &  🔧 in the Dining Room) --->👠🧐🥼❓ shows 🔧 Wrench\n"
     ]
    },
    {
     "data": {
      "text/plain": [
       "1"
      ]
     },
     "execution_count": 69,
     "metadata": {},
     "output_type": "execute_result"
    }
   ],
   "source": [
    "#| hide\n",
    "#showMoves(-1,amoves,4)\n",
    "showPasses(203,amoves,agame)"
   ]
  },
  {
   "cell_type": "code",
   "execution_count": 58,
   "metadata": {},
   "outputs": [
    {
     "ename": "TypeError",
     "evalue": "'int' object is not subscriptable",
     "output_type": "error",
     "traceback": [
      "\u001b[0;31m---------------------------------------------------------------------------\u001b[0m",
      "\u001b[0;31mTypeError\u001b[0m                                 Traceback (most recent call last)",
      "Cell \u001b[0;32mIn [58], line 1\u001b[0m\n\u001b[0;32m----> 1\u001b[0m g \u001b[38;5;241m=\u001b[39m \u001b[43mmodel\u001b[49m\u001b[38;5;241;43m.\u001b[39;49m\u001b[43mpassedOnResponse\u001b[49m\u001b[43m(\u001b[49m\u001b[38;5;241;43m200\u001b[39;49m\u001b[43m,\u001b[49m\u001b[43magame\u001b[49m\u001b[43m)\u001b[49m\n",
      "File \u001b[0;32m~/code/clue/nbs/clue/model.py:185\u001b[0m, in \u001b[0;36mpassedOnResponse\u001b[0;34m(response, game)\u001b[0m\n\u001b[1;32m    183\u001b[0m \u001b[38;5;28;01mdef\u001b[39;00m \u001b[38;5;21mpassedOnResponse\u001b[39m(response,game):\n\u001b[1;32m    184\u001b[0m     playMax \u001b[38;5;241m=\u001b[39m \u001b[38;5;28mlen\u001b[39m(game) \u001b[38;5;241m-\u001b[39m \u001b[38;5;241m1\u001b[39m\n\u001b[0;32m--> 185\u001b[0m     s \u001b[38;5;241m=\u001b[39m \u001b[43mresponse\u001b[49m\u001b[43m[\u001b[49m\u001b[38;5;241;43m-\u001b[39;49m\u001b[38;5;241;43m3\u001b[39;49m\u001b[43m]\u001b[49m \u001b[38;5;241m+\u001b[39m \u001b[38;5;241m1\u001b[39m\n\u001b[1;32m    186\u001b[0m     end \u001b[38;5;241m=\u001b[39m response[\u001b[38;5;241m-\u001b[39m\u001b[38;5;241m2\u001b[39m]\n\u001b[1;32m    187\u001b[0m     ret \u001b[38;5;241m=\u001b[39m []\n",
      "\u001b[0;31mTypeError\u001b[0m: 'int' object is not subscriptable"
     ]
    }
   ],
   "source": [
    "g = model.passedOnResponse(200,agame)"
   ]
  },
  {
   "cell_type": "code",
   "execution_count": null,
   "metadata": {},
   "outputs": [],
   "source": []
  },
  {
   "cell_type": "code",
   "execution_count": null,
   "metadata": {},
   "outputs": [
    {
     "data": {
      "text/plain": [
       "(':question:', '🥼')"
      ]
     },
     "execution_count": null,
     "metadata": {},
     "output_type": "execute_result"
    }
   ],
   "source": [
    "emoji.emojize(\":question:\"),u\"\\U0001F97C\""
   ]
  },
  {
   "cell_type": "code",
   "execution_count": null,
   "metadata": {},
   "outputs": [
    {
     "data": {
      "text/plain": [
       "[301, 103, 203, 104, 200, 304]"
      ]
     },
     "execution_count": null,
     "metadata": {},
     "output_type": "execute_result"
    }
   ],
   "source": [
    "#| hide\n",
    "model.getSeen(1,agame,amoves)"
   ]
  },
  {
   "cell_type": "code",
   "execution_count": null,
   "metadata": {},
   "outputs": [
    {
     "data": {
      "text/plain": [
       "(0, 2, 7, 1, 4, 100)"
      ]
     },
     "execution_count": null,
     "metadata": {},
     "output_type": "execute_result"
    }
   ],
   "source": [
    "aresponse"
   ]
  },
  {
   "cell_type": "code",
   "execution_count": null,
   "metadata": {},
   "outputs": [],
   "source": [
    "\n",
    "    \n"
   ]
  },
  {
   "cell_type": "code",
   "execution_count": null,
   "metadata": {},
   "outputs": [],
   "source": [
    "#| hide\n",
    "g = model.passedOnResponse(aresponse,agame)"
   ]
  },
  {
   "cell_type": "code",
   "execution_count": null,
   "metadata": {},
   "outputs": [],
   "source": [
    "#| export\n",
    "def iconOfPlayers(pList):\n",
    "    pList.sort()\n",
    "    return \", \".join([model.people[x-1][2] for x in pList if x>0] )\n",
    "    "
   ]
  },
  {
   "cell_type": "code",
   "execution_count": null,
   "metadata": {},
   "outputs": [
    {
     "data": {
      "text/plain": [
       "'🍆'"
      ]
     },
     "execution_count": null,
     "metadata": {},
     "output_type": "execute_result"
    }
   ],
   "source": [
    "#| hide\n",
    "iconOfPlayers(g)"
   ]
  },
  {
   "cell_type": "code",
   "execution_count": null,
   "metadata": {},
   "outputs": [],
   "source": [
    "b = model.notInHands(agame,amoves)\n"
   ]
  },
  {
   "cell_type": "code",
   "execution_count": null,
   "metadata": {},
   "outputs": [
    {
     "name": "stdout",
     "output_type": "stream",
     "text": [
      "[(3, 0, 4, 3, 1, 200), (2, 5, 4, 1, 2, 304), (5, 1, 2, 4, 2, 105), (4, 1, 2, 2, 3, 302), (4, 5, 0, 4, 1, 104), (4, 4, 4, 2, 1, 104), (1, 0, 0, 4, 1, 200)]\n"
     ]
    }
   ],
   "source": [
    "print(amoves)"
   ]
  },
  {
   "cell_type": "code",
   "execution_count": null,
   "metadata": {},
   "outputs": [],
   "source": []
  },
  {
   "cell_type": "code",
   "execution_count": null,
   "metadata": {},
   "outputs": [],
   "source": []
  },
  {
   "cell_type": "code",
   "execution_count": null,
   "metadata": {},
   "outputs": [],
   "source": []
  },
  {
   "cell_type": "markdown",
   "metadata": {},
   "source": [
    "## Input"
   ]
  },
  {
   "cell_type": "code",
   "execution_count": null,
   "metadata": {},
   "outputs": [],
   "source": [
    "def chooseCard(hand,view=cIndentity,showN=True,flag = {}):\n",
    "    container = []\n",
    "    i = 1\n",
    "    ml = max([len(x[0]) for x in hand])\n",
    "\n",
    "    no = \" \"\n",
    "    \n",
    "    for card in hand:\n",
    "        face = view(card)\n",
    "        #face.append(i)\n",
    "        color = card[1]\n",
    "        no = \" \"\n",
    "        if card[0] in flag:\n",
    "            no = \"*\"\n",
    "        if showN:\n",
    "            preamb = str(i) + \")\"\n",
    "        else:\n",
    "            preamb = \"\"\n",
    "        container.append(colored( preamb + no + \" \" ,color) + face)\n",
    "        i += 1\n",
    "    choice = -1\n",
    "    \n",
    "    while choice < 1:\n",
    "        for card in container:\n",
    "            print(card)\n",
    "        choice = int(input(\"Choose from 1 to \" +  str(len(container))+\": \"))\n",
    "       \n",
    "        if (choice > 0) and (choice <= len(container)):\n",
    "            return choice\n",
    "        print(str(choice) + \" is not in range\")\n",
    "        choice = -1"
   ]
  },
  {
   "cell_type": "code",
   "execution_count": null,
   "metadata": {},
   "outputs": [
    {
     "name": "stdout",
     "output_type": "stream",
     "text": [
      "\u001b[31m1)  \u001b[0m👠 \u001b[31mMiss Scarlet\u001b[0m\n",
      "\u001b[33m2)  \u001b[0m🧐 \u001b[33mColonel Mustard\u001b[0m\n",
      "\u001b[37m3)  \u001b[0m♡ \u001b[37m Mrs. White\u001b[0m\n",
      "\u001b[32m4)* \u001b[0m🐉 \u001b[32mMr. Green\u001b[0m\n",
      "\u001b[35m5)  \u001b[0m🍆 \u001b[35mProfessor Plum\u001b[0m\n",
      "\u001b[34m6)  \u001b[0m🦚 \u001b[34mMrs. Peacock\u001b[0m\n"
     ]
    },
    {
     "name": "stdin",
     "output_type": "stream",
     "text": [
      "Choose from 1 to 6:  4\n"
     ]
    },
    {
     "data": {
      "text/plain": [
       "4"
      ]
     },
     "execution_count": null,
     "metadata": {},
     "output_type": "execute_result"
    }
   ],
   "source": [
    "#| hide\n",
    "chooseCard(model.people,cardFull,flag = {\"Mr. Green\"})"
   ]
  },
  {
   "cell_type": "code",
   "execution_count": null,
   "metadata": {},
   "outputs": [
    {
     "name": "stdout",
     "output_type": "stream",
     "text": [
      "\u001b[31m  \u001b[0m👠 \u001b[31mScar.\u001b[0m\n",
      "\u001b[33m  \u001b[0m🧐 \u001b[33mMust.\u001b[0m\n",
      "\u001b[37m  \u001b[0m♡ \u001b[37mWhite\u001b[0m\n",
      "\u001b[32m* \u001b[0m🐉 \u001b[32mGreen\u001b[0m\n",
      "\u001b[35m  \u001b[0m🍆 \u001b[35mPlum \u001b[0m\n",
      "\u001b[34m  \u001b[0m🦚 \u001b[34mPeac.\u001b[0m\n"
     ]
    },
    {
     "name": "stdin",
     "output_type": "stream",
     "text": [
      "Choose from 1 to 6:  4\n"
     ]
    },
    {
     "data": {
      "text/plain": [
       "4"
      ]
     },
     "execution_count": null,
     "metadata": {},
     "output_type": "execute_result"
    }
   ],
   "source": [
    "#| hide\n",
    "chooseCard(model.people,cardShort,False,flag = {\"Mr. Green\"})"
   ]
  },
  {
   "cell_type": "code",
   "execution_count": null,
   "metadata": {},
   "outputs": [],
   "source": [
    "#| export\n",
    "def getChoices(keys,playerID,game,moves,showIndex):\n",
    "\n",
    "    container = []\n",
    "    i = 1\n",
    "    #ml = max([len(x[0]) for x in hand])\n",
    "\n",
    "    passedOn = model.notInHands(game,moves)\n",
    "    flagged = set(model.getSeen(playerID, game, moves))\n",
    "    ret = []\n",
    "    for pair in keys:\n",
    "        no = \" \"\n",
    "        key = model.keyForArray(pair)\n",
    "    \n",
    "        if key in flagged:\n",
    "            no = \"*\"\n",
    "        data = model.cardForArray(pair)\n",
    "        view = cardFull(data)\n",
    "        if showIndex:\n",
    "            preamble = str(i)\n",
    "        else:\n",
    "            preamble = \"\"\n",
    "            #view = cardUncolor(data)\n",
    "        base =  preamble + no + view\n",
    "        if key in passedOn:\n",
    "            shownTo = passedOn[key]\n",
    "            base = base.ljust(35)  + iconOfPlayers(list(shownTo))\n",
    "            \n",
    "        ret.append(base)\n",
    "        i+=1\n",
    "    return ret\n",
    "        \n",
    "    \n",
    "\n",
    "\n",
    "    \n",
    "def chooseKey(keys,playerID,game,moves):\n",
    "    i = 1\n",
    "    #ml = max([len(x[0]) for x in hand])\n",
    "\n",
    "    passedOn = model.notInHands(game,moves)\n",
    "    flagged = set(model.getSeen(playerID, game, moves))\n",
    "    keyChoice = -1\n",
    "    lines = \"\\n\".join(getChoices(keys,playerID,game,moves,True))\n",
    "\n",
    "    while keyChoice < 1:   \n",
    "        print(lines)\n",
    "        keyChoice = int(input(\"Choose from 1 to \" +  str(len(keys))+\": \"))\n",
    "        \n",
    "        if (keyChoice > 0) and (keyChoice <= len(keys)):\n",
    "            return keyChoice\n",
    "        print(str(keyChoice) + \" is not in range\")\n",
    "        keyChoice = -1\n",
    "    return keyChoice\n",
    "    "
   ]
  },
  {
   "cell_type": "code",
   "execution_count": null,
   "metadata": {},
   "outputs": [
    {
     "name": "stdout",
     "output_type": "stream",
     "text": [
      "1 👠 \u001b[31mMiss Scarlet\u001b[0m\n",
      "2 🧐 \u001b[33mColonel Mustard\u001b[0m\n",
      "3 ♡ \u001b[37m Mrs. White\u001b[0m\n",
      "4*🐉 \u001b[32mMr. Green\u001b[0m\n",
      "5*🍆 \u001b[35mProfessor Plum\u001b[0m        ♡, 🐉, 🍆\n",
      "6 🦚 \u001b[34mMrs. Peacock\u001b[0m          👠, 🍆\n"
     ]
    },
    {
     "name": "stdin",
     "output_type": "stream",
     "text": [
      "Choose from 1 to 6:  3\n"
     ]
    },
    {
     "data": {
      "text/plain": [
       "3"
      ]
     },
     "execution_count": null,
     "metadata": {},
     "output_type": "execute_result"
    }
   ],
   "source": [
    "wKeys = [[1,x] for x in range(len(model.people))]\n",
    "chooseKey(wKeys,1,agame,amoves)"
   ]
  },
  {
   "cell_type": "code",
   "execution_count": null,
   "metadata": {},
   "outputs": [
    {
     "name": "stdout",
     "output_type": "stream",
     "text": [
      "1*👠 \u001b[31mMiss Scarlet\u001b[0m\n",
      "2*🧐 \u001b[33mColonel Mustard\u001b[0m\n",
      "3 ♡ \u001b[37m Mrs. White\u001b[0m\n",
      "4 🐉 \u001b[32mMr. Green\u001b[0m\n",
      "5*🍆 \u001b[35mProfessor Plum\u001b[0m        ♡, 🐉, 🍆\n",
      "6*🦚 \u001b[34mMrs. Peacock\u001b[0m          👠, 🍆\n"
     ]
    },
    {
     "name": "stdin",
     "output_type": "stream",
     "text": [
      "Choose from 1 to 6:  2\n"
     ]
    },
    {
     "data": {
      "text/plain": [
       "2"
      ]
     },
     "execution_count": null,
     "metadata": {},
     "output_type": "execute_result"
    }
   ],
   "source": [
    "wKeys = [[1,x] for x in range(len(model.people))]\n",
    "chooseKey(wKeys,2,agame,amoves)"
   ]
  },
  {
   "cell_type": "code",
   "execution_count": null,
   "metadata": {},
   "outputs": [],
   "source": [
    "#| export\n",
    "def showMultipleKey(keys,headers,playerID,game,moves):\n",
    "    d = {}\n",
    "    for i in range(len(keys)):\n",
    "        col = getChoices(keys[i],playerID,game,moves,False)\n",
    "        d[headers[i]] = col\n",
    "        \n",
    "    \n",
    "    dataf = pd.DataFrame.from_dict(d)\n",
    "    dataf.index = np.arange(1, len(dataf) + 1)\n",
    "    return dataf\n",
    "    \n",
    "\n",
    "\n",
    "    \n",
    "def choosePandW(playerID,game,moves):\n",
    "    i = 1\n",
    "    #ml = max([len(x[0]) for x in hand])\n",
    "\n",
    "    pKeys = [[1,x] for x in range(len(model.people))]\n",
    "    wKeys = [[2,x] for x in range(len(model.weapons))]\n",
    "    df = showMultipleKey([pKeys,wKeys],[\"People\",\"Weapons\"],playerID,game,moves)\n",
    "\n",
    "    \n",
    "\n",
    "    print(tabulate.tabulate(df, showindex=True, headers=df.columns))\n",
    "    keyChoice, y = [int(x) for x in input().split()] \n",
    "    return keyChoice, y\n",
    "        "
   ]
  },
  {
   "cell_type": "code",
   "execution_count": null,
   "metadata": {},
   "outputs": [
    {
     "name": "stdout",
     "output_type": "stream",
     "text": [
      "    People                                Weapons\n",
      "--  ------------------------------------  --------------------------------\n",
      " 1  *👠 \u001b[31mMiss Scarlet\u001b[0m                      🔪 \u001b[36mKnife\u001b[0m                  🐉, 🍆\n",
      " 2  *🧐 \u001b[33mColonel Mustard\u001b[0m                   🔫 \u001b[36mRevolver\u001b[0m\n",
      " 3  ♡ \u001b[37m Mrs. White\u001b[0m                         🪢 \u001b[36mRope\u001b[0m\n",
      " 4  🐉 \u001b[32mMr. Green\u001b[0m                          🔧 \u001b[36mWrench\u001b[0m\n",
      " 5  *🍆 \u001b[35mProfessor Plum\u001b[0m         ♡, 🐉, 🍆  *🕯️ \u001b[36mCandlestick\u001b[0m\n",
      " 6  *🦚 \u001b[34mMrs. Peacock\u001b[0m           👠, 🍆     🪠 \u001b[36mLead Pipe\u001b[0m\n"
     ]
    },
    {
     "name": "stdin",
     "output_type": "stream",
     "text": [
      " 3 4\n"
     ]
    },
    {
     "data": {
      "text/plain": [
       "(3, 4)"
      ]
     },
     "execution_count": null,
     "metadata": {},
     "output_type": "execute_result"
    }
   ],
   "source": [
    "#hide\n",
    "choosePandW(2,agame,amoves)"
   ]
  },
  {
   "cell_type": "code",
   "execution_count": null,
   "metadata": {},
   "outputs": [],
   "source": []
  },
  {
   "cell_type": "code",
   "execution_count": null,
   "metadata": {},
   "outputs": [],
   "source": []
  },
  {
   "cell_type": "markdown",
   "metadata": {},
   "source": [
    "## board mechanics"
   ]
  },
  {
   "cell_type": "code",
   "execution_count": null,
   "metadata": {},
   "outputs": [],
   "source": [
    "#| export\n",
    "def playerMarker(i):\n",
    "    info = model.people[i]\n",
    "    color,icon, name = info[1:]\n",
    "\n",
    "    return colored(name[0],color)\n",
    "   \n",
    "    \n"
   ]
  },
  {
   "cell_type": "code",
   "execution_count": null,
   "metadata": {},
   "outputs": [
    {
     "name": "stdout",
     "output_type": "stream",
     "text": [
      "\u001b[31mS\u001b[0m\n"
     ]
    }
   ],
   "source": [
    "print(playerMarker(0))"
   ]
  },
  {
   "cell_type": "code",
   "execution_count": null,
   "metadata": {},
   "outputs": [],
   "source": [
    "def notInHands(game,moves):\n",
    "    ret = dict()\n",
    "    \n",
    "    for x in moves:\n",
    "        \n",
    "        \n",
    "        thePasses = passedOnResponse(x,game) \n",
    "        \n",
    "        if len(thePasses) > 0:\n",
    "            shown = x[-1]\n",
    "            if shown in ret:\n",
    "                addToMe = ret[shown]\n",
    "            else:\n",
    "                addToMe = set()\n",
    "            for aPass in thePasses:\n",
    "                addToMe.add(aPass)\n",
    "            ret[shown] = addToMe\n",
    "                \n",
    "       \n",
    "    return ret"
   ]
  },
  {
   "cell_type": "code",
   "execution_count": null,
   "metadata": {},
   "outputs": [],
   "source": [
    "#| export\n",
    "def roomFor(i,ch,where,visited):\n",
    "    #print(i)\n",
    " \n",
    "    if i<1:\n",
    "        return \"\"\n",
    "    adds = \"\"\n",
    "    \n",
    "    peeps = \", \".join([playerMarker(x) for x in where[i-1]])\n",
    "\n",
    "    try:\n",
    "        x = ch.index(i-1)\n",
    "        adds = str(x+1) +\") \"\n",
    "    except:\n",
    "        adds = \"\"\n",
    "        #print(i)\n",
    "\n",
    "    roomName = model.rooms[i-1][0]\n",
    "    k = model.keyCard(3,i-1)\n",
    "    \n",
    "    if k in visited:\n",
    "        roomName = colored(roomName,\"red\")\n",
    "        \n",
    "\n",
    "    \n",
    "    return adds + roomName +\"\\n   \" + peeps\n",
    "    \n",
    "def showBoard(pc,game,moves):\n",
    "    roomCount = len(model.rooms)\n",
    "    \n",
    "    where = [[] for x in range(roomCount)]\n",
    "    ploc = game[-1]\n",
    "    #print(ploc)\n",
    "    for i in range(len(ploc)):\n",
    "        suspect = i + 1\n",
    "        room = model.roomOf(suspect,game)\n",
    "        where[room].append(i)\n",
    "\n",
    "    visited  = set(model.getSeen(pc,game, moves))\n",
    "    \n",
    "    lines = [[1,2,3],[9,0,4],[8,0,5],[0,7,6]]\n",
    "    \n",
    "    playerRoom = model.roomOf(pc,game)\n",
    "    b = model.roomsAround(playerRoom)\n",
    "\n",
    "    m = []\n",
    "\n",
    "    for x in lines:\n",
    "        m.append([roomFor(i,b,where,visited) for i in x])\n",
    "    print(tabulate.tabulate(m,  tablefmt=\"fancy_grid\"))"
   ]
  },
  {
   "cell_type": "code",
   "execution_count": null,
   "metadata": {},
   "outputs": [
    {
     "name": "stdout",
     "output_type": "stream",
     "text": [
      "╒══════════════╤═══════════════╤══════════════╕\n",
      "│ 3) Ball Room │ Billiard Room │ \u001b[31mConservatory\u001b[0m │\n",
      "│              │    \u001b[33mM\u001b[0m          │    \u001b[37mW\u001b[0m         │\n",
      "├──────────────┼───────────────┼──────────────┤\n",
      "│ 2) Study     │               │ Dining Room  │\n",
      "│    \u001b[31mS\u001b[0m         │               │    \u001b[34mP\u001b[0m         │\n",
      "├──────────────┼───────────────┼──────────────┤\n",
      "│ 1) Library   │               │ Hall         │\n",
      "│              │               │    \u001b[32mG\u001b[0m         │\n",
      "├──────────────┼───────────────┼──────────────┤\n",
      "│              │ \u001b[31mLounge\u001b[0m        │ Kitchen      │\n",
      "│              │               │    \u001b[35mP\u001b[0m         │\n",
      "╘══════════════╧═══════════════╧══════════════╛\n"
     ]
    }
   ],
   "source": [
    "showBoard(1,agame,amoves)"
   ]
  },
  {
   "cell_type": "code",
   "execution_count": null,
   "metadata": {},
   "outputs": [],
   "source": []
  },
  {
   "cell_type": "code",
   "execution_count": null,
   "metadata": {},
   "outputs": [],
   "source": [
    "#| export\n",
    "def showLocations(game):\n",
    "    ploc = game[-1]\n",
    "\n",
    "    for i in range(len(ploc)):\n",
    "        pc = i + 1\n",
    "        person = model.people[i]\n",
    "        d = cardFull(person)\n",
    "        room = model.roomOf(pc,game)\n",
    "        loc = cardFull(model.cardLookup(3,room))\n",
    "        d = \"[\" + str(i+1) + \"] \" + d  + \" is in \" + loc \n",
    "        print(d)"
   ]
  },
  {
   "cell_type": "code",
   "execution_count": null,
   "metadata": {},
   "outputs": [
    {
     "name": "stdout",
     "output_type": "stream",
     "text": [
      "[1] 👠 \u001b[31mMiss Scarlet\u001b[0m is in \u001b[30mStudy\u001b[0m\n",
      "[2] 🧐 \u001b[33mColonel Mustard\u001b[0m is in \u001b[30mBilliard Room\u001b[0m\n",
      "[3] ♡ \u001b[37m Mrs. White\u001b[0m is in \u001b[30mConservatory\u001b[0m\n",
      "[4] 🐉 \u001b[32mMr. Green\u001b[0m is in \u001b[30mHall\u001b[0m\n",
      "[5] 🍆 \u001b[35mProfessor Plum\u001b[0m is in \u001b[30mKitchen\u001b[0m\n",
      "[6] 🦚 \u001b[34mMrs. Peacock\u001b[0m is in \u001b[30mDining Room\u001b[0m\n",
      "Solution\n",
      "🦚 \u001b[34mMrs. Peacock\u001b[0m, 🪢 \u001b[36mRope\u001b[0m, \u001b[30mBilliard Room\u001b[0m\n",
      "\n",
      "           [1] 👠 \u001b[31mMiss Scarlet\u001b[0m is in \u001b[30mStudy\u001b[0m           \n",
      "\u001b[30mLibrary\u001b[0m, 🍆 \u001b[35mProfessor Plum\u001b[0m, 🔪 \u001b[36mKnife\u001b[0m, \u001b[30mDining Room\u001b[0m, 🔧 \u001b[36mWrench\u001b[0m\n",
      "\n",
      "     [2] 🧐 \u001b[33mColonel Mustard\u001b[0m is in \u001b[30mBilliard Room\u001b[0m      \n",
      "\u001b[30mBall Room\u001b[0m, \u001b[30mConservatory\u001b[0m, \u001b[30mLounge\u001b[0m, 🪠 \u001b[36mLead Pipe\u001b[0m, \u001b[30mHall\u001b[0m\n",
      "\n",
      "        [3] ♡ \u001b[37m Mrs. White\u001b[0m is in \u001b[30mConservatory\u001b[0m        \n",
      "👠 \u001b[31mMiss Scarlet\u001b[0m, \u001b[30mKitchen\u001b[0m, 🐉 \u001b[32mMr. Green\u001b[0m, 🕯️ \u001b[36mCandlestick\u001b[0m\n",
      "\n",
      "             [4] 🐉 \u001b[32mMr. Green\u001b[0m is in \u001b[30mHall\u001b[0m             \n",
      "🔫 \u001b[36mRevolver\u001b[0m, ♡ \u001b[37m Mrs. White\u001b[0m, \u001b[30mStudy\u001b[0m, 🧐 \u001b[33mColonel Mustard\u001b[0m\n"
     ]
    }
   ],
   "source": [
    "#| hide\n",
    "showLocations(agame)\n",
    "printGame(agame)"
   ]
  },
  {
   "cell_type": "code",
   "execution_count": null,
   "metadata": {},
   "outputs": [],
   "source": []
  },
  {
   "cell_type": "code",
   "execution_count": null,
   "metadata": {},
   "outputs": [],
   "source": []
  },
  {
   "cell_type": "code",
   "execution_count": null,
   "metadata": {},
   "outputs": [],
   "source": [
    "\n",
    "\n",
    "                   \n",
    "    \n",
    "    \n",
    "            "
   ]
  },
  {
   "cell_type": "code",
   "execution_count": null,
   "metadata": {},
   "outputs": [],
   "source": []
  },
  {
   "cell_type": "code",
   "execution_count": null,
   "metadata": {},
   "outputs": [],
   "source": [
    "#| hide\n",
    "import nbdev; nbdev.nbdev_export()"
   ]
  }
 ],
 "metadata": {
  "kernelspec": {
   "display_name": "Python 3 (ipykernel)",
   "language": "python",
   "name": "python3"
  },
  "language_info": {
   "codemirror_mode": {
    "name": "ipython",
    "version": 3
   },
   "file_extension": ".py",
   "mimetype": "text/x-python",
   "name": "python",
   "nbconvert_exporter": "python",
   "pygments_lexer": "ipython3",
   "version": "3.11.0"
  }
 },
 "nbformat": 4,
 "nbformat_minor": 4
}
