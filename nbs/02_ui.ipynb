{
 "cells": [
  {
   "cell_type": "markdown",
   "metadata": {},
   "source": [
    "# ui\n",
    "\n",
    "> Fill in a module description here"
   ]
  },
  {
   "cell_type": "code",
   "execution_count": null,
   "metadata": {},
   "outputs": [],
   "source": [
    "#| default_exp ui"
   ]
  },
  {
   "cell_type": "code",
   "execution_count": null,
   "metadata": {},
   "outputs": [
    {
     "name": "stdout",
     "output_type": "stream",
     "text": [
      "Collecting package metadata (current_repodata.json): done\n",
      "Solving environment: done\n",
      "\n",
      "\n",
      "==> WARNING: A newer version of conda exists. <==\n",
      "  current version: 4.11.0\n",
      "  latest version: 23.11.0\n",
      "\n",
      "Please update conda by running\n",
      "\n",
      "    $ conda update -n base -c defaults conda\n",
      "\n",
      "\n",
      "\n",
      "## Package Plan ##\n",
      "\n",
      "  environment location: /Users/arthurconner/opt/anaconda3/envs/clue\n",
      "\n",
      "  added / updated specs:\n",
      "    - pandas\n",
      "\n",
      "\n",
      "The following packages will be downloaded:\n",
      "\n",
      "    package                    |            build\n",
      "    ---------------------------|-----------------\n",
      "    bottleneck-1.3.5           |  py311hb9e55a9_0         138 KB\n",
      "    certifi-2023.11.17         |  py311hecd8cb5_0         160 KB\n",
      "    intel-openmp-2023.1.0      |   ha357a0b_43548         638 KB\n",
      "    mkl-2023.1.0               |   h8e150cf_43560       181.0 MB\n",
      "    mkl-service-2.4.0          |  py311h6c40b1e_1          43 KB\n",
      "    mkl_fft-1.3.8              |  py311h6c40b1e_0         204 KB\n",
      "    mkl_random-1.2.4           |  py311ha357a0b_0         272 KB\n",
      "    numexpr-2.8.7              |  py311h728a8a3_0         162 KB\n",
      "    numpy-1.26.2               |  py311h728a8a3_0          11 KB\n",
      "    numpy-base-1.26.2          |  py311h53bf9ac_0         7.9 MB\n",
      "    pandas-2.1.1               |  py311hdb55bb0_0        14.3 MB\n",
      "    python-tzdata-2023.3       |     pyhd3eb1b0_0         140 KB\n",
      "    ------------------------------------------------------------\n",
      "                                           Total:       204.9 MB\n",
      "\n",
      "The following NEW packages will be INSTALLED:\n",
      "\n",
      "  blas               pkgs/main/osx-64::blas-1.0-mkl\n",
      "  bottleneck         pkgs/main/osx-64::bottleneck-1.3.5-py311hb9e55a9_0\n",
      "  intel-openmp       pkgs/main/osx-64::intel-openmp-2023.1.0-ha357a0b_43548\n",
      "  mkl                pkgs/main/osx-64::mkl-2023.1.0-h8e150cf_43560\n",
      "  mkl-service        pkgs/main/osx-64::mkl-service-2.4.0-py311h6c40b1e_1\n",
      "  mkl_fft            pkgs/main/osx-64::mkl_fft-1.3.8-py311h6c40b1e_0\n",
      "  mkl_random         pkgs/main/osx-64::mkl_random-1.2.4-py311ha357a0b_0\n",
      "  numexpr            pkgs/main/osx-64::numexpr-2.8.7-py311h728a8a3_0\n",
      "  numpy              pkgs/main/osx-64::numpy-1.26.2-py311h728a8a3_0\n",
      "  numpy-base         pkgs/main/osx-64::numpy-base-1.26.2-py311h53bf9ac_0\n",
      "  pandas             pkgs/main/osx-64::pandas-2.1.1-py311hdb55bb0_0\n",
      "  python-tzdata      pkgs/main/noarch::python-tzdata-2023.3-pyhd3eb1b0_0\n",
      "  tbb                pkgs/main/osx-64::tbb-2021.8.0-ha357a0b_0\n",
      "\n",
      "The following packages will be SUPERSEDED by a higher-priority channel:\n",
      "\n",
      "  ca-certificates    conda-forge::ca-certificates-2023.11.~ --> pkgs/main::ca-certificates-2023.08.22-hecd8cb5_0\n",
      "  certifi            conda-forge/noarch::certifi-2023.11.1~ --> pkgs/main/osx-64::certifi-2023.11.17-py311hecd8cb5_0\n",
      "  openssl             conda-forge::openssl-3.2.0-hd75f5a5_1 --> pkgs/main::openssl-3.0.12-hca72f7f_0\n",
      "\n",
      "\n",
      "Proceed ([y]/n)? "
     ]
    }
   ],
   "source": [
    "#| hide\n",
    "#from nbdev.showdoc import *\n",
    "#!conda install pandas"
   ]
  },
  {
   "cell_type": "code",
   "execution_count": null,
   "metadata": {},
   "outputs": [],
   "source": [
    "#| export\n",
    "\n",
    "from termcolor import colored\n",
    "from random import shuffle, randint, sample\n",
    "import emoji\n",
    "import tabulate\n",
    "import pandas as pd\n",
    "import numpy as np"
   ]
  },
  {
   "cell_type": "code",
   "execution_count": null,
   "metadata": {},
   "outputs": [],
   "source": [
    "#| export\n",
    "import clue.model as model"
   ]
  },
  {
   "cell_type": "code",
   "execution_count": null,
   "metadata": {},
   "outputs": [],
   "source": [
    "#| export\n",
    "def cardFull(info):\n",
    "    name,color, icon = info[:3]\n",
    "    if len(icon) > 0:\n",
    "        ret = icon + \" \" + colored(name,color)\n",
    "    else:\n",
    "        ret = colored(name,color)\n",
    "    \n",
    "    return ret\n",
    "\n",
    "def cardUncolor(info):\n",
    "    name,color, icon = info[:3]\n",
    "    if len(icon) > 0:\n",
    "        ret = icon + \" \" + name\n",
    "    else:\n",
    "        ret = name\n",
    "    \n",
    "    return ret\n",
    "\n",
    "def cardShort(info):\n",
    "    if len(info) < 3:\n",
    "        return cardFull(info)\n",
    "    color,icon, name = info[1:]\n",
    "    if len(icon) > 0:\n",
    "        ret = icon + \" \" + colored(name,color)\n",
    "    else:\n",
    "        ret = colored(name,color)\n",
    "   \n",
    "    return  ret\n"
   ]
  },
  {
   "cell_type": "code",
   "execution_count": null,
   "metadata": {},
   "outputs": [
    {
     "data": {
      "text/plain": [
       "('👠 \\x1b[31mhi\\x1b[0m', '👠 \\x1b[31mScar.\\x1b[0m')"
      ]
     },
     "execution_count": null,
     "metadata": {},
     "output_type": "execute_result"
    }
   ],
   "source": [
    "#| hide\n",
    "sampleC = [\"hi\",\"red\",u\"\\U0001f460\",\"Scar.\"]\n",
    "\n",
    "cardFull(sampleC),cardShort(sampleC)"
   ]
  },
  {
   "cell_type": "code",
   "execution_count": null,
   "metadata": {},
   "outputs": [],
   "source": []
  },
  {
   "cell_type": "code",
   "execution_count": null,
   "metadata": {},
   "outputs": [],
   "source": [
    "#| export\n",
    "def cIndentity(x):\n",
    "  return x[0]\n",
    "    \n",
    "def printHand(hand,view=cIndentity):\n",
    "    container = []\n",
    "    line = [view(card) for card in hand]\n",
    "    print(', '.join(line))\n",
    "\n",
    "def printPlayerHand(player,game):\n",
    "    hand = [model.keyLookUp(x) for x in model.handOf(player,game)]\n",
    "    printHand(hand,cardFull)\n",
    "            \n"
   ]
  },
  {
   "cell_type": "code",
   "execution_count": null,
   "metadata": {},
   "outputs": [],
   "source": []
  },
  {
   "cell_type": "code",
   "execution_count": null,
   "metadata": {},
   "outputs": [
    {
     "name": "stdout",
     "output_type": "stream",
     "text": [
      "\u001b[36mHall\u001b[0m, \u001b[36mBall Room\u001b[0m, 👠 \u001b[31mMiss Scarlet\u001b[0m\n"
     ]
    }
   ],
   "source": [
    "#| hide\n",
    "#printHand(model.people)\n",
    "pgame = model.createClue(6)\n",
    "printPlayerHand(2,pgame)"
   ]
  },
  {
   "cell_type": "code",
   "execution_count": null,
   "metadata": {},
   "outputs": [],
   "source": []
  },
  {
   "cell_type": "code",
   "execution_count": null,
   "metadata": {},
   "outputs": [
    {
     "name": "stdout",
     "output_type": "stream",
     "text": [
      "👠 \u001b[31mMiss Scarlet\u001b[0m, 🧐 \u001b[33mColonel Mustard\u001b[0m, ♡ \u001b[37m Mrs. White\u001b[0m, 🐉 \u001b[32mMr. Green\u001b[0m, 🍆 \u001b[35mProfessor Plum\u001b[0m, 🦚 \u001b[34mMrs. Peacock\u001b[0m\n",
      "👠 \u001b[31mScar.\u001b[0m, 🧐 \u001b[33mMust.\u001b[0m, ♡ \u001b[37mWhite\u001b[0m, 🐉 \u001b[32mGreen\u001b[0m, 🍆 \u001b[35mPlum \u001b[0m, 🦚 \u001b[34mPeac.\u001b[0m\n"
     ]
    }
   ],
   "source": [
    "#| hide\n",
    "printHand(model.people,cardFull)\n",
    "printHand(model.people,cardShort)"
   ]
  },
  {
   "cell_type": "code",
   "execution_count": null,
   "metadata": {},
   "outputs": [],
   "source": [
    "\n",
    "    \n",
    "\n",
    "            \n",
    "\n"
   ]
  },
  {
   "cell_type": "code",
   "execution_count": null,
   "metadata": {},
   "outputs": [],
   "source": []
  },
  {
   "cell_type": "code",
   "execution_count": null,
   "metadata": {},
   "outputs": [],
   "source": []
  },
  {
   "cell_type": "code",
   "execution_count": null,
   "metadata": {},
   "outputs": [],
   "source": [
    "#| export\n",
    "\n",
    "\n",
    "\n",
    "def printPlayer(game,i):\n",
    "    ploc = game[-1]\n",
    "    person = model.people[i-1]\n",
    "    d = cardFull(person)\n",
    "    loc = cardFull(model.cardLookup(3,ploc[i-1]))\n",
    "    d = \"[\" + str(i) + \"] \" + d  + \" is in \" + loc \n",
    "    print(\"\\n\" + d.center(70,\" \"))\n",
    " \n",
    "    ahand = game[i]\n",
    "    maps = [model.keyLookUp(x) for x in ahand]\n",
    "    printHand(maps,cardFull)\n",
    "\n",
    "    \n",
    "def printGame(game):\n",
    "    print(\"Solution\")\n",
    "    ahand = game[0]\n",
    "   \n",
    "    maps = [model.keyLookUp(x) for x in ahand]\n",
    "    printHand(maps,cardFull)\n",
    "    for i in range(1,len(game)-1):\n",
    "        printPlayer(game,i)\n",
    "        \n",
    "\n",
    "\n",
    "     \n",
    "       "
   ]
  },
  {
   "cell_type": "code",
   "execution_count": null,
   "metadata": {},
   "outputs": [
    {
     "name": "stdout",
     "output_type": "stream",
     "text": [
      "Solution\n",
      "♡ \u001b[37m Mrs. White\u001b[0m, 🪢 \u001b[36mRope\u001b[0m, \u001b[36mBall Room\u001b[0m\n",
      "\n",
      "         [1] 👠 \u001b[31mMiss Scarlet\u001b[0m is in \u001b[36mBall Room\u001b[0m         \n",
      "\u001b[36mBilliard Room\u001b[0m, 🐉 \u001b[32mMr. Green\u001b[0m, 🔧 \u001b[36mWrench\u001b[0m, 🍆 \u001b[35mProfessor Plum\u001b[0m, 🔪 \u001b[36mKnife\u001b[0m\n",
      "\n",
      "          [2] 🧐 \u001b[33mColonel Mustard\u001b[0m is in \u001b[36mHall\u001b[0m          \n",
      "👠 \u001b[31mMiss Scarlet\u001b[0m, 🕯️ \u001b[36mCandlestick\u001b[0m, \u001b[36mHall\u001b[0m, 🦚 \u001b[34mMrs. Peacock\u001b[0m, 🧐 \u001b[33mColonel Mustard\u001b[0m\n",
      "\n",
      "           [3] ♡ \u001b[37m Mrs. White\u001b[0m is in \u001b[36mLounge\u001b[0m           \n",
      "\u001b[30mStudy\u001b[0m, \u001b[30mLibrary\u001b[0m, \u001b[36mConservatory\u001b[0m, \u001b[36mDining Room\u001b[0m\n",
      "\n",
      "            [4] 🐉 \u001b[32mMr. Green\u001b[0m is in \u001b[30mStudy\u001b[0m             \n",
      "🔫 \u001b[36mRevolver\u001b[0m, 🪠 \u001b[36mLead Pipe\u001b[0m, \u001b[36mLounge\u001b[0m, \u001b[36mKitchen\u001b[0m\n"
     ]
    },
    {
     "data": {
      "text/plain": [
       "([0, 4, 6, 8, 3, 5],\n",
       " [['Ball Room', 'cyan', '', 'Ball'],\n",
       "  ['Billiard Room', 'cyan', '', 'Bill'],\n",
       "  ['Conservatory', 'cyan', '', 'Consv'],\n",
       "  ['Dining Room', 'cyan', '', 'Dining'],\n",
       "  ['Hall', 'cyan', '', 'Hall'],\n",
       "  ['Kitchen', 'cyan', '', 'Kitch'],\n",
       "  ['Lounge', 'cyan', '', 'Lounge'],\n",
       "  ['Library', 'grey', '', 'Lib'],\n",
       "  ['Study', 'grey', '', 'Study']])"
      ]
     },
     "execution_count": null,
     "metadata": {},
     "output_type": "execute_result"
    }
   ],
   "source": [
    "#| hide\n",
    "agame = model.createClue(4)\n",
    "amoves = []\n",
    "printGame(agame)\n",
    "agame[-1], model.rooms"
   ]
  },
  {
   "cell_type": "code",
   "execution_count": null,
   "metadata": {},
   "outputs": [],
   "source": [
    "#| hide\n"
   ]
  },
  {
   "cell_type": "markdown",
   "metadata": {},
   "source": [
    "## Response and Answer\n",
    "    \n",
    "        \n"
   ]
  },
  {
   "cell_type": "code",
   "execution_count": null,
   "metadata": {},
   "outputs": [],
   "source": [
    "#| export\n",
    "def showChoice(guess):\n",
    "    p,w,l = guess[:3]\n",
    "    ret = cardFull(model.cardLookup(1,p))\n",
    "    ret = ret + \" with the \" + cardFull(model.cardLookup(2,w))\n",
    "    ret = ret + \" in the \" + cardFull(model.cardLookup(3,l))\n",
    "    return ret\n",
    "    "
   ]
  },
  {
   "cell_type": "code",
   "execution_count": null,
   "metadata": {},
   "outputs": [
    {
     "name": "stdout",
     "output_type": "stream",
     "text": [
      "👠 \u001b[31mMiss Scarlet\u001b[0m with the 🪢 \u001b[36mRope\u001b[0m in the \u001b[30mLibrary\u001b[0m\n"
     ]
    }
   ],
   "source": [
    "#| hide\n",
    "aguess = (0,2,7)\n",
    "print(showChoice(aguess))"
   ]
  },
  {
   "cell_type": "code",
   "execution_count": null,
   "metadata": {},
   "outputs": [
    {
     "data": {
      "text/plain": [
       "((0, 2, 7, 1, 4, 100),\n",
       " '👠 \\x1b[31mMiss Scarlet\\x1b[0m with the 🪢 \\x1b[36mRope\\x1b[0m in the \\x1b[30mLibrary\\x1b[0m')"
      ]
     },
     "execution_count": null,
     "metadata": {},
     "output_type": "execute_result"
    }
   ],
   "source": [
    "#| hide\n",
    "aresponse =  model.responseToGuess(aguess,1,4, model.keysForGuess(aguess)[0])\n",
    "aresponse, showChoice(aresponse)"
   ]
  },
  {
   "cell_type": "code",
   "execution_count": null,
   "metadata": {},
   "outputs": [],
   "source": [
    "#| hide\n",
    "amoves.append(aresponse)"
   ]
  },
  {
   "cell_type": "code",
   "execution_count": null,
   "metadata": {},
   "outputs": [
    {
     "data": {
      "text/plain": [
       "[(3, 0, 4, 3, 1, 200),\n",
       " (2, 5, 4, 1, 2, 304),\n",
       " (5, 1, 2, 4, 2, 105),\n",
       " (4, 1, 2, 2, 3, 302),\n",
       " (4, 5, 0, 4, 1, 104),\n",
       " (4, 4, 4, 2, 1, 104),\n",
       " (1, 0, 0, 4, 1, 200)]"
      ]
     },
     "execution_count": null,
     "metadata": {},
     "output_type": "execute_result"
    }
   ],
   "source": [
    "#| hide\n",
    "amoves=[]\n",
    "for x in range(7):\n",
    "    pc = randint(1,4)\n",
    "    p = randint(0,5)\n",
    "    w =  randint(0,5)\n",
    "    l = randint(0,5)\n",
    "    aguess = (p,w,l)\n",
    "    aresponse =  model.getAnswer(pc,agame,aguess)\n",
    "    if aresponse[0] > -1:\n",
    "        amoves.append(aresponse)\n",
    "\n",
    "\n",
    "        \n",
    "\n",
    "amoves"
   ]
  },
  {
   "cell_type": "code",
   "execution_count": null,
   "metadata": {},
   "outputs": [],
   "source": [
    "#| export\n",
    "def wrapL(s,f,l):\n",
    "    show = set([s-1])\n",
    "    s += 1\n",
    "    if s > l:\n",
    "        s = 1\n",
    "    while s != f:\n",
    "        show.add(s-1)\n",
    "        s += 1\n",
    "        if s > l:\n",
    "            s = 1\n",
    "    show.add(f-1)\n",
    "    \n",
    "    ret = \"\"\n",
    "    for x in range(l):\n",
    "        if x in show:\n",
    "            ret += model.people[x][2]\n",
    "        else:\n",
    "            ret += \"❓\" \n",
    "    return ret\n",
    "        \n",
    "def showMoves(pc,moves,plMax):\n",
    "    for answer in moves:\n",
    "        p,w,l,asker, answered,shown = answer\n",
    "        line = model.people[asker-1][2] + \"  asks \"\n",
    "        line += \"(\" + model.people[p][2] + \" &  \" + model.weapons[w][2] + \" in the \"       \n",
    "        line += ( model.rooms[w][0] +\") \").ljust(15,\"-\")\n",
    "        line += \"->\" + wrapL(asker,answered,plMax)\n",
    "        if asker == pc or pc < 0 :\n",
    "            k =  int(shown/100)\n",
    "            s = shown%100\n",
    "            if k == 3:\n",
    "                s -= 1\n",
    "                     \n",
    "             \n",
    "            line += \" shows \" + cardFull(model.cardLookup(k,s))\n",
    "        print(line)\n",
    "        \n",
    "#showMoves(1,amoves,4)     \n",
    "        \n"
   ]
  },
  {
   "cell_type": "code",
   "execution_count": null,
   "metadata": {},
   "outputs": [
    {
     "data": {
      "text/plain": [
       "(':question:', '🥼')"
      ]
     },
     "execution_count": null,
     "metadata": {},
     "output_type": "execute_result"
    }
   ],
   "source": [
    "emoji.emojize(\":question:\"),u\"\\U0001F97C\""
   ]
  },
  {
   "cell_type": "code",
   "execution_count": null,
   "metadata": {},
   "outputs": [
    {
     "data": {
      "text/plain": [
       "[301, 103, 203, 104, 200, 304]"
      ]
     },
     "execution_count": null,
     "metadata": {},
     "output_type": "execute_result"
    }
   ],
   "source": [
    "#| hide\n",
    "model.getSeen(1,agame,amoves)"
   ]
  },
  {
   "cell_type": "code",
   "execution_count": null,
   "metadata": {},
   "outputs": [
    {
     "data": {
      "text/plain": [
       "(0, 2, 7, 1, 4, 100)"
      ]
     },
     "execution_count": null,
     "metadata": {},
     "output_type": "execute_result"
    }
   ],
   "source": [
    "aresponse"
   ]
  },
  {
   "cell_type": "code",
   "execution_count": null,
   "metadata": {},
   "outputs": [],
   "source": [
    "\n",
    "    \n"
   ]
  },
  {
   "cell_type": "code",
   "execution_count": null,
   "metadata": {},
   "outputs": [],
   "source": [
    "#| hide\n",
    "g = model.passedOnResponse(aresponse,agame)"
   ]
  },
  {
   "cell_type": "code",
   "execution_count": null,
   "metadata": {},
   "outputs": [],
   "source": [
    "#| export\n",
    "def iconOfPlayers(pList):\n",
    "    pList.sort()\n",
    "    return \", \".join([model.people[x-1][2] for x in pList if x>0] )\n",
    "    "
   ]
  },
  {
   "cell_type": "code",
   "execution_count": null,
   "metadata": {},
   "outputs": [
    {
     "data": {
      "text/plain": [
       "'🍆'"
      ]
     },
     "execution_count": null,
     "metadata": {},
     "output_type": "execute_result"
    }
   ],
   "source": [
    "#| hide\n",
    "iconOfPlayers(g)"
   ]
  },
  {
   "cell_type": "code",
   "execution_count": null,
   "metadata": {},
   "outputs": [],
   "source": [
    "b = model.notInHands(agame,amoves)\n"
   ]
  },
  {
   "cell_type": "code",
   "execution_count": null,
   "metadata": {},
   "outputs": [
    {
     "name": "stdout",
     "output_type": "stream",
     "text": [
      "[(3, 0, 4, 3, 1, 200), (2, 5, 4, 1, 2, 304), (5, 1, 2, 4, 2, 105), (4, 1, 2, 2, 3, 302), (4, 5, 0, 4, 1, 104), (4, 4, 4, 2, 1, 104), (1, 0, 0, 4, 1, 200)]\n"
     ]
    }
   ],
   "source": [
    "print(amoves)"
   ]
  },
  {
   "cell_type": "code",
   "execution_count": null,
   "metadata": {},
   "outputs": [],
   "source": []
  },
  {
   "cell_type": "code",
   "execution_count": null,
   "metadata": {},
   "outputs": [],
   "source": []
  },
  {
   "cell_type": "code",
   "execution_count": null,
   "metadata": {},
   "outputs": [],
   "source": []
  },
  {
   "cell_type": "markdown",
   "metadata": {},
   "source": [
    "## Input"
   ]
  },
  {
   "cell_type": "code",
   "execution_count": null,
   "metadata": {},
   "outputs": [],
   "source": [
    "def chooseCard(hand,view=cIndentity,showN=True,flag = {}):\n",
    "    container = []\n",
    "    i = 1\n",
    "    ml = max([len(x[0]) for x in hand])\n",
    "\n",
    "    no = \" \"\n",
    "    \n",
    "    for card in hand:\n",
    "        face = view(card)\n",
    "        #face.append(i)\n",
    "        color = card[1]\n",
    "        no = \" \"\n",
    "        if card[0] in flag:\n",
    "            no = \"*\"\n",
    "        if showN:\n",
    "            preamb = str(i) + \")\"\n",
    "        else:\n",
    "            preamb = \"\"\n",
    "        container.append(colored( preamb + no + \" \" ,color) + face)\n",
    "        i += 1\n",
    "    choice = -1\n",
    "    \n",
    "    while choice < 1:\n",
    "        for card in container:\n",
    "            print(card)\n",
    "        choice = int(input(\"Choose from 1 to \" +  str(len(container))+\": \"))\n",
    "       \n",
    "        if (choice > 0) and (choice <= len(container)):\n",
    "            return choice\n",
    "        print(str(choice) + \" is not in range\")\n",
    "        choice = -1"
   ]
  },
  {
   "cell_type": "code",
   "execution_count": null,
   "metadata": {},
   "outputs": [
    {
     "name": "stdout",
     "output_type": "stream",
     "text": [
      "\u001b[31m1)  \u001b[0m👠 \u001b[31mMiss Scarlet\u001b[0m\n",
      "\u001b[33m2)  \u001b[0m🧐 \u001b[33mColonel Mustard\u001b[0m\n",
      "\u001b[37m3)  \u001b[0m♡ \u001b[37m Mrs. White\u001b[0m\n",
      "\u001b[32m4)* \u001b[0m🐉 \u001b[32mMr. Green\u001b[0m\n",
      "\u001b[35m5)  \u001b[0m🍆 \u001b[35mProfessor Plum\u001b[0m\n",
      "\u001b[34m6)  \u001b[0m🦚 \u001b[34mMrs. Peacock\u001b[0m\n"
     ]
    },
    {
     "name": "stdin",
     "output_type": "stream",
     "text": [
      "Choose from 1 to 6:  4\n"
     ]
    },
    {
     "data": {
      "text/plain": [
       "4"
      ]
     },
     "execution_count": null,
     "metadata": {},
     "output_type": "execute_result"
    }
   ],
   "source": [
    "#| hide\n",
    "chooseCard(model.people,cardFull,flag = {\"Mr. Green\"})"
   ]
  },
  {
   "cell_type": "code",
   "execution_count": null,
   "metadata": {},
   "outputs": [
    {
     "name": "stdout",
     "output_type": "stream",
     "text": [
      "\u001b[31m  \u001b[0m👠 \u001b[31mScar.\u001b[0m\n",
      "\u001b[33m  \u001b[0m🧐 \u001b[33mMust.\u001b[0m\n",
      "\u001b[37m  \u001b[0m♡ \u001b[37mWhite\u001b[0m\n",
      "\u001b[32m* \u001b[0m🐉 \u001b[32mGreen\u001b[0m\n",
      "\u001b[35m  \u001b[0m🍆 \u001b[35mPlum \u001b[0m\n",
      "\u001b[34m  \u001b[0m🦚 \u001b[34mPeac.\u001b[0m\n"
     ]
    },
    {
     "name": "stdin",
     "output_type": "stream",
     "text": [
      "Choose from 1 to 6:  4\n"
     ]
    },
    {
     "data": {
      "text/plain": [
       "4"
      ]
     },
     "execution_count": null,
     "metadata": {},
     "output_type": "execute_result"
    }
   ],
   "source": [
    "#| hide\n",
    "chooseCard(model.people,cardShort,False,flag = {\"Mr. Green\"})"
   ]
  },
  {
   "cell_type": "code",
   "execution_count": null,
   "metadata": {},
   "outputs": [],
   "source": [
    "#| export\n",
    "def getChoices(keys,playerID,game,moves,showIndex):\n",
    "\n",
    "    container = []\n",
    "    i = 1\n",
    "    #ml = max([len(x[0]) for x in hand])\n",
    "\n",
    "    passedOn = model.notInHands(game,moves)\n",
    "    flagged = set(model.getSeen(playerID, game, moves))\n",
    "    ret = []\n",
    "    for pair in keys:\n",
    "        no = \" \"\n",
    "        key = model.keyForArray(pair)\n",
    "    \n",
    "        if key in flagged:\n",
    "            no = \"*\"\n",
    "        data = model.cardForArray(pair)\n",
    "        view = cardFull(data)\n",
    "        if showIndex:\n",
    "            preamble = str(i)\n",
    "        else:\n",
    "            preamble = \"\"\n",
    "            #view = cardUncolor(data)\n",
    "        base =  preamble + no + view\n",
    "        if key in passedOn:\n",
    "            shownTo = passedOn[key]\n",
    "            base = base.ljust(35)  + iconOfPlayers(list(shownTo))\n",
    "            \n",
    "        ret.append(base)\n",
    "        i+=1\n",
    "    return ret\n",
    "        \n",
    "    \n",
    "\n",
    "\n",
    "    \n",
    "def chooseKey(keys,playerID,game,moves):\n",
    "    i = 1\n",
    "    #ml = max([len(x[0]) for x in hand])\n",
    "\n",
    "    passedOn = model.notInHands(game,moves)\n",
    "    flagged = set(model.getSeen(playerID, game, moves))\n",
    "    keyChoice = -1\n",
    "    lines = \"\\n\".join(getChoices(keys,playerID,game,moves,True))\n",
    "\n",
    "    while keyChoice < 1:   \n",
    "        print(lines)\n",
    "        keyChoice = int(input(\"Choose from 1 to \" +  str(len(keys))+\": \"))\n",
    "        \n",
    "        if (keyChoice > 0) and (keyChoice <= len(keys)):\n",
    "            return keyChoice\n",
    "        print(str(keyChoice) + \" is not in range\")\n",
    "        keyChoice = -1\n",
    "    return keyChoice\n",
    "    "
   ]
  },
  {
   "cell_type": "code",
   "execution_count": null,
   "metadata": {},
   "outputs": [
    {
     "name": "stdout",
     "output_type": "stream",
     "text": [
      "1 👠 \u001b[31mMiss Scarlet\u001b[0m\n",
      "2 🧐 \u001b[33mColonel Mustard\u001b[0m\n",
      "3 ♡ \u001b[37m Mrs. White\u001b[0m\n",
      "4*🐉 \u001b[32mMr. Green\u001b[0m\n",
      "5*🍆 \u001b[35mProfessor Plum\u001b[0m        ♡, 🐉, 🍆\n",
      "6 🦚 \u001b[34mMrs. Peacock\u001b[0m          👠, 🍆\n"
     ]
    },
    {
     "name": "stdin",
     "output_type": "stream",
     "text": [
      "Choose from 1 to 6:  3\n"
     ]
    },
    {
     "data": {
      "text/plain": [
       "3"
      ]
     },
     "execution_count": null,
     "metadata": {},
     "output_type": "execute_result"
    }
   ],
   "source": [
    "wKeys = [[1,x] for x in range(len(model.people))]\n",
    "chooseKey(wKeys,1,agame,amoves)"
   ]
  },
  {
   "cell_type": "code",
   "execution_count": null,
   "metadata": {},
   "outputs": [
    {
     "name": "stdout",
     "output_type": "stream",
     "text": [
      "1*👠 \u001b[31mMiss Scarlet\u001b[0m\n",
      "2*🧐 \u001b[33mColonel Mustard\u001b[0m\n",
      "3 ♡ \u001b[37m Mrs. White\u001b[0m\n",
      "4 🐉 \u001b[32mMr. Green\u001b[0m\n",
      "5*🍆 \u001b[35mProfessor Plum\u001b[0m        ♡, 🐉, 🍆\n",
      "6*🦚 \u001b[34mMrs. Peacock\u001b[0m          👠, 🍆\n"
     ]
    },
    {
     "name": "stdin",
     "output_type": "stream",
     "text": [
      "Choose from 1 to 6:  2\n"
     ]
    },
    {
     "data": {
      "text/plain": [
       "2"
      ]
     },
     "execution_count": null,
     "metadata": {},
     "output_type": "execute_result"
    }
   ],
   "source": [
    "wKeys = [[1,x] for x in range(len(model.people))]\n",
    "chooseKey(wKeys,2,agame,amoves)"
   ]
  },
  {
   "cell_type": "code",
   "execution_count": null,
   "metadata": {},
   "outputs": [],
   "source": [
    "#| export\n",
    "def showMultipleKey(keys,headers,playerID,game,moves):\n",
    "    d = {}\n",
    "    for i in range(len(keys)):\n",
    "        col = getChoices(keys[i],playerID,game,moves,False)\n",
    "        d[headers[i]] = col\n",
    "        \n",
    "    \n",
    "    dataf = pd.DataFrame.from_dict(d)\n",
    "    dataf.index = np.arange(1, len(dataf) + 1)\n",
    "    return dataf\n",
    "    \n",
    "\n",
    "\n",
    "    \n",
    "def choosePandW(playerID,game,moves):\n",
    "    i = 1\n",
    "    #ml = max([len(x[0]) for x in hand])\n",
    "\n",
    "    pKeys = [[1,x] for x in range(len(model.people))]\n",
    "    wKeys = [[2,x] for x in range(len(model.weapons))]\n",
    "    df = showMultipleKey([pKeys,wKeys],[\"People\",\"Weapons\"],2,game,moves)\n",
    "\n",
    "    \n",
    "\n",
    "    print(tabulate.tabulate(df, showindex=True, headers=df.columns))\n",
    "    keyChoice, y = [int(x) for x in input().split()] \n",
    "    return keyChoice, y\n",
    "        "
   ]
  },
  {
   "cell_type": "code",
   "execution_count": null,
   "metadata": {},
   "outputs": [
    {
     "name": "stdout",
     "output_type": "stream",
     "text": [
      "    People                                Weapons\n",
      "--  ------------------------------------  --------------------------------\n",
      " 1  *👠 \u001b[31mMiss Scarlet\u001b[0m                      🔪 \u001b[36mKnife\u001b[0m                  🐉, 🍆\n",
      " 2  *🧐 \u001b[33mColonel Mustard\u001b[0m                   🔫 \u001b[36mRevolver\u001b[0m\n",
      " 3  ♡ \u001b[37m Mrs. White\u001b[0m                         🪢 \u001b[36mRope\u001b[0m\n",
      " 4  🐉 \u001b[32mMr. Green\u001b[0m                          🔧 \u001b[36mWrench\u001b[0m\n",
      " 5  *🍆 \u001b[35mProfessor Plum\u001b[0m         ♡, 🐉, 🍆  *🕯️ \u001b[36mCandlestick\u001b[0m\n",
      " 6  *🦚 \u001b[34mMrs. Peacock\u001b[0m           👠, 🍆     🪠 \u001b[36mLead Pipe\u001b[0m\n"
     ]
    },
    {
     "name": "stdin",
     "output_type": "stream",
     "text": [
      " 3 4\n"
     ]
    },
    {
     "data": {
      "text/plain": [
       "(3, 4)"
      ]
     },
     "execution_count": null,
     "metadata": {},
     "output_type": "execute_result"
    }
   ],
   "source": [
    "#hide\n",
    "choosePandW(2,agame,amoves)"
   ]
  },
  {
   "cell_type": "code",
   "execution_count": null,
   "metadata": {},
   "outputs": [],
   "source": []
  },
  {
   "cell_type": "code",
   "execution_count": null,
   "metadata": {},
   "outputs": [],
   "source": []
  },
  {
   "cell_type": "markdown",
   "metadata": {},
   "source": [
    "## board mechanics"
   ]
  },
  {
   "cell_type": "code",
   "execution_count": null,
   "metadata": {},
   "outputs": [],
   "source": [
    "#| export\n",
    "def playerMarker(i):\n",
    "    info = model.people[i]\n",
    "    color,icon, name = info[1:]\n",
    "\n",
    "    return colored(name[0],color)\n",
    "   \n",
    "    \n"
   ]
  },
  {
   "cell_type": "code",
   "execution_count": null,
   "metadata": {},
   "outputs": [
    {
     "name": "stdout",
     "output_type": "stream",
     "text": [
      "\u001b[31mS\u001b[0m\n"
     ]
    }
   ],
   "source": [
    "print(playerMarker(0))"
   ]
  },
  {
   "cell_type": "code",
   "execution_count": null,
   "metadata": {},
   "outputs": [],
   "source": [
    "def notInHands(game,moves):\n",
    "    ret = dict()\n",
    "    \n",
    "    for x in moves:\n",
    "        \n",
    "        \n",
    "        thePasses = passedOnResponse(x,game) \n",
    "        \n",
    "        if len(thePasses) > 0:\n",
    "            shown = x[-1]\n",
    "            if shown in ret:\n",
    "                addToMe = ret[shown]\n",
    "            else:\n",
    "                addToMe = set()\n",
    "            for aPass in thePasses:\n",
    "                addToMe.add(aPass)\n",
    "            ret[shown] = addToMe\n",
    "                \n",
    "       \n",
    "    return ret"
   ]
  },
  {
   "cell_type": "code",
   "execution_count": null,
   "metadata": {},
   "outputs": [],
   "source": [
    "#| export\n",
    "def roomFor(i,ch,where,visited):\n",
    "    #print(i)\n",
    " \n",
    "    if i<1:\n",
    "        return \"\"\n",
    "    adds = \"\"\n",
    "    \n",
    "    peeps = \", \".join([playerMarker(x) for x in where[i-1]])\n",
    "\n",
    "    try:\n",
    "        x = ch.index(i-1)\n",
    "        adds = str(x+1) +\") \"\n",
    "    except:\n",
    "        adds = \"\"\n",
    "        #print(i)\n",
    "\n",
    "    roomName = model.rooms[i-1][0]\n",
    "    k = model.keyCard(3,i-1)\n",
    "    \n",
    "    if k in visited:\n",
    "        roomName = colored(roomName,\"red\")\n",
    "        \n",
    "\n",
    "    \n",
    "    return adds + roomName +\"\\n   \" + peeps\n",
    "    \n",
    "def showBoard(pc,game,moves):\n",
    "    roomCount = len(model.rooms)\n",
    "    \n",
    "    where = [[] for x in range(roomCount)]\n",
    "    ploc = game[-1]\n",
    "    #print(ploc)\n",
    "    for i in range(len(ploc)):\n",
    "        suspect = i + 1\n",
    "        room = model.roomOf(suspect,game)\n",
    "        where[room].append(i)\n",
    "\n",
    "    visited  = set(model.getSeen(pc,game, moves))\n",
    "    \n",
    "    lines = [[1,2,3],[9,0,4],[8,0,5],[0,7,6]]\n",
    "    \n",
    "    playerRoom = model.roomOf(pc,game)\n",
    "    b = model.roomsAround(playerRoom)\n",
    "\n",
    "    m = []\n",
    "\n",
    "    for x in lines:\n",
    "        m.append([roomFor(i,b,where,visited) for i in x])\n",
    "    print(tabulate.tabulate(m,  tablefmt=\"fancy_grid\"))"
   ]
  },
  {
   "cell_type": "code",
   "execution_count": null,
   "metadata": {},
   "outputs": [
    {
     "name": "stdout",
     "output_type": "stream",
     "text": [
      "╒══════════════╤═══════════════╤══════════════╕\n",
      "│ 3) Ball Room │ Billiard Room │ \u001b[31mConservatory\u001b[0m │\n",
      "│              │    \u001b[33mM\u001b[0m          │    \u001b[37mW\u001b[0m         │\n",
      "├──────────────┼───────────────┼──────────────┤\n",
      "│ 2) Study     │               │ Dining Room  │\n",
      "│    \u001b[31mS\u001b[0m         │               │    \u001b[34mP\u001b[0m         │\n",
      "├──────────────┼───────────────┼──────────────┤\n",
      "│ 1) Library   │               │ Hall         │\n",
      "│              │               │    \u001b[32mG\u001b[0m         │\n",
      "├──────────────┼───────────────┼──────────────┤\n",
      "│              │ \u001b[31mLounge\u001b[0m        │ Kitchen      │\n",
      "│              │               │    \u001b[35mP\u001b[0m         │\n",
      "╘══════════════╧═══════════════╧══════════════╛\n"
     ]
    }
   ],
   "source": [
    "showBoard(1,agame,amoves)"
   ]
  },
  {
   "cell_type": "code",
   "execution_count": null,
   "metadata": {},
   "outputs": [],
   "source": []
  },
  {
   "cell_type": "code",
   "execution_count": null,
   "metadata": {},
   "outputs": [],
   "source": [
    "#| export\n",
    "def showLocations(game):\n",
    "    ploc = game[-1]\n",
    "\n",
    "    for i in range(len(ploc)):\n",
    "        pc = i + 1\n",
    "        person = model.people[i]\n",
    "        d = cardFull(person)\n",
    "        room = model.roomOf(pc,game)\n",
    "        loc = cardFull(model.cardLookup(3,room))\n",
    "        d = \"[\" + str(i+1) + \"] \" + d  + \" is in \" + loc \n",
    "        print(d)"
   ]
  },
  {
   "cell_type": "code",
   "execution_count": null,
   "metadata": {},
   "outputs": [
    {
     "name": "stdout",
     "output_type": "stream",
     "text": [
      "[1] 👠 \u001b[31mMiss Scarlet\u001b[0m is in \u001b[30mStudy\u001b[0m\n",
      "[2] 🧐 \u001b[33mColonel Mustard\u001b[0m is in \u001b[30mBilliard Room\u001b[0m\n",
      "[3] ♡ \u001b[37m Mrs. White\u001b[0m is in \u001b[30mConservatory\u001b[0m\n",
      "[4] 🐉 \u001b[32mMr. Green\u001b[0m is in \u001b[30mHall\u001b[0m\n",
      "[5] 🍆 \u001b[35mProfessor Plum\u001b[0m is in \u001b[30mKitchen\u001b[0m\n",
      "[6] 🦚 \u001b[34mMrs. Peacock\u001b[0m is in \u001b[30mDining Room\u001b[0m\n",
      "Solution\n",
      "🦚 \u001b[34mMrs. Peacock\u001b[0m, 🪢 \u001b[36mRope\u001b[0m, \u001b[30mBilliard Room\u001b[0m\n",
      "\n",
      "           [1] 👠 \u001b[31mMiss Scarlet\u001b[0m is in \u001b[30mStudy\u001b[0m           \n",
      "\u001b[30mLibrary\u001b[0m, 🍆 \u001b[35mProfessor Plum\u001b[0m, 🔪 \u001b[36mKnife\u001b[0m, \u001b[30mDining Room\u001b[0m, 🔧 \u001b[36mWrench\u001b[0m\n",
      "\n",
      "     [2] 🧐 \u001b[33mColonel Mustard\u001b[0m is in \u001b[30mBilliard Room\u001b[0m      \n",
      "\u001b[30mBall Room\u001b[0m, \u001b[30mConservatory\u001b[0m, \u001b[30mLounge\u001b[0m, 🪠 \u001b[36mLead Pipe\u001b[0m, \u001b[30mHall\u001b[0m\n",
      "\n",
      "        [3] ♡ \u001b[37m Mrs. White\u001b[0m is in \u001b[30mConservatory\u001b[0m        \n",
      "👠 \u001b[31mMiss Scarlet\u001b[0m, \u001b[30mKitchen\u001b[0m, 🐉 \u001b[32mMr. Green\u001b[0m, 🕯️ \u001b[36mCandlestick\u001b[0m\n",
      "\n",
      "             [4] 🐉 \u001b[32mMr. Green\u001b[0m is in \u001b[30mHall\u001b[0m             \n",
      "🔫 \u001b[36mRevolver\u001b[0m, ♡ \u001b[37m Mrs. White\u001b[0m, \u001b[30mStudy\u001b[0m, 🧐 \u001b[33mColonel Mustard\u001b[0m\n"
     ]
    }
   ],
   "source": [
    "#| hide\n",
    "showLocations(agame)\n",
    "printGame(agame)"
   ]
  },
  {
   "cell_type": "code",
   "execution_count": null,
   "metadata": {},
   "outputs": [],
   "source": []
  },
  {
   "cell_type": "code",
   "execution_count": null,
   "metadata": {},
   "outputs": [],
   "source": []
  },
  {
   "cell_type": "code",
   "execution_count": null,
   "metadata": {},
   "outputs": [],
   "source": [
    "\n",
    "\n",
    "                   \n",
    "    \n",
    "    \n",
    "            "
   ]
  },
  {
   "cell_type": "code",
   "execution_count": null,
   "metadata": {},
   "outputs": [],
   "source": []
  },
  {
   "cell_type": "code",
   "execution_count": null,
   "metadata": {},
   "outputs": [],
   "source": [
    "#| hide\n",
    "import nbdev; nbdev.nbdev_export()"
   ]
  }
 ],
 "metadata": {
  "kernelspec": {
   "display_name": "python3",
   "language": "python",
   "name": "python3"
  }
 },
 "nbformat": 4,
 "nbformat_minor": 4
}
