{
 "cells": [
  {
   "cell_type": "markdown",
   "metadata": {},
   "source": [
    "# ui\n",
    "\n",
    "> Fill in a module description here"
   ]
  },
  {
   "cell_type": "code",
   "execution_count": null,
   "metadata": {},
   "outputs": [],
   "source": [
    "#| default_exp ui"
   ]
  },
  {
   "cell_type": "code",
   "execution_count": null,
   "metadata": {},
   "outputs": [],
   "source": [
    "#| hide\n",
    "#from nbdev.showdoc import *"
   ]
  },
  {
   "cell_type": "code",
   "execution_count": 1,
   "metadata": {},
   "outputs": [],
   "source": [
    "#| export\n",
    "\n",
    "from termcolor import colored\n",
    "from random import shuffle, randint, sample\n",
    "import emoji\n",
    "import tabulate"
   ]
  },
  {
   "cell_type": "code",
   "execution_count": 4,
   "metadata": {},
   "outputs": [],
   "source": [
    "#| export\n",
    "import clue.model as model"
   ]
  },
  {
   "cell_type": "code",
   "execution_count": 6,
   "metadata": {},
   "outputs": [],
   "source": [
    "#| export\n",
    "def cardFull(info):\n",
    "    name,color, icon = info[:3]\n",
    "    if len(icon) > 0:\n",
    "        ret = icon + \" \" + colored(name,color)\n",
    "    else:\n",
    "        ret = colored(name,color)\n",
    "    \n",
    "    return ret\n",
    "\n",
    "def cardShort(info):\n",
    "    if len(info) < 3:\n",
    "        return cardFull(info)\n",
    "    color,icon, name = info[1:]\n",
    "    if len(icon) > 0:\n",
    "        ret = icon + \" \" + colored(name,color)\n",
    "    else:\n",
    "        ret = colored(name,color)\n",
    "   \n",
    "    return  ret\n"
   ]
  },
  {
   "cell_type": "code",
   "execution_count": 7,
   "metadata": {},
   "outputs": [
    {
     "data": {
      "text/plain": [
       "('👠 hi', '👠 Scar.')"
      ]
     },
     "execution_count": 7,
     "metadata": {},
     "output_type": "execute_result"
    }
   ],
   "source": [
    "#| hide\n",
    "sampleC = [\"hi\",\"red\",u\"\\U0001f460\",\"Scar.\"]\n",
    "\n",
    "cardFull(sampleC),cardShort(sampleC)"
   ]
  },
  {
   "cell_type": "code",
   "execution_count": null,
   "metadata": {},
   "outputs": [],
   "source": []
  },
  {
   "cell_type": "code",
   "execution_count": 8,
   "metadata": {},
   "outputs": [],
   "source": [
    "#| export\n",
    "def cIndentity(x):\n",
    "  return x[0]\n",
    "    \n",
    "def printHand(hand,view=cIndentity):\n",
    "    container = []\n",
    "    line = [view(card) for card in hand]\n",
    "    print(', '.join(line))\n",
    "\n",
    "def printPlayerHand(player,game):\n",
    "    hand = [model.keyLookUp(x) for x in model.handOf(player,game)]\n",
    "    printHand(hand,cardFull)\n",
    "            \n"
   ]
  },
  {
   "cell_type": "code",
   "execution_count": null,
   "metadata": {},
   "outputs": [],
   "source": []
  },
  {
   "cell_type": "code",
   "execution_count": 9,
   "metadata": {},
   "outputs": [
    {
     "name": "stdout",
     "output_type": "stream",
     "text": [
      "Library, 🔧 Wrench, Kitchen\n"
     ]
    }
   ],
   "source": [
    "#| hide\n",
    "#printHand(model.people)\n",
    "pgame = model.createClue(6)\n",
    "printPlayerHand(2,pgame)"
   ]
  },
  {
   "cell_type": "code",
   "execution_count": null,
   "metadata": {},
   "outputs": [],
   "source": []
  },
  {
   "cell_type": "code",
   "execution_count": 10,
   "metadata": {},
   "outputs": [
    {
     "name": "stdout",
     "output_type": "stream",
     "text": [
      "👠 Miss Scarlet, 🧐 Colonel Mustard, ♡  Mrs. White, 🐉 Mr. Green, 🍆 Professor Plum, 🦚 Mrs. Peacock\n",
      "👠 Scar., 🧐 Must., ♡ White, 🐉 Green, 🍆 Plum , 🦚 Peac.\n"
     ]
    }
   ],
   "source": [
    "#| hide\n",
    "printHand(model.people,cardFull)\n",
    "printHand(model.people,cardShort)"
   ]
  },
  {
   "cell_type": "code",
   "execution_count": null,
   "metadata": {},
   "outputs": [],
   "source": [
    "\n",
    "    \n",
    "\n",
    "            \n",
    "\n"
   ]
  },
  {
   "cell_type": "code",
   "execution_count": null,
   "metadata": {},
   "outputs": [],
   "source": []
  },
  {
   "cell_type": "code",
   "execution_count": null,
   "metadata": {},
   "outputs": [],
   "source": []
  },
  {
   "cell_type": "code",
   "execution_count": 11,
   "metadata": {},
   "outputs": [],
   "source": [
    "#| export\n",
    "\n",
    "\n",
    "\n",
    "def printPlayer(game,i):\n",
    "    ploc = game[-1]\n",
    "    person = model.people[i-1]\n",
    "    d = cardFull(person)\n",
    "    loc = cardFull(model.cardLookup(3,ploc[i-1]))\n",
    "    d = \"[\" + str(i) + \"] \" + d  + \" is in \" + loc \n",
    "    print(\"\\n\" + d.center(70,\" \"))\n",
    " \n",
    "    ahand = game[i]\n",
    "    maps = [model.keyLookUp(x) for x in ahand]\n",
    "    printHand(maps,cardFull)\n",
    "\n",
    "    \n",
    "def printGame(game):\n",
    "    print(\"Solution\")\n",
    "    ahand = game[0]\n",
    "   \n",
    "    maps = [model.keyLookUp(x) for x in ahand]\n",
    "    printHand(maps,cardFull)\n",
    "    for i in range(1,len(game)-1):\n",
    "        printPlayer(game,i)\n",
    "        \n",
    "\n",
    "\n",
    "     \n",
    "       "
   ]
  },
  {
   "cell_type": "code",
   "execution_count": 12,
   "metadata": {},
   "outputs": [
    {
     "name": "stdout",
     "output_type": "stream",
     "text": [
      "Solution\n",
      "🧐 Colonel Mustard, 🔧 Wrench, Lounge\n",
      "\n",
      "                 [1] 👠 Miss Scarlet is in Dining Room                 \n",
      "Library, 👠 Miss Scarlet, Conservatory, 🍆 Professor Plum, Dining Room\n",
      "\n",
      "                  [2] 🧐 Colonel Mustard is in Lounge                  \n",
      "Billiard Room, 🔫 Revolver, Kitchen, Study, 🕯️ Candlestick\n",
      "\n",
      "                   [3] ♡  Mrs. White is in Library                    \n",
      "Ball Room, 🔪 Knife, 🪢 Rope, ♡  Mrs. White\n",
      "\n",
      "                      [4] 🐉 Mr. Green is in Hall                      \n",
      "🪠 Lead Pipe, Hall, 🦚 Mrs. Peacock, 🐉 Mr. Green\n"
     ]
    },
    {
     "data": {
      "text/plain": [
       "([3, 6, 7, 4, 0, 2],\n",
       " [['Ball Room', 'cyan', '', 'Ball'],\n",
       "  ['Billiard Room', 'cyan', '', 'Bill'],\n",
       "  ['Conservatory', 'cyan', '', 'Consv'],\n",
       "  ['Dining Room', 'cyan', '', 'Dining'],\n",
       "  ['Hall', 'cyan', '', 'Hall'],\n",
       "  ['Kitchen', 'cyan', '', 'Kitch'],\n",
       "  ['Lounge', 'cyan', '', 'Lounge'],\n",
       "  ['Library', 'grey', '', 'Lib'],\n",
       "  ['Study', 'grey', '', 'Study']])"
      ]
     },
     "execution_count": 12,
     "metadata": {},
     "output_type": "execute_result"
    }
   ],
   "source": [
    "#| hide\n",
    "agame = model.createClue(4)\n",
    "amoves = []\n",
    "printGame(agame)\n",
    "agame[-1], model.rooms"
   ]
  },
  {
   "cell_type": "code",
   "execution_count": null,
   "metadata": {},
   "outputs": [],
   "source": [
    "#| hide\n"
   ]
  },
  {
   "cell_type": "markdown",
   "metadata": {},
   "source": [
    "## Response and Answer\n",
    "    \n",
    "        \n"
   ]
  },
  {
   "cell_type": "code",
   "execution_count": 13,
   "metadata": {},
   "outputs": [],
   "source": [
    "#| export\n",
    "def showChoice(guess):\n",
    "    p,w,l = guess[:3]\n",
    "    ret = cardFull(model.cardLookup(1,p))\n",
    "    ret = ret + \" with the \" + cardFull(model.cardLookup(2,w))\n",
    "    ret = ret + \" in the \" + cardFull(model.cardLookup(3,l))\n",
    "    return ret\n",
    "    "
   ]
  },
  {
   "cell_type": "code",
   "execution_count": 14,
   "metadata": {},
   "outputs": [
    {
     "name": "stdout",
     "output_type": "stream",
     "text": [
      "👠 Miss Scarlet with the 🪢 Rope in the Library\n"
     ]
    }
   ],
   "source": [
    "#| hide\n",
    "aguess = (0,2,7)\n",
    "print(showChoice(aguess))"
   ]
  },
  {
   "cell_type": "code",
   "execution_count": 15,
   "metadata": {},
   "outputs": [
    {
     "data": {
      "text/plain": [
       "((0, 2, 7, 1, 4, 100), '👠 Miss Scarlet with the 🪢 Rope in the Library')"
      ]
     },
     "execution_count": 15,
     "metadata": {},
     "output_type": "execute_result"
    }
   ],
   "source": [
    "#| hide\n",
    "aresponse =  model.responseToGuess(aguess,1,4, model.keysForGuess(aguess)[0])\n",
    "aresponse, showChoice(aresponse)"
   ]
  },
  {
   "cell_type": "code",
   "execution_count": 13,
   "metadata": {},
   "outputs": [],
   "source": [
    "#| hide\n",
    "amoves.append(aresponse)"
   ]
  },
  {
   "cell_type": "code",
   "execution_count": 29,
   "metadata": {},
   "outputs": [
    {
     "data": {
      "text/plain": [
       "[(3, 3, 1, 3, 4, 103),\n",
       " (0, 0, 0, 4, 1, 100),\n",
       " (3, 3, 5, 3, 4, 103),\n",
       " (3, 3, 0, 4, 3, 300),\n",
       " (4, 1, 1, 2, 1, 104),\n",
       " (0, 2, 0, 1, 3, 300),\n",
       " (0, 1, 2, 2, 1, 100)]"
      ]
     },
     "execution_count": 29,
     "metadata": {},
     "output_type": "execute_result"
    }
   ],
   "source": [
    "#| hide\n",
    "amoves=[]\n",
    "for x in range(7):\n",
    "    pc = randint(1,4)\n",
    "    p = randint(0,5)\n",
    "    w =  randint(0,5)\n",
    "    l = randint(0,5)\n",
    "    aguess = (p,w,l)\n",
    "    aresponse =  model.getAnswer(pc,agame,aguess)\n",
    "    if aresponse[0] > -1:\n",
    "        amoves.append(aresponse)\n",
    "\n",
    "\n",
    "        \n",
    "\n",
    "amoves"
   ]
  },
  {
   "cell_type": "code",
   "execution_count": 1,
   "metadata": {},
   "outputs": [],
   "source": [
    "#| export\n",
    "def wrapL(s,f,l):\n",
    "    show = set([s-1])\n",
    "    s += 1\n",
    "    if s > l:\n",
    "        s = 1\n",
    "    while s != f:\n",
    "        show.add(s-1)\n",
    "        s += 1\n",
    "        if s > l:\n",
    "            s = 1\n",
    "    show.add(f-1)\n",
    "    \n",
    "    ret = \"\"\n",
    "    for x in range(l):\n",
    "        if x in show:\n",
    "            ret += model.people[x][2]\n",
    "        else:\n",
    "            ret += \"❓\" \n",
    "    return ret\n",
    "        \n",
    "def showMoves(pc,moves,plMax):\n",
    "    for answer in moves:\n",
    "        p,w,l,asker, answered,shown = answer\n",
    "        line = model.people[asker-1][2] + \"  asks \"\n",
    "        line += \"(\" + model.people[p][2] + \" &  \" + model.weapons[w][2] + \" in the \"       \n",
    "        line += ( model.rooms[w][0] +\") \").ljust(15,\"-\")\n",
    "        line += \"->\" + wrapL(asker,answered,plMax)\n",
    "        if asker == pc or pc < 0 :\n",
    "             \n",
    "            line += \" shows \" + cardFull(model.cardLookup(int(shown/100),shown%100))\n",
    "        print(line)\n",
    "        \n",
    "#showMoves(1,amoves,4)     \n",
    "        \n"
   ]
  },
  {
   "cell_type": "code",
   "execution_count": 40,
   "metadata": {},
   "outputs": [
    {
     "data": {
      "text/plain": [
       "(':question:', '🥼')"
      ]
     },
     "execution_count": 40,
     "metadata": {},
     "output_type": "execute_result"
    }
   ],
   "source": [
    "emoji.emojize(\":question:\"),u\"\\U0001F97C\""
   ]
  },
  {
   "cell_type": "code",
   "execution_count": 15,
   "metadata": {},
   "outputs": [
    {
     "data": {
      "text/plain": [
       "[103, 306, 300, 102, 100, 100]"
      ]
     },
     "execution_count": 15,
     "metadata": {},
     "output_type": "execute_result"
    }
   ],
   "source": [
    "#| hide\n",
    "model.getSeen(1,agame,amoves)"
   ]
  },
  {
   "cell_type": "code",
   "execution_count": null,
   "metadata": {},
   "outputs": [
    {
     "data": {
      "text/plain": [
       "(0, 2, 7, 1, 4, 100)"
      ]
     },
     "execution_count": null,
     "metadata": {},
     "output_type": "execute_result"
    }
   ],
   "source": [
    "aresponse"
   ]
  },
  {
   "cell_type": "code",
   "execution_count": null,
   "metadata": {},
   "outputs": [],
   "source": [
    "\n",
    "    \n"
   ]
  },
  {
   "cell_type": "code",
   "execution_count": 18,
   "metadata": {},
   "outputs": [],
   "source": [
    "#| hide\n",
    "g = model.passedOnResponse(aresponse,agame)"
   ]
  },
  {
   "cell_type": "code",
   "execution_count": 1,
   "metadata": {},
   "outputs": [],
   "source": [
    "#| export\n",
    "def iconOfPlayers(pList):\n",
    "    pList.sort()\n",
    "    return \", \".join([model.people[x-1][2] for x in pList if x>0] )\n",
    "    "
   ]
  },
  {
   "cell_type": "code",
   "execution_count": 19,
   "metadata": {},
   "outputs": [
    {
     "data": {
      "text/plain": [
       "'🧐, ♡'"
      ]
     },
     "execution_count": 19,
     "metadata": {},
     "output_type": "execute_result"
    }
   ],
   "source": [
    "#| hide\n",
    "iconOfPlayers(g)"
   ]
  },
  {
   "cell_type": "code",
   "execution_count": 20,
   "metadata": {},
   "outputs": [],
   "source": [
    "b = model.notInHands(agame,amoves)\n"
   ]
  },
  {
   "cell_type": "code",
   "execution_count": 1,
   "metadata": {},
   "outputs": [
    {
     "ename": "NameError",
     "evalue": "name 'amoves' is not defined",
     "output_type": "error",
     "traceback": [
      "\u001b[0;31m---------------------------------------------------------------------------\u001b[0m",
      "\u001b[0;31mNameError\u001b[0m                                 Traceback (most recent call last)",
      "Cell \u001b[0;32mIn [1], line 1\u001b[0m\n\u001b[0;32m----> 1\u001b[0m \u001b[38;5;28mprint\u001b[39m(\u001b[43mamoves\u001b[49m)\n",
      "\u001b[0;31mNameError\u001b[0m: name 'amoves' is not defined"
     ]
    }
   ],
   "source": [
    "print(amoves)"
   ]
  },
  {
   "cell_type": "code",
   "execution_count": null,
   "metadata": {},
   "outputs": [],
   "source": []
  },
  {
   "cell_type": "code",
   "execution_count": null,
   "metadata": {},
   "outputs": [],
   "source": []
  },
  {
   "cell_type": "code",
   "execution_count": null,
   "metadata": {},
   "outputs": [],
   "source": []
  },
  {
   "cell_type": "markdown",
   "metadata": {},
   "source": [
    "## Input"
   ]
  },
  {
   "cell_type": "code",
   "execution_count": 22,
   "metadata": {},
   "outputs": [],
   "source": [
    "def chooseCard(hand,view=cIndentity,fmt=\"fancy_grid\",flag = {}):\n",
    "    container = []\n",
    "    i = 1\n",
    "    ml = max([len(x[0]) for x in hand])\n",
    "\n",
    "    no = \" \"\n",
    "    \n",
    "    for card in hand:\n",
    "        face = view(card)\n",
    "        #face.append(i)\n",
    "        color = card[1]\n",
    "        no = \" \"\n",
    "        if card[0] in flag:\n",
    "            no = \"*\"\n",
    "        container.append(colored(str(i) +\")\" + no + \" \" ,color) + face)\n",
    "        i += 1\n",
    "    choice = -1\n",
    "    \n",
    "    while choice < 1:\n",
    "        for card in container:\n",
    "            print(card)\n",
    "        choice = int(input(\"Choose from 1 to \" +  str(len(container))+\": \"))\n",
    "       \n",
    "        if (choice > 0) and (choice <= len(container)):\n",
    "            return choice\n",
    "        print(str(choice) + \" is not in range\")\n",
    "        choice = -1"
   ]
  },
  {
   "cell_type": "code",
   "execution_count": 23,
   "metadata": {},
   "outputs": [
    {
     "name": "stdout",
     "output_type": "stream",
     "text": [
      "1)  👠 Miss Scarlet\n",
      "2)  🧐 Colonel Mustard\n",
      "3)  ♡  Mrs. White\n",
      "4)* 🐉 Mr. Green\n",
      "5)  🍆 Professor Plum\n",
      "6)  🦚 Mrs. Peacock\n"
     ]
    },
    {
     "name": "stdin",
     "output_type": "stream",
     "text": [
      "Choose from 1 to 6:  2\n"
     ]
    },
    {
     "data": {
      "text/plain": [
       "2"
      ]
     },
     "execution_count": 23,
     "metadata": {},
     "output_type": "execute_result"
    }
   ],
   "source": [
    "#| hide\n",
    "chooseCard(model.people,cardFull,flag = {\"Mr. Green\"})"
   ]
  },
  {
   "cell_type": "code",
   "execution_count": 24,
   "metadata": {},
   "outputs": [
    {
     "name": "stdout",
     "output_type": "stream",
     "text": [
      "1)  👠 Scar.\n",
      "2)  🧐 Must.\n",
      "3)  ♡ White\n",
      "4)* 🐉 Green\n",
      "5)  🍆 Plum \n",
      "6)  🦚 Peac.\n"
     ]
    },
    {
     "name": "stdin",
     "output_type": "stream",
     "text": [
      "Choose from 1 to 6:  2\n"
     ]
    },
    {
     "data": {
      "text/plain": [
       "2"
      ]
     },
     "execution_count": 24,
     "metadata": {},
     "output_type": "execute_result"
    }
   ],
   "source": [
    "#| hide\n",
    "chooseCard(model.people,cardShort,flag = {\"Mr. Green\"})"
   ]
  },
  {
   "cell_type": "code",
   "execution_count": 25,
   "metadata": {},
   "outputs": [],
   "source": [
    "#| export\n",
    "def chooseKey(keys,playerID,game,moves):\n",
    "    container = []\n",
    "    i = 1\n",
    "    #ml = max([len(x[0]) for x in hand])\n",
    "\n",
    "    passedOn = model.notInHands(game,moves)\n",
    "    flagged = set(model.getSeen(playerID, game, moves))\n",
    "    keyChoice = -1\n",
    "\n",
    "    while keyChoice < 1:   \n",
    "        i = 1\n",
    "        for pair in keys:\n",
    "            no = \" \"\n",
    "            key = model.keyForArray(pair)\n",
    "        \n",
    "            if key in flagged:\n",
    "                no = \"*\"\n",
    "            data = model.cardForArray(pair)\n",
    "            view = cardFull(data)\n",
    "        \n",
    "            base = str(i) + no + view\n",
    "            if key in passedOn:\n",
    "                shownTo = passedOn[key]\n",
    "                base = base.ljust(35)  + iconOfPlayers(list(shownTo))\n",
    "                \n",
    "            print(base)\n",
    "            i+=1\n",
    "        \n",
    "    \n",
    "\n",
    "        keyChoice = int(input(\"Choose from 1 to \" +  str(len(keys))+\": \"))\n",
    "       \n",
    "        if (keyChoice > 0) and (keyChoice <= len(keys)):\n",
    "            return keyChoice\n",
    "        print(str(keyChoice) + \" is not in range\")\n",
    "        keyChoice = -1\n",
    "    return keyChoice\n",
    "    \n"
   ]
  },
  {
   "cell_type": "code",
   "execution_count": 26,
   "metadata": {},
   "outputs": [
    {
     "name": "stdout",
     "output_type": "stream",
     "text": [
      "1*👠 Miss Scarlet                   🧐, ♡\n",
      "2 🧐 Colonel Mustard\n",
      "3*♡  Mrs. White\n",
      "4*🐉 Mr. Green\n",
      "5 🍆 Professor Plum\n",
      "6 🦚 Mrs. Peacock\n"
     ]
    },
    {
     "name": "stdin",
     "output_type": "stream",
     "text": [
      "Choose from 1 to 6:  2\n"
     ]
    },
    {
     "data": {
      "text/plain": [
       "2"
      ]
     },
     "execution_count": 26,
     "metadata": {},
     "output_type": "execute_result"
    }
   ],
   "source": [
    "wKeys = [[1,x] for x in range(len(model.people))]\n",
    "chooseKey(wKeys,1,agame,amoves)"
   ]
  },
  {
   "cell_type": "code",
   "execution_count": 27,
   "metadata": {},
   "outputs": [
    {
     "name": "stdout",
     "output_type": "stream",
     "text": [
      "1 👠 Miss Scarlet                   🧐, ♡\n",
      "2 🧐 Colonel Mustard\n",
      "3 ♡  Mrs. White\n",
      "4 🐉 Mr. Green\n",
      "5 🍆 Professor Plum\n",
      "6*🦚 Mrs. Peacock\n"
     ]
    },
    {
     "name": "stdin",
     "output_type": "stream",
     "text": [
      "Choose from 1 to 6:  3\n"
     ]
    },
    {
     "data": {
      "text/plain": [
       "3"
      ]
     },
     "execution_count": 27,
     "metadata": {},
     "output_type": "execute_result"
    }
   ],
   "source": [
    "wKeys = [[1,x] for x in range(len(model.people))]\n",
    "chooseKey(wKeys,2,agame,amoves)"
   ]
  },
  {
   "cell_type": "markdown",
   "metadata": {},
   "source": [
    "## board mechanics"
   ]
  },
  {
   "cell_type": "code",
   "execution_count": null,
   "metadata": {},
   "outputs": [],
   "source": [
    "#| export\n",
    "def playerMarker(i):\n",
    "    info = model.people[i]\n",
    "    color,icon, name = info[1:]\n",
    "\n",
    "    return colored(name[0],color)\n",
    "   \n",
    "    \n"
   ]
  },
  {
   "cell_type": "code",
   "execution_count": null,
   "metadata": {},
   "outputs": [
    {
     "name": "stdout",
     "output_type": "stream",
     "text": [
      "\u001b[31mS\u001b[0m\n"
     ]
    }
   ],
   "source": [
    "print(playerMarker(0))"
   ]
  },
  {
   "cell_type": "code",
   "execution_count": null,
   "metadata": {},
   "outputs": [],
   "source": [
    "def notInHands(game,moves):\n",
    "    ret = dict()\n",
    "    \n",
    "    for x in moves:\n",
    "        \n",
    "        \n",
    "        thePasses = passedOnResponse(x,game) \n",
    "        \n",
    "        if len(thePasses) > 0:\n",
    "            shown = x[-1]\n",
    "            if shown in ret:\n",
    "                addToMe = ret[shown]\n",
    "            else:\n",
    "                addToMe = set()\n",
    "            for aPass in thePasses:\n",
    "                addToMe.add(aPass)\n",
    "            ret[shown] = addToMe\n",
    "                \n",
    "       \n",
    "    return ret"
   ]
  },
  {
   "cell_type": "code",
   "execution_count": null,
   "metadata": {},
   "outputs": [],
   "source": [
    "#| export\n",
    "def roomFor(i,ch,where,visited):\n",
    "    #print(i)\n",
    " \n",
    "    if i<1:\n",
    "        return \"\"\n",
    "    adds = \"\"\n",
    "    \n",
    "    peeps = \", \".join([playerMarker(x) for x in where[i-1]])\n",
    "\n",
    "    try:\n",
    "        x = ch.index(i-1)\n",
    "        adds = str(x+1) +\") \"\n",
    "    except:\n",
    "        adds = \"\"\n",
    "        #print(i)\n",
    "\n",
    "    roomName = model.rooms[i-1][0]\n",
    "    k = model.keyCard(3,i-1)\n",
    "    \n",
    "    if k in visited:\n",
    "        roomName = colored(roomName,\"red\")\n",
    "        \n",
    "\n",
    "    \n",
    "    return adds + roomName +\"\\n   \" + peeps\n",
    "    \n",
    "def showBoard(pc,game,moves):\n",
    "    roomCount = len(model.rooms)\n",
    "    \n",
    "    where = [[] for x in range(roomCount)]\n",
    "    ploc = game[-1]\n",
    "    #print(ploc)\n",
    "    for i in range(len(ploc)):\n",
    "        suspect = i + 1\n",
    "        room = model.roomOf(suspect,game)\n",
    "        where[room].append(i)\n",
    "\n",
    "    visited  = set(model.getSeen(pc,game, moves))\n",
    "    \n",
    "    lines = [[1,2,3],[9,0,4],[8,0,5],[0,7,6]]\n",
    "    \n",
    "    playerRoom = model.roomOf(pc,game)\n",
    "    b = model.roomsAround(playerRoom)\n",
    "\n",
    "    m = []\n",
    "\n",
    "    for x in lines:\n",
    "        m.append([roomFor(i,b,where,visited) for i in x])\n",
    "    print(tabulate.tabulate(m,  tablefmt=\"fancy_grid\"))"
   ]
  },
  {
   "cell_type": "code",
   "execution_count": null,
   "metadata": {},
   "outputs": [
    {
     "name": "stdout",
     "output_type": "stream",
     "text": [
      "╒══════════════╤═══════════════╤══════════════╕\n",
      "│ 3) Ball Room │ Billiard Room │ \u001b[31mConservatory\u001b[0m │\n",
      "│              │    \u001b[33mM\u001b[0m          │    \u001b[37mW\u001b[0m         │\n",
      "├──────────────┼───────────────┼──────────────┤\n",
      "│ 2) Study     │               │ Dining Room  │\n",
      "│    \u001b[31mS\u001b[0m         │               │    \u001b[34mP\u001b[0m         │\n",
      "├──────────────┼───────────────┼──────────────┤\n",
      "│ 1) Library   │               │ Hall         │\n",
      "│              │               │    \u001b[32mG\u001b[0m         │\n",
      "├──────────────┼───────────────┼──────────────┤\n",
      "│              │ \u001b[31mLounge\u001b[0m        │ Kitchen      │\n",
      "│              │               │    \u001b[35mP\u001b[0m         │\n",
      "╘══════════════╧═══════════════╧══════════════╛\n"
     ]
    }
   ],
   "source": [
    "showBoard(1,agame,amoves)"
   ]
  },
  {
   "cell_type": "code",
   "execution_count": null,
   "metadata": {},
   "outputs": [],
   "source": []
  },
  {
   "cell_type": "code",
   "execution_count": null,
   "metadata": {},
   "outputs": [],
   "source": [
    "#| export\n",
    "def showLocations(game):\n",
    "    ploc = game[-1]\n",
    "\n",
    "    for i in range(len(ploc)):\n",
    "        pc = i + 1\n",
    "        person = model.people[i]\n",
    "        d = cardFull(person)\n",
    "        room = model.roomOf(pc,game)\n",
    "        loc = cardFull(model.cardLookup(3,room))\n",
    "        d = \"[\" + str(i+1) + \"] \" + d  + \" is in \" + loc \n",
    "        print(d)"
   ]
  },
  {
   "cell_type": "code",
   "execution_count": null,
   "metadata": {},
   "outputs": [
    {
     "name": "stdout",
     "output_type": "stream",
     "text": [
      "[1] 👠 \u001b[31mMiss Scarlet\u001b[0m is in \u001b[30mStudy\u001b[0m\n",
      "[2] 🧐 \u001b[33mColonel Mustard\u001b[0m is in \u001b[30mBilliard Room\u001b[0m\n",
      "[3] ♡ \u001b[37m Mrs. White\u001b[0m is in \u001b[30mConservatory\u001b[0m\n",
      "[4] 🐉 \u001b[32mMr. Green\u001b[0m is in \u001b[30mHall\u001b[0m\n",
      "[5] 🍆 \u001b[35mProfessor Plum\u001b[0m is in \u001b[30mKitchen\u001b[0m\n",
      "[6] 🦚 \u001b[34mMrs. Peacock\u001b[0m is in \u001b[30mDining Room\u001b[0m\n",
      "Solution\n",
      "🦚 \u001b[34mMrs. Peacock\u001b[0m, 🪢 \u001b[36mRope\u001b[0m, \u001b[30mBilliard Room\u001b[0m\n",
      "\n",
      "           [1] 👠 \u001b[31mMiss Scarlet\u001b[0m is in \u001b[30mStudy\u001b[0m           \n",
      "\u001b[30mLibrary\u001b[0m, 🍆 \u001b[35mProfessor Plum\u001b[0m, 🔪 \u001b[36mKnife\u001b[0m, \u001b[30mDining Room\u001b[0m, 🔧 \u001b[36mWrench\u001b[0m\n",
      "\n",
      "     [2] 🧐 \u001b[33mColonel Mustard\u001b[0m is in \u001b[30mBilliard Room\u001b[0m      \n",
      "\u001b[30mBall Room\u001b[0m, \u001b[30mConservatory\u001b[0m, \u001b[30mLounge\u001b[0m, 🪠 \u001b[36mLead Pipe\u001b[0m, \u001b[30mHall\u001b[0m\n",
      "\n",
      "        [3] ♡ \u001b[37m Mrs. White\u001b[0m is in \u001b[30mConservatory\u001b[0m        \n",
      "👠 \u001b[31mMiss Scarlet\u001b[0m, \u001b[30mKitchen\u001b[0m, 🐉 \u001b[32mMr. Green\u001b[0m, 🕯️ \u001b[36mCandlestick\u001b[0m\n",
      "\n",
      "             [4] 🐉 \u001b[32mMr. Green\u001b[0m is in \u001b[30mHall\u001b[0m             \n",
      "🔫 \u001b[36mRevolver\u001b[0m, ♡ \u001b[37m Mrs. White\u001b[0m, \u001b[30mStudy\u001b[0m, 🧐 \u001b[33mColonel Mustard\u001b[0m\n"
     ]
    }
   ],
   "source": [
    "#| hide\n",
    "showLocations(agame)\n",
    "printGame(agame)"
   ]
  },
  {
   "cell_type": "code",
   "execution_count": null,
   "metadata": {},
   "outputs": [],
   "source": []
  },
  {
   "cell_type": "code",
   "execution_count": null,
   "metadata": {},
   "outputs": [],
   "source": []
  },
  {
   "cell_type": "code",
   "execution_count": null,
   "metadata": {},
   "outputs": [],
   "source": [
    "\n",
    "\n",
    "                   \n",
    "    \n",
    "    \n",
    "            "
   ]
  },
  {
   "cell_type": "code",
   "execution_count": null,
   "metadata": {},
   "outputs": [],
   "source": []
  },
  {
   "cell_type": "code",
   "execution_count": null,
   "metadata": {},
   "outputs": [],
   "source": [
    "#| hide\n",
    "import nbdev; nbdev.nbdev_export()"
   ]
  }
 ],
 "metadata": {
  "kernelspec": {
   "display_name": "Python 3 (ipykernel)",
   "language": "python",
   "name": "python3"
  },
  "language_info": {
   "codemirror_mode": {
    "name": "ipython",
    "version": 3
   },
   "file_extension": ".py",
   "mimetype": "text/x-python",
   "name": "python",
   "nbconvert_exporter": "python",
   "pygments_lexer": "ipython3",
   "version": "3.11.0"
  }
 },
 "nbformat": 4,
 "nbformat_minor": 4
}
