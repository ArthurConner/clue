{
 "cells": [
  {
   "cell_type": "markdown",
   "metadata": {},
   "source": [
    "# ui\n",
    "\n",
    "> Fill in a module description here"
   ]
  },
  {
   "cell_type": "code",
   "execution_count": null,
   "metadata": {},
   "outputs": [],
   "source": [
    "#| default_exp ui"
   ]
  },
  {
   "cell_type": "code",
   "execution_count": null,
   "metadata": {},
   "outputs": [],
   "source": [
    "#| hide\n",
    "#from nbdev.showdoc import *\n",
    "#!conda install pandas"
   ]
  },
  {
   "cell_type": "code",
   "execution_count": null,
   "metadata": {},
   "outputs": [
    {
     "name": "stdout",
     "output_type": "stream",
     "text": [
      "Intel MKL WARNING: Support of Intel(R) Streaming SIMD Extensions 4.2 (Intel(R) SSE4.2) enabled only processors has been deprecated. Intel oneAPI Math Kernel Library 2025.0 will require Intel(R) Advanced Vector Extensions (Intel(R) AVX) instructions.\n",
      "Intel MKL WARNING: Support of Intel(R) Streaming SIMD Extensions 4.2 (Intel(R) SSE4.2) enabled only processors has been deprecated. Intel oneAPI Math Kernel Library 2025.0 will require Intel(R) Advanced Vector Extensions (Intel(R) AVX) instructions.\n"
     ]
    }
   ],
   "source": [
    "#| export\n",
    "\n",
    "from termcolor import colored\n",
    "from random import shuffle, randint, sample\n",
    "import emoji\n",
    "import tabulate\n",
    "import pandas as pd\n",
    "import numpy as np"
   ]
  },
  {
   "cell_type": "code",
   "execution_count": null,
   "metadata": {},
   "outputs": [],
   "source": [
    "#| export\n",
    "import clue.model as model"
   ]
  },
  {
   "cell_type": "code",
   "execution_count": null,
   "metadata": {},
   "outputs": [],
   "source": [
    "#| export\n",
    "def cardFull(info):\n",
    "    name,color, icon = info[:3]\n",
    "    if len(icon) > 0:\n",
    "        ret = icon + \" \" + colored(name,color)\n",
    "    else:\n",
    "        ret = colored(name,color)\n",
    "    \n",
    "    return ret\n",
    "\n",
    "def cardUncolor(info):\n",
    "    name,color, icon = info[:3]\n",
    "    if len(icon) > 0:\n",
    "        ret = icon + \" \" + name\n",
    "    else:\n",
    "        ret = name\n",
    "    \n",
    "    return ret\n",
    "\n",
    "def cardShort(info):\n",
    "    if len(info) < 3:\n",
    "        return cardFull(info)\n",
    "    color,icon, name = info[1:]\n",
    "    if len(icon) > 0:\n",
    "        ret = icon + \" \" + colored(name,color)\n",
    "    else:\n",
    "        ret = colored(name,color)\n",
    "   \n",
    "    return  ret\n"
   ]
  },
  {
   "cell_type": "code",
   "execution_count": null,
   "metadata": {},
   "outputs": [
    {
     "data": {
      "text/plain": [
       "('👠 \\x1b[31mhi\\x1b[0m', '👠 \\x1b[31mScar.\\x1b[0m')"
      ]
     },
     "execution_count": null,
     "metadata": {},
     "output_type": "execute_result"
    }
   ],
   "source": [
    "#| hide\n",
    "sampleC = [\"hi\",\"red\",u\"\\U0001f460\",\"Scar.\"]\n",
    "\n",
    "cardFull(sampleC),cardShort(sampleC)"
   ]
  },
  {
   "cell_type": "code",
   "execution_count": null,
   "metadata": {},
   "outputs": [],
   "source": []
  },
  {
   "cell_type": "code",
   "execution_count": null,
   "metadata": {},
   "outputs": [],
   "source": [
    "#| export\n",
    "def cIndentity(x):\n",
    "  return x[0]\n",
    "    \n",
    "def printHand(hand,view=cIndentity):\n",
    "    container = []\n",
    "    line = [view(card) for card in hand]\n",
    "    print(', '.join(line))\n",
    "\n",
    "def printPlayerHand(state):\n",
    "    hand = [model.keyLookUp(x) for x in model.handOf(state)]\n",
    "    printHand(hand,cardFull)\n",
    "            \n"
   ]
  },
  {
   "cell_type": "code",
   "execution_count": null,
   "metadata": {},
   "outputs": [],
   "source": []
  },
  {
   "cell_type": "code",
   "execution_count": null,
   "metadata": {},
   "outputs": [
    {
     "name": "stdout",
     "output_type": "stream",
     "text": [
      "👠 \u001b[31mMiss Scarlet\u001b[0m, 🥼 \u001b[37m Mrs. White\u001b[0m, 🐉 \u001b[32mMr. Green\u001b[0m\n"
     ]
    }
   ],
   "source": [
    "#| hide\n",
    "#printHand(model.people)\n",
    "pState = model.GameState(2, model.createClue(6),[],[set([x-1,x+1]) for x in range(len(model.rooms))])\n",
    "printPlayerHand(pState)"
   ]
  },
  {
   "cell_type": "code",
   "execution_count": null,
   "metadata": {},
   "outputs": [],
   "source": []
  },
  {
   "cell_type": "code",
   "execution_count": null,
   "metadata": {},
   "outputs": [
    {
     "name": "stdout",
     "output_type": "stream",
     "text": [
      "👠 \u001b[31mMiss Scarlet\u001b[0m, 🧐 \u001b[33mColonel Mustard\u001b[0m, 🥼 \u001b[37m Mrs. White\u001b[0m, 🐉 \u001b[32mMr. Green\u001b[0m, 🍆 \u001b[35mProfessor Plum\u001b[0m, 🦚 \u001b[34mMrs. Peacock\u001b[0m\n",
      "👠 \u001b[31mScar.\u001b[0m, 🧐 \u001b[33mMust.\u001b[0m, 🥼 \u001b[37mWhite\u001b[0m, 🐉 \u001b[32mGreen\u001b[0m, 🍆 \u001b[35mPlum \u001b[0m, 🦚 \u001b[34mPeac.\u001b[0m\n"
     ]
    }
   ],
   "source": [
    "#| hide\n",
    "printHand(model.people,cardFull)\n",
    "printHand(model.people,cardShort)"
   ]
  },
  {
   "cell_type": "code",
   "execution_count": null,
   "metadata": {},
   "outputs": [],
   "source": [
    "\n",
    "    \n",
    "\n",
    "            \n",
    "\n"
   ]
  },
  {
   "cell_type": "code",
   "execution_count": null,
   "metadata": {},
   "outputs": [],
   "source": []
  },
  {
   "cell_type": "code",
   "execution_count": null,
   "metadata": {},
   "outputs": [],
   "source": []
  },
  {
   "cell_type": "code",
   "execution_count": null,
   "metadata": {},
   "outputs": [],
   "source": [
    "#| export\n",
    "\n",
    "\n",
    "\n",
    "def printPlayer(state,i):\n",
    "    ploc = state.game[-1]\n",
    "    person = model.people[i-1]\n",
    "    d = cardFull(person)\n",
    "    loc = cardFull(model.cardLookup(3,ploc[i-1]))\n",
    "    d = \"[\" + str(i) + \"] \" + d  + \" is in \" + loc \n",
    "    print(\"\\n\" + d.center(70,\" \"))\n",
    " \n",
    "    ahand = state.game[i]\n",
    "    maps = [model.keyLookUp(x) for x in ahand]\n",
    "    printHand(maps,cardFull)\n",
    "\n",
    "    \n",
    "def printGame(state):\n",
    "    print(\"Solution\")\n",
    "    ahand = state.game[0]\n",
    "   \n",
    "    maps = [model.keyLookUp(x) for x in ahand]\n",
    "    printHand(maps,cardFull)\n",
    "    for i in range(1,len(state.game)-1):\n",
    "        printPlayer(state,i)\n",
    "        \n",
    "\n",
    "\n",
    "     \n",
    "       "
   ]
  },
  {
   "cell_type": "code",
   "execution_count": null,
   "metadata": {},
   "outputs": [
    {
     "name": "stdout",
     "output_type": "stream",
     "text": [
      "Solution\n",
      "🍆 \u001b[35mProfessor Plum\u001b[0m, 🔧 \u001b[36mWrench\u001b[0m, \u001b[36mConservatory\u001b[0m\n",
      "\n",
      "       [1] 👠 \u001b[31mMiss Scarlet\u001b[0m is in \u001b[36mConservatory\u001b[0m        \n",
      "🪢 \u001b[36mRope\u001b[0m, 🪠 \u001b[36mLead Pipe\u001b[0m, \u001b[36mLounge\u001b[0m\n",
      "\n",
      "        [2] 🧐 \u001b[33mColonel Mustard\u001b[0m is in \u001b[36mKitchen\u001b[0m         \n",
      "👠 \u001b[31mMiss Scarlet\u001b[0m, 🥼 \u001b[37m Mrs. White\u001b[0m, 🐉 \u001b[32mMr. Green\u001b[0m\n",
      "\n",
      "       [3] 🥼 \u001b[37m Mrs. White\u001b[0m is in \u001b[36mBilliard Room\u001b[0m        \n",
      "🦚 \u001b[34mMrs. Peacock\u001b[0m, \u001b[36mStudy\u001b[0m, 🔪 \u001b[36mKnife\u001b[0m\n",
      "\n",
      "         [4] 🐉 \u001b[32mMr. Green\u001b[0m is in \u001b[36mDining Room\u001b[0m          \n",
      "🕯️ \u001b[36mCandlestick\u001b[0m, \u001b[36mBall Room\u001b[0m, 🔫 \u001b[36mRevolver\u001b[0m\n",
      "\n",
      "          [5] 🍆 \u001b[35mProfessor Plum\u001b[0m is in \u001b[36mStudy\u001b[0m          \n",
      "\u001b[36mBilliard Room\u001b[0m, \u001b[36mKitchen\u001b[0m, \u001b[36mLibrary\u001b[0m\n",
      "\n",
      "          [6] 🦚 \u001b[34mMrs. Peacock\u001b[0m is in \u001b[36mLounge\u001b[0m           \n",
      "🧐 \u001b[33mColonel Mustard\u001b[0m, \u001b[36mHall\u001b[0m, \u001b[36mDining Room\u001b[0m\n"
     ]
    },
    {
     "data": {
      "text/plain": [
       "([2, 5, 1, 3, 8, 6],\n",
       " [['Ball Room', 'cyan', '', 'Ball'],\n",
       "  ['Billiard Room', 'cyan', '', 'Bill'],\n",
       "  ['Conservatory', 'cyan', '', 'Consv'],\n",
       "  ['Dining Room', 'cyan', '', 'Dining'],\n",
       "  ['Hall', 'cyan', '', 'Hall'],\n",
       "  ['Kitchen', 'cyan', '', 'Kitch'],\n",
       "  ['Lounge', 'cyan', '', 'Lounge'],\n",
       "  ['Library', 'cyan', '', 'Lib'],\n",
       "  ['Study', 'cyan', '', 'Study']])"
      ]
     },
     "execution_count": null,
     "metadata": {},
     "output_type": "execute_result"
    }
   ],
   "source": [
    "#| hide\n",
    "\n",
    "printGame(pState)\n",
    "pState.game[-1], model.rooms"
   ]
  },
  {
   "cell_type": "code",
   "execution_count": null,
   "metadata": {},
   "outputs": [],
   "source": [
    "#| hide\n"
   ]
  },
  {
   "cell_type": "markdown",
   "metadata": {},
   "source": [
    "## Response and Answer\n",
    "    \n",
    "        \n"
   ]
  },
  {
   "cell_type": "code",
   "execution_count": null,
   "metadata": {},
   "outputs": [],
   "source": [
    "#| export\n",
    "def showChoice(guess):\n",
    "    p,w,l = guess[:3]\n",
    "    ret = cardFull(model.cardLookup(1,p))\n",
    "    ret = ret + \" with the \" + cardFull(model.cardLookup(2,w))\n",
    "    ret = ret + \" in the \" + cardFull(model.cardLookup(3,l))\n",
    "    return ret\n",
    "    "
   ]
  },
  {
   "cell_type": "code",
   "execution_count": null,
   "metadata": {},
   "outputs": [
    {
     "name": "stdout",
     "output_type": "stream",
     "text": [
      "👠 \u001b[31mMiss Scarlet\u001b[0m with the 🪢 \u001b[36mRope\u001b[0m in the \u001b[36mLibrary\u001b[0m\n"
     ]
    }
   ],
   "source": [
    "#| hide\n",
    "aguess = (0,2,7)\n",
    "print(showChoice(aguess))"
   ]
  },
  {
   "cell_type": "code",
   "execution_count": null,
   "metadata": {},
   "outputs": [
    {
     "data": {
      "text/plain": [
       "((0, 2, 7, 1, 4, 100),\n",
       " '👠 \\x1b[31mMiss Scarlet\\x1b[0m with the 🪢 \\x1b[36mRope\\x1b[0m in the \\x1b[36mLibrary\\x1b[0m')"
      ]
     },
     "execution_count": null,
     "metadata": {},
     "output_type": "execute_result"
    }
   ],
   "source": [
    "#| hide\n",
    "aresponse =  model.responseToGuess(aguess,1,4, model.keysForGuess(aguess)[0])\n",
    "aresponse, showChoice(aresponse)"
   ]
  },
  {
   "cell_type": "code",
   "execution_count": null,
   "metadata": {},
   "outputs": [],
   "source": [
    "#| hide\n",
    "amoves = [aresponse]"
   ]
  },
  {
   "cell_type": "code",
   "execution_count": null,
   "metadata": {},
   "outputs": [
    {
     "data": {
      "text/plain": [
       "[(4, 2, 4, 4, 6, 304),\n",
       " (5, 0, 5, 1, 3, 105),\n",
       " (4, 3, 3, 2, 6, 303),\n",
       " (3, 2, 1, 2, 5, 301),\n",
       " (0, 4, 4, 3, 4, 204),\n",
       " (2, 2, 5, 3, 5, 305),\n",
       " (0, 3, 0, 1, 2, 100),\n",
       " (3, 0, 0, 3, 4, 300),\n",
       " (4, 1, 3, 3, 4, 201),\n",
       " (2, 2, 1, 4, 5, 301),\n",
       " (0, 5, 2, 1, 2, 100),\n",
       " (5, 2, 1, 1, 3, 105),\n",
       " (4, 5, 5, 2, 5, 305),\n",
       " (5, 1, 5, 1, 3, 105),\n",
       " (1, 5, 5, 3, 5, 305),\n",
       " (1, 3, 1, 2, 5, 301),\n",
       " (5, 2, 1, 2, 3, 105),\n",
       " (0, 4, 5, 1, 2, 100),\n",
       " (0, 3, 0, 4, 2, 100),\n",
       " (2, 4, 2, 1, 2, 102),\n",
       " (0, 2, 3, 2, 6, 303),\n",
       " (0, 0, 4, 4, 6, 304),\n",
       " (1, 0, 4, 2, 3, 200),\n",
       " (1, 0, 2, 2, 3, 200),\n",
       " (2, 5, 5, 1, 2, 102),\n",
       " (3, 3, 2, 1, 2, 103),\n",
       " (3, 3, 1, 4, 5, 301),\n",
       " (3, 4, 5, 4, 5, 305),\n",
       " (4, 1, 2, 3, 4, 201),\n",
       " (2, 2, 0, 2, 4, 300),\n",
       " (1, 2, 1, 4, 5, 301),\n",
       " (3, 2, 5, 3, 5, 305),\n",
       " (5, 1, 0, 2, 3, 105),\n",
       " (2, 5, 5, 3, 5, 305),\n",
       " (2, 0, 3, 3, 6, 303),\n",
       " (5, 0, 3, 1, 3, 105),\n",
       " (4, 1, 2, 2, 4, 201),\n",
       " (2, 4, 1, 1, 2, 102),\n",
       " (1, 0, 5, 4, 5, 305),\n",
       " (1, 2, 0, 2, 4, 300),\n",
       " (5, 1, 3, 4, 6, 303),\n",
       " (4, 5, 4, 4, 6, 304),\n",
       " (0, 1, 2, 3, 4, 201),\n",
       " (2, 2, 4, 1, 2, 102),\n",
       " (0, 0, 4, 2, 3, 200),\n",
       " (1, 3, 2, 4, 6, 101),\n",
       " (2, 5, 3, 3, 6, 303),\n",
       " (2, 4, 4, 2, 4, 204),\n",
       " (3, 0, 2, 2, 3, 200),\n",
       " (0, 0, 4, 2, 3, 200),\n",
       " (5, 2, 3, 2, 3, 105),\n",
       " (1, 4, 0, 4, 6, 101),\n",
       " (5, 3, 3, 1, 3, 105),\n",
       " (4, 0, 5, 2, 3, 200),\n",
       " (2, 4, 5, 4, 5, 305),\n",
       " (1, 0, 0, 1, 3, 200),\n",
       " (4, 4, 5, 4, 5, 305),\n",
       " (3, 3, 4, 2, 6, 304),\n",
       " (3, 2, 0, 4, 1, 202),\n",
       " (1, 3, 5, 3, 5, 305),\n",
       " (5, 3, 3, 1, 3, 105),\n",
       " (5, 3, 2, 2, 3, 105),\n",
       " (0, 2, 1, 2, 5, 301),\n",
       " (1, 5, 4, 1, 6, 101),\n",
       " (3, 1, 5, 1, 2, 103),\n",
       " (0, 3, 2, 3, 2, 100),\n",
       " (2, 4, 5, 1, 2, 102),\n",
       " (4, 1, 4, 2, 4, 201),\n",
       " (2, 1, 1, 4, 5, 301),\n",
       " (1, 2, 4, 3, 6, 101),\n",
       " (5, 2, 0, 1, 3, 105),\n",
       " (4, 1, 2, 3, 4, 201),\n",
       " (0, 0, 3, 2, 3, 200),\n",
       " (4, 1, 5, 1, 4, 201),\n",
       " (3, 4, 4, 3, 4, 204),\n",
       " (0, 2, 5, 1, 2, 100),\n",
       " (3, 0, 1, 4, 5, 301),\n",
       " (0, 4, 0, 4, 2, 100),\n",
       " (0, 3, 0, 1, 2, 100),\n",
       " (4, 2, 4, 1, 6, 304),\n",
       " (4, 0, 3, 2, 3, 200),\n",
       " (5, 3, 5, 1, 3, 105),\n",
       " (3, 4, 3, 3, 4, 204),\n",
       " (1, 0, 3, 1, 3, 200),\n",
       " (3, 0, 3, 2, 3, 200),\n",
       " (2, 3, 4, 2, 6, 304),\n",
       " (0, 1, 0, 1, 2, 100),\n",
       " (0, 0, 0, 1, 2, 100),\n",
       " (3, 3, 0, 4, 2, 103),\n",
       " (2, 2, 5, 1, 2, 102),\n",
       " (2, 3, 2, 3, 2, 102),\n",
       " (5, 4, 2, 2, 3, 105),\n",
       " (5, 3, 4, 1, 3, 105),\n",
       " (1, 2, 2, 2, 6, 101),\n",
       " (0, 0, 2, 2, 3, 200),\n",
       " (4, 1, 4, 2, 4, 201),\n",
       " (2, 3, 4, 3, 6, 304),\n",
       " (0, 3, 3, 1, 2, 100),\n",
       " (3, 5, 2, 3, 1, 205),\n",
       " (0, 0, 4, 2, 3, 200),\n",
       " (1, 1, 5, 3, 4, 201),\n",
       " (5, 3, 2, 1, 3, 105),\n",
       " (0, 5, 1, 3, 5, 301),\n",
       " (3, 3, 3, 2, 6, 303),\n",
       " (5, 4, 2, 2, 3, 105),\n",
       " (3, 1, 1, 4, 5, 301),\n",
       " (4, 1, 3, 3, 4, 201),\n",
       " (2, 0, 3, 1, 2, 102),\n",
       " (0, 0, 1, 1, 2, 100),\n",
       " (1, 4, 1, 4, 5, 301),\n",
       " (4, 1, 1, 3, 4, 201),\n",
       " (2, 2, 5, 1, 2, 102),\n",
       " (3, 5, 1, 3, 5, 301),\n",
       " (4, 3, 4, 4, 6, 304),\n",
       " (1, 0, 3, 1, 3, 200),\n",
       " (1, 4, 2, 3, 4, 204),\n",
       " (0, 0, 3, 3, 6, 303),\n",
       " (2, 1, 0, 3, 4, 201),\n",
       " (0, 5, 1, 3, 5, 301),\n",
       " (5, 4, 1, 4, 5, 301),\n",
       " (1, 3, 3, 2, 6, 101),\n",
       " (1, 2, 0, 2, 4, 300),\n",
       " (5, 0, 0, 2, 3, 200),\n",
       " (5, 1, 3, 4, 6, 303),\n",
       " (3, 2, 1, 2, 5, 301),\n",
       " (0, 2, 4, 1, 2, 100),\n",
       " (1, 4, 4, 2, 4, 204),\n",
       " (0, 5, 0, 1, 2, 100),\n",
       " (3, 0, 2, 4, 2, 103),\n",
       " (3, 5, 4, 3, 6, 304),\n",
       " (3, 1, 4, 3, 4, 201),\n",
       " (0, 5, 5, 4, 5, 305),\n",
       " (4, 1, 5, 2, 4, 201),\n",
       " (2, 0, 2, 3, 2, 102),\n",
       " (0, 4, 4, 4, 6, 304),\n",
       " (4, 0, 4, 3, 6, 304),\n",
       " (2, 4, 3, 3, 4, 204),\n",
       " (0, 5, 5, 3, 5, 305),\n",
       " (0, 3, 2, 4, 2, 100),\n",
       " (5, 4, 5, 2, 3, 105),\n",
       " (3, 5, 1, 1, 2, 103),\n",
       " (2, 4, 0, 1, 2, 102),\n",
       " (5, 5, 3, 1, 3, 105),\n",
       " (0, 2, 1, 3, 5, 301),\n",
       " (3, 4, 2, 4, 2, 103),\n",
       " (5, 3, 1, 1, 3, 105),\n",
       " (5, 4, 4, 3, 4, 204),\n",
       " (4, 5, 5, 4, 5, 305),\n",
       " (4, 2, 2, 3, 1, 202),\n",
       " (2, 2, 0, 4, 1, 202),\n",
       " (2, 5, 1, 4, 5, 301),\n",
       " (5, 2, 5, 1, 3, 105),\n",
       " (4, 3, 4, 1, 6, 304),\n",
       " (3, 4, 0, 4, 2, 103),\n",
       " (4, 2, 1, 2, 5, 301),\n",
       " (1, 5, 2, 2, 6, 101),\n",
       " (3, 2, 3, 3, 6, 303),\n",
       " (3, 5, 4, 2, 6, 304),\n",
       " (1, 5, 1, 4, 5, 301),\n",
       " (5, 1, 2, 3, 4, 201),\n",
       " (3, 0, 1, 4, 5, 301),\n",
       " (5, 4, 0, 2, 3, 105),\n",
       " (4, 5, 0, 2, 4, 300),\n",
       " (3, 3, 0, 2, 4, 300),\n",
       " (5, 3, 1, 4, 5, 301),\n",
       " (3, 0, 4, 3, 6, 304),\n",
       " (0, 5, 4, 3, 6, 304),\n",
       " (3, 4, 4, 1, 2, 103),\n",
       " (3, 3, 4, 2, 6, 304),\n",
       " (3, 5, 3, 2, 6, 303),\n",
       " (5, 4, 2, 4, 3, 105),\n",
       " (3, 4, 0, 2, 4, 300),\n",
       " (5, 4, 4, 2, 3, 105)]"
      ]
     },
     "execution_count": null,
     "metadata": {},
     "output_type": "execute_result"
    }
   ],
   "source": [
    "#| hide\n",
    "\n",
    "for x in range(90):\n",
    "    pc = randint(1,4)\n",
    "    p = randint(0,5)\n",
    "    w =  randint(0,5)\n",
    "    l = randint(0,5)\n",
    "    aguess = (p,w,l)\n",
    "    bState = model.GameState(pc,pState.game,pState.moves,pState.adjacency)\n",
    "    aresponse =  model.getAnswer(bState,aguess)\n",
    "    if aresponse[0] > -1:\n",
    "        pState.moves.append(aresponse)\n",
    "\n",
    "\n",
    "        \n",
    "\n",
    "pState.moves"
   ]
  },
  {
   "cell_type": "code",
   "execution_count": null,
   "metadata": {},
   "outputs": [],
   "source": [
    "#| export\n",
    "def wrapL(s,f,l):\n",
    "    show = set([s-1])\n",
    "    s += 1\n",
    "    if s > l:\n",
    "        s = 1\n",
    "    while s != f:\n",
    "        show.add(s-1)\n",
    "        s += 1\n",
    "        if s > l:\n",
    "            s = 1\n",
    "    show.add(f-1)\n",
    "    \n",
    "    ret = \"\"\n",
    "    for x in range(l):\n",
    "        if x in show:\n",
    "            ret += model.people[x][2]\n",
    "        else:\n",
    "            ret += \"❓\" \n",
    "    return ret\n",
    "        \n",
    "def showMoves(pc,moves,plMax):\n",
    "    for answer in moves:\n",
    "        p,w,l,asker, answered,shown = answer\n",
    "        line = model.people[asker-1][2] + \"  asks \"\n",
    "        line += \"(\" + model.people[p][2] + \" &  \" + model.weapons[w][2] + \" in the \"       \n",
    "        line += ( model.rooms[l][0] +\") \").ljust(15,\"-\")\n",
    "        line += \"->\" + wrapL(asker,answered,plMax)\n",
    "        if asker == pc or pc < 0 :\n",
    "            k =  int(shown/100)\n",
    "            s = shown%100\n",
    "            line += \" shows \" + cardFull(model.cardLookup(k,s))\n",
    "        print(line)\n",
    "\n",
    "        if False:\n",
    "            \n",
    "            print(showChoice(answer))\n",
    "            print(answer)\n",
    "            print()\n",
    "        \n",
    "#showMoves(1,amoves,4)     \n",
    "        \n",
    "def showPasses(icon,state):\n",
    "    myMoves = [ x for x in state.moves if x[-1] == icon]\n",
    "    ret = set()\n",
    "    for x in myMoves:\n",
    "        g = model.passedOnResponse(x,state)\n",
    "        print(g)\n",
    "        for y in g:\n",
    "            ret.add(y)\n",
    "    p = len(state.game) - 2\n",
    "    showMoves(-1,myMoves,p )\n",
    "    #g = model.passedOnResponse(ans,agame)\n",
    "    return ret"
   ]
  },
  {
   "cell_type": "code",
   "execution_count": null,
   "metadata": {},
   "outputs": [
    {
     "data": {
      "text/plain": [
       "set()"
      ]
     },
     "execution_count": null,
     "metadata": {},
     "output_type": "execute_result"
    }
   ],
   "source": [
    "#| hide\n",
    "#showMoves(-1,amoves,4)\n",
    "showPasses(203,pState)"
   ]
  },
  {
   "cell_type": "code",
   "execution_count": null,
   "metadata": {},
   "outputs": [],
   "source": [
    "#g = model.passedOnResponse(200,pState)"
   ]
  },
  {
   "cell_type": "code",
   "execution_count": null,
   "metadata": {},
   "outputs": [],
   "source": []
  },
  {
   "cell_type": "code",
   "execution_count": null,
   "metadata": {},
   "outputs": [],
   "source": [
    "#emoji.emojize(\":question:\"),u\"\\U0001F97C\""
   ]
  },
  {
   "cell_type": "code",
   "execution_count": null,
   "metadata": {},
   "outputs": [
    {
     "data": {
      "text/plain": [
       "[202,\n",
       " 205,\n",
       " 306,\n",
       " 105,\n",
       " 100,\n",
       " 100,\n",
       " 105,\n",
       " 105,\n",
       " 100,\n",
       " 102,\n",
       " 102,\n",
       " 103,\n",
       " 105,\n",
       " 102,\n",
       " 102,\n",
       " 105,\n",
       " 200,\n",
       " 105,\n",
       " 101,\n",
       " 103,\n",
       " 102,\n",
       " 105,\n",
       " 201,\n",
       " 100,\n",
       " 100,\n",
       " 304,\n",
       " 105,\n",
       " 200,\n",
       " 100,\n",
       " 100,\n",
       " 102,\n",
       " 105,\n",
       " 100,\n",
       " 105,\n",
       " 102,\n",
       " 100,\n",
       " 102,\n",
       " 200,\n",
       " 100,\n",
       " 100,\n",
       " 103,\n",
       " 102,\n",
       " 105,\n",
       " 105,\n",
       " 105,\n",
       " 304,\n",
       " 103]"
      ]
     },
     "execution_count": null,
     "metadata": {},
     "output_type": "execute_result"
    }
   ],
   "source": [
    "#| hide\n",
    "pState = model.resetPlayer(pState)\n",
    "model.getSeen(pState)"
   ]
  },
  {
   "cell_type": "code",
   "execution_count": null,
   "metadata": {},
   "outputs": [
    {
     "data": {
      "text/plain": [
       "(5, 4, 4, 2, 3, 105)"
      ]
     },
     "execution_count": null,
     "metadata": {},
     "output_type": "execute_result"
    }
   ],
   "source": [
    "aresponse"
   ]
  },
  {
   "cell_type": "code",
   "execution_count": null,
   "metadata": {},
   "outputs": [],
   "source": [
    "\n",
    "    \n"
   ]
  },
  {
   "cell_type": "code",
   "execution_count": null,
   "metadata": {},
   "outputs": [],
   "source": []
  },
  {
   "cell_type": "code",
   "execution_count": null,
   "metadata": {},
   "outputs": [],
   "source": [
    "#| export\n",
    "def iconOfPlayers(pList):\n",
    "    pList.sort()\n",
    "    return \", \".join([model.people[x-1][2] for x in pList if x>0] )\n",
    "    "
   ]
  },
  {
   "cell_type": "code",
   "execution_count": null,
   "metadata": {},
   "outputs": [],
   "source": []
  },
  {
   "cell_type": "code",
   "execution_count": null,
   "metadata": {},
   "outputs": [
    {
     "data": {
      "text/plain": [
       "{304: {1, 2, 3, 4},\n",
       " 105: {0, 1, 4, 5, 6},\n",
       " 303: {2, 3, 4},\n",
       " 301: {2, 3},\n",
       " 305: {2, 3},\n",
       " 100: {0, 3, 4, 5, 6},\n",
       " 300: {2},\n",
       " 201: {1, 2},\n",
       " 101: {1, 2, 3, 4},\n",
       " 204: {2},\n",
       " 200: {1},\n",
       " 202: {3, 4, 5, 6},\n",
       " 103: {0, 4, 5, 6},\n",
       " 102: {0, 3, 4, 5, 6},\n",
       " 205: {3, 4, 5, 6}}"
      ]
     },
     "execution_count": null,
     "metadata": {},
     "output_type": "execute_result"
    }
   ],
   "source": [
    "b = model.notInHands(pState)\n",
    "b"
   ]
  },
  {
   "cell_type": "code",
   "execution_count": null,
   "metadata": {},
   "outputs": [
    {
     "name": "stdout",
     "output_type": "stream",
     "text": [
      "[(3, 0, 4, 3, 1, 200), (2, 5, 4, 1, 2, 304), (5, 1, 2, 4, 2, 105), (4, 1, 2, 2, 3, 302), (4, 5, 0, 4, 1, 104), (4, 4, 4, 2, 1, 104), (1, 0, 0, 4, 1, 200)]\n"
     ]
    }
   ],
   "source": []
  },
  {
   "cell_type": "code",
   "execution_count": null,
   "metadata": {},
   "outputs": [],
   "source": []
  },
  {
   "cell_type": "code",
   "execution_count": null,
   "metadata": {},
   "outputs": [],
   "source": []
  },
  {
   "cell_type": "code",
   "execution_count": null,
   "metadata": {},
   "outputs": [],
   "source": []
  },
  {
   "cell_type": "markdown",
   "metadata": {},
   "source": [
    "## Input"
   ]
  },
  {
   "cell_type": "code",
   "execution_count": null,
   "metadata": {},
   "outputs": [],
   "source": [
    "def chooseCard(hand,view=cIndentity,showN=True,flag = {}):\n",
    "    container = []\n",
    "    i = 1\n",
    "    ml = max([len(x[0]) for x in hand])\n",
    "\n",
    "    no = \" \"\n",
    "    \n",
    "    for card in hand:\n",
    "        face = view(card)\n",
    "        #face.append(i)\n",
    "        color = card[1]\n",
    "        no = \" \"\n",
    "        if card[0] in flag:\n",
    "            no = \"*\"\n",
    "        if showN:\n",
    "            preamb = str(i) + \")\"\n",
    "        else:\n",
    "            preamb = \"\"\n",
    "        container.append(colored( preamb + no + \" \" ,color) + face)\n",
    "        i += 1\n",
    "    choice = -1\n",
    "    \n",
    "    while choice < 1:\n",
    "        for card in container:\n",
    "            print(card)\n",
    "        choice = int(input(\"Choose from 1 to \" +  str(len(container))+\": \"))\n",
    "       \n",
    "        if (choice > 0) and (choice <= len(container)):\n",
    "            return choice\n",
    "        print(str(choice) + \" is not in range\")\n",
    "        choice = -1"
   ]
  },
  {
   "cell_type": "code",
   "execution_count": null,
   "metadata": {},
   "outputs": [
    {
     "name": "stdout",
     "output_type": "stream",
     "text": [
      "\u001b[31m1)  \u001b[0m👠 \u001b[31mMiss Scarlet\u001b[0m\n",
      "\u001b[33m2)  \u001b[0m🧐 \u001b[33mColonel Mustard\u001b[0m\n",
      "\u001b[37m3)  \u001b[0m🥼 \u001b[37m Mrs. White\u001b[0m\n",
      "\u001b[32m4)* \u001b[0m🐉 \u001b[32mMr. Green\u001b[0m\n",
      "\u001b[35m5)  \u001b[0m🍆 \u001b[35mProfessor Plum\u001b[0m\n",
      "\u001b[34m6)  \u001b[0m🦚 \u001b[34mMrs. Peacock\u001b[0m\n"
     ]
    },
    {
     "name": "stdin",
     "output_type": "stream",
     "text": [
      "Choose from 1 to 6:  3\n"
     ]
    },
    {
     "data": {
      "text/plain": [
       "3"
      ]
     },
     "execution_count": null,
     "metadata": {},
     "output_type": "execute_result"
    }
   ],
   "source": [
    "#| hide\n",
    "chooseCard(model.people,cardFull,flag = {\"Mr. Green\"})"
   ]
  },
  {
   "cell_type": "code",
   "execution_count": null,
   "metadata": {},
   "outputs": [
    {
     "name": "stdout",
     "output_type": "stream",
     "text": [
      "\u001b[31m  \u001b[0m👠 \u001b[31mScar.\u001b[0m\n",
      "\u001b[33m  \u001b[0m🧐 \u001b[33mMust.\u001b[0m\n",
      "\u001b[37m  \u001b[0m🥼 \u001b[37mWhite\u001b[0m\n",
      "\u001b[32m* \u001b[0m🐉 \u001b[32mGreen\u001b[0m\n",
      "\u001b[35m  \u001b[0m🍆 \u001b[35mPlum \u001b[0m\n",
      "\u001b[34m  \u001b[0m🦚 \u001b[34mPeac.\u001b[0m\n"
     ]
    },
    {
     "name": "stdin",
     "output_type": "stream",
     "text": [
      "Choose from 1 to 6:  3\n"
     ]
    },
    {
     "data": {
      "text/plain": [
       "3"
      ]
     },
     "execution_count": null,
     "metadata": {},
     "output_type": "execute_result"
    }
   ],
   "source": [
    "#| hide\n",
    "chooseCard(model.people,cardShort,False,flag = {\"Mr. Green\"})"
   ]
  },
  {
   "cell_type": "code",
   "execution_count": null,
   "metadata": {},
   "outputs": [],
   "source": [
    "#| export\n",
    "def getChoices(keys,state,showIndex):\n",
    "\n",
    "    container = []\n",
    "    i = 1\n",
    "    #ml = max([len(x[0]) for x in hand])\n",
    "\n",
    "    passedOn = model.notInHands(state)\n",
    "    flagged = set(model.getSeen(state))\n",
    "    ret = []\n",
    "    for pair in keys:\n",
    "        no = \" \"\n",
    "        key = model.keyForArray(pair)\n",
    "    \n",
    "        if key in flagged:\n",
    "            no = \"*\"\n",
    "        data = model.cardForArray(pair)\n",
    "        view = cardFull(data)\n",
    "        if showIndex:\n",
    "            preamble = str(i)\n",
    "        else:\n",
    "            preamble = \"\"\n",
    "            #view = cardUncolor(data)\n",
    "        base =  preamble + no + view\n",
    "        if key in passedOn:\n",
    "            shownTo = passedOn[key]\n",
    "            base = base.ljust(35)  + iconOfPlayers(list(shownTo))\n",
    "            \n",
    "        ret.append(base)\n",
    "        i+=1\n",
    "    return ret\n",
    "        \n",
    "    \n",
    "\n",
    "\n",
    "    \n",
    "def chooseKey(keys,state):\n",
    "    i = 1\n",
    "    #ml = max([len(x[0]) for x in hand])\n",
    "\n",
    "    passedOn = model.notInHands(state)\n",
    "    flagged = set(model.getSeen(state))\n",
    "    keyChoice = -1\n",
    "    lines = \"\\n\".join(getChoices(keys,state,True))\n",
    "\n",
    "    while keyChoice < 1:   \n",
    "        print(lines)\n",
    "        keyChoice = int(input(\"Choose from 1 to \" +  str(len(keys))+\": \"))\n",
    "        \n",
    "        if (keyChoice > 0) and (keyChoice <= len(keys)):\n",
    "            return keyChoice\n",
    "        print(str(keyChoice) + \" is not in range\")\n",
    "        keyChoice = -1\n",
    "    return keyChoice\n",
    "    "
   ]
  },
  {
   "cell_type": "code",
   "execution_count": null,
   "metadata": {},
   "outputs": [
    {
     "name": "stdout",
     "output_type": "stream",
     "text": [
      "1*👠 \u001b[31mMiss Scarlet\u001b[0m          🥼, 🐉, 🍆, 🦚\n",
      "2*🧐 \u001b[33mColonel Mustard\u001b[0m       👠, 🧐, 🥼, 🐉\n",
      "3*🥼 \u001b[37m Mrs. White\u001b[0m           🥼, 🐉, 🍆, 🦚\n",
      "4*🐉 \u001b[32mMr. Green\u001b[0m             🐉, 🍆, 🦚\n",
      "5 🍆 \u001b[35mProfessor Plum\u001b[0m\n",
      "6*🦚 \u001b[34mMrs. Peacock\u001b[0m          👠, 🐉, 🍆, 🦚\n"
     ]
    },
    {
     "name": "stdin",
     "output_type": "stream",
     "text": [
      "Choose from 1 to 6:  6\n"
     ]
    },
    {
     "data": {
      "text/plain": [
       "6"
      ]
     },
     "execution_count": null,
     "metadata": {},
     "output_type": "execute_result"
    }
   ],
   "source": [
    "wKeys = [[1,x] for x in range(len(model.people))]\n",
    "chooseKey(wKeys,pState)"
   ]
  },
  {
   "cell_type": "code",
   "execution_count": null,
   "metadata": {},
   "outputs": [
    {
     "name": "stdout",
     "output_type": "stream",
     "text": [
      "1*👠 \u001b[31mMiss Scarlet\u001b[0m          🥼, 🐉, 🍆, 🦚\n",
      "2*🧐 \u001b[33mColonel Mustard\u001b[0m       👠, 🧐, 🥼, 🐉\n",
      "3*🥼 \u001b[37m Mrs. White\u001b[0m           🥼, 🐉, 🍆, 🦚\n",
      "4*🐉 \u001b[32mMr. Green\u001b[0m             🐉, 🍆, 🦚\n",
      "5 🍆 \u001b[35mProfessor Plum\u001b[0m\n",
      "6*🦚 \u001b[34mMrs. Peacock\u001b[0m          👠, 🐉, 🍆, 🦚\n"
     ]
    },
    {
     "name": "stdin",
     "output_type": "stream",
     "text": [
      "Choose from 1 to 6:  3\n"
     ]
    },
    {
     "data": {
      "text/plain": [
       "3"
      ]
     },
     "execution_count": null,
     "metadata": {},
     "output_type": "execute_result"
    }
   ],
   "source": [
    "wKeys = [[1,x] for x in range(len(model.people))]\n",
    "chooseKey(wKeys,pState)"
   ]
  },
  {
   "cell_type": "code",
   "execution_count": null,
   "metadata": {},
   "outputs": [],
   "source": [
    "#| export\n",
    "def showMultipleKey(keys,headers,state):\n",
    "    d = {}\n",
    "    for i in range(len(keys)):\n",
    "        col = getChoices(keys[i],state,False)\n",
    "        d[headers[i]] = col\n",
    "        \n",
    "    \n",
    "    dataf = pd.DataFrame.from_dict(d)\n",
    "    dataf.index = np.arange(1, len(dataf) + 1)\n",
    "    return dataf\n",
    "    \n",
    "\n",
    "\n",
    "    \n",
    "def choosePandW(state):\n",
    "    i = 1\n",
    "    #ml = max([len(x[0]) for x in hand])\n",
    "\n",
    "    pKeys = [[1,x] for x in range(len(model.people))]\n",
    "    wKeys = [[2,x] for x in range(len(model.weapons))]\n",
    "    df = showMultipleKey([pKeys,wKeys],[\"People\",\"Weapons\"],state)\n",
    "\n",
    "    \n",
    "\n",
    "    print(tabulate.tabulate(df, showindex=True, headers=df.columns))\n",
    "    keyChoice, y = [int(x) for x in input().split()] \n",
    "    return keyChoice, y\n",
    "        "
   ]
  },
  {
   "cell_type": "code",
   "execution_count": null,
   "metadata": {},
   "outputs": [
    {
     "name": "stdout",
     "output_type": "stream",
     "text": [
      "    People                                     Weapons\n",
      "--  -----------------------------------------  -----------------------------------------\n",
      " 1  *👠 \u001b[31mMiss Scarlet\u001b[0m           🥼, 🐉, 🍆, 🦚  *🔪 \u001b[36mKnife\u001b[0m                  👠\n",
      " 2  *🧐 \u001b[33mColonel Mustard\u001b[0m        👠, 🧐, 🥼, 🐉  *🔫 \u001b[36mRevolver\u001b[0m               👠, 🧐\n",
      " 3  *🥼 \u001b[37m Mrs. White\u001b[0m            🥼, 🐉, 🍆, 🦚  *🪢 \u001b[36mRope\u001b[0m                   🥼, 🐉, 🍆, 🦚\n",
      " 4  *🐉 \u001b[32mMr. Green\u001b[0m              🐉, 🍆, 🦚      🔧 \u001b[36mWrench\u001b[0m\n",
      " 5  🍆 \u001b[35mProfessor Plum\u001b[0m                          🕯️ \u001b[36mCandlestick\u001b[0m           🧐\n",
      " 6  *🦚 \u001b[34mMrs. Peacock\u001b[0m           👠, 🐉, 🍆, 🦚  *🪠 \u001b[36mLead Pipe\u001b[0m              🥼, 🐉, 🍆, 🦚\n"
     ]
    },
    {
     "name": "stdin",
     "output_type": "stream",
     "text": [
      " 2 3\n"
     ]
    },
    {
     "data": {
      "text/plain": [
       "(2, 3)"
      ]
     },
     "execution_count": null,
     "metadata": {},
     "output_type": "execute_result"
    }
   ],
   "source": [
    "#hide\n",
    "choosePandW(pState)"
   ]
  },
  {
   "cell_type": "code",
   "execution_count": null,
   "metadata": {},
   "outputs": [],
   "source": []
  },
  {
   "cell_type": "code",
   "execution_count": null,
   "metadata": {},
   "outputs": [],
   "source": []
  },
  {
   "cell_type": "markdown",
   "metadata": {},
   "source": [
    "## board mechanics"
   ]
  },
  {
   "cell_type": "code",
   "execution_count": null,
   "metadata": {},
   "outputs": [],
   "source": [
    "#| export\n",
    "def playerMarker(i):\n",
    "    info = model.people[i]\n",
    "    color,icon, name = info[1:]\n",
    "\n",
    "    return colored(name[0],color)\n",
    "   \n",
    "    \n"
   ]
  },
  {
   "cell_type": "code",
   "execution_count": null,
   "metadata": {},
   "outputs": [
    {
     "name": "stdout",
     "output_type": "stream",
     "text": [
      "\u001b[31mS\u001b[0m\n"
     ]
    }
   ],
   "source": [
    "print(playerMarker(0))"
   ]
  },
  {
   "cell_type": "code",
   "execution_count": null,
   "metadata": {},
   "outputs": [],
   "source": [
    "def notInHands(game,moves):\n",
    "    ret = dict()\n",
    "    \n",
    "    for x in moves:\n",
    "        \n",
    "        \n",
    "        thePasses = passedOnResponse(x,game) \n",
    "        \n",
    "        if len(thePasses) > 0:\n",
    "            shown = x[-1]\n",
    "            if shown in ret:\n",
    "                addToMe = ret[shown]\n",
    "            else:\n",
    "                addToMe = set()\n",
    "            for aPass in thePasses:\n",
    "                addToMe.add(aPass)\n",
    "            ret[shown] = addToMe\n",
    "                \n",
    "       \n",
    "    return ret"
   ]
  },
  {
   "cell_type": "code",
   "execution_count": null,
   "metadata": {},
   "outputs": [],
   "source": [
    "#| export\n",
    "def roomFor(i,ch,where,visited):\n",
    "    #print(i)\n",
    " \n",
    "    if i<1:\n",
    "        return \"\"\n",
    "    adds = \"\"\n",
    "    \n",
    "    peeps = \", \".join([playerMarker(x) for x in where[i-1]])\n",
    "\n",
    "    try:\n",
    "        x = ch.index(i-1)\n",
    "        adds = str(x+1) +\") \"\n",
    "    except:\n",
    "        adds = \"\"\n",
    "        #print(i)\n",
    "\n",
    "    roomName = model.rooms[i-1][0]\n",
    "    k = model.keyCard(3,i-1)\n",
    "    \n",
    "    if k in visited:\n",
    "        roomName = colored(roomName,\"red\")\n",
    "        \n",
    "\n",
    "    \n",
    "    return adds + roomName +\"\\n   \" + peeps\n",
    "    \n",
    "def showBoard(state):\n",
    "    roomCount = len(model.rooms)\n",
    "    \n",
    "    where = [[] for x in range(roomCount)]\n",
    "    ploc = state.game[-1]\n",
    "    #print(ploc)\n",
    "    for i in range(len(ploc)):\n",
    "        suspect = i + 1\n",
    "        room = model.roomOf(suspect,state)\n",
    "        where[room].append(i)\n",
    "\n",
    "    visited  = set(model.getSeen(state))\n",
    "    \n",
    "    lines = [[1,2,3],[9,0,4],[8,0,5],[0,7,6]]\n",
    "    \n",
    "    playerRoom = model.roomOf(pc,state)\n",
    "    b = model.roomsAround(playerRoom)\n",
    "\n",
    "    m = []\n",
    "\n",
    "    for x in lines:\n",
    "        m.append([roomFor(i,b,where,visited) for i in x])\n",
    "    print(tabulate.tabulate(m,  tablefmt=\"fancy_grid\"))"
   ]
  },
  {
   "cell_type": "code",
   "execution_count": null,
   "metadata": {},
   "outputs": [
    {
     "ename": "TypeError",
     "evalue": "roomOf() takes 1 positional argument but 2 were given",
     "output_type": "error",
     "traceback": [
      "\u001b[0;31m---------------------------------------------------------------------------\u001b[0m",
      "\u001b[0;31mTypeError\u001b[0m                                 Traceback (most recent call last)",
      "Cell \u001b[0;32mIn[51], line 1\u001b[0m\n\u001b[0;32m----> 1\u001b[0m showBoard(pState)\n",
      "Cell \u001b[0;32mIn[50], line 36\u001b[0m, in \u001b[0;36mshowBoard\u001b[0;34m(state)\u001b[0m\n\u001b[1;32m     34\u001b[0m \u001b[38;5;28;01mfor\u001b[39;00m i \u001b[38;5;129;01min\u001b[39;00m \u001b[38;5;28mrange\u001b[39m(\u001b[38;5;28mlen\u001b[39m(ploc)):\n\u001b[1;32m     35\u001b[0m     suspect \u001b[38;5;241m=\u001b[39m i \u001b[38;5;241m+\u001b[39m \u001b[38;5;241m1\u001b[39m\n\u001b[0;32m---> 36\u001b[0m     room \u001b[38;5;241m=\u001b[39m model\u001b[38;5;241m.\u001b[39mroomOf(suspect,state)\n\u001b[1;32m     37\u001b[0m     where[room]\u001b[38;5;241m.\u001b[39mappend(i)\n\u001b[1;32m     39\u001b[0m visited  \u001b[38;5;241m=\u001b[39m \u001b[38;5;28mset\u001b[39m(model\u001b[38;5;241m.\u001b[39mgetSeen(state))\n",
      "\u001b[0;31mTypeError\u001b[0m: roomOf() takes 1 positional argument but 2 were given"
     ]
    }
   ],
   "source": [
    "showBoard(pState)"
   ]
  },
  {
   "cell_type": "code",
   "execution_count": null,
   "metadata": {},
   "outputs": [],
   "source": []
  },
  {
   "cell_type": "code",
   "execution_count": null,
   "metadata": {},
   "outputs": [],
   "source": [
    "#| export\n",
    "def showLocations(game):\n",
    "    ploc = game[-1]\n",
    "\n",
    "    for i in range(len(ploc)):\n",
    "        pc = i + 1\n",
    "        person = model.people[i]\n",
    "        d = cardFull(person)\n",
    "        room = model.roomOf(pc,game)\n",
    "        loc = cardFull(model.cardLookup(3,room))\n",
    "        d = \"[\" + str(i+1) + \"] \" + d  + \" is in \" + loc \n",
    "        print(d)"
   ]
  },
  {
   "cell_type": "code",
   "execution_count": null,
   "metadata": {},
   "outputs": [
    {
     "name": "stdout",
     "output_type": "stream",
     "text": [
      "[1] 👠 \u001b[31mMiss Scarlet\u001b[0m is in \u001b[30mStudy\u001b[0m\n",
      "[2] 🧐 \u001b[33mColonel Mustard\u001b[0m is in \u001b[30mBilliard Room\u001b[0m\n",
      "[3] ♡ \u001b[37m Mrs. White\u001b[0m is in \u001b[30mConservatory\u001b[0m\n",
      "[4] 🐉 \u001b[32mMr. Green\u001b[0m is in \u001b[30mHall\u001b[0m\n",
      "[5] 🍆 \u001b[35mProfessor Plum\u001b[0m is in \u001b[30mKitchen\u001b[0m\n",
      "[6] 🦚 \u001b[34mMrs. Peacock\u001b[0m is in \u001b[30mDining Room\u001b[0m\n",
      "Solution\n",
      "🦚 \u001b[34mMrs. Peacock\u001b[0m, 🪢 \u001b[36mRope\u001b[0m, \u001b[30mBilliard Room\u001b[0m\n",
      "\n",
      "           [1] 👠 \u001b[31mMiss Scarlet\u001b[0m is in \u001b[30mStudy\u001b[0m           \n",
      "\u001b[30mLibrary\u001b[0m, 🍆 \u001b[35mProfessor Plum\u001b[0m, 🔪 \u001b[36mKnife\u001b[0m, \u001b[30mDining Room\u001b[0m, 🔧 \u001b[36mWrench\u001b[0m\n",
      "\n",
      "     [2] 🧐 \u001b[33mColonel Mustard\u001b[0m is in \u001b[30mBilliard Room\u001b[0m      \n",
      "\u001b[30mBall Room\u001b[0m, \u001b[30mConservatory\u001b[0m, \u001b[30mLounge\u001b[0m, 🪠 \u001b[36mLead Pipe\u001b[0m, \u001b[30mHall\u001b[0m\n",
      "\n",
      "        [3] ♡ \u001b[37m Mrs. White\u001b[0m is in \u001b[30mConservatory\u001b[0m        \n",
      "👠 \u001b[31mMiss Scarlet\u001b[0m, \u001b[30mKitchen\u001b[0m, 🐉 \u001b[32mMr. Green\u001b[0m, 🕯️ \u001b[36mCandlestick\u001b[0m\n",
      "\n",
      "             [4] 🐉 \u001b[32mMr. Green\u001b[0m is in \u001b[30mHall\u001b[0m             \n",
      "🔫 \u001b[36mRevolver\u001b[0m, ♡ \u001b[37m Mrs. White\u001b[0m, \u001b[30mStudy\u001b[0m, 🧐 \u001b[33mColonel Mustard\u001b[0m\n"
     ]
    }
   ],
   "source": [
    "#| hide\n",
    "showLocations(agame)\n",
    "printGame(agame)"
   ]
  },
  {
   "cell_type": "code",
   "execution_count": null,
   "metadata": {},
   "outputs": [],
   "source": []
  },
  {
   "cell_type": "code",
   "execution_count": null,
   "metadata": {},
   "outputs": [],
   "source": []
  },
  {
   "cell_type": "code",
   "execution_count": null,
   "metadata": {},
   "outputs": [],
   "source": [
    "\n",
    "\n",
    "                   \n",
    "    \n",
    "    \n",
    "            "
   ]
  },
  {
   "cell_type": "code",
   "execution_count": null,
   "metadata": {},
   "outputs": [],
   "source": []
  },
  {
   "cell_type": "code",
   "execution_count": null,
   "metadata": {},
   "outputs": [],
   "source": [
    "#| hide\n",
    "import nbdev; nbdev.nbdev_export()"
   ]
  }
 ],
 "metadata": {
  "kernelspec": {
   "display_name": "Python 3 (ipykernel)",
   "language": "python",
   "name": "python3"
  },
  "language_info": {
   "codemirror_mode": {
    "name": "ipython",
    "version": 3
   },
   "file_extension": ".py",
   "mimetype": "text/x-python",
   "name": "python",
   "nbconvert_exporter": "python",
   "pygments_lexer": "ipython3",
   "version": "3.11.0"
  }
 },
 "nbformat": 4,
 "nbformat_minor": 4
}
